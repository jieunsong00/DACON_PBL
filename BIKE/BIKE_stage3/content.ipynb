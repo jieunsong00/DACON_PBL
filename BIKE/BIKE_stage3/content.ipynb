{
 "cells": [
  {
   "cell_type": "code",
   "execution_count": null,
   "id": "d0408f37-f046-4af7-a9c4-781c57eae971",
   "metadata": {
    "id": "d0408f37-f046-4af7-a9c4-781c57eae971"
   },
   "outputs": [],
   "source": [
    "#hiddencell\n",
    "from pbl_tools import *"
   ]
  },
  {
   "attachments": {},
   "cell_type": "markdown",
   "id": "d68f2dbc",
   "metadata": {
    "id": "d68f2dbc"
   },
   "source": [
    "# 스테이지 3"
   ]
  },
  {
   "attachments": {},
   "cell_type": "markdown",
   "id": "ed9cc0cc",
   "metadata": {},
   "source": [
    "# 1. pandas를 이용해 csv 파일 읽어오기\n",
    "[문제 1]    \n",
    "Pandas 라이브러리(library)를 가져와보세요.   \n",
    "그리고 train.csv, test.csv, sample_submission.csv 파일을 각각 train, test, submission 변수로 읽어오세요.     \n",
    "아래 빈칸을 채워주세요."
   ]
  },
  {
   "cell_type": "code",
   "execution_count": null,
   "id": "da870e34",
   "metadata": {},
   "outputs": [],
   "source": [
    "import ___ as ___\n",
    "\n",
    "train = pd.___('train.csv')\n",
    "test = pd.___('test.csv')\n",
    "submission = pd.___('sample_submission.csv')"
   ]
  },
  {
   "cell_type": "code",
   "execution_count": null,
   "id": "e83cb694",
   "metadata": {},
   "outputs": [
    {
     "data": {
      "text/plain": [
       "True"
      ]
     },
     "metadata": {},
     "output_type": "display_data"
    }
   ],
   "source": [
    "#checkcode\n",
    "ensure_vals(globals(), 'train', 'test', 'submission')\n",
    "@check_safety\n",
    "def check(user_answer_train=train,\n",
    "          user_answer_test=test, \n",
    "          user_answer_submission=submission):\n",
    "    \n",
    "    c_point0 = hasattr(user_answer_train, 'tail')\n",
    "    c_point1 = hasattr(user_answer_test, 'tail')\n",
    "    c_point2 = hasattr(user_answer_submission, 'tail')\n",
    "\n",
    "    if (c_point0 and \n",
    "        c_point1 and \n",
    "        c_point2 \n",
    "    ):\n",
    "        return True\n",
    "    else:\n",
    "        return False\n",
    "\n",
    "check()"
   ]
  },
  {
   "attachments": {},
   "cell_type": "markdown",
   "id": "98353040",
   "metadata": {},
   "source": [
    "### Inst.  "
   ]
  },
  {
   "attachments": {},
   "cell_type": "markdown",
   "id": "25ebfbd8",
   "metadata": {},
   "source": [
    "### Hint.\n",
    "`pd.read_csv('파일경로/파일명')` 를 활용해 보세요."
   ]
  },
  {
   "attachments": {},
   "cell_type": "markdown",
   "id": "cab3d888",
   "metadata": {},
   "source": [
    "### Solution.\n",
    "```python\n",
    "import pandas as pd\n",
    "\n",
    "train = pd.read_csv('train.csv')\n",
    "test = pd.read_csv('test.csv')\n",
    "submission = pd.read_csv('sample_submission.csv')\n",
    "```"
   ]
  },
  {
   "attachments": {},
   "cell_type": "markdown",
   "id": "4ca69e07-78a8-4223-a18c-ecb69c25b287",
   "metadata": {
    "id": "4ca69e07-78a8-4223-a18c-ecb69c25b287"
   },
   "source": [
    "# 2. train 데이터프레임에서 data_time 열(column) 제거 및 열 확인\n",
    "\n",
    "[문제 2]  \n",
    "pandas의 `drop` 메소드를 사용하여 date_time 열(column)을 제거해 보세요.  \n",
    "아래 빈칸을 채워주세요."
   ]
  },
  {
   "cell_type": "code",
   "execution_count": null,
   "id": "dc76a4fb-ee5d-4c36-9804-507c33595db6",
   "metadata": {
    "id": "dc76a4fb-ee5d-4c36-9804-507c33595db6",
    "outputId": "82d7a143-fad9-4612-e7b0-aa367e2801dc"
   },
   "outputs": [
    {
     "data": {
      "text/html": [
       "<div>\n",
       "<style scoped>\n",
       "    .dataframe tbody tr th:only-of-type {\n",
       "        vertical-align: middle;\n",
       "    }\n",
       "\n",
       "    .dataframe tbody tr th {\n",
       "        vertical-align: top;\n",
       "    }\n",
       "\n",
       "    .dataframe thead th {\n",
       "        text-align: right;\n",
       "    }\n",
       "</style>\n",
       "<table border=\"1\" class=\"dataframe\">\n",
       "  <thead>\n",
       "    <tr style=\"text-align: right;\">\n",
       "      <th></th>\n",
       "      <th>wind_direction</th>\n",
       "      <th>sky_condition</th>\n",
       "      <th>precipitation_form</th>\n",
       "      <th>wind_speed</th>\n",
       "      <th>humidity</th>\n",
       "      <th>low_temp</th>\n",
       "      <th>high_temp</th>\n",
       "      <th>Precipitation_Probability</th>\n",
       "      <th>number_of_rentals</th>\n",
       "    </tr>\n",
       "  </thead>\n",
       "  <tbody>\n",
       "    <tr>\n",
       "      <th>0</th>\n",
       "      <td>207.500</td>\n",
       "      <td>4.000</td>\n",
       "      <td>0.000</td>\n",
       "      <td>3.050</td>\n",
       "      <td>75.000</td>\n",
       "      <td>12.600</td>\n",
       "      <td>21.000</td>\n",
       "      <td>30.000</td>\n",
       "      <td>22994</td>\n",
       "    </tr>\n",
       "    <tr>\n",
       "      <th>1</th>\n",
       "      <td>208.317</td>\n",
       "      <td>2.950</td>\n",
       "      <td>0.000</td>\n",
       "      <td>3.278</td>\n",
       "      <td>69.833</td>\n",
       "      <td>12.812</td>\n",
       "      <td>19.000</td>\n",
       "      <td>19.500</td>\n",
       "      <td>28139</td>\n",
       "    </tr>\n",
       "    <tr>\n",
       "      <th>2</th>\n",
       "      <td>213.516</td>\n",
       "      <td>2.911</td>\n",
       "      <td>0.000</td>\n",
       "      <td>2.690</td>\n",
       "      <td>74.879</td>\n",
       "      <td>10.312</td>\n",
       "      <td>15.316</td>\n",
       "      <td>19.113</td>\n",
       "      <td>26817</td>\n",
       "    </tr>\n",
       "    <tr>\n",
       "      <th>3</th>\n",
       "      <td>143.836</td>\n",
       "      <td>3.692</td>\n",
       "      <td>0.425</td>\n",
       "      <td>3.138</td>\n",
       "      <td>71.849</td>\n",
       "      <td>8.312</td>\n",
       "      <td>12.368</td>\n",
       "      <td>43.493</td>\n",
       "      <td>26034</td>\n",
       "    </tr>\n",
       "    <tr>\n",
       "      <th>4</th>\n",
       "      <td>95.905</td>\n",
       "      <td>4.000</td>\n",
       "      <td>0.723</td>\n",
       "      <td>3.186</td>\n",
       "      <td>73.784</td>\n",
       "      <td>5.875</td>\n",
       "      <td>10.421</td>\n",
       "      <td>63.378</td>\n",
       "      <td>2833</td>\n",
       "    </tr>\n",
       "  </tbody>\n",
       "</table>\n",
       "</div>"
      ],
      "text/plain": [
       "   wind_direction  sky_condition  precipitation_form  wind_speed  humidity  \\\n",
       "0         207.500          4.000               0.000       3.050    75.000   \n",
       "1         208.317          2.950               0.000       3.278    69.833   \n",
       "2         213.516          2.911               0.000       2.690    74.879   \n",
       "3         143.836          3.692               0.425       3.138    71.849   \n",
       "4          95.905          4.000               0.723       3.186    73.784   \n",
       "\n",
       "   low_temp  high_temp  Precipitation_Probability  number_of_rentals  \n",
       "0    12.600     21.000                     30.000              22994  \n",
       "1    12.812     19.000                     19.500              28139  \n",
       "2    10.312     15.316                     19.113              26817  \n",
       "3     8.312     12.368                     43.493              26034  \n",
       "4     5.875     10.421                     63.378               2833  "
      ]
     },
     "execution_count": 4,
     "metadata": {},
     "output_type": "execute_result"
    }
   ],
   "source": [
    "train = train.___(['date_time'],axis = 1)\n",
    "print(train.columns)"
   ]
  },
  {
   "cell_type": "code",
   "execution_count": null,
   "id": "3a537592-77ed-4b2e-9ffc-331e624558c8",
   "metadata": {
    "id": "3a537592-77ed-4b2e-9ffc-331e624558c8"
   },
   "outputs": [],
   "source": [
    "#checkcode\n",
    "ensure_vals(globals(),'train')\n",
    "@check_safety\n",
    "def check():\n",
    "    c_point0 = (len(train.columns) == 9)\n",
    "    \n",
    "    if c_point0:\n",
    "        return True\n",
    "    else:\n",
    "        return False\n",
    "check()"
   ]
  },
  {
   "attachments": {},
   "cell_type": "markdown",
   "id": "5f1888c4-bd0a-4639-8b03-bb90f728ab4e",
   "metadata": {
    "id": "5f1888c4-bd0a-4639-8b03-bb90f728ab4e"
   },
   "source": [
    "### Inst.\n",
    "\n",
    "문자형 변수는 텍스트 형태의 데이터로 구성되어 있기 때문에, 회귀분석에서 직접 사용하기 어렵습니다.     \n",
    "이를 사용하기 위해서는 문자형 변수를 수치형으로 변환해야 하는 과정이 필요합니다.     \n",
    "하지만, 문자형 변수를 수치형으로 변환하는 방법에 따라 결과가 크게 달라질 수 있기 때문에,   \n",
    "문자형 변수의 변환 작업은 매우 중요한 과정입니다.  \n",
    "\n",
    "따라서, 이번 프로젝트에서는 문자형 변수를 제거(drop)하고 수치형 데이터만 사용하여 진행하도록 하겠습니다.   \n",
    "  \n",
    "해당 코드는 train 데이터프레임(DataFrame)에서 `date_time` 열(column)을 제거하고, 열의 이름을 출력하는 역할을 합니다.     \n",
    "`date_time` 열을 제거하기 위해 `drop()` 메서드를 사용하고, `axis=1`을 지정하여 열을 제거합니다.     \n",
    "이로써 train 데이터프레임에서 `date_time` 열이 제거된 새로운 데이터프레임이 생성됩니다.     \n",
    "마지막으로, `train.columns`를 통해 데이터프레임의 열 이름이 출력됩니다."
   ]
  },
  {
   "attachments": {},
   "cell_type": "markdown",
   "id": "bce7fec8-b78e-46ce-b55b-d6140914c808",
   "metadata": {
    "id": "bce7fec8-b78e-46ce-b55b-d6140914c808"
   },
   "source": [
    "### Hint.\n",
    "empty"
   ]
  },
  {
   "attachments": {},
   "cell_type": "markdown",
   "id": "3266cfb4-edb3-4e31-b471-b390a600c16f",
   "metadata": {
    "id": "3266cfb4-edb3-4e31-b471-b390a600c16f"
   },
   "source": [
    "### Solution.\n",
    "```python\n",
    "train = train.drop(['date_time'],axis = 1)\n",
    "print(train.columns)\n",
    "```"
   ]
  },
  {
   "attachments": {},
   "cell_type": "markdown",
   "id": "60e5f565-e1f1-4925-b63c-14d112103d3e",
   "metadata": {
    "id": "60e5f565-e1f1-4925-b63c-14d112103d3e"
   },
   "source": [
    "# 3. test 데이터프레임에서 date_time 열(column) 제거 및 열 확인\n",
    "[문제 3]  \n",
    "train 데이터셋에서 수행한 전처리 작업을 test 데이터셋에도 동일하게 적용해주어야 합니다.     \n",
    "test 데이터프레임(DataFrame)에서 문자형 변수인 date_time 피처(feature)를 제거해 봅시다.  \n",
    "아래 빈칸을 채워주세요."
   ]
  },
  {
   "cell_type": "code",
   "execution_count": null,
   "id": "8ac7b39d-417e-4bbe-b546-e33d7979d199",
   "metadata": {
    "id": "8ac7b39d-417e-4bbe-b546-e33d7979d199",
    "outputId": "a530fe1e-897a-4b6f-cae8-0dc01c75394e"
   },
   "outputs": [
    {
     "data": {
      "text/html": [
       "<div>\n",
       "<style scoped>\n",
       "    .dataframe tbody tr th:only-of-type {\n",
       "        vertical-align: middle;\n",
       "    }\n",
       "\n",
       "    .dataframe tbody tr th {\n",
       "        vertical-align: top;\n",
       "    }\n",
       "\n",
       "    .dataframe thead th {\n",
       "        text-align: right;\n",
       "    }\n",
       "</style>\n",
       "<table border=\"1\" class=\"dataframe\">\n",
       "  <thead>\n",
       "    <tr style=\"text-align: right;\">\n",
       "      <th></th>\n",
       "      <th>wind_direction</th>\n",
       "      <th>sky_condition</th>\n",
       "      <th>precipitation_form</th>\n",
       "      <th>wind_speed</th>\n",
       "      <th>humidity</th>\n",
       "      <th>low_temp</th>\n",
       "      <th>high_temp</th>\n",
       "      <th>Precipitation_Probability</th>\n",
       "    </tr>\n",
       "  </thead>\n",
       "  <tbody>\n",
       "    <tr>\n",
       "      <th>0</th>\n",
       "      <td>108.833</td>\n",
       "      <td>3.000</td>\n",
       "      <td>0.000</td>\n",
       "      <td>2.900</td>\n",
       "      <td>28.333</td>\n",
       "      <td>11.800</td>\n",
       "      <td>20.667</td>\n",
       "      <td>18.333</td>\n",
       "    </tr>\n",
       "    <tr>\n",
       "      <th>1</th>\n",
       "      <td>116.717</td>\n",
       "      <td>3.850</td>\n",
       "      <td>0.000</td>\n",
       "      <td>2.662</td>\n",
       "      <td>46.417</td>\n",
       "      <td>12.000</td>\n",
       "      <td>19.000</td>\n",
       "      <td>28.500</td>\n",
       "    </tr>\n",
       "    <tr>\n",
       "      <th>2</th>\n",
       "      <td>82.669</td>\n",
       "      <td>4.000</td>\n",
       "      <td>0.565</td>\n",
       "      <td>2.165</td>\n",
       "      <td>77.258</td>\n",
       "      <td>8.875</td>\n",
       "      <td>16.368</td>\n",
       "      <td>52.847</td>\n",
       "    </tr>\n",
       "    <tr>\n",
       "      <th>3</th>\n",
       "      <td>44.123</td>\n",
       "      <td>3.466</td>\n",
       "      <td>0.466</td>\n",
       "      <td>3.747</td>\n",
       "      <td>63.288</td>\n",
       "      <td>6.250</td>\n",
       "      <td>17.368</td>\n",
       "      <td>37.671</td>\n",
       "    </tr>\n",
       "    <tr>\n",
       "      <th>4</th>\n",
       "      <td>147.791</td>\n",
       "      <td>1.500</td>\n",
       "      <td>0.000</td>\n",
       "      <td>1.560</td>\n",
       "      <td>48.176</td>\n",
       "      <td>7.188</td>\n",
       "      <td>18.684</td>\n",
       "      <td>4.459</td>\n",
       "    </tr>\n",
       "  </tbody>\n",
       "</table>\n",
       "</div>"
      ],
      "text/plain": [
       "   wind_direction  sky_condition  precipitation_form  wind_speed  humidity  \\\n",
       "0         108.833          3.000               0.000       2.900    28.333   \n",
       "1         116.717          3.850               0.000       2.662    46.417   \n",
       "2          82.669          4.000               0.565       2.165    77.258   \n",
       "3          44.123          3.466               0.466       3.747    63.288   \n",
       "4         147.791          1.500               0.000       1.560    48.176   \n",
       "\n",
       "   low_temp  high_temp  Precipitation_Probability  \n",
       "0    11.800     20.667                     18.333  \n",
       "1    12.000     19.000                     28.500  \n",
       "2     8.875     16.368                     52.847  \n",
       "3     6.250     17.368                     37.671  \n",
       "4     7.188     18.684                      4.459  "
      ]
     },
     "execution_count": 20,
     "metadata": {},
     "output_type": "execute_result"
    }
   ],
   "source": [
    "test = test.___(['___'], ___ = ___)\n",
    "print(test.columns)"
   ]
  },
  {
   "cell_type": "code",
   "execution_count": null,
   "id": "47233817-ec7e-4fb3-beda-c5382d885a3c",
   "metadata": {
    "id": "47233817-ec7e-4fb3-beda-c5382d885a3c",
    "outputId": "83e0de98-7d72-4fde-9488-95246aae1212"
   },
   "outputs": [
    {
     "data": {
      "text/plain": [
       "True"
      ]
     },
     "execution_count": 8,
     "metadata": {},
     "output_type": "execute_result"
    }
   ],
   "source": [
    "#checkcode\n",
    "ensure_vals(globals(),'test')\n",
    "@check_safety\n",
    "def check():\n",
    "    c_point0 = (len(test.columns) == 8)\n",
    "    \n",
    "    if c_point0:\n",
    "        return True\n",
    "    else:\n",
    "        return False\n",
    "check()"
   ]
  },
  {
   "attachments": {},
   "cell_type": "markdown",
   "id": "894ebd8c-cb05-45aa-83cb-3df1a525b217",
   "metadata": {
    "id": "894ebd8c-cb05-45aa-83cb-3df1a525b217"
   },
   "source": [
    "### Inst."
   ]
  },
  {
   "attachments": {},
   "cell_type": "markdown",
   "id": "dc445948-407e-47ba-8986-ab78767ab753",
   "metadata": {
    "id": "dc445948-407e-47ba-8986-ab78767ab753"
   },
   "source": [
    "### Hint.\n",
    "\n",
    "`date_time` 열을 제거하기 위해 drop() 메서드를 사용하고, `axis=1`을 지정하여 열을 제거해보세요.  \n",
    "제거한 후엔, `test.columns`를 통해 데이터프레임의 열 이름이 출력됩니다.\n"
   ]
  },
  {
   "attachments": {},
   "cell_type": "markdown",
   "id": "4bee9d2d-4adc-4f2d-befb-d215237a951d",
   "metadata": {
    "id": "4bee9d2d-4adc-4f2d-befb-d215237a951d"
   },
   "source": [
    "### Solution.\n",
    "```python\n",
    "test = test.drop(['date_time'],axis = 1)     \n",
    "print(test.columns)\n",
    "```"
   ]
  },
  {
   "attachments": {},
   "cell_type": "markdown",
   "id": "3e5f38cc-b57b-40dd-944e-85344bcca676",
   "metadata": {
    "id": "3e5f38cc-b57b-40dd-944e-85344bcca676"
   },
   "source": [
    "# 4. Feature Selection\n",
    "\n",
    "[문제 4]  \n",
    "`X` 변수에는 train 데이터프레임에서 column_names 리스트에 해당하는 열들을 선택하여 할당합니다.  \n",
    "`y` 변수에는 train 데이터프레임에서 number_of_rentals 열을 선택하여 할당합니다.  \n",
    "아래 빈칸을 채워주세요."
   ]
  },
  {
   "cell_type": "code",
   "execution_count": null,
   "id": "2c51df59-b3ec-43cc-a00d-6f296a84c98b",
   "metadata": {
    "id": "2c51df59-b3ec-43cc-a00d-6f296a84c98b",
    "outputId": "b5b34c59-8fa1-4c43-a33b-76767c43bff6"
   },
   "outputs": [
    {
     "data": {
      "text/html": [
       "<div>\n",
       "<style scoped>\n",
       "    .dataframe tbody tr th:only-of-type {\n",
       "        vertical-align: middle;\n",
       "    }\n",
       "\n",
       "    .dataframe tbody tr th {\n",
       "        vertical-align: top;\n",
       "    }\n",
       "\n",
       "    .dataframe thead th {\n",
       "        text-align: right;\n",
       "    }\n",
       "</style>\n",
       "<table border=\"1\" class=\"dataframe\">\n",
       "  <thead>\n",
       "    <tr style=\"text-align: right;\">\n",
       "      <th></th>\n",
       "      <th>wind_direction</th>\n",
       "      <th>sky_condition</th>\n",
       "      <th>precipitation_form</th>\n",
       "      <th>wind_speed</th>\n",
       "      <th>humidity</th>\n",
       "      <th>low_temp</th>\n",
       "      <th>high_temp</th>\n",
       "      <th>Precipitation_Probability</th>\n",
       "    </tr>\n",
       "  </thead>\n",
       "  <tbody>\n",
       "    <tr>\n",
       "      <th>0</th>\n",
       "      <td>207.500</td>\n",
       "      <td>4.000</td>\n",
       "      <td>0.000</td>\n",
       "      <td>3.050</td>\n",
       "      <td>75.000</td>\n",
       "      <td>12.600</td>\n",
       "      <td>21.000</td>\n",
       "      <td>30.000</td>\n",
       "    </tr>\n",
       "    <tr>\n",
       "      <th>1</th>\n",
       "      <td>208.317</td>\n",
       "      <td>2.950</td>\n",
       "      <td>0.000</td>\n",
       "      <td>3.278</td>\n",
       "      <td>69.833</td>\n",
       "      <td>12.812</td>\n",
       "      <td>19.000</td>\n",
       "      <td>19.500</td>\n",
       "    </tr>\n",
       "    <tr>\n",
       "      <th>2</th>\n",
       "      <td>213.516</td>\n",
       "      <td>2.911</td>\n",
       "      <td>0.000</td>\n",
       "      <td>2.690</td>\n",
       "      <td>74.879</td>\n",
       "      <td>10.312</td>\n",
       "      <td>15.316</td>\n",
       "      <td>19.113</td>\n",
       "    </tr>\n",
       "    <tr>\n",
       "      <th>3</th>\n",
       "      <td>143.836</td>\n",
       "      <td>3.692</td>\n",
       "      <td>0.425</td>\n",
       "      <td>3.138</td>\n",
       "      <td>71.849</td>\n",
       "      <td>8.312</td>\n",
       "      <td>12.368</td>\n",
       "      <td>43.493</td>\n",
       "    </tr>\n",
       "    <tr>\n",
       "      <th>4</th>\n",
       "      <td>95.905</td>\n",
       "      <td>4.000</td>\n",
       "      <td>0.723</td>\n",
       "      <td>3.186</td>\n",
       "      <td>73.784</td>\n",
       "      <td>5.875</td>\n",
       "      <td>10.421</td>\n",
       "      <td>63.378</td>\n",
       "    </tr>\n",
       "  </tbody>\n",
       "</table>\n",
       "</div>"
      ],
      "text/plain": [
       "   wind_direction  sky_condition  precipitation_form  wind_speed  humidity  \\\n",
       "0         207.500          4.000               0.000       3.050    75.000   \n",
       "1         208.317          2.950               0.000       3.278    69.833   \n",
       "2         213.516          2.911               0.000       2.690    74.879   \n",
       "3         143.836          3.692               0.425       3.138    71.849   \n",
       "4          95.905          4.000               0.723       3.186    73.784   \n",
       "\n",
       "   low_temp  high_temp  Precipitation_Probability  \n",
       "0    12.600     21.000                     30.000  \n",
       "1    12.812     19.000                     19.500  \n",
       "2    10.312     15.316                     19.113  \n",
       "3     8.312     12.368                     43.493  \n",
       "4     5.875     10.421                     63.378  "
      ]
     },
     "execution_count": 23,
     "metadata": {},
     "output_type": "execute_result"
    }
   ],
   "source": [
    "column_names = [\n",
    "    'wind_direction', 'sky_condition', 'precipitation_form', 'wind_speed',\n",
    "    'humidity', 'low_temp', 'high_temp', 'Precipitation_Probability'\n",
    "]\n",
    "___ = train[column_names]\n",
    "___ = train['number_of_rentals']"
   ]
  },
  {
   "cell_type": "code",
   "execution_count": null,
   "id": "be48e354-d702-459f-a788-f4c2c14155df",
   "metadata": {
    "id": "be48e354-d702-459f-a788-f4c2c14155df"
   },
   "outputs": [],
   "source": [
    "#checkcode\n",
    "ensure_vals(globals(),'column_names','X','y')\n",
    "@check_safety\n",
    "def check():\n",
    "\n",
    "    c_point0 = (X == train[column_names]).all\n",
    "    c_point1 = (y == train['number_of_rentals']).all\n",
    "    \n",
    "    if c_point0 and c_point1:\n",
    "        return True\n",
    "    else:\n",
    "        return False\n",
    "check()"
   ]
  },
  {
   "attachments": {},
   "cell_type": "markdown",
   "id": "6a78e1e1-83a6-4d97-bffc-5d73de1df392",
   "metadata": {
    "id": "6a78e1e1-83a6-4d97-bffc-5d73de1df392"
   },
   "source": [
    "### Inst.\n",
    "\n",
    "**독립변수 X**와 **종속변수(타깃변수) y**를 설정해 봅시다.\n",
    "\n",
    "해당 프로젝트의 목표는 `number_of_rentals(따릉이 대여량)`을 예측하는 것이기 때문에,     \n",
    "예측할 종속변수 y는 `number_of_rentals` 입니다.      \n",
    "\n",
    "그럼 모델링을 하기 위하여 train 데이터 셋에서 **학습에 사용할 변수 X**와 **예측할 변수 y**를 분리해 볼까요? \n",
    "\n",
    "특정 열(column)들을 선택하기 위해 열 이름을 리스트(list)로 지정하고, 데이터프레임에서 해당 열들을 선택하여 변수에 할당합니다.  \n",
    "이를 통해 선택한 열들로 구성된 독립 변수 데이터(X)와 종속 변수 데이터(y)를 생성할 수 있습니다.     \n",
    "이후 이 데이터를 활용하여 모델 학습 등의 분석 작업을 진행할 수 있습니다.\n",
    "\n",
    "1. column_names 리스트(list)에 선택하고자 하는 **열(column)의 이름들을 지정** 합니다.   \n",
    "이번 스테이지에서는 `'wind_direction', 'sky_condition', 'precipitation_form', 'wind_speed',      \n",
    " 'humidity', 'low_temp', 'high_temp', 'Precipitation_Probability'` 열을 선택하고자 합니다.\n",
    "2. X 변수에는 train 데이터프레임에서 column_names 리스트에 해당하는 열들을 선택하여 할당합니다.\n",
    "3. y 변수에는 train 데이터프레임에서 number_of_rentals 열을 선택하여 할당합니다.\n",
    "\n",
    "<img width=1000 src='https://drive.google.com/uc?id=1c44UE3VrguIRWfe15nDhGePAmjW43zWt'>\n",
    "\n"
   ]
  },
  {
   "attachments": {},
   "cell_type": "markdown",
   "id": "f1291b54-0dc5-443a-afb7-6d9f2f276d84",
   "metadata": {
    "id": "f1291b54-0dc5-443a-afb7-6d9f2f276d84"
   },
   "source": [
    "### Hint.\n",
    "empty"
   ]
  },
  {
   "attachments": {},
   "cell_type": "markdown",
   "id": "b14db347-2f3d-426f-a60c-aaa7bb8cfe26",
   "metadata": {
    "id": "b14db347-2f3d-426f-a60c-aaa7bb8cfe26"
   },
   "source": [
    "### Solution.\n",
    "```python\n",
    "column_names = [\n",
    "    'wind_direction', 'sky_condition', 'precipitation_form', 'wind_speed',\n",
    "    'humidity', 'low_temp', 'high_temp', 'Precipitation_Probability'\n",
    "]\n",
    "X = train[column_names]\n",
    "y = train['number_of_rentals']\n",
    "```"
   ]
  },
  {
   "attachments": {},
   "cell_type": "markdown",
   "id": "2203771b-736f-4874-9f87-a4c9279b3356",
   "metadata": {
    "id": "2203771b-736f-4874-9f87-a4c9279b3356"
   },
   "source": [
    "# 5. LinearRegression 모델 정의\n",
    "\n",
    "[문제 5]  \n",
    "`LinearRegression` 모델을 정의하고, 그 결과를 model 변수에 할당해 주세요.  \n",
    "아래 빈칸을 채워주세요."
   ]
  },
  {
   "cell_type": "code",
   "execution_count": null,
   "id": "93210ee0-ee65-44dd-b4b6-6a573ee9e461",
   "metadata": {
    "id": "93210ee0-ee65-44dd-b4b6-6a573ee9e461"
   },
   "outputs": [],
   "source": [
    "from sklearn.linear_model import LinearRegression\n",
    "\n",
    "model = ___()"
   ]
  },
  {
   "cell_type": "code",
   "execution_count": null,
   "id": "3053cb59-1a32-43c3-b39e-247382fe62fe",
   "metadata": {
    "id": "3053cb59-1a32-43c3-b39e-247382fe62fe"
   },
   "outputs": [],
   "source": [
    "#checkcode\n",
    "ensure_vals(globals(),'column_names','X','y')\n",
    "@check_safety\n",
    "def check(user_model = 'LinearRegression()'):\n",
    "\n",
    "    c_point0 = (str(model)== user_model)\n",
    "\n",
    "    if c_point0:\n",
    "        return True\n",
    "    else:\n",
    "        return False\n",
    "check()"
   ]
  },
  {
   "attachments": {},
   "cell_type": "markdown",
   "id": "f3a1de09-4a9a-4621-a9dd-89543a6bff81",
   "metadata": {
    "id": "f3a1de09-4a9a-4621-a9dd-89543a6bff81"
   },
   "source": [
    "### Inst.\n",
    "데이터가 모두 준비되었으므로, 본격적으로 데이터 분석 모델을 정의할 차례입니다.\n",
    "\n",
    "우리가 간단하게 사용해볼 모델은 선형 회귀 분석 모델입니다.   \n",
    "LinearRegression 모델은 선형 회귀(Linear Regression)를 수행하는 머신러닝 모델입니다.     \n",
    "이 모델은 **종속 변수와 하나 이상의 독립 변수** 사이의 **선형 관계** 를 모델링하여 예측 및 분석을 수행합니다.  \n",
    "\n",
    "1. `from sklearn.linear_model import LinearRegression` 코드를 통해 **LinearRegression 모델을 import** 합니다.    \n",
    "이를 통해 선형 회귀를 위한 모델 클래스를 사용할 수 있게 됩니다.    \n",
    "\n",
    "2. `model = LinearRegression()` 코드를 통해 **LinearRegression 모델을 생성** 하여 변수 model에 할당합니다.         \n",
    "이후 해당 모델을 활용하여 학습, 예측, 모델 평가 등의 작업을 수행할 수 있습니다.\n",
    "\n",
    "\n",
    "<img src=\"https://user-images.githubusercontent.com/65879567/189025169-45cd86e2-47e5-4698-936c-5424d43781bc.png\">"
   ]
  },
  {
   "attachments": {},
   "cell_type": "markdown",
   "id": "4ab1d82b-1f5d-4be8-a7f9-3c2cda6b6ebb",
   "metadata": {
    "id": "4ab1d82b-1f5d-4be8-a7f9-3c2cda6b6ebb"
   },
   "source": [
    "### Hint.\n",
    "empty"
   ]
  },
  {
   "attachments": {},
   "cell_type": "markdown",
   "id": "9c8ba574-25a7-4651-af35-8c57c10a77cc",
   "metadata": {
    "id": "9c8ba574-25a7-4651-af35-8c57c10a77cc"
   },
   "source": [
    "### Solution.\n",
    "```python\n",
    "from sklearn.linear_model import LinearRegression\n",
    "\n",
    "model = LinearRegression()\n",
    "```\n"
   ]
  },
  {
   "attachments": {},
   "cell_type": "markdown",
   "id": "500ccfa3-05be-454c-8d1c-9516cfa8b947",
   "metadata": {
    "id": "500ccfa3-05be-454c-8d1c-9516cfa8b947"
   },
   "source": [
    "# 6. LinearRegression 모델 학습\n",
    "\n",
    "[문제 6]  \n",
    "model 객체의 `fit()` 메소드를 사용하여 모델을 학습시켜봅시다.  \n",
    "아래 빈칸을 채워주세요."
   ]
  },
  {
   "cell_type": "code",
   "execution_count": null,
   "id": "49d1c669-4af1-4351-aa32-1ddfb575e80e",
   "metadata": {
    "id": "49d1c669-4af1-4351-aa32-1ddfb575e80e",
    "outputId": "1e212844-eff0-4ff4-ba11-58a95988bc47"
   },
   "outputs": [
    {
     "data": {
      "text/html": [
       "<style>#sk-container-id-1 {color: black;background-color: white;}#sk-container-id-1 pre{padding: 0;}#sk-container-id-1 div.sk-toggleable {background-color: white;}#sk-container-id-1 label.sk-toggleable__label {cursor: pointer;display: block;width: 100%;margin-bottom: 0;padding: 0.3em;box-sizing: border-box;text-align: center;}#sk-container-id-1 label.sk-toggleable__label-arrow:before {content: \"▸\";float: left;margin-right: 0.25em;color: #696969;}#sk-container-id-1 label.sk-toggleable__label-arrow:hover:before {color: black;}#sk-container-id-1 div.sk-estimator:hover label.sk-toggleable__label-arrow:before {color: black;}#sk-container-id-1 div.sk-toggleable__content {max-height: 0;max-width: 0;overflow: hidden;text-align: left;background-color: #f0f8ff;}#sk-container-id-1 div.sk-toggleable__content pre {margin: 0.2em;color: black;border-radius: 0.25em;background-color: #f0f8ff;}#sk-container-id-1 input.sk-toggleable__control:checked~div.sk-toggleable__content {max-height: 200px;max-width: 100%;overflow: auto;}#sk-container-id-1 input.sk-toggleable__control:checked~label.sk-toggleable__label-arrow:before {content: \"▾\";}#sk-container-id-1 div.sk-estimator input.sk-toggleable__control:checked~label.sk-toggleable__label {background-color: #d4ebff;}#sk-container-id-1 div.sk-label input.sk-toggleable__control:checked~label.sk-toggleable__label {background-color: #d4ebff;}#sk-container-id-1 input.sk-hidden--visually {border: 0;clip: rect(1px 1px 1px 1px);clip: rect(1px, 1px, 1px, 1px);height: 1px;margin: -1px;overflow: hidden;padding: 0;position: absolute;width: 1px;}#sk-container-id-1 div.sk-estimator {font-family: monospace;background-color: #f0f8ff;border: 1px dotted black;border-radius: 0.25em;box-sizing: border-box;margin-bottom: 0.5em;}#sk-container-id-1 div.sk-estimator:hover {background-color: #d4ebff;}#sk-container-id-1 div.sk-parallel-item::after {content: \"\";width: 100%;border-bottom: 1px solid gray;flex-grow: 1;}#sk-container-id-1 div.sk-label:hover label.sk-toggleable__label {background-color: #d4ebff;}#sk-container-id-1 div.sk-serial::before {content: \"\";position: absolute;border-left: 1px solid gray;box-sizing: border-box;top: 0;bottom: 0;left: 50%;z-index: 0;}#sk-container-id-1 div.sk-serial {display: flex;flex-direction: column;align-items: center;background-color: white;padding-right: 0.2em;padding-left: 0.2em;position: relative;}#sk-container-id-1 div.sk-item {position: relative;z-index: 1;}#sk-container-id-1 div.sk-parallel {display: flex;align-items: stretch;justify-content: center;background-color: white;position: relative;}#sk-container-id-1 div.sk-item::before, #sk-container-id-1 div.sk-parallel-item::before {content: \"\";position: absolute;border-left: 1px solid gray;box-sizing: border-box;top: 0;bottom: 0;left: 50%;z-index: -1;}#sk-container-id-1 div.sk-parallel-item {display: flex;flex-direction: column;z-index: 1;position: relative;background-color: white;}#sk-container-id-1 div.sk-parallel-item:first-child::after {align-self: flex-end;width: 50%;}#sk-container-id-1 div.sk-parallel-item:last-child::after {align-self: flex-start;width: 50%;}#sk-container-id-1 div.sk-parallel-item:only-child::after {width: 0;}#sk-container-id-1 div.sk-dashed-wrapped {border: 1px dashed gray;margin: 0 0.4em 0.5em 0.4em;box-sizing: border-box;padding-bottom: 0.4em;background-color: white;}#sk-container-id-1 div.sk-label label {font-family: monospace;font-weight: bold;display: inline-block;line-height: 1.2em;}#sk-container-id-1 div.sk-label-container {text-align: center;}#sk-container-id-1 div.sk-container {/* jupyter's `normalize.less` sets `[hidden] { display: none; }` but bootstrap.min.css set `[hidden] { display: none !important; }` so we also need the `!important` here to be able to override the default hidden behavior on the sphinx rendered scikit-learn.org. See: https://github.com/scikit-learn/scikit-learn/issues/21755 */display: inline-block !important;position: relative;}#sk-container-id-1 div.sk-text-repr-fallback {display: none;}</style><div id=\"sk-container-id-1\" class=\"sk-top-container\"><div class=\"sk-text-repr-fallback\"><pre>LinearRegression()</pre><b>In a Jupyter environment, please rerun this cell to show the HTML representation or trust the notebook. <br />On GitHub, the HTML representation is unable to render, please try loading this page with nbviewer.org.</b></div><div class=\"sk-container\" hidden><div class=\"sk-item\"><div class=\"sk-estimator sk-toggleable\"><input class=\"sk-toggleable__control sk-hidden--visually\" id=\"sk-estimator-id-1\" type=\"checkbox\" checked><label for=\"sk-estimator-id-1\" class=\"sk-toggleable__label sk-toggleable__label-arrow\">LinearRegression</label><div class=\"sk-toggleable__content\"><pre>LinearRegression()</pre></div></div></div></div></div>"
      ],
      "text/plain": [
       "LinearRegression()"
      ]
     },
     "execution_count": 18,
     "metadata": {},
     "output_type": "execute_result"
    }
   ],
   "source": [
    "model.___(X, y)"
   ]
  },
  {
   "cell_type": "code",
   "execution_count": null,
   "id": "f6e8fd93-7450-43f8-b0b6-c90417bd7336",
   "metadata": {
    "id": "f6e8fd93-7450-43f8-b0b6-c90417bd7336"
   },
   "outputs": [],
   "source": [
    "#checkcode\n",
    "ensure_vals(globals(),'model','X','y')\n",
    "@check_safety\n",
    "def check(user_answer = _, user_model = 'LinearRegression()'):\n",
    "\n",
    "    c_point0 = (str(user_answer) == user_model)\n",
    "\n",
    "    if c_point0:\n",
    "        return True\n",
    "    else:\n",
    "        return False\n",
    "check()"
   ]
  },
  {
   "attachments": {},
   "cell_type": "markdown",
   "id": "4329c04f-1c64-44b2-8a01-7bf9ad83cf54",
   "metadata": {
    "id": "4329c04f-1c64-44b2-8a01-7bf9ad83cf54"
   },
   "source": [
    "### Inst.\n",
    "해당 코드는 LinearRegression 모델을 사용하여 주어진 데이터(X)와 정답 레이블(y)을 활용하여 모델을 **학습** 시키는 역할을 합니다.\n",
    "\n",
    "학습을 통해 모델은 주어진 데이터의 패턴과 관계를 파악하고 최적의 가중치와 편향을 조정합니다.   \n",
    "이를 통해 입력 데이터에 대한 정확한 예측을 수행할 수 있게 됩니다.\n",
    "\n",
    "1. X는 독립 변수 데이터로, 입력 데이터의 특징을 담고 있는 데이터입니다.\n",
    "2. y는 종속 변수 데이터로, 입력 데이터에 대한 정답 레이블(타깃)을 담고 있는 데이터입니다.\n",
    "3. `model.fit(X, y)` 코드를 실행하여 모델을 학습시킵니다.   \n",
    "모델은 주어진 데이터(X)와 레이블(y)를 기반으로 학습 알고리즘을 실행하여 가중치와 편향을 조정합니다.\n",
    "\n",
    "학습된 모델은 이후에 새로운 입력 데이터를 주어졌을 때, **예측을 수행하는 데 사용** 됩니다.   \n",
    "학습 과정에서 최적화된 파라미터를 찾아냄으로써 모델은 입력 데이터에 대한 예측을 정확하게 수행할 수 있게 됩니다."
   ]
  },
  {
   "attachments": {},
   "cell_type": "markdown",
   "id": "c5d3f8b5-fb8b-4565-a373-1a59c52a07d3",
   "metadata": {
    "id": "c5d3f8b5-fb8b-4565-a373-1a59c52a07d3"
   },
   "source": [
    "### Hint.\n",
    "empty"
   ]
  },
  {
   "attachments": {},
   "cell_type": "markdown",
   "id": "7490c913-2340-46a8-950c-d2beefe20d73",
   "metadata": {
    "id": "7490c913-2340-46a8-950c-d2beefe20d73"
   },
   "source": [
    "### Solution.\n",
    "```python\n",
    "model.fit(X, y)\n",
    "```"
   ]
  },
  {
   "attachments": {},
   "cell_type": "markdown",
   "id": "359c9283-e21a-4b99-aabf-2a4eee5cc749",
   "metadata": {
    "id": "359c9283-e21a-4b99-aabf-2a4eee5cc749"
   },
   "source": [
    "# 7. LinearRegression 모델 예측\n",
    "\n",
    "[문제 7]  \n",
    "model 객체의 `predict()` 메소드를 사용하여 test 데이터셋을 예측해 봅시다.  \n",
    "아래 빈칸을 채워주세요."
   ]
  },
  {
   "cell_type": "code",
   "execution_count": null,
   "id": "465d9443-635d-4e58-91e0-cf32b5a327f7",
   "metadata": {
    "id": "465d9443-635d-4e58-91e0-cf32b5a327f7",
    "outputId": "2d9e42a1-44f0-493f-cfd8-7be3f1479327"
   },
   "outputs": [
    {
     "name": "stdout",
     "output_type": "stream",
     "text": [
      "----------------------예측된 데이터의 상위 10개의 값 확인--------------------\n",
      "\n",
      "[42227.86240078 37099.81516765 30834.13212531 29586.38928476\n",
      " 64717.76433044 60730.9690251  70649.35362023 65129.22881864\n",
      " 71346.13504722 66399.36674565]\n"
     ]
    }
   ],
   "source": [
    "predict = model.___(test)\n",
    "print(predict[:10])"
   ]
  },
  {
   "cell_type": "code",
   "execution_count": null,
   "id": "f0a98b0d-d6b3-4faa-84ae-0d74e003d54a",
   "metadata": {
    "id": "f0a98b0d-d6b3-4faa-84ae-0d74e003d54a"
   },
   "outputs": [],
   "source": [
    "#checkcode\n",
    "ensure_vals(globals(),'predict', 'test')\n",
    "@check_safety\n",
    "def check(user_answer = predict, user_number = 91):\n",
    "\n",
    "    c_point0 = (len(user_answer) == user_number)\n",
    "    \n",
    "    if c_point0:\n",
    "        return True\n",
    "    else:\n",
    "        return False\n",
    "check()"
   ]
  },
  {
   "attachments": {},
   "cell_type": "markdown",
   "id": "918c2bcc-08ac-48a6-801e-2676b6e149ff",
   "metadata": {
    "id": "918c2bcc-08ac-48a6-801e-2676b6e149ff"
   },
   "source": [
    "### Inst.\n",
    "학습된 모델을 사용하여 test 데이터에 대한 **예측값을 생성** 하는 역할을 합니다.   \n",
    "모델은 주어진 특징 데이터 test를 기반으로 예측을 수행하고, 예측값을 반환합니다.\n",
    "\n",
    "1. `model.predict(test)` 코드를 실행하여 모델을 사용하여 입력 데이터 **test에 대한 예측값을 생성** 합니다.\n",
    "2. 예측값은 변수 predict에 저장됩니다.\n",
    "3. predict[:10]는 predict 변수에서 처음 10개의 예측값을 출력하는 코드입니다.     \n",
    "[:10]는 슬라이싱(slicing) 기법으로, 리스트(list)나 배열(array)에서 처음부터 10번째까지의 요소(element)를 추출하는 것을 의미합니다.\n",
    "\n",
    "해당 코드는 학습된 모델을 사용하여 test 데이터에 대한 예측값을 생성하고,   \n",
    "그 중에서 처음 10개의 예측값을 출력하는 기법입니다."
   ]
  },
  {
   "attachments": {},
   "cell_type": "markdown",
   "id": "bf26efe6-5886-45f9-9626-6e96496fd608",
   "metadata": {
    "id": "bf26efe6-5886-45f9-9626-6e96496fd608"
   },
   "source": [
    "### Hint.\n",
    "empty"
   ]
  },
  {
   "attachments": {},
   "cell_type": "markdown",
   "id": "e21f0fe0-cfdf-4ed2-95ad-52072aa00aa5",
   "metadata": {
    "id": "e21f0fe0-cfdf-4ed2-95ad-52072aa00aa5"
   },
   "source": [
    "### Solution.\n",
    "```python\n",
    "predict = model.predict(test)\n",
    "print(predict[:10])\n",
    "```"
   ]
  },
  {
   "attachments": {},
   "cell_type": "markdown",
   "id": "0033b68f-866f-47ef-9c84-aafd86ea48da",
   "metadata": {
    "id": "0033b68f-866f-47ef-9c84-aafd86ea48da"
   },
   "source": [
    "# 8. 예측된 따릉이 대여량을 submission 파일에 추가하기\n",
    "\n",
    "[문제 8]  \n",
    "예측값 predict을 submission 데이터프레임(DataFrame)의 number_of_rentals 열(column)에 할당해 주세요.  \n",
    "아래 빈칸을 채워주세요."
   ]
  },
  {
   "cell_type": "code",
   "execution_count": null,
   "id": "9b9b08ee-234f-44c4-8f49-765b7c6f1e62",
   "metadata": {
    "id": "9b9b08ee-234f-44c4-8f49-765b7c6f1e62",
    "outputId": "6e395583-5d12-454f-d9fa-866029f3b2b5"
   },
   "outputs": [
    {
     "data": {
      "text/html": [
       "<div>\n",
       "<style scoped>\n",
       "    .dataframe tbody tr th:only-of-type {\n",
       "        vertical-align: middle;\n",
       "    }\n",
       "\n",
       "    .dataframe tbody tr th {\n",
       "        vertical-align: top;\n",
       "    }\n",
       "\n",
       "    .dataframe thead th {\n",
       "        text-align: right;\n",
       "    }\n",
       "</style>\n",
       "<table border=\"1\" class=\"dataframe\">\n",
       "  <thead>\n",
       "    <tr style=\"text-align: right;\">\n",
       "      <th></th>\n",
       "      <th>date_time</th>\n",
       "      <th>number_of_rentals</th>\n",
       "    </tr>\n",
       "  </thead>\n",
       "  <tbody>\n",
       "    <tr>\n",
       "      <th>0</th>\n",
       "      <td>2021-04-01</td>\n",
       "      <td>42227.862401</td>\n",
       "    </tr>\n",
       "    <tr>\n",
       "      <th>1</th>\n",
       "      <td>2021-04-02</td>\n",
       "      <td>37099.815168</td>\n",
       "    </tr>\n",
       "    <tr>\n",
       "      <th>2</th>\n",
       "      <td>2021-04-03</td>\n",
       "      <td>30834.132125</td>\n",
       "    </tr>\n",
       "    <tr>\n",
       "      <th>3</th>\n",
       "      <td>2021-04-04</td>\n",
       "      <td>29586.389285</td>\n",
       "    </tr>\n",
       "    <tr>\n",
       "      <th>4</th>\n",
       "      <td>2021-04-05</td>\n",
       "      <td>64717.764330</td>\n",
       "    </tr>\n",
       "  </tbody>\n",
       "</table>\n",
       "</div>"
      ],
      "text/plain": [
       "    date_time  number_of_rentals\n",
       "0  2021-04-01       42227.862401\n",
       "1  2021-04-02       37099.815168\n",
       "2  2021-04-03       30834.132125\n",
       "3  2021-04-04       29586.389285\n",
       "4  2021-04-05       64717.764330"
      ]
     },
     "execution_count": 25,
     "metadata": {},
     "output_type": "execute_result"
    }
   ],
   "source": [
    "submission['___'] = ___\n",
    "submission.head()"
   ]
  },
  {
   "cell_type": "code",
   "execution_count": null,
   "id": "71df217b-7e4d-4eae-93b7-29cd927ec30a",
   "metadata": {
    "id": "71df217b-7e4d-4eae-93b7-29cd927ec30a"
   },
   "outputs": [],
   "source": [
    "#checkcode\n",
    "ensure_vals(globals())\n",
    "@check_safety\n",
    "def check(user_answer=_,number=5):\n",
    "    c_point0 = (len(user_answer) == number)\n",
    "    if c_point0:\n",
    "        return True\n",
    "    else:\n",
    "        return False\n",
    "check()"
   ]
  },
  {
   "attachments": {},
   "cell_type": "markdown",
   "id": "acc8d0e4-d483-401c-92da-2a7491e69c4f",
   "metadata": {
    "id": "acc8d0e4-d483-401c-92da-2a7491e69c4f"
   },
   "source": [
    "### lnst.\n",
    "\n",
    "---\n",
    "#### 결과 해석\n",
    "생성한 모델을 사용하여 test 데이터에 대한 예측값을 계산하고,   \n",
    "그 값을 submission 데이터프레임(DataFrame)에 저장하는 역할을 수행합니다.   \n",
    "\n",
    "submission 데이터프레임(DataFrame)의 상위 5개 행(row)을 출력하여   \n",
    "number_of_rentals 열(column)을 보면 우리가 예측한 값이 할당된 것을 확인할 수 있습니다."
   ]
  },
  {
   "attachments": {},
   "cell_type": "markdown",
   "id": "b10c9b36-08ff-4a9f-bcdf-233f59a1e4f3",
   "metadata": {
    "id": "b10c9b36-08ff-4a9f-bcdf-233f59a1e4f3"
   },
   "source": [
    "### Hint.\n",
    "submission['특성 이름'] = 대체할 값"
   ]
  },
  {
   "attachments": {},
   "cell_type": "markdown",
   "id": "29b5cd83-70d6-46ae-940f-af31722798ce",
   "metadata": {
    "id": "29b5cd83-70d6-46ae-940f-af31722798ce"
   },
   "source": [
    "### Solution.\n",
    "```python\n",
    "submission['number_of_rentals'] = predict\n",
    "submission.head()\n",
    "```"
   ]
  },
  {
   "attachments": {},
   "cell_type": "markdown",
   "id": "528e15e1",
   "metadata": {},
   "source": [
    "# 9. 데이터프레임(DataFrame)을 CSV 파일로 저장하기\n",
    "\n",
    "submission.csv 파일로 저장해 보겠습니다."
   ]
  },
  {
   "cell_type": "code",
   "execution_count": null,
   "id": "dbbdbae8",
   "metadata": {},
   "outputs": [],
   "source": [
    "submission.to_csv('submission.csv', index=False)"
   ]
  },
  {
   "cell_type": "code",
   "execution_count": null,
   "id": "b8c74702",
   "metadata": {},
   "outputs": [],
   "source": [
    "#checkcode\n",
    "#empty"
   ]
  },
  {
   "attachments": {},
   "cell_type": "markdown",
   "id": "8372f061",
   "metadata": {},
   "source": [
    "### Inst."
   ]
  },
  {
   "attachments": {},
   "cell_type": "markdown",
   "id": "f5f6143e",
   "metadata": {},
   "source": [
    "### Hint.\n",
    "empty"
   ]
  },
  {
   "attachments": {},
   "cell_type": "markdown",
   "id": "eb1026af",
   "metadata": {},
   "source": [
    "### Solution\n",
    "empty"
   ]
  }
 ],
 "metadata": {
  "colab": {
   "collapsed_sections": [
    "5f1888c4-bd0a-4639-8b03-bb90f728ab4e",
    "bce7fec8-b78e-46ce-b55b-d6140914c808",
    "3266cfb4-edb3-4e31-b471-b390a600c16f",
    "894ebd8c-cb05-45aa-83cb-3df1a525b217",
    "dc445948-407e-47ba-8986-ab78767ab753",
    "4bee9d2d-4adc-4f2d-befb-d215237a951d",
    "6a78e1e1-83a6-4d97-bffc-5d73de1df392",
    "f1291b54-0dc5-443a-afb7-6d9f2f276d84",
    "b14db347-2f3d-426f-a60c-aaa7bb8cfe26",
    "f3a1de09-4a9a-4621-a9dd-89543a6bff81",
    "4ab1d82b-1f5d-4be8-a7f9-3c2cda6b6ebb",
    "9c8ba574-25a7-4651-af35-8c57c10a77cc",
    "4329c04f-1c64-44b2-8a01-7bf9ad83cf54",
    "c5d3f8b5-fb8b-4565-a373-1a59c52a07d3",
    "918c2bcc-08ac-48a6-801e-2676b6e149ff",
    "bf26efe6-5886-45f9-9626-6e96496fd608",
    "e21f0fe0-cfdf-4ed2-95ad-52072aa00aa5",
    "acc8d0e4-d483-401c-92da-2a7491e69c4f",
    "b10c9b36-08ff-4a9f-bcdf-233f59a1e4f3",
    "df8053b3-8bb2-49cf-9527-02ae216ea59e",
    "5aaf2946-2473-4148-ba87-8ad1c638ab18"
   ],
   "provenance": []
  },
  "kernelspec": {
   "display_name": "taerang",
   "language": "python",
   "name": "taerang"
  },
  "language_info": {
   "codemirror_mode": {
    "name": "ipython",
    "version": 3
   },
   "file_extension": ".py",
   "mimetype": "text/x-python",
   "name": "python",
   "nbconvert_exporter": "python",
   "pygments_lexer": "ipython3",
   "version": "3.9.7"
  }
 },
 "nbformat": 4,
 "nbformat_minor": 5
}
