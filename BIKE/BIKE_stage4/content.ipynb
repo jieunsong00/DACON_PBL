{
 "cells": [
  {
   "cell_type": "code",
   "execution_count": null,
   "id": "7570e392-fcd5-488a-85da-26de685068c3",
   "metadata": {
    "id": "7570e392-fcd5-488a-85da-26de685068c3"
   },
   "outputs": [],
   "source": [
    "#hiddencell\n",
    "from pbl_tools import *"
   ]
  },
  {
   "attachments": {},
   "cell_type": "markdown",
   "id": "8aad6e93",
   "metadata": {
    "id": "8aad6e93"
   },
   "source": [
    "# 스테이지 4"
   ]
  },
  {
   "attachments": {},
   "cell_type": "markdown",
   "id": "ef37d610",
   "metadata": {},
   "source": [
    "# 1. pandas를 이용해 csv 파일 읽어오기\n",
    "[문제 1]    \n",
    "Pandas 라이브러리(library)를 가져와보세요.   \n",
    "그리고 train.csv, test.csv, sample_submission.csv 파일을 각각 train, test, submission 변수로 읽어오세요.     \n",
    "아래 빈칸을 채워주세요."
   ]
  },
  {
   "cell_type": "code",
   "execution_count": null,
   "id": "8faf637f-e40c-4f02-98b9-6bca2f217c89",
   "metadata": {
    "id": "8faf637f-e40c-4f02-98b9-6bca2f217c89",
    "outputId": "5fd549ab-826c-4a34-c0c0-95141f044f33"
   },
   "outputs": [
    {
     "data": {
      "text/html": [
       "<div>\n",
       "<style scoped>\n",
       "    .dataframe tbody tr th:only-of-type {\n",
       "        vertical-align: middle;\n",
       "    }\n",
       "\n",
       "    .dataframe tbody tr th {\n",
       "        vertical-align: top;\n",
       "    }\n",
       "\n",
       "    .dataframe thead th {\n",
       "        text-align: right;\n",
       "    }\n",
       "</style>\n",
       "<table border=\"1\" class=\"dataframe\">\n",
       "  <thead>\n",
       "    <tr style=\"text-align: right;\">\n",
       "      <th></th>\n",
       "      <th>date_time</th>\n",
       "      <th>wind_direction</th>\n",
       "      <th>sky_condition</th>\n",
       "      <th>precipitation_form</th>\n",
       "      <th>wind_speed</th>\n",
       "      <th>humidity</th>\n",
       "      <th>low_temp</th>\n",
       "      <th>high_temp</th>\n",
       "      <th>Precipitation_Probability</th>\n",
       "      <th>number_of_rentals</th>\n",
       "    </tr>\n",
       "  </thead>\n",
       "  <tbody>\n",
       "    <tr>\n",
       "      <th>0</th>\n",
       "      <td>2018-04-01</td>\n",
       "      <td>207.500</td>\n",
       "      <td>4.000</td>\n",
       "      <td>0.0</td>\n",
       "      <td>3.050</td>\n",
       "      <td>75.000</td>\n",
       "      <td>12.600</td>\n",
       "      <td>21.000</td>\n",
       "      <td>30.000</td>\n",
       "      <td>22994</td>\n",
       "    </tr>\n",
       "    <tr>\n",
       "      <th>1</th>\n",
       "      <td>2018-04-02</td>\n",
       "      <td>208.317</td>\n",
       "      <td>2.950</td>\n",
       "      <td>0.0</td>\n",
       "      <td>3.278</td>\n",
       "      <td>69.833</td>\n",
       "      <td>12.812</td>\n",
       "      <td>19.000</td>\n",
       "      <td>19.500</td>\n",
       "      <td>28139</td>\n",
       "    </tr>\n",
       "    <tr>\n",
       "      <th>2</th>\n",
       "      <td>2018-04-03</td>\n",
       "      <td>213.516</td>\n",
       "      <td>2.911</td>\n",
       "      <td>0.0</td>\n",
       "      <td>2.690</td>\n",
       "      <td>74.879</td>\n",
       "      <td>10.312</td>\n",
       "      <td>15.316</td>\n",
       "      <td>19.113</td>\n",
       "      <td>26817</td>\n",
       "    </tr>\n",
       "  </tbody>\n",
       "</table>\n",
       "</div>"
      ],
      "text/plain": [
       "    date_time  wind_direction  sky_condition  precipitation_form  wind_speed  \\\n",
       "0  2018-04-01         207.500          4.000                 0.0       3.050   \n",
       "1  2018-04-02         208.317          2.950                 0.0       3.278   \n",
       "2  2018-04-03         213.516          2.911                 0.0       2.690   \n",
       "\n",
       "   humidity  low_temp  high_temp  Precipitation_Probability  number_of_rentals  \n",
       "0    75.000    12.600     21.000                     30.000              22994  \n",
       "1    69.833    12.812     19.000                     19.500              28139  \n",
       "2    74.879    10.312     15.316                     19.113              26817  "
      ]
     },
     "execution_count": 2,
     "metadata": {},
     "output_type": "execute_result"
    }
   ],
   "source": [
    "import ___ as ___\n",
    "\n",
    "train = pd.___('train.csv')\n",
    "test = pd.___('test.csv')\n",
    "submission = pd.___('sample_submission.csv')"
   ]
  },
  {
   "cell_type": "code",
   "execution_count": null,
   "id": "8d7a1fb3-04c1-4bcc-b0e0-d9bad61a7dbd",
   "metadata": {
    "id": "8d7a1fb3-04c1-4bcc-b0e0-d9bad61a7dbd"
   },
   "outputs": [],
   "source": [
    "#checkcode\n",
    "ensure_vals(globals(), 'train', 'test', 'submission')\n",
    "@check_safety\n",
    "def check(user_answer_train=train,\n",
    "          user_answer_test=test, \n",
    "          user_answer_submission=submission):\n",
    "    \n",
    "    c_point0 = hasattr(user_answer_train, 'tail')\n",
    "    c_point1 = hasattr(user_answer_test, 'tail')\n",
    "    c_point2 = hasattr(user_answer_submission, 'tail')\n",
    "\n",
    "    if (c_point0 and \n",
    "        c_point1 and \n",
    "        c_point2 \n",
    "    ):\n",
    "        return True\n",
    "    else:\n",
    "        return False\n",
    "\n",
    "check()"
   ]
  },
  {
   "attachments": {},
   "cell_type": "markdown",
   "id": "3209ff76-eeb4-4d04-b6f9-c5ec8c93156c",
   "metadata": {
    "id": "3209ff76-eeb4-4d04-b6f9-c5ec8c93156c"
   },
   "source": [
    "### Inst.\n"
   ]
  },
  {
   "attachments": {},
   "cell_type": "markdown",
   "id": "ae63e22f",
   "metadata": {},
   "source": [
    "### Hint.\n",
    "`pd.read_csv('파일경로/파일명')` 를 활용해 보세요."
   ]
  },
  {
   "attachments": {},
   "cell_type": "markdown",
   "id": "2af023e3-7782-4eb0-841f-46010a384773",
   "metadata": {
    "id": "2af023e3-7782-4eb0-841f-46010a384773"
   },
   "source": [
    "### Solution.\n",
    "```python\n",
    "import pandas as pd\n",
    "\n",
    "train = pd.read_csv('train.csv')\n",
    "test = pd.read_csv('test.csv')\n",
    "submission = pd.read_csv('sample_submission.csv')\n",
    "```"
   ]
  },
  {
   "attachments": {},
   "cell_type": "markdown",
   "metadata": {
    "collapsed": false,
    "pycharm": {
     "name": "#%% md\n"
    }
   },
   "source": [
    "# 2. EDA (Exploratory Data Analysis) 란"
   ]
  },
  {
   "cell_type": "code",
   "execution_count": null,
   "id": "a9424864",
   "metadata": {
    "collapsed": false,
    "pycharm": {
     "name": "#%%\n"
    }
   },
   "outputs": [],
   "source": [
    "# 데이터프레임 정보 확인\n",
    "print(train.info())\n",
    "\n",
    "# 데이터프레임 기술통계량 확인\n",
    "print(train.describe())"
   ]
  },
  {
   "cell_type": "code",
   "execution_count": null,
   "id": "02a05950",
   "metadata": {
    "collapsed": false,
    "pycharm": {
     "name": "#%%\n"
    }
   },
   "outputs": [],
   "source": [
    "#checkcode\n",
    "#empty"
   ]
  },
  {
   "attachments": {},
   "cell_type": "markdown",
   "id": "8700a9cf",
   "metadata": {
    "collapsed": false,
    "pycharm": {
     "name": "#%% md\n"
    }
   },
   "source": [
    "### Inst.\n",
    "EDA는 \"탐색적 데이터 분석(Exploratory Data Analysis)\"의 약어입니다.   \n",
    "EDA는 데이터를 탐색하고 이해하기 위한 과정으로, 데이터 세트의 구조, 패턴, 상관관계, 이상치 등을 파악하는 것을 목표로 합니다.\n",
    "\n",
    "EDA는 데이터 과학이나 데이터 분석 작업의 초기 단계로, 데이터 세트의 특성을 파악하고 초기 인사이트를 도출하는 데 도움을 줍니다.   \n",
    "EDA를 통해 데이터의 문제점이나 결측치, 이상치 등을 식별하고, 변수 간의 관계나 패턴을 발견하며,   데이터 전처리나 모델링 단계에서 필요한 가정을 세우는 데 도움이 됩니다.\n",
    "\n",
    "EDA는 다양한 방법을 사용하여 데이터를 탐색합니다.   \n",
    "이러한 방법에는 요약 통계, 시각화, 상관 분석, 분포 분석, 클러스터링 등이 포함될 수 있습니다.   \n",
    "EDA는 데이터의 특성을 이해하고 데이터에 대한 통찰력을 얻는 데 중요한 역할을 합니다.\n",
    "\n",
    "EDA는 데이터 과학자, 데이터 분석가, 비즈니스 분석가 등 데이터와 작업하는 사람들에게 매우 중요한 과정입니다.   \n",
    "EDA를 통해 데이터의 특성을 파악하고 초기 인사이트를 얻을 수 있으며, 이를 바탕으로 더 깊은 분석이나 모델링 작업을 수행할 수 있습니다.\n",
    "\n",
    "먼저 EDA를 위해 전반적인 정보를 살펴봅시다.   \n",
    "DataFrame의 정보, 기술통계량을 확인해 봅시다."
   ]
  },
  {
   "attachments": {},
   "cell_type": "markdown",
   "id": "a3c24800",
   "metadata": {
    "collapsed": false,
    "pycharm": {
     "name": "#%% md\n"
    }
   },
   "source": [
    "### Hint.\n",
    "empty"
   ]
  },
  {
   "attachments": {},
   "cell_type": "markdown",
   "id": "cb20974e",
   "metadata": {
    "collapsed": false,
    "pycharm": {
     "name": "#%% md\n"
    }
   },
   "source": [
    "### Solution.\n",
    "empty"
   ]
  },
  {
   "attachments": {},
   "cell_type": "markdown",
   "id": "23ea3ce8",
   "metadata": {},
   "source": [
    "# 3. 시각화를 유용하게 하기 위한 코드\n",
    "\n",
    "matplotlib를 사용하여 시각화를 진행하기 전에,   \n",
    "한글 폰트를 사용할 수 있게 FontEntry 객체를 생성하고 'font_manager'를 통해 기본 폰트 설정을 변경해 보겠습니다."
   ]
  },
  {
   "cell_type": "code",
   "execution_count": null,
   "id": "9a32dfce",
   "metadata": {},
   "outputs": [],
   "source": [
    "import warnings # 1\n",
    "warnings.simplefilter(action='ignore', category=FutureWarning)\n",
    "\n",
    "import matplotlib.pyplot as plt # 2\n",
    "import matplotlib.font_manager as fm # 3\n",
    "\n",
    "fe = fm.FontEntry(fname = 'NotoSansKR-Regular.otf', name = 'NotoSansKR') # 4\n",
    "fm.fontManager.ttflist.insert(0, fe) # 5\n",
    "plt.rc('font', family='NotoSansKR') # 6"
   ]
  },
  {
   "cell_type": "code",
   "execution_count": null,
   "id": "aef1dbbe",
   "metadata": {},
   "outputs": [],
   "source": [
    "#checkcode\n",
    "#empty"
   ]
  },
  {
   "attachments": {},
   "cell_type": "markdown",
   "id": "5e0aee58",
   "metadata": {},
   "source": [
    "### Inst.\n",
    "\n",
    "1. warnings 모듈(module)을 임포트(import)하고, 경고 메시지를 무시하기 위한 필터를 설정합니다.   \n",
    "FutureWarning이라는 특정 경고 메시지를 무시하도록 설정한 것입니다.       \n",
    "이 경고는 향후 버전에서 변경될 기능에 대한 경고로서, 경고 메시지가 출력되지 않도록 설정하여 코드 실행 중에 발생하는 경고를 무시할 수 있습니다.    \n",
    "\n",
    "2. 데이터 시각화를 위한 `matplotlib.pyplot` 모듈을 임포트합니다.  \n",
    "plt는 pyplot 모듈의 별칭(alias)으로, 이를 통해 pyplot의 함수들에 접근할 수 있습니다.  \n",
    "\n",
    "3. 한글 폰트를 사용하기 위해 `matplotlib.font_manager` 모듈을 임포트합니다.   \n",
    "이 모듈을 사용하여 한글 폰트를 설정할 수 있습니다.  \n",
    "\n",
    "4. 한글 폰트 파일인 `NotoSansKR-Regular.otf`를 지정하여 FontEntry 객체를 생성합니다.  \n",
    "fname은 폰트 파일의 경로를 나타냅니다.  \n",
    "name은 폰트의 이름을 나타냅니다.  \n",
    "\n",
    "5. fontManager의 ttflist에 앞서 생성한 FontEntry 객체를 추가합니다.  \n",
    "이를 통해 폰트 매니저에 한글 폰트가 등록됩니다.  \n",
    "\n",
    "6. `plt.rc()` 함수를 사용하여 matplotlib의 기본 폰트 설정을 변경합니다.  \n",
    "'font'는 폰트 관련 설정을 의미하고, family는 폰트 패밀리를 지정합니다.  \n",
    "NotoSansKR은 사용할 폰트 패밀리의 이름을 나타냅니다.  \n",
    "\n",
    "즉, 해당 코드는 경고 메시지를 무시하고, 한글 폰트를 설정하여 한글을 포함한 데이터 시각화를 할 수 있도록 합니다.   \n",
    "한글 폰트 설정을 위해서는 `NotoSansKR-Regular.otf`와 같은 한글 폰트 파일이 필요하며,   \n",
    "해당 파일의 경로를 `NotoSansKR-Regular.otf`로 지정해야 합니다."
   ]
  },
  {
   "attachments": {},
   "cell_type": "markdown",
   "id": "9aa914f4",
   "metadata": {},
   "source": [
    "### Hint.\n",
    "empty"
   ]
  },
  {
   "attachments": {},
   "cell_type": "markdown",
   "id": "979feb78",
   "metadata": {},
   "source": [
    "### Solution.\n",
    "empty"
   ]
  },
  {
   "attachments": {},
   "cell_type": "markdown",
   "id": "12626be1-c961-44d3-b4d0-fd3d66c667c2",
   "metadata": {
    "id": "12626be1-c961-44d3-b4d0-fd3d66c667c2"
   },
   "source": [
    "# 4. 일별 따릉이 대여량(number_of_rentals) 데이터 시각화\n",
    "\n",
    "train 데이터프레임(DataFrame)의 number_of_rentals 열(column)을 시계열 형태로 시각화하여 **일별 따릉이 대여량의 변화** 를 확인해 봅시다."
   ]
  },
  {
   "cell_type": "code",
   "execution_count": null,
   "id": "36b7d04e-6af5-4248-85f5-1b0ea583bf9d",
   "metadata": {
    "id": "36b7d04e-6af5-4248-85f5-1b0ea583bf9d",
    "outputId": "bd423e21-0445-4849-b8eb-b2ab2c5e250d"
   },
   "outputs": [
    {
     "data": {
      "image/png": "[encoded data removed]",
      "text/plain": [
       "<Figure size 900x600 with 1 Axes>"
      ]
     },
     "metadata": {
      "needs_background": "light"
     },
     "output_type": "display_data"
    }
   ],
   "source": [
    "plt.figure(dpi=150)\n",
    "x = train['number_of_rentals'].index\n",
    "y = train['number_of_rentals'].values\n",
    "\n",
    "plt.title(\"따릉이 대여량\")\n",
    "plt.xlabel('일별')\n",
    "plt.xticks(rotation=45)\n",
    "plt.ylabel('일별 따릉이 대여량')\n",
    "plt.plot(x, y)\n",
    "plt.show()"
   ]
  },
  {
   "cell_type": "code",
   "execution_count": null,
   "id": "95214945-d02a-445f-ab91-a173e305b7f7",
   "metadata": {
    "id": "95214945-d02a-445f-ab91-a173e305b7f7",
    "tags": []
   },
   "outputs": [],
   "source": [
    "#checkcode\n",
    "#empty"
   ]
  },
  {
   "attachments": {},
   "cell_type": "markdown",
   "id": "1fc10338-d911-43f1-82b8-4b5556ff572d",
   "metadata": {
    "id": "1fc10338-d911-43f1-82b8-4b5556ff572d"
   },
   "source": [
    "### Inst.\n",
    "\n",
    "1. `plt.figure()` 함수를 사용하여 새로운 그림(figure)을 생성합니다.  \n",
    "dpi=150는 그림의 해상도를 150으로 설정하는 것을 의미합니다.   \n",
    "DPI(Dots Per Inch)는 인치당 픽셀의 수를 나타내는 값으로, 그림의 선명도를 조절하는 데 사용됩니다.\n",
    "\n",
    "2. train 데이터프레임(DataFrame)에서 number_of_rentals 열(column)의 인덱스(index)를 가져와 x 변수에 저장합니다.  \n",
    "이는 x축에 사용할 데이터로서, 일별 날짜를 나타냅니다.  \n",
    "\n",
    "3. train 데이터프레임에서 number_of_rentals 열의 값(values)들을 가져와 y 변수에 저장합니다.  \n",
    "이는 y축에 사용할 데이터로서, 해당 날짜의 따릉이 대여량을 나타냅니다.\n",
    "\n",
    "4. 그림의 제목을 설정합니다. 여기서는 \"따릉이 대여량\"이라는 제목을 사용합니다.  \n",
    "\n",
    "5. x축의 레이블을 설정합니다. 여기서는 \"일별\"이라는 레이블을 사용합니다.\n",
    "\n",
    "6. x축의 눈금 레이블을 회전시킵니다. rotation=45는 눈금 레이블을 45도로 회전하는 것을 의미합니다.\n",
    "\n",
    "7. y축의 레이블을 설정합니다. 여기서는 \"일별 따릉이 대여량\"이라는 레이블을 사용합니다.\n",
    "\n",
    "8. `plt.plot()` 함수는 Matplotlib에서 제공하는 **선 그래프** 를 그리는 함수입니다.   \n",
    "일반적으로 x와 y 데이터를 입력으로 받아 선 그래프를 생성합니다.   \n",
    "`plt.plot(x, y)` 형식으로 사용됩니다.  \n",
    "`plt.plot()` 함수는 주어진 x와 y 데이터를 사용하여 선 그래프를 그리며, 데이터 간의 연결선을 통해 변화를 시각적으로 표현합니다.   \n",
    "\n",
    "9. 그림을 화면에 표시합니다.\n",
    " \n",
    "\n",
    "---\n",
    "\n",
    "#### 결과 해석\n",
    "\n",
    "시간이 흐를수록 따릉이 대여량이 증가합니다."
   ]
  },
  {
   "attachments": {},
   "cell_type": "markdown",
   "id": "7afd3d50-652c-4133-a855-ae26420d1d64",
   "metadata": {
    "id": "7afd3d50-652c-4133-a855-ae26420d1d64"
   },
   "source": [
    "### Hint.\n",
    "empty"
   ]
  },
  {
   "attachments": {},
   "cell_type": "markdown",
   "id": "74fb2b7c-393c-4117-b678-5c128393bc37",
   "metadata": {
    "id": "74fb2b7c-393c-4117-b678-5c128393bc37"
   },
   "source": [
    "### Solution.\n",
    "empty"
   ]
  },
  {
   "attachments": {},
   "cell_type": "markdown",
   "id": "d6dd4f24-d899-4e59-be70-7711c60598f9",
   "metadata": {
    "id": "d6dd4f24-d899-4e59-be70-7711c60598f9"
   },
   "source": [
    "# 5. 일별 따릉이 대여량(number_of_rentals) 이상치 시각화. \n",
    "\n",
    "위에서 그려본 그래프에 일별 따릉이 대여량 값 중 8000을 이상치를 판단하는 기준이라고 가정하고,    \n",
    "`plt.hlines( )` 함수를 사용하여 y 값이 8000인 수평선을 그려 보겠습니다."
   ]
  },
  {
   "cell_type": "code",
   "execution_count": null,
   "id": "c18031c5-5023-4531-b13f-7c20f12ada06",
   "metadata": {
    "id": "c18031c5-5023-4531-b13f-7c20f12ada06",
    "outputId": "16925759-168b-48e9-f907-10231b45c2a4"
   },
   "outputs": [
    {
     "data": {
      "image/png": "[encoded data removed]",
      "text/plain": [
       "<Figure size 900x600 with 1 Axes>"
      ]
     },
     "metadata": {
      "needs_background": "light"
     },
     "output_type": "display_data"
    }
   ],
   "source": [
    "plt.figure(dpi=150)    \n",
    "x = train['number_of_rentals'].index    \n",
    "y = train['number_of_rentals'].values    \n",
    "\n",
    "plt.title(\"따릉이 대여량\")    \n",
    "plt.xlabel('일별')    \n",
    "plt.xticks(rotation=45)    \n",
    "plt.ylabel('일별 따릉이 대여량')    \n",
    "plt.hlines(y=8000, xmin=0, xmax=len(x), color='red', linestyle='dotted')    \n",
    "plt.plot(x, y)    \n",
    "plt.show()   "
   ]
  },
  {
   "cell_type": "code",
   "execution_count": null,
   "id": "da6533ec-3889-48ed-86c7-2a6ca457a1ef",
   "metadata": {
    "id": "da6533ec-3889-48ed-86c7-2a6ca457a1ef",
    "tags": []
   },
   "outputs": [],
   "source": [
    "#checkcode\n",
    "#empty"
   ]
  },
  {
   "attachments": {},
   "cell_type": "markdown",
   "id": "a785bd68-f077-4125-9255-ffdc371a3b9c",
   "metadata": {
    "id": "a785bd68-f077-4125-9255-ffdc371a3b9c"
   },
   "source": [
    "### Inst.\n",
    "\n",
    "`plt.hlines(y=8000, xmin=0, xmax=len(x), color='red', linestyle='dotted')`\n",
    "\n",
    "위 코드는 **수평선** 을 그리는 코드입니다.     \n",
    "- `y=8000`은 y값이 8000인 수평선을 의미합니다.  \n",
    "- `xmin=0`과 `xmax=len(x)`는 **x축 범위** 를 설정합니다. 이 경우, x의 처음과 끝을 의미합니다.\n",
    "- `color='red'`는 선의 색상을 **빨간색**으로 지정합니다.  \n",
    "- `linestyle='dotted'`는 **점선 스타일의 선** 을 사용합니다.  \n",
    "\n",
    "train 데이터프레임(DataFrame)의 number_of_rentals 열(column)을 시계열 형태로 시각화하여 일별 따릉이 대여량의 변화를 보여줍니다.   \n",
    "추가로, `plt.hlines()` 함수를 사용하여 y값이 8000인 수평선을 그려서 **이상치(대여량이 8000을 넘는 경우)를 확인** 할 수 있습니다."
   ]
  },
  {
   "attachments": {},
   "cell_type": "markdown",
   "id": "9d07ff8f-c974-4a42-be1d-0ab40a1f5d81",
   "metadata": {
    "id": "9d07ff8f-c974-4a42-be1d-0ab40a1f5d81"
   },
   "source": [
    "### Hint.\n",
    "empty"
   ]
  },
  {
   "attachments": {},
   "cell_type": "markdown",
   "id": "28e47dfe-b0b6-428f-838d-04a94915f450",
   "metadata": {
    "id": "28e47dfe-b0b6-428f-838d-04a94915f450"
   },
   "source": [
    "### Solution.\n",
    "empty"
   ]
  },
  {
   "attachments": {},
   "cell_type": "markdown",
   "id": "023cfe45-cc67-4aba-9aed-84e4a61f13eb",
   "metadata": {
    "id": "023cfe45-cc67-4aba-9aed-84e4a61f13eb"
   },
   "source": [
    "# 6. train 데이터프레임(DataFrame)에서 이상치 값 상위 5행(row) 데이터 추출\n",
    "\n",
    "대여량이 **8000을 넘지 않는 이상치** 를 확인해 봅시다."
   ]
  },
  {
   "cell_type": "code",
   "execution_count": null,
   "id": "e487c1a3-a93f-4c1f-8553-36db551f7c48",
   "metadata": {
    "colab": {
     "base_uri": "https://localhost:8080/",
     "height": 174
    },
    "executionInfo": {
     "elapsed": 18,
     "status": "error",
     "timestamp": 1668405162267,
     "user": {
      "displayName": "이예찬",
      "userId": "02771406650838354738"
     },
     "user_tz": -540
    },
    "id": "e487c1a3-a93f-4c1f-8553-36db551f7c48",
    "outputId": "e1792328-ab51-487a-b685-9016eb7dbf80"
   },
   "outputs": [
    {
     "data": {
      "text/html": [
       "<div>\n",
       "<style scoped>\n",
       "    .dataframe tbody tr th:only-of-type {\n",
       "        vertical-align: middle;\n",
       "    }\n",
       "\n",
       "    .dataframe tbody tr th {\n",
       "        vertical-align: top;\n",
       "    }\n",
       "\n",
       "    .dataframe thead th {\n",
       "        text-align: right;\n",
       "    }\n",
       "</style>\n",
       "<table border=\"1\" class=\"dataframe\">\n",
       "  <thead>\n",
       "    <tr style=\"text-align: right;\">\n",
       "      <th></th>\n",
       "      <th>date_time</th>\n",
       "      <th>wind_direction</th>\n",
       "      <th>sky_condition</th>\n",
       "      <th>precipitation_form</th>\n",
       "      <th>wind_speed</th>\n",
       "      <th>humidity</th>\n",
       "      <th>low_temp</th>\n",
       "      <th>high_temp</th>\n",
       "      <th>Precipitation_Probability</th>\n",
       "      <th>number_of_rentals</th>\n",
       "    </tr>\n",
       "  </thead>\n",
       "  <tbody>\n",
       "    <tr>\n",
       "      <th>4</th>\n",
       "      <td>2018-04-05</td>\n",
       "      <td>95.905</td>\n",
       "      <td>4.000</td>\n",
       "      <td>0.723</td>\n",
       "      <td>3.186</td>\n",
       "      <td>73.784</td>\n",
       "      <td>5.875</td>\n",
       "      <td>10.421</td>\n",
       "      <td>63.378</td>\n",
       "      <td>2833</td>\n",
       "    </tr>\n",
       "    <tr>\n",
       "      <th>7</th>\n",
       "      <td>2018-04-08</td>\n",
       "      <td>200.939</td>\n",
       "      <td>2.405</td>\n",
       "      <td>0.054</td>\n",
       "      <td>3.865</td>\n",
       "      <td>53.243</td>\n",
       "      <td>4.312</td>\n",
       "      <td>14.211</td>\n",
       "      <td>15.676</td>\n",
       "      <td>7758</td>\n",
       "    </tr>\n",
       "    <tr>\n",
       "      <th>22</th>\n",
       "      <td>2018-04-23</td>\n",
       "      <td>79.554</td>\n",
       "      <td>4.000</td>\n",
       "      <td>1.000</td>\n",
       "      <td>4.127</td>\n",
       "      <td>81.182</td>\n",
       "      <td>9.250</td>\n",
       "      <td>15.158</td>\n",
       "      <td>75.608</td>\n",
       "      <td>1037</td>\n",
       "    </tr>\n",
       "    <tr>\n",
       "      <th>41</th>\n",
       "      <td>2018-05-12</td>\n",
       "      <td>154.541</td>\n",
       "      <td>3.946</td>\n",
       "      <td>0.588</td>\n",
       "      <td>2.590</td>\n",
       "      <td>75.405</td>\n",
       "      <td>13.938</td>\n",
       "      <td>21.632</td>\n",
       "      <td>54.392</td>\n",
       "      <td>3551</td>\n",
       "    </tr>\n",
       "    <tr>\n",
       "      <th>45</th>\n",
       "      <td>2018-05-16</td>\n",
       "      <td>191.108</td>\n",
       "      <td>4.000</td>\n",
       "      <td>0.797</td>\n",
       "      <td>2.815</td>\n",
       "      <td>85.405</td>\n",
       "      <td>19.688</td>\n",
       "      <td>23.105</td>\n",
       "      <td>66.554</td>\n",
       "      <td>7072</td>\n",
       "    </tr>\n",
       "  </tbody>\n",
       "</table>\n",
       "</div>"
      ],
      "text/plain": [
       "     date_time  wind_direction  sky_condition  precipitation_form  wind_speed  \\\n",
       "4   2018-04-05          95.905          4.000               0.723       3.186   \n",
       "7   2018-04-08         200.939          2.405               0.054       3.865   \n",
       "22  2018-04-23          79.554          4.000               1.000       4.127   \n",
       "41  2018-05-12         154.541          3.946               0.588       2.590   \n",
       "45  2018-05-16         191.108          4.000               0.797       2.815   \n",
       "\n",
       "    humidity  low_temp  high_temp  Precipitation_Probability  \\\n",
       "4     73.784     5.875     10.421                     63.378   \n",
       "7     53.243     4.312     14.211                     15.676   \n",
       "22    81.182     9.250     15.158                     75.608   \n",
       "41    75.405    13.938     21.632                     54.392   \n",
       "45    85.405    19.688     23.105                     66.554   \n",
       "\n",
       "    number_of_rentals  \n",
       "4                2833  \n",
       "7                7758  \n",
       "22               1037  \n",
       "41               3551  \n",
       "45               7072  "
      ]
     },
     "execution_count": 7,
     "metadata": {},
     "output_type": "execute_result"
    }
   ],
   "source": [
    "train[train['number_of_rentals']<=8000].head()"
   ]
  },
  {
   "cell_type": "code",
   "execution_count": null,
   "id": "8fc29148-7f0e-4a98-947a-bb036e477ef2",
   "metadata": {
    "id": "8fc29148-7f0e-4a98-947a-bb036e477ef2"
   },
   "outputs": [],
   "source": [
    "#checkcode\n",
    "#empty"
   ]
  },
  {
   "attachments": {},
   "cell_type": "markdown",
   "id": "2d0f050d-e7e9-49d4-9785-f9ab52b1bdfe",
   "metadata": {
    "id": "2d0f050d-e7e9-49d4-9785-f9ab52b1bdfe"
   },
   "source": [
    "### Inst.\n",
    "\n",
    " `train['number_of_rentals'] <= 8000`은 number_of_rentals 열의 값이 8000 이하인지를 나타내는 조건식입니다.  \n",
    "`train[train['number_of_rentals']<=8000]`은 조건식을 만족하는 행(row)들만을 선택하여 새로운 데이터프레임(DataFrame)을 생성합니다.     \n",
    "즉, **number_of_rentals 값이 8000 이하인 행들로 구성된 데이터프레임** 이 됩니다.\n",
    "\n",
    "`.head()`는 데이터프레임의 상위 5개 행(row)을 반환하는 함수입니다.  \n",
    "따라서 `train[train['number_of_rentals']<=8000].head()`는 train 데이터프레임에서     \n",
    "number_of_rentals 열의 값이 8000 이하인 행들의 상위 5개 행을 반환하는 코드입니다.\n",
    "  "
   ]
  },
  {
   "attachments": {},
   "cell_type": "markdown",
   "id": "cf9b33d0-93e3-4fad-b42c-f84df25b6f94",
   "metadata": {
    "id": "cf9b33d0-93e3-4fad-b42c-f84df25b6f94"
   },
   "source": [
    "### Hint.\n",
    "empty"
   ]
  },
  {
   "attachments": {},
   "cell_type": "markdown",
   "id": "fa181620-77c3-4990-b628-63386ece04eb",
   "metadata": {
    "id": "fa181620-77c3-4990-b628-63386ece04eb"
   },
   "source": [
    "### Solution.\n",
    "empty"
   ]
  },
  {
   "attachments": {},
   "cell_type": "markdown",
   "id": "e4950fed-540f-436f-97cc-f7008ddfc5b0",
   "metadata": {
    "id": "e4950fed-540f-436f-97cc-f7008ddfc5b0"
   },
   "source": [
    "# 7. train 데이터프레임(DataFrame)에서 이상치 평균값 추출\n",
    "[문제 2]  \n",
    "train 데이터프레임(DataFrame)에서 number_of_rentals 열의 값이 8000 이하인 행(row)들의 평균값을 출력해 보세요."
   ]
  },
  {
   "cell_type": "code",
   "execution_count": null,
   "id": "ac500bbe-6b8c-436d-9870-108078c2107c",
   "metadata": {
    "id": "ac500bbe-6b8c-436d-9870-108078c2107c",
    "outputId": "6a0012d0-3442-4a36-dab3-1e47a1ce4cfe"
   },
   "outputs": [
    {
     "data": {
      "text/plain": [
       "wind_direction                156.688250\n",
       "sky_condition                   3.775250\n",
       "precipitation_form              0.735625\n",
       "wind_speed                      3.344000\n",
       "humidity                       76.786125\n",
       "low_temp                       13.023500\n",
       "high_temp                      19.375000\n",
       "Precipitation_Probability      62.736500\n",
       "number_of_rentals            5005.500000\n",
       "dtype: float64"
      ]
     },
     "execution_count": 8,
     "metadata": {},
     "output_type": "execute_result"
    }
   ],
   "source": [
    "train[train['number_of_rentals']<=8000].___()"
   ]
  },
  {
   "cell_type": "code",
   "execution_count": null,
   "id": "767033d4-1544-430c-80a1-1f5d9da88e96",
   "metadata": {
    "id": "767033d4-1544-430c-80a1-1f5d9da88e96"
   },
   "outputs": [],
   "source": [
    "#checkcode\n",
    "ensure_vals(globals(),'train')\n",
    "@check_safety\n",
    "def check(number = 9):\n",
    "    \n",
    "    if len(_) == number:\n",
    "        return True\n",
    "    else:\n",
    "        return False\n",
    "    \n",
    "check()"
   ]
  },
  {
   "attachments": {},
   "cell_type": "markdown",
   "id": "15d35a4e-d6c3-48f0-86c8-7af1d409cf55",
   "metadata": {
    "id": "15d35a4e-d6c3-48f0-86c8-7af1d409cf55"
   },
   "source": [
    "### Inst.\n"
   ]
  },
  {
   "attachments": {},
   "cell_type": "markdown",
   "id": "5fb4a120-d0bc-4d91-ad0d-787bac23f0fc",
   "metadata": {
    "id": "5fb4a120-d0bc-4d91-ad0d-787bac23f0fc"
   },
   "source": [
    "### Hint.\n",
    "\n",
    "`.mean()`은 선택된 데이터프레임의 **평균값** 을 계산하는 함수입니다.  "
   ]
  },
  {
   "attachments": {},
   "cell_type": "markdown",
   "id": "5d10b98d-cb0b-48b2-8f96-c3f6b2cf87ef",
   "metadata": {
    "id": "5d10b98d-cb0b-48b2-8f96-c3f6b2cf87ef"
   },
   "source": [
    "### Solution.\n",
    "```python\n",
    "train[train['number_of_rentals']<=8000].mean()\n",
    "```"
   ]
  },
  {
   "attachments": {},
   "cell_type": "markdown",
   "id": "c911fcd5-7ce5-41c7-92f6-953211d947cb",
   "metadata": {
    "id": "c911fcd5-7ce5-41c7-92f6-953211d947cb"
   },
   "source": [
    "# 8.train 데이터프레임(Dataframe)에서 대여량 이상치에 따른 피처(feature)별 시각화"
   ]
  },
  {
   "cell_type": "code",
   "execution_count": null,
   "id": "17095e0f-ccc5-495f-9a67-bd45adde7406",
   "metadata": {
    "id": "17095e0f-ccc5-495f-9a67-bd45adde7406",
    "outputId": "00334b46-f912-46b8-c6a8-5dad6e625f64"
   },
   "outputs": [
    {
     "data": {
      "image/png": "[encoded data removed]",
      "text/plain": [
       "<Figure size 576x360 with 1 Axes>"
      ]
     },
     "metadata": {
      "needs_background": "light"
     },
     "output_type": "display_data"
    },
    {
     "data": {
      "image/png": "[encoded data removed]",
      "text/plain": [
       "<Figure size 576x360 with 1 Axes>"
      ]
     },
     "metadata": {
      "needs_background": "light"
     },
     "output_type": "display_data"
    },
    {
     "data": {
      "image/png": "[encoded data removed]",
      "text/plain": [
       "<Figure size 576x360 with 1 Axes>"
      ]
     },
     "metadata": {
      "needs_background": "light"
     },
     "output_type": "display_data"
    },
    {
     "data": {
      "image/png": "[encoded data removed]",
      "text/plain": [
       "<Figure size 576x360 with 1 Axes>"
      ]
     },
     "metadata": {
      "needs_background": "light"
     },
     "output_type": "display_data"
    },
    {
     "data": {
      "image/png": "[encoded data removed]",
      "text/plain": [
       "<Figure size 576x360 with 1 Axes>"
      ]
     },
     "metadata": {
      "needs_background": "light"
     },
     "output_type": "display_data"
    },
    {
     "data": {
      "image/png": "[encoded data removed]",
      "text/plain": [
       "<Figure size 576x360 with 1 Axes>"
      ]
     },
     "metadata": {
      "needs_background": "light"
     },
     "output_type": "display_data"
    },
    {
     "data": {
      "image/png": "[encoded data removed]",
      "text/plain": [
       "<Figure size 576x360 with 1 Axes>"
      ]
     },
     "metadata": {
      "needs_background": "light"
     },
     "output_type": "display_data"
    },
    {
     "data": {
      "image/png": "[encoded data removed]",
      "text/plain": [
       "<Figure size 576x360 with 1 Axes>"
      ]
     },
     "metadata": {
      "needs_background": "light"
     },
     "output_type": "display_data"
    }
   ],
   "source": [
    "low = train[train['number_of_rentals']<=8000].mean()\n",
    "high = train[train['number_of_rentals']>8000].mean()\n",
    "\n",
    "def compare(idx):\n",
    "    x = ['8000<= '+low.index[idx], '8000> '+low.index[idx]]\n",
    "    y = [low.values[idx], high.values[idx]]\n",
    "\n",
    "    plt.figure(figsize = (8,5))\n",
    "    plt.title(low.index[idx]+\" 의 평균\")\n",
    "    plt.xlabel('피쳐')\n",
    "    plt.ylabel('수치')\n",
    "    plt.bar(x, y)\n",
    "    plt.show()\n",
    "    \n",
    "for i in range(8):\n",
    "    compare(i)"
   ]
  },
  {
   "cell_type": "code",
   "execution_count": null,
   "id": "24c298e9-d9fb-4d49-85a5-309711814acd",
   "metadata": {
    "id": "24c298e9-d9fb-4d49-85a5-309711814acd"
   },
   "outputs": [],
   "source": [
    "#checkcode\n",
    "#empty"
   ]
  },
  {
   "attachments": {},
   "cell_type": "markdown",
   "id": "4062dde8-4233-4e53-9b36-b7d8a48fab03",
   "metadata": {
    "id": "4062dde8-4233-4e53-9b36-b7d8a48fab03"
   },
   "source": [
    "### Inst.\n",
    "해당 코드는 주어진 데이터에서 대여량이 8000 이하인 그룹과,  \n",
    "8000을 초과하는 그룹의 각 피처(feature)에 대한 평균값을 비교하고 시각화하는 코드입니다.   \n",
    "\n",
    "1. train 데이터프레임(DataFrame)에서 대여량이 8000 이하인 행(row)들의 평균값을 계산하여 low 변수에 저장합니다.\n",
    "2. train 데이터프레임에서 대여량이 8000을 초과하는 행들의 평균값을 계산하여 high 변수에 저장합니다.\n",
    "3. `compare()` 함수는 주어진 인덱스에 대한 평균값을 시각화하여 비교하는 함수입니다.   \n",
    "인덱스를 활용하여 low와 high에서 해당 인덱스에 대한 평균값을 가져와서 막대 그래프로 나타냅니다.  \n",
    "4. for 루프를 사용하여 `compare()` 함수를 8번 반복 호출합니다. 각 반복에서는 다른 인덱스에 대한 평균값을 비교하여 시각화합니다.\n",
    "\n",
    "해당 코드 기법은 특정 조건에 따라 데이터를 분류하고, 해당 그룹에 대한 평균값을 계산하여 시각화하는 방법을 보여줍니다.   \n",
    "이를 통해 데이터의 특정 그룹 간의 특성 차이를 시각적으로 확인할 수 있습니다.\n",
    "\n",
    "---\n",
    "\n",
    "#### 결과 해석\n",
    "\n",
    "**강수 형태(precipitation_form) 칼럼** 에서 8000 이상과 이하의 값 사이에 큰 차이가 있으며,   \n",
    "**강수 확률(Precipitation_Probability)** 역시 8000 이상과 이하의 값에 큰 차이가 있는 것을 확인할 수 있습니다.\n",
    "\n"
   ]
  },
  {
   "attachments": {},
   "cell_type": "markdown",
   "id": "172bfb03-1e9c-4e67-a526-d9450cb5b1f9",
   "metadata": {
    "id": "172bfb03-1e9c-4e67-a526-d9450cb5b1f9"
   },
   "source": [
    "### Hint.\n",
    "empty"
   ]
  },
  {
   "attachments": {},
   "cell_type": "markdown",
   "id": "5d5a85e3-ec95-4a20-b6dd-16c135b85c35",
   "metadata": {
    "id": "5d5a85e3-ec95-4a20-b6dd-16c135b85c35"
   },
   "source": [
    "### Solution.\n",
    "empty"
   ]
  },
  {
   "attachments": {},
   "cell_type": "markdown",
   "id": "352f9bce-420e-44ae-af8a-7ed1819b853e",
   "metadata": {
    "id": "352f9bce-420e-44ae-af8a-7ed1819b853e"
   },
   "source": [
    "# 9.일별 강수 형태(precipitation_form) 변화를 나타내는 선형 그래프\n",
    "\n",
    "plot(선 그래프)을 이용하여 시간 흐름에 따른 강수 형태를 그래프로 시각화해 봅시다"
   ]
  },
  {
   "cell_type": "code",
   "execution_count": null,
   "id": "13ccc090-3a64-47f2-9199-e00f12fd9339",
   "metadata": {
    "id": "13ccc090-3a64-47f2-9199-e00f12fd9339",
    "outputId": "5482a64f-2cff-4409-a3d9-7df748cf68db"
   },
   "outputs": [
    {
     "data": {
      "image/png": "[encoded data removed]",
      "text/plain": [
       "<Figure size 2160x432 with 1 Axes>"
      ]
     },
     "metadata": {
      "needs_background": "light"
     },
     "output_type": "display_data"
    }
   ],
   "source": [
    "plt.figure(figsize=(30,6))    \n",
    "   \n",
    "a = plt.plot(train['precipitation_form'], color='g')    \n",
    " \n",
    "plt.ylabel('precipitation_form')    \n",
    "plt.xlabel('Days')     \n",
    "plt.show()   "
   ]
  },
  {
   "cell_type": "code",
   "execution_count": null,
   "id": "9a41f2a9-f0c6-44e6-8a78-b880734bcc4e",
   "metadata": {
    "id": "9a41f2a9-f0c6-44e6-8a78-b880734bcc4e"
   },
   "outputs": [],
   "source": [
    "#checkcode\n",
    "#empty"
   ]
  },
  {
   "attachments": {},
   "cell_type": "markdown",
   "id": "cf60d9fe-480d-45ef-bc8e-e51ab4871660",
   "metadata": {
    "id": "cf60d9fe-480d-45ef-bc8e-e51ab4871660"
   },
   "source": [
    "### Inst.\n",
    "step8에서 bar(막대) 그래프를 통해 얻은 인사이트를 바탕으로,   \n",
    "**강수 형태(precipitation_form)** 변수를 더 자세히 살펴보기 위해 시각화를 진행하고자 합니다. \n",
    "\n",
    "`plt.plot()` 함수를 사용하여 **plot(선형) 그래프**를 그리고,   \n",
    "x축에는 날짜를 나타내는 Days를,   \n",
    "y축에는 강수 형태(precipitation_form)를 표시합니다.   \n",
    "그래프의 색상은 초록색('g')으로 설정되었습니다.\n",
    "\n",
    "날짜에 따른 강수 형태의 변화를 시각적으로 확인할 수 있습니다.   \n",
    "그래프의 모양, 변동 패턴 등을 살펴봄으로써 강수 형태 데이터의 특성을 파악할 수 있습니다.\n",
    "\n",
    "---\n",
    "\n",
    "#### 결과 해석\n",
    "\n",
    "시간의 흐름에 따른 강수 형태를 봤을 때 뚜렷한 패턴은 보이지 않습니다.    \n",
    "그러나 값이 0인 데이터, 즉 비가 오지 않은 날이 많아 보입니다.\n"
   ]
  },
  {
   "attachments": {},
   "cell_type": "markdown",
   "id": "1b6b85e1-d0e1-40c8-b186-b0610a0723b4",
   "metadata": {
    "id": "1b6b85e1-d0e1-40c8-b186-b0610a0723b4"
   },
   "source": [
    "### Hint.\n",
    "empty"
   ]
  },
  {
   "attachments": {},
   "cell_type": "markdown",
   "id": "0fd6f5cf-ab21-4dd9-821f-ce47e658dd82",
   "metadata": {
    "id": "0fd6f5cf-ab21-4dd9-821f-ce47e658dd82"
   },
   "source": [
    "### Solution.\n",
    "empty\n"
   ]
  },
  {
   "attachments": {},
   "cell_type": "markdown",
   "id": "ab773224-ae9c-4fa1-8ffe-86acb834bc73",
   "metadata": {
    "id": "ab773224-ae9c-4fa1-8ffe-86acb834bc73"
   },
   "source": [
    "# 10.연도별 따릉이 대여량(number_of_rentals) 평균 시각화\n",
    "\n",
    "정확한 분석을 위해 제공된 데이터의 date_time 변수를 활용하여 연도별 강수 형태의 변동을 살펴봅시다.\n"
   ]
  },
  {
   "cell_type": "code",
   "execution_count": null,
   "id": "26ef6b8d-907b-4bba-a2cd-781cb97e710c",
   "metadata": {
    "id": "26ef6b8d-907b-4bba-a2cd-781cb97e710c",
    "outputId": "b262cd3d-4d9e-421a-e468-da64f536a1fe"
   },
   "outputs": [
    {
     "data": {
      "image/png": "[encoded data removed]",
      "text/plain": [
       "<Figure size 1080x360 with 1 Axes>"
      ]
     },
     "metadata": {
      "needs_background": "light"
     },
     "output_type": "display_data"
    }
   ],
   "source": [
    "train['year'] = train['date_time'].apply(lambda x : x.split('-')[0])\n",
    "\n",
    "train.groupby('year').mean()[['number_of_rentals']].plot(figsize=(15,5))\n",
    "plt.show()"
   ]
  },
  {
   "cell_type": "code",
   "execution_count": null,
   "id": "45c79b86-45c5-4f61-9724-83290371783b",
   "metadata": {
    "id": "45c79b86-45c5-4f61-9724-83290371783b"
   },
   "outputs": [],
   "source": [
    "#checkcode\n",
    "#empty"
   ]
  },
  {
   "attachments": {},
   "cell_type": "markdown",
   "id": "66a623f0-0911-49ed-8d79-6fc2f587a9ea",
   "metadata": {
    "id": "66a623f0-0911-49ed-8d79-6fc2f587a9ea"
   },
   "source": [
    "### Inst.\n",
    "\n",
    "데이터셋의 date_time 컬럼(column)은 연-월-일(YYYY-MM-DD) 형식을 가지고 있습니다.   \n",
    "date_time 컬럼에서 연도 정보인 YYYY를 추출하여 시각화해보려고 합니다.\n",
    "\n",
    "1. train 데이터프레임(DataFrame)에 year 컬럼을 추가하고 있습니다.   \n",
    "'date_time' 컬럼의 각 값에서 '-'를 기준으로 분리하여 연도 정보만 추출하고, 이를 'year' 컬럼에 저장하고 있습니다.   \n",
    "이를 위해 `apply()` 함수와 람다(lambda) 함수를 사용하고 있습니다.\n",
    "\n",
    "2. train 데이터프레임을 year로 그룹화하고, number_of_rentals 컬럼의 평균을 계산합니다.   \n",
    "그룹별 평균 값을 바탕으로 연도별 따릉이 대여량의 변화를 시각화하기 위해 `plot()` 함수를 사용합니다.   \n",
    "그래프의 크기는 figsize 매개변수를 통해 조정할 수 있습니다.\n",
    "\n",
    "<img src=\"https://drive.google.com/uc?id=1IuO_p3lOfBSkJdIePL-FXSFoxPVOipZ0\">\n",
    "\n",
    "\n",
    "해당 코드를 사용하면 연도별 따릉이 대여량의 평균 값을 시각적으로 확인할 수 있습니다.   \n",
    "이를 통해 연도에 따른 대여량의 추이와 변동성을 파악할 수 있습니다.\n",
    "\n",
    "---\n",
    "\n",
    "#### 결과 해석\n",
    "\n",
    "출력된 결과를 확인해 보면, 연도별로 따릉이 대여량이 꾸준히 증가합니다. \n",
    "\n",
    "\n",
    "  "
   ]
  },
  {
   "attachments": {},
   "cell_type": "markdown",
   "id": "329cf009-8710-4243-b43e-3e117256379b",
   "metadata": {
    "id": "329cf009-8710-4243-b43e-3e117256379b"
   },
   "source": [
    "### Hint.\n",
    "empty"
   ]
  },
  {
   "attachments": {},
   "cell_type": "markdown",
   "id": "05a2ab8b-2100-4b2f-bccf-b6c1f3842a01",
   "metadata": {
    "id": "05a2ab8b-2100-4b2f-bccf-b6c1f3842a01"
   },
   "source": [
    "### Solution.\n",
    "empty"
   ]
  },
  {
   "attachments": {},
   "cell_type": "markdown",
   "id": "6c686113-f20d-4705-b2a1-076d2e57c97b",
   "metadata": {
    "id": "6c686113-f20d-4705-b2a1-076d2e57c97b"
   },
   "source": [
    "# 11. 월별 따릉이 대여량(number_of_rentals) 평균 시각화\n",
    "  \n",
    "[문제 3]  \n",
    "데이터셋의 date_time 컬럼은 연-월-일(YYYY-MM-DD) 형식을 가지고 있습니다.       \n",
    "date_time 컬럼에서 월 정보인 MM을 추출하여 월별 따릉이 대여량의 평균 값을 시각적으로 표현해 보세요.\n",
    "\n",
    "1. date_time 컬럼의 각 값에서 '-'를 기준으로 분리하여 월 정보만 추출하고, 이를 month 컬럼에 저장하고 있습니다.     \n",
    "2. 이를 위해 `apply()` 함수와 람다(lambda) 함수를 사용해주세요.     "
   ]
  },
  {
   "cell_type": "code",
   "execution_count": null,
   "id": "394aec50-a06a-4d05-9e47-1ea06d0488bc",
   "metadata": {
    "id": "394aec50-a06a-4d05-9e47-1ea06d0488bc",
    "outputId": "ac8f23da-e1a4-42d2-a382-2629ead237bb"
   },
   "outputs": [
    {
     "data": {
      "image/png": "[encoded data removed]",
      "text/plain": [
       "<Figure size 1080x360 with 1 Axes>"
      ]
     },
     "metadata": {
      "needs_background": "light"
     },
     "output_type": "display_data"
    }
   ],
   "source": [
    "train['month'] = train['date_time'].___(___ x : x.split(___)[1])    \n",
    "  \n",
    "train.groupby('month').mean()[['number_of_rentals']].plot(figsize=(15,5))    \n",
    "plt.show()"
   ]
  },
  {
   "cell_type": "code",
   "execution_count": null,
   "id": "eb245108-5cdb-45fb-aa00-9a32525fc60f",
   "metadata": {
    "id": "eb245108-5cdb-45fb-aa00-9a32525fc60f"
   },
   "outputs": [],
   "source": [
    "#checkcode\n",
    "ensure_vals(globals(),'train')\n",
    "@check_safety\n",
    "def check():\n",
    "    train_check = pd.read_csv('train.csv')\n",
    "    train_check['month'] = train_check['date_time'].apply(lambda x : x.split('-')[1])\n",
    "\n",
    "    if (train['month'] == train_check['month']).all():\n",
    "        return True\n",
    "    else:\n",
    "        return False\n",
    "    \n",
    "check()"
   ]
  },
  {
   "attachments": {},
   "cell_type": "markdown",
   "id": "2ba8b561-b24d-4d23-a5d6-b76fcd62cdcd",
   "metadata": {
    "id": "2ba8b561-b24d-4d23-a5d6-b76fcd62cdcd"
   },
   "source": [
    "### Inst.\n",
    "\n",
    "---\n",
    "\n",
    "#### 결과해석\n",
    "4월<5월<6월과 같이 따릉이 대여량이 점차적으로 증가한 것을 확인할 수 있습니다.\n"
   ]
  },
  {
   "attachments": {},
   "cell_type": "markdown",
   "id": "7dec45ac-4803-4138-b001-54279a3bde88",
   "metadata": {
    "id": "7dec45ac-4803-4138-b001-54279a3bde88"
   },
   "source": [
    "### Hint.\n",
    "1. `apply()` 함수는 인자로 함수를 받으며, 일반적으로 람다(lambda) 함수를 사용합니다.\n",
    "2. 문자열은 분할하고자 하는 대상 문자열을 의미하고, 구분자는 문자열을 나눌 때 사용할 기준이 되는 문자열입니다. \n",
    ">- `문자열.split(구분자)`. "
   ]
  },
  {
   "attachments": {},
   "cell_type": "markdown",
   "id": "a2ae7537-36e5-4212-837c-ebab78470116",
   "metadata": {
    "id": "a2ae7537-36e5-4212-837c-ebab78470116"
   },
   "source": [
    "### Solution.\n",
    "```python\n",
    "train['month'] = train['date_time'].apply(lambda x : x.split('-')[1])    \n",
    "  \n",
    "train.groupby('month').mean()[['number_of_rentals']].plot(figsize=(15,5))    \n",
    "plt.show()\n",
    "```"
   ]
  },
  {
   "attachments": {},
   "cell_type": "markdown",
   "id": "8ff5f61f-56ad-4ad0-bb40-d6418ccee7c3",
   "metadata": {
    "id": "8ff5f61f-56ad-4ad0-bb40-d6418ccee7c3"
   },
   "source": [
    " # 12. 일별 따릉이 대여량(number_of_rentals) 평균 시각화\n",
    "\n",
    "데이터셋의 date_time 컬럼은 연-월-일(YYYY-MM-DD) 형식을 가지고 있습니다.       \n",
    "date_time 컬럼에서 일 정보인 DD를 추출하여 일별 따릉이 대여량의 평균 값을 시각적으로 표현해 보세요.\n",
    "\n",
    "1. date_time 컬럼의 각 값에서 '-'를 기준으로 분리하여 일 정보만 추출하고, 이를 'day' 컬럼에 저장하고 있습니다.     \n",
    "2. 이를 위해 `apply()` 함수와 람다(lambda) 함수를 사용해주세요.      "
   ]
  },
  {
   "cell_type": "code",
   "execution_count": null,
   "id": "81870828-f420-4ee0-ae6d-b44fd9836823",
   "metadata": {
    "id": "81870828-f420-4ee0-ae6d-b44fd9836823",
    "outputId": "0b717240-0384-4421-de5f-3de95b32ae14"
   },
   "outputs": [
    {
     "data": {
      "image/png": "[encoded data removed]",
      "text/plain": [
       "<Figure size 1080x360 with 1 Axes>"
      ]
     },
     "metadata": {
      "needs_background": "light"
     },
     "output_type": "display_data"
    }
   ],
   "source": [
    "train['day'] = train['date_time'].apply(lambda x : x.split('-')[2])    \n",
    "\n",
    "train.groupby('day').mean()[['number_of_rentals']].plot(figsize=(15,5))    \n",
    "plt.show()"
   ]
  },
  {
   "cell_type": "code",
   "execution_count": null,
   "id": "fd531d5c-e256-4d6a-a52e-11d7e6e1d5a6",
   "metadata": {
    "id": "fd531d5c-e256-4d6a-a52e-11d7e6e1d5a6"
   },
   "outputs": [],
   "source": [
    "#checkcode\n",
    "#empty"
   ]
  },
  {
   "attachments": {},
   "cell_type": "markdown",
   "id": "0a0e2775-2aa4-49ba-bc79-dc93406296f6",
   "metadata": {
    "id": "0a0e2775-2aa4-49ba-bc79-dc93406296f6"
   },
   "source": [
    "### Inst.\n",
    "\n",
    "---\n",
    "\n",
    "#### 결과해석\n",
    "일별로는 뚜렷한 증감세가 없다가, 월말에 급상승한 것을 볼 수 있습니다."
   ]
  },
  {
   "attachments": {},
   "cell_type": "markdown",
   "id": "830843ab-31c1-4bc5-82fe-7d1ad0a33458",
   "metadata": {
    "id": "830843ab-31c1-4bc5-82fe-7d1ad0a33458"
   },
   "source": [
    "### Hint.\n",
    "\n",
    "empty"
   ]
  },
  {
   "attachments": {},
   "cell_type": "markdown",
   "id": "7f2178bc-5502-4968-a261-2ae957c31690",
   "metadata": {
    "id": "7f2178bc-5502-4968-a261-2ae957c31690"
   },
   "source": [
    "### Solution.\n",
    "empty"
   ]
  },
  {
   "attachments": {},
   "cell_type": "markdown",
   "id": "73cca754-04c6-4421-9b3e-009db9309043",
   "metadata": {
    "id": "73cca754-04c6-4421-9b3e-009db9309043"
   },
   "source": [
    "# 13.파생변수 생성 : 연도(year)\n",
    "  \n",
    "그럼 EDA를 통해서 얻은 인사이트를 가지고 결론을 도출해 볼까요?\n",
    "\n",
    "- **강수 변수** - 따릉이 대여량 큰 차이  \n",
    "  정확한 분석을 위하여 date_time 변수 EDA<br>\n",
    "\n",
    "- **date_time 변수** - 연도, 월별    \n",
    "  뚜렷한 증가 추세<br>\n",
    "\n",
    "- **date_time 변수** -일별    \n",
    "  뚜렷한 증감세가 없다가, 월말에 급상승"
   ]
  },
  {
   "cell_type": "code",
   "execution_count": null,
   "id": "9c97fd14-27ad-4998-a92d-8cb235a6c19f",
   "metadata": {
    "id": "9c97fd14-27ad-4998-a92d-8cb235a6c19f",
    "outputId": "26b55f55-a490-448d-97b8-ea35790366e3"
   },
   "outputs": [
    {
     "data": {
      "text/html": [
       "<div>\n",
       "<style scoped>\n",
       "    .dataframe tbody tr th:only-of-type {\n",
       "        vertical-align: middle;\n",
       "    }\n",
       "\n",
       "    .dataframe tbody tr th {\n",
       "        vertical-align: top;\n",
       "    }\n",
       "\n",
       "    .dataframe thead th {\n",
       "        text-align: right;\n",
       "    }\n",
       "</style>\n",
       "<table border=\"1\" class=\"dataframe\">\n",
       "  <thead>\n",
       "    <tr style=\"text-align: right;\">\n",
       "      <th></th>\n",
       "      <th>date_time</th>\n",
       "      <th>wind_direction</th>\n",
       "      <th>sky_condition</th>\n",
       "      <th>precipitation_form</th>\n",
       "      <th>wind_speed</th>\n",
       "      <th>humidity</th>\n",
       "      <th>low_temp</th>\n",
       "      <th>high_temp</th>\n",
       "      <th>Precipitation_Probability</th>\n",
       "      <th>number_of_rentals</th>\n",
       "      <th>month</th>\n",
       "      <th>day</th>\n",
       "      <th>year</th>\n",
       "    </tr>\n",
       "  </thead>\n",
       "  <tbody>\n",
       "    <tr>\n",
       "      <th>0</th>\n",
       "      <td>2018-04-01</td>\n",
       "      <td>207.500</td>\n",
       "      <td>4.000</td>\n",
       "      <td>0.000</td>\n",
       "      <td>3.050</td>\n",
       "      <td>75.000</td>\n",
       "      <td>12.600</td>\n",
       "      <td>21.000</td>\n",
       "      <td>30.000</td>\n",
       "      <td>22994</td>\n",
       "      <td>4</td>\n",
       "      <td>1</td>\n",
       "      <td>2018</td>\n",
       "    </tr>\n",
       "    <tr>\n",
       "      <th>1</th>\n",
       "      <td>2018-04-02</td>\n",
       "      <td>208.317</td>\n",
       "      <td>2.950</td>\n",
       "      <td>0.000</td>\n",
       "      <td>3.278</td>\n",
       "      <td>69.833</td>\n",
       "      <td>12.812</td>\n",
       "      <td>19.000</td>\n",
       "      <td>19.500</td>\n",
       "      <td>28139</td>\n",
       "      <td>4</td>\n",
       "      <td>2</td>\n",
       "      <td>2018</td>\n",
       "    </tr>\n",
       "    <tr>\n",
       "      <th>2</th>\n",
       "      <td>2018-04-03</td>\n",
       "      <td>213.516</td>\n",
       "      <td>2.911</td>\n",
       "      <td>0.000</td>\n",
       "      <td>2.690</td>\n",
       "      <td>74.879</td>\n",
       "      <td>10.312</td>\n",
       "      <td>15.316</td>\n",
       "      <td>19.113</td>\n",
       "      <td>26817</td>\n",
       "      <td>4</td>\n",
       "      <td>3</td>\n",
       "      <td>2018</td>\n",
       "    </tr>\n",
       "    <tr>\n",
       "      <th>3</th>\n",
       "      <td>2018-04-04</td>\n",
       "      <td>143.836</td>\n",
       "      <td>3.692</td>\n",
       "      <td>0.425</td>\n",
       "      <td>3.138</td>\n",
       "      <td>71.849</td>\n",
       "      <td>8.312</td>\n",
       "      <td>12.368</td>\n",
       "      <td>43.493</td>\n",
       "      <td>26034</td>\n",
       "      <td>4</td>\n",
       "      <td>4</td>\n",
       "      <td>2018</td>\n",
       "    </tr>\n",
       "    <tr>\n",
       "      <th>4</th>\n",
       "      <td>2018-04-05</td>\n",
       "      <td>95.905</td>\n",
       "      <td>4.000</td>\n",
       "      <td>0.723</td>\n",
       "      <td>3.186</td>\n",
       "      <td>73.784</td>\n",
       "      <td>5.875</td>\n",
       "      <td>10.421</td>\n",
       "      <td>63.378</td>\n",
       "      <td>2833</td>\n",
       "      <td>4</td>\n",
       "      <td>5</td>\n",
       "      <td>2018</td>\n",
       "    </tr>\n",
       "  </tbody>\n",
       "</table>\n",
       "</div>"
      ],
      "text/plain": [
       "    date_time  wind_direction  sky_condition  precipitation_form  wind_speed  \\\n",
       "0  2018-04-01         207.500          4.000               0.000       3.050   \n",
       "1  2018-04-02         208.317          2.950               0.000       3.278   \n",
       "2  2018-04-03         213.516          2.911               0.000       2.690   \n",
       "3  2018-04-04         143.836          3.692               0.425       3.138   \n",
       "4  2018-04-05          95.905          4.000               0.723       3.186   \n",
       "\n",
       "   humidity  low_temp  high_temp  Precipitation_Probability  \\\n",
       "0    75.000    12.600     21.000                     30.000   \n",
       "1    69.833    12.812     19.000                     19.500   \n",
       "2    74.879    10.312     15.316                     19.113   \n",
       "3    71.849     8.312     12.368                     43.493   \n",
       "4    73.784     5.875     10.421                     63.378   \n",
       "\n",
       "   number_of_rentals  month  day  year  \n",
       "0              22994      4    1  2018  \n",
       "1              28139      4    2  2018  \n",
       "2              26817      4    3  2018  \n",
       "3              26034      4    4  2018  \n",
       "4               2833      4    5  2018  "
      ]
     },
     "execution_count": 15,
     "metadata": {},
     "output_type": "execute_result"
    }
   ],
   "source": [
    "train['year'] = train['date_time'].apply(lambda x : int(x.split('-')[0]))\n",
    "\n",
    "train.head()"
   ]
  },
  {
   "cell_type": "code",
   "execution_count": null,
   "id": "6e84cc81-a478-49b3-b0d6-dd4d79f7845d",
   "metadata": {
    "id": "6e84cc81-a478-49b3-b0d6-dd4d79f7845d"
   },
   "outputs": [],
   "source": [
    "#checkcode\n",
    "#empty"
   ]
  },
  {
   "attachments": {},
   "cell_type": "markdown",
   "id": "b92f48e6-14c8-4c01-8d82-bf26bb13bd06",
   "metadata": {
    "id": "b92f48e6-14c8-4c01-8d82-bf26bb13bd06"
   },
   "source": [
    "### Inst.\n",
    "\n",
    "EDA를 통해 일자 정보의 연도, 월, 일 정보가 target과 연관이 있다는 것을 확인했습니다.    \n",
    "그럼 연도, 월, 일 정보를 포함하여 분석을 진행하면 예측값이 정답에 더 가까워지지 않을까요?\n",
    "\n",
    "먼저, 데이터셋의 'date_time' 컬럼에서 연도 정보를 추출하여 새로운 'year' 컬럼을 생성하겠습니다.\n",
    "\n",
    "train['date_time']을 가져와서 각 날짜를 하이픈 (-)으로 분할합니다. 분할된 결과에서 첫 번째 요소는 연도를 나타냅니다.   \n",
    "split('-')[0]을 통해 연도 정보를 추출하고, lambda 함수를 사용하여 각 날짜에 적용합니다.  \n",
    "그리고 추출한 연도 정보를 정수형으로 변환하기 위해 int() 함수를 사용합니다.   \n",
    "이후, 추출한 연도 정보를 'year' 컬럼으로 할당하여 새로운 컬럼을 생성합니다.\n",
    "\n",
    "마지막으로, train.head()를 사용하여 데이터셋의 처음 5개 행을 출력합니다.   \n",
    "이를 통해 'year' 컬럼이 추가되었는지 확인할 수 있습니다.\n",
    "\n",
    "<img src=\"https://drive.google.com/uc?id=1e-VPBlN0MNcyD4dQlQIEzahETLh5tSUw\">"
   ]
  },
  {
   "attachments": {},
   "cell_type": "markdown",
   "id": "e87ffe7a-2303-412a-8833-853ce8a772de",
   "metadata": {
    "id": "e87ffe7a-2303-412a-8833-853ce8a772de"
   },
   "source": [
    "### Hint.\n",
    "empty"
   ]
  },
  {
   "attachments": {},
   "cell_type": "markdown",
   "id": "8bd9dc5c-85f6-4c92-90ef-4136094d33b2",
   "metadata": {
    "id": "8bd9dc5c-85f6-4c92-90ef-4136094d33b2"
   },
   "source": [
    "### Solution.\n",
    "empty"
   ]
  },
  {
   "attachments": {},
   "cell_type": "markdown",
   "id": "62b7d37c-7c6f-4bcd-bdac-791b1b462a2d",
   "metadata": {
    "id": "62b7d37c-7c6f-4bcd-bdac-791b1b462a2d"
   },
   "source": [
    "# 14. 파생변수 생성 : 월(month), 일(day)\n",
    "[문제 4]   \n",
    "\n",
    "데이터셋의 date_time 컬럼은 연-월-일(YYYY-MM-DD) 형식을 가지고 있습니다.       \n",
    "\n",
    "1. date_time 컬럼의 각 값에서 '-'를 기준으로 분리하여 월 정보만 추출하고, 이를 'month' 컬럼에 저장해 주세요.  \n",
    "2. 이를 위해 `apply()` 함수와 람다(lambda) 함수를 사용해주세요.    \n",
    "3. date_time 컬럼의 각 값에서 '-'를 기준으로 분리하여 일 정보만 추출하고, 이를 'day' 컬럼에 저장해 주세요.  "
   ]
  },
  {
   "cell_type": "code",
   "execution_count": null,
   "id": "0e4d828e-4819-4e27-9827-0253049514eb",
   "metadata": {
    "id": "0e4d828e-4819-4e27-9827-0253049514eb",
    "outputId": "70c0b0e1-9586-4164-cb89-25fa21e9fbeb"
   },
   "outputs": [
    {
     "data": {
      "text/html": [
       "<div>\n",
       "<style scoped>\n",
       "    .dataframe tbody tr th:only-of-type {\n",
       "        vertical-align: middle;\n",
       "    }\n",
       "\n",
       "    .dataframe tbody tr th {\n",
       "        vertical-align: top;\n",
       "    }\n",
       "\n",
       "    .dataframe thead th {\n",
       "        text-align: right;\n",
       "    }\n",
       "</style>\n",
       "<table border=\"1\" class=\"dataframe\">\n",
       "  <thead>\n",
       "    <tr style=\"text-align: right;\">\n",
       "      <th></th>\n",
       "      <th>date_time</th>\n",
       "      <th>wind_direction</th>\n",
       "      <th>sky_condition</th>\n",
       "      <th>precipitation_form</th>\n",
       "      <th>wind_speed</th>\n",
       "      <th>humidity</th>\n",
       "      <th>low_temp</th>\n",
       "      <th>high_temp</th>\n",
       "      <th>Precipitation_Probability</th>\n",
       "      <th>number_of_rentals</th>\n",
       "      <th>year</th>\n",
       "      <th>month</th>\n",
       "      <th>day</th>\n",
       "    </tr>\n",
       "  </thead>\n",
       "  <tbody>\n",
       "    <tr>\n",
       "      <th>0</th>\n",
       "      <td>2018-04-01</td>\n",
       "      <td>207.500</td>\n",
       "      <td>4.000</td>\n",
       "      <td>0.000</td>\n",
       "      <td>3.050</td>\n",
       "      <td>75.000</td>\n",
       "      <td>12.600</td>\n",
       "      <td>21.000</td>\n",
       "      <td>30.000</td>\n",
       "      <td>22994</td>\n",
       "      <td>2018</td>\n",
       "      <td>4</td>\n",
       "      <td>1</td>\n",
       "    </tr>\n",
       "    <tr>\n",
       "      <th>1</th>\n",
       "      <td>2018-04-02</td>\n",
       "      <td>208.317</td>\n",
       "      <td>2.950</td>\n",
       "      <td>0.000</td>\n",
       "      <td>3.278</td>\n",
       "      <td>69.833</td>\n",
       "      <td>12.812</td>\n",
       "      <td>19.000</td>\n",
       "      <td>19.500</td>\n",
       "      <td>28139</td>\n",
       "      <td>2018</td>\n",
       "      <td>4</td>\n",
       "      <td>2</td>\n",
       "    </tr>\n",
       "    <tr>\n",
       "      <th>2</th>\n",
       "      <td>2018-04-03</td>\n",
       "      <td>213.516</td>\n",
       "      <td>2.911</td>\n",
       "      <td>0.000</td>\n",
       "      <td>2.690</td>\n",
       "      <td>74.879</td>\n",
       "      <td>10.312</td>\n",
       "      <td>15.316</td>\n",
       "      <td>19.113</td>\n",
       "      <td>26817</td>\n",
       "      <td>2018</td>\n",
       "      <td>4</td>\n",
       "      <td>3</td>\n",
       "    </tr>\n",
       "    <tr>\n",
       "      <th>3</th>\n",
       "      <td>2018-04-04</td>\n",
       "      <td>143.836</td>\n",
       "      <td>3.692</td>\n",
       "      <td>0.425</td>\n",
       "      <td>3.138</td>\n",
       "      <td>71.849</td>\n",
       "      <td>8.312</td>\n",
       "      <td>12.368</td>\n",
       "      <td>43.493</td>\n",
       "      <td>26034</td>\n",
       "      <td>2018</td>\n",
       "      <td>4</td>\n",
       "      <td>4</td>\n",
       "    </tr>\n",
       "    <tr>\n",
       "      <th>4</th>\n",
       "      <td>2018-04-05</td>\n",
       "      <td>95.905</td>\n",
       "      <td>4.000</td>\n",
       "      <td>0.723</td>\n",
       "      <td>3.186</td>\n",
       "      <td>73.784</td>\n",
       "      <td>5.875</td>\n",
       "      <td>10.421</td>\n",
       "      <td>63.378</td>\n",
       "      <td>2833</td>\n",
       "      <td>2018</td>\n",
       "      <td>4</td>\n",
       "      <td>5</td>\n",
       "    </tr>\n",
       "  </tbody>\n",
       "</table>\n",
       "</div>"
      ],
      "text/plain": [
       "    date_time  wind_direction  sky_condition  precipitation_form  wind_speed  \\\n",
       "0  2018-04-01         207.500          4.000               0.000       3.050   \n",
       "1  2018-04-02         208.317          2.950               0.000       3.278   \n",
       "2  2018-04-03         213.516          2.911               0.000       2.690   \n",
       "3  2018-04-04         143.836          3.692               0.425       3.138   \n",
       "4  2018-04-05          95.905          4.000               0.723       3.186   \n",
       "\n",
       "   humidity  low_temp  high_temp  Precipitation_Probability  \\\n",
       "0    75.000    12.600     21.000                     30.000   \n",
       "1    69.833    12.812     19.000                     19.500   \n",
       "2    74.879    10.312     15.316                     19.113   \n",
       "3    71.849     8.312     12.368                     43.493   \n",
       "4    73.784     5.875     10.421                     63.378   \n",
       "\n",
       "   number_of_rentals  year  month  day  \n",
       "0              22994  2018      4    1  \n",
       "1              28139  2018      4    2  \n",
       "2              26817  2018      4    3  \n",
       "3              26034  2018      4    4  \n",
       "4               2833  2018      4    5  "
      ]
     },
     "execution_count": 20,
     "metadata": {},
     "output_type": "execute_result"
    }
   ],
   "source": [
    "train['month'] = train['___'].___(lambda x : int(x.split('-')[1]))    \n",
    "train['___'] = train['date_time'].apply(lambda x : int(x.split('-')[2]))    \n",
    "\n",
    "train.head()  "
   ]
  },
  {
   "cell_type": "code",
   "execution_count": null,
   "id": "33bdcd39-cb4d-4735-8d02-9c92e27dce1b",
   "metadata": {
    "id": "33bdcd39-cb4d-4735-8d02-9c92e27dce1b",
    "outputId": "dd90931d-f7cc-48a8-aa6a-1fdb0eb65715"
   },
   "outputs": [
    {
     "data": {
      "text/plain": [
       "True"
      ]
     },
     "execution_count": 55,
     "metadata": {},
     "output_type": "execute_result"
    }
   ],
   "source": [
    "#checkcode\n",
    "ensure_vals(globals(), 'train')\n",
    "@check_safety\n",
    "def check(user_answer = train):\n",
    "    c_point1 = sum(user_answer['month']) == sum(user_answer['date_time'].apply(lambda x : int(x.split('-')[1])))\n",
    "    c_point2 = sum(user_answer['day']) == sum(user_answer['date_time'].apply(lambda x : int(x.split('-')[2])))\n",
    "\n",
    "    if c_point1 and c_point2:\n",
    "        return True\n",
    "    else:\n",
    "        return False\n",
    "    \n",
    "check()"
   ]
  },
  {
   "attachments": {},
   "cell_type": "markdown",
   "id": "8e9a6bda-94bd-43b3-b034-26ba220628ba",
   "metadata": {
    "id": "8e9a6bda-94bd-43b3-b034-26ba220628ba"
   },
   "source": [
    "### Inst."
   ]
  },
  {
   "attachments": {},
   "cell_type": "markdown",
   "id": "fbaa8916-bbc2-4570-8dfb-e071270dc482",
   "metadata": {
    "id": "fbaa8916-bbc2-4570-8dfb-e071270dc482"
   },
   "source": [
    "### Hint.\n",
    "`apply()` 함수는 인자로 함수를 받으며, 일반적으로 람다(lambda) 함수를 사용합니다.\n",
    "\n"
   ]
  },
  {
   "attachments": {},
   "cell_type": "markdown",
   "id": "5e8f0fce-b0f9-48e9-86a0-29acb80ae8f5",
   "metadata": {
    "id": "5e8f0fce-b0f9-48e9-86a0-29acb80ae8f5"
   },
   "source": [
    "### Solution.\n",
    "```python\n",
    "train['month'] = train['date_time'].apply(lambda x : int(x.split('-')[1]))    \n",
    "train['day'] = train['date_time'].apply(lambda x : int(x.split('-')[2]))    \n",
    "\n",
    "train.head()    \n",
    "```"
   ]
  },
  {
   "attachments": {},
   "cell_type": "markdown",
   "id": "81b79448-f36b-478e-8755-4d2231169080",
   "metadata": {
    "id": "81b79448-f36b-478e-8755-4d2231169080"
   },
   "source": [
    "# 15. date_time 변수 제거  \n",
    " \n",
    "[문제 5]  \n",
    "year, month, day로 파생된 date_time 변수는 더 이상 필요하지 않으므로, 이를 제거해 봅시다.    \n",
    "`drop()` 메소드를 사용하여 열을 제거해 보세요."
   ]
  },
  {
   "cell_type": "code",
   "execution_count": null,
   "id": "f45d56ef-efe8-4c46-80f3-d61a23cb8ea4",
   "metadata": {
    "id": "f45d56ef-efe8-4c46-80f3-d61a23cb8ea4",
    "outputId": "1b8ab4fe-a66a-4696-98e8-e77b51179719"
   },
   "outputs": [
    {
     "data": {
      "text/html": [
       "<div>\n",
       "<style scoped>\n",
       "    .dataframe tbody tr th:only-of-type {\n",
       "        vertical-align: middle;\n",
       "    }\n",
       "\n",
       "    .dataframe tbody tr th {\n",
       "        vertical-align: top;\n",
       "    }\n",
       "\n",
       "    .dataframe thead th {\n",
       "        text-align: right;\n",
       "    }\n",
       "</style>\n",
       "<table border=\"1\" class=\"dataframe\">\n",
       "  <thead>\n",
       "    <tr style=\"text-align: right;\">\n",
       "      <th></th>\n",
       "      <th>wind_direction</th>\n",
       "      <th>sky_condition</th>\n",
       "      <th>precipitation_form</th>\n",
       "      <th>wind_speed</th>\n",
       "      <th>humidity</th>\n",
       "      <th>low_temp</th>\n",
       "      <th>high_temp</th>\n",
       "      <th>Precipitation_Probability</th>\n",
       "      <th>number_of_rentals</th>\n",
       "      <th>year</th>\n",
       "      <th>month</th>\n",
       "      <th>day</th>\n",
       "    </tr>\n",
       "  </thead>\n",
       "  <tbody>\n",
       "    <tr>\n",
       "      <th>0</th>\n",
       "      <td>207.500</td>\n",
       "      <td>4.000</td>\n",
       "      <td>0.000</td>\n",
       "      <td>3.050</td>\n",
       "      <td>75.000</td>\n",
       "      <td>12.600</td>\n",
       "      <td>21.000</td>\n",
       "      <td>30.000</td>\n",
       "      <td>22994</td>\n",
       "      <td>2018</td>\n",
       "      <td>4</td>\n",
       "      <td>1</td>\n",
       "    </tr>\n",
       "    <tr>\n",
       "      <th>1</th>\n",
       "      <td>208.317</td>\n",
       "      <td>2.950</td>\n",
       "      <td>0.000</td>\n",
       "      <td>3.278</td>\n",
       "      <td>69.833</td>\n",
       "      <td>12.812</td>\n",
       "      <td>19.000</td>\n",
       "      <td>19.500</td>\n",
       "      <td>28139</td>\n",
       "      <td>2018</td>\n",
       "      <td>4</td>\n",
       "      <td>2</td>\n",
       "    </tr>\n",
       "    <tr>\n",
       "      <th>2</th>\n",
       "      <td>213.516</td>\n",
       "      <td>2.911</td>\n",
       "      <td>0.000</td>\n",
       "      <td>2.690</td>\n",
       "      <td>74.879</td>\n",
       "      <td>10.312</td>\n",
       "      <td>15.316</td>\n",
       "      <td>19.113</td>\n",
       "      <td>26817</td>\n",
       "      <td>2018</td>\n",
       "      <td>4</td>\n",
       "      <td>3</td>\n",
       "    </tr>\n",
       "    <tr>\n",
       "      <th>3</th>\n",
       "      <td>143.836</td>\n",
       "      <td>3.692</td>\n",
       "      <td>0.425</td>\n",
       "      <td>3.138</td>\n",
       "      <td>71.849</td>\n",
       "      <td>8.312</td>\n",
       "      <td>12.368</td>\n",
       "      <td>43.493</td>\n",
       "      <td>26034</td>\n",
       "      <td>2018</td>\n",
       "      <td>4</td>\n",
       "      <td>4</td>\n",
       "    </tr>\n",
       "    <tr>\n",
       "      <th>4</th>\n",
       "      <td>95.905</td>\n",
       "      <td>4.000</td>\n",
       "      <td>0.723</td>\n",
       "      <td>3.186</td>\n",
       "      <td>73.784</td>\n",
       "      <td>5.875</td>\n",
       "      <td>10.421</td>\n",
       "      <td>63.378</td>\n",
       "      <td>2833</td>\n",
       "      <td>2018</td>\n",
       "      <td>4</td>\n",
       "      <td>5</td>\n",
       "    </tr>\n",
       "  </tbody>\n",
       "</table>\n",
       "</div>"
      ],
      "text/plain": [
       "   wind_direction  sky_condition  precipitation_form  wind_speed  humidity  \\\n",
       "0         207.500          4.000               0.000       3.050    75.000   \n",
       "1         208.317          2.950               0.000       3.278    69.833   \n",
       "2         213.516          2.911               0.000       2.690    74.879   \n",
       "3         143.836          3.692               0.425       3.138    71.849   \n",
       "4          95.905          4.000               0.723       3.186    73.784   \n",
       "\n",
       "   low_temp  high_temp  Precipitation_Probability  number_of_rentals  year  \\\n",
       "0    12.600     21.000                     30.000              22994  2018   \n",
       "1    12.812     19.000                     19.500              28139  2018   \n",
       "2    10.312     15.316                     19.113              26817  2018   \n",
       "3     8.312     12.368                     43.493              26034  2018   \n",
       "4     5.875     10.421                     63.378               2833  2018   \n",
       "\n",
       "   month  day  \n",
       "0      4    1  \n",
       "1      4    2  \n",
       "2      4    3  \n",
       "3      4    4  \n",
       "4      4    5  "
      ]
     },
     "execution_count": 22,
     "metadata": {},
     "output_type": "execute_result"
    }
   ],
   "source": [
    "train = train.___(['date_time'],axis = ___)\n",
    "train.head()"
   ]
  },
  {
   "cell_type": "code",
   "execution_count": null,
   "id": "f639494e-2038-4940-ad04-cf6981a22558",
   "metadata": {
    "id": "f639494e-2038-4940-ad04-cf6981a22558"
   },
   "outputs": [],
   "source": [
    "#checkcode\n",
    "ensure_vals(globals(), 'train')\n",
    "@check_safety\n",
    "def check(user_answer = train):\n",
    "    check_train = pd.read_csv('train.csv')\n",
    "    c_point1 = sum(user_answer['year']) == sum(check_train['date_time'].apply(\n",
    "        lambda x : int(x.split('-')[0]))\n",
    "    )\n",
    "    c_point2 = sum(user_answer['month']) == sum(check_train['date_time'].apply(\n",
    "        lambda x : int(x.split('-')[1]))\n",
    "    )\n",
    "    c_point3 = sum(user_answer['day']) == sum(check_train['date_time'].apply(\n",
    "        lambda x : int(x.split('-')[2]))\n",
    "    )\n",
    "    c_point4 = not hasattr(user_answer, 'date_time')\n",
    "\n",
    "    if (c_point1 and\n",
    "        c_point2 and \n",
    "        c_point3 and \n",
    "        c_point4\n",
    "    ):\n",
    "        return True\n",
    "    else:\n",
    "        return False\n",
    "    \n",
    "check()"
   ]
  },
  {
   "attachments": {},
   "cell_type": "markdown",
   "id": "28884f8f-1e3e-44cf-9246-6c374432701d",
   "metadata": {
    "id": "28884f8f-1e3e-44cf-9246-6c374432701d"
   },
   "source": [
    "### Inst.\n",
    "\n",
    "---\n",
    "\n",
    "#### 결과 해석\n",
    "'date_time' 열이 제거되고 나머지 열들만 남은 데이터프레임을 확인할 수 있습니다."
   ]
  },
  {
   "attachments": {},
   "cell_type": "markdown",
   "id": "368d8748-0674-4135-ac2b-af4b2b2b97cb",
   "metadata": {
    "id": "368d8748-0674-4135-ac2b-af4b2b2b97cb"
   },
   "source": [
    "### Hint.\n",
    "`drop()` 함수를 사용하면 데이터프레임에서 특정 칼럼(Column)이나 행(Row)을 삭제할 수 있습니다.  \n",
    "`axis=1` 인자를 통해 열 축(axis)을 지정해 주세요."
   ]
  },
  {
   "attachments": {},
   "cell_type": "markdown",
   "id": "8fabc17b-a4d5-42ab-9126-9a8caea69d17",
   "metadata": {
    "id": "8fabc17b-a4d5-42ab-9126-9a8caea69d17"
   },
   "source": [
    "### Solution.\n",
    "```python\n",
    "train = train.drop(['date_time'],axis = 1)\n",
    "train.head()\n",
    "```"
   ]
  },
  {
   "attachments": {},
   "cell_type": "markdown",
   "id": "8bf0e342-c6c6-4e90-ba6f-5de1ba60ac48",
   "metadata": {
    "id": "8bf0e342-c6c6-4e90-ba6f-5de1ba60ac48"
   },
   "source": [
    "# 16. test 데이터 전처리\n",
    "\n",
    "[문제 6]      \n",
    "test 데이터에도 항상 train에 적용한 전처리 과정을 동일하게 적용해야 합니다. \n",
    "\n",
    "1. date_time 컬럼의 각 값에서 '-'를 기준으로 분리하여 월 정보만 추출하고, 이를 'month' 컬럼에 저장해 주세요.  \n",
    "2. 이를 위해 `apply()` 함수와 람다(lambda) 함수를 사용해 주세요.   \n",
    "3. year, month, day로 파생된 date_time 변수는 더 이상 필요하지 않으므로, 이를 제거해 주세요.  \n",
    "4. `drop()` 메소드를 사용하여 열을 제거하고, `axis=1` 인자를 통해 열 축(axis)을 지정해 주세요.   \n"
   ]
  },
  {
   "cell_type": "code",
   "execution_count": null,
   "id": "799eebe3-0375-4cf3-bada-721b3ba320ec",
   "metadata": {
    "id": "799eebe3-0375-4cf3-bada-721b3ba320ec",
    "outputId": "785579a2-9d05-4c1f-ca6a-649719e16a07"
   },
   "outputs": [
    {
     "data": {
      "text/html": [
       "<div>\n",
       "<style scoped>\n",
       "    .dataframe tbody tr th:only-of-type {\n",
       "        vertical-align: middle;\n",
       "    }\n",
       "\n",
       "    .dataframe tbody tr th {\n",
       "        vertical-align: top;\n",
       "    }\n",
       "\n",
       "    .dataframe thead th {\n",
       "        text-align: right;\n",
       "    }\n",
       "</style>\n",
       "<table border=\"1\" class=\"dataframe\">\n",
       "  <thead>\n",
       "    <tr style=\"text-align: right;\">\n",
       "      <th></th>\n",
       "      <th>wind_direction</th>\n",
       "      <th>sky_condition</th>\n",
       "      <th>precipitation_form</th>\n",
       "      <th>wind_speed</th>\n",
       "      <th>humidity</th>\n",
       "      <th>low_temp</th>\n",
       "      <th>high_temp</th>\n",
       "      <th>Precipitation_Probability</th>\n",
       "      <th>year</th>\n",
       "      <th>month</th>\n",
       "      <th>day</th>\n",
       "    </tr>\n",
       "  </thead>\n",
       "  <tbody>\n",
       "    <tr>\n",
       "      <th>0</th>\n",
       "      <td>108.833</td>\n",
       "      <td>3.000</td>\n",
       "      <td>0.000</td>\n",
       "      <td>2.900</td>\n",
       "      <td>28.333</td>\n",
       "      <td>11.800</td>\n",
       "      <td>20.667</td>\n",
       "      <td>18.333</td>\n",
       "      <td>2021</td>\n",
       "      <td>4</td>\n",
       "      <td>1</td>\n",
       "    </tr>\n",
       "    <tr>\n",
       "      <th>1</th>\n",
       "      <td>116.717</td>\n",
       "      <td>3.850</td>\n",
       "      <td>0.000</td>\n",
       "      <td>2.662</td>\n",
       "      <td>46.417</td>\n",
       "      <td>12.000</td>\n",
       "      <td>19.000</td>\n",
       "      <td>28.500</td>\n",
       "      <td>2021</td>\n",
       "      <td>4</td>\n",
       "      <td>2</td>\n",
       "    </tr>\n",
       "    <tr>\n",
       "      <th>2</th>\n",
       "      <td>82.669</td>\n",
       "      <td>4.000</td>\n",
       "      <td>0.565</td>\n",
       "      <td>2.165</td>\n",
       "      <td>77.258</td>\n",
       "      <td>8.875</td>\n",
       "      <td>16.368</td>\n",
       "      <td>52.847</td>\n",
       "      <td>2021</td>\n",
       "      <td>4</td>\n",
       "      <td>3</td>\n",
       "    </tr>\n",
       "    <tr>\n",
       "      <th>3</th>\n",
       "      <td>44.123</td>\n",
       "      <td>3.466</td>\n",
       "      <td>0.466</td>\n",
       "      <td>3.747</td>\n",
       "      <td>63.288</td>\n",
       "      <td>6.250</td>\n",
       "      <td>17.368</td>\n",
       "      <td>37.671</td>\n",
       "      <td>2021</td>\n",
       "      <td>4</td>\n",
       "      <td>4</td>\n",
       "    </tr>\n",
       "    <tr>\n",
       "      <th>4</th>\n",
       "      <td>147.791</td>\n",
       "      <td>1.500</td>\n",
       "      <td>0.000</td>\n",
       "      <td>1.560</td>\n",
       "      <td>48.176</td>\n",
       "      <td>7.188</td>\n",
       "      <td>18.684</td>\n",
       "      <td>4.459</td>\n",
       "      <td>2021</td>\n",
       "      <td>4</td>\n",
       "      <td>5</td>\n",
       "    </tr>\n",
       "  </tbody>\n",
       "</table>\n",
       "</div>"
      ],
      "text/plain": [
       "   wind_direction  sky_condition  precipitation_form  wind_speed  humidity  \\\n",
       "0         108.833          3.000               0.000       2.900    28.333   \n",
       "1         116.717          3.850               0.000       2.662    46.417   \n",
       "2          82.669          4.000               0.565       2.165    77.258   \n",
       "3          44.123          3.466               0.466       3.747    63.288   \n",
       "4         147.791          1.500               0.000       1.560    48.176   \n",
       "\n",
       "   low_temp  high_temp  Precipitation_Probability  year  month  day  \n",
       "0    11.800     20.667                     18.333  2021      4    1  \n",
       "1    12.000     19.000                     28.500  2021      4    2  \n",
       "2     8.875     16.368                     52.847  2021      4    3  \n",
       "3     6.250     17.368                     37.671  2021      4    4  \n",
       "4     7.188     18.684                      4.459  2021      4    5  "
      ]
     },
     "execution_count": 23,
     "metadata": {},
     "output_type": "execute_result"
    }
   ],
   "source": [
    "test['year'] = test['date_time'].apply(lambda x : int(x.split('-')[0]))    \n",
    "test['month'] = ___['___'].___(lambda x : int(x.split('-')[___]))    \n",
    "test['day'] = test['date_time'].apply(lambda x : int(x.split('-')[2]))    \n",
    " \n",
    "test = test.___(['___'],axis = ___)    \n",
    "\n",
    "test.head()"
   ]
  },
  {
   "cell_type": "code",
   "execution_count": null,
   "id": "ea529bc3-1aca-4d51-ac71-2d5514e4890c",
   "metadata": {
    "id": "ea529bc3-1aca-4d51-ac71-2d5514e4890c",
    "outputId": "1a1368d3-e5a6-49a8-b4f1-f6e6dd894e7e"
   },
   "outputs": [
    {
     "data": {
      "text/plain": [
       "True"
      ]
     },
     "execution_count": 61,
     "metadata": {},
     "output_type": "execute_result"
    }
   ],
   "source": [
    "#checkcode\n",
    "ensure_vals(globals(), 'test')\n",
    "@check_safety\n",
    "def check(user_answer = test):\n",
    "    check_test = pd.read_csv('test.csv')\n",
    "    c_point1 = sum(user_answer['year']) == sum(check_test['date_time'].apply(\n",
    "        lambda x : int(x.split('-')[0]))\n",
    "    )\n",
    "    c_point2 = sum(user_answer['month']) == sum(check_test['date_time'].apply(\n",
    "        lambda x : int(x.split('-')[1]))\n",
    "    )\n",
    "    c_point3 = sum(user_answer['day']) == sum(check_test['date_time'].apply(\n",
    "        lambda x : int(x.split('-')[2]))\n",
    "    )\n",
    "    c_point4 = not hasattr(user_answer, 'date_time')\n",
    "\n",
    "    if (c_point1 and\n",
    "        c_point2 and \n",
    "        c_point3 and \n",
    "        c_point4\n",
    "    ):\n",
    "        return True\n",
    "    else:\n",
    "        return False\n",
    "    \n",
    "check()"
   ]
  },
  {
   "attachments": {},
   "cell_type": "markdown",
   "id": "b1ad0a12-ace9-4a45-83e1-d6dee76352b4",
   "metadata": {
    "id": "b1ad0a12-ace9-4a45-83e1-d6dee76352b4"
   },
   "source": [
    "### Inst."
   ]
  },
  {
   "attachments": {},
   "cell_type": "markdown",
   "id": "6c506230-20f0-4d77-bfa8-e0e44a82b29a",
   "metadata": {
    "id": "6c506230-20f0-4d77-bfa8-e0e44a82b29a"
   },
   "source": [
    "### Hint.\n",
    "\n",
    "apply lambda, split, drop, axis = 1\n"
   ]
  },
  {
   "attachments": {},
   "cell_type": "markdown",
   "id": "68475dc4-1b9b-45f0-9caa-523d9833b311",
   "metadata": {
    "id": "68475dc4-1b9b-45f0-9caa-523d9833b311"
   },
   "source": [
    "### Solution.\n",
    "\n",
    "```py\n",
    "test['year'] = test['date_time'].apply(lambda x : int(x.split('-')[0]))    \n",
    "test['month'] = test['date_time'].apply(lambda x : int(x.split('-')[1]))    \n",
    "test['day'] = test['date_time'].apply(lambda x : int(x.split('-')[2]))    \n",
    " \n",
    "test = test.drop(['date_time'],axis = 1)    \n",
    "\n",
    "test.head()\n",
    "\n"
   ]
  },
  {
   "attachments": {},
   "cell_type": "markdown",
   "id": "fb9671c5-369c-44eb-8f16-571fbf9153db",
   "metadata": {
    "id": "fb9671c5-369c-44eb-8f16-571fbf9153db"
   },
   "source": [
    "# 17. Feature Selection\n",
    "   \n",
    " \n",
    "**독립변수 X**와 **종속변수(타깃변수) y**를 설정해주겠습니다.\n"
   ]
  },
  {
   "cell_type": "code",
   "execution_count": null,
   "id": "2c51df59-b3ec-43cc-a00d-6f296a84c98b",
   "metadata": {
    "id": "2c51df59-b3ec-43cc-a00d-6f296a84c98b",
    "outputId": "121dc0e1-7e36-43d2-d5f5-358b73e22418"
   },
   "outputs": [
    {
     "data": {
      "text/plain": [
       "0    22994\n",
       "1    28139\n",
       "2    26817\n",
       "3    26034\n",
       "4     2833\n",
       "Name: number_of_rentals, dtype: int64"
      ]
     },
     "execution_count": 28,
     "metadata": {},
     "output_type": "execute_result"
    }
   ],
   "source": [
    "y = train['number_of_rentals']\n",
    "\n",
    "X = train[['wind_direction', 'sky_condition', 'precipitation_form', 'wind_speed',\n",
    "       'humidity', 'low_temp', 'high_temp', 'Precipitation_Probability', 'year', 'month', 'day']]"
   ]
  },
  {
   "cell_type": "code",
   "execution_count": null,
   "id": "Jojj3kmaimYD",
   "metadata": {
    "id": "Jojj3kmaimYD"
   },
   "outputs": [],
   "source": [
    "#checkcode\n",
    "#empty"
   ]
  },
  {
   "attachments": {},
   "cell_type": "markdown",
   "id": "597a1f77-830a-4fe8-9922-299208979a7a",
   "metadata": {
    "id": "597a1f77-830a-4fe8-9922-299208979a7a"
   },
   "source": [
    "### Inst."
   ]
  },
  {
   "attachments": {},
   "cell_type": "markdown",
   "id": "048baec8-a9fe-43e4-896d-9afb5e009d35",
   "metadata": {
    "id": "048baec8-a9fe-43e4-896d-9afb5e009d35"
   },
   "source": [
    "### Hint.\n",
    "empty"
   ]
  },
  {
   "attachments": {},
   "cell_type": "markdown",
   "id": "91c777bc-c65b-4013-bb51-cc34a05f1f16",
   "metadata": {
    "id": "91c777bc-c65b-4013-bb51-cc34a05f1f16"
   },
   "source": [
    "### Solution.\n",
    "empty"
   ]
  },
  {
   "attachments": {},
   "cell_type": "markdown",
   "id": "a1ff2c5c-9b3d-44a5-ac7d-6a62dd50b6ea",
   "metadata": {
    "id": "a1ff2c5c-9b3d-44a5-ac7d-6a62dd50b6ea"
   },
   "source": [
    "# 18. LinearRegression 모델 정의\n",
    "\n",
    "[문제 7]  \n",
    "선형회귀 모델을 정의하고, 그 결과를 model 변수에 할당해 주세요.    \n",
    "아래 빈칸을 채워주세요."
   ]
  },
  {
   "cell_type": "code",
   "execution_count": null,
   "id": "93210ee0-ee65-44dd-b4b6-6a573ee9e461",
   "metadata": {
    "id": "93210ee0-ee65-44dd-b4b6-6a573ee9e461"
   },
   "outputs": [],
   "source": [
    "from sklearn.linear_model import LinearRegression\n",
    "\n",
    "___ = ___()"
   ]
  },
  {
   "cell_type": "code",
   "execution_count": null,
   "id": "hPqYC5Zsi45E",
   "metadata": {
    "id": "hPqYC5Zsi45E"
   },
   "outputs": [],
   "source": [
    "#checkcode\n",
    "ensure_vals(globals(),'column_names','X','y')\n",
    "@check_safety\n",
    "def check(user_model = 'LinearRegression()'):\n",
    "\n",
    "    c_point0 = (str(model)== user_model)\n",
    "\n",
    "    if c_point0:\n",
    "        return True\n",
    "    else:\n",
    "        return False\n",
    "check()"
   ]
  },
  {
   "attachments": {},
   "cell_type": "markdown",
   "id": "4c7fd161-19b2-47d9-a4ff-1bbe0ba7102c",
   "metadata": {
    "id": "4c7fd161-19b2-47d9-a4ff-1bbe0ba7102c"
   },
   "source": [
    "### Inst.\n"
   ]
  },
  {
   "attachments": {},
   "cell_type": "markdown",
   "id": "878b2435-2b64-4dd3-89e4-864388815265",
   "metadata": {
    "id": "878b2435-2b64-4dd3-89e4-864388815265"
   },
   "source": [
    "### Hint.\n",
    "LinearRegression 모델은 선형 회귀(Linear Regression)를 수행하는 머신러닝 모델입니다."
   ]
  },
  {
   "attachments": {},
   "cell_type": "markdown",
   "id": "6065b686",
   "metadata": {},
   "source": [
    "### Solution.\n",
    "```python\n",
    "from sklearn.linear_model import LinearRegression\n",
    "\n",
    "model = LinearRegression()\n",
    "```\n"
   ]
  },
  {
   "attachments": {},
   "cell_type": "markdown",
   "id": "500ccfa3-05be-454c-8d1c-9516cfa8b947",
   "metadata": {
    "id": "500ccfa3-05be-454c-8d1c-9516cfa8b947"
   },
   "source": [
    "# 19. LinearRegression 모델 학습\n",
    "[문제 8]  \n",
    "model 객체를 사용하여 입력 데이터와 타겟 변수를 학습시켜보세요.  \n",
    "아래 빈칸을 채워주세요."
   ]
  },
  {
   "cell_type": "code",
   "execution_count": null,
   "id": "49d1c669-4af1-4351-aa32-1ddfb575e80e",
   "metadata": {
    "id": "49d1c669-4af1-4351-aa32-1ddfb575e80e"
   },
   "outputs": [],
   "source": [
    "model.___(___,___)"
   ]
  },
  {
   "cell_type": "code",
   "execution_count": null,
   "id": "fd236318-e152-472d-a237-a0bc3cde6639",
   "metadata": {
    "id": "fd236318-e152-472d-a237-a0bc3cde6639",
    "outputId": "9ba19293-ad33-4cab-e8ef-9c5fb9ab20d0"
   },
   "outputs": [
    {
     "data": {
      "text/plain": [
       "True"
      ]
     },
     "execution_count": 62,
     "metadata": {},
     "output_type": "execute_result"
    }
   ],
   "source": [
    "#checkcode\n",
    "ensure_vals(globals(),'model','X','y')\n",
    "@check_safety\n",
    "def check(user_answer = _, user_model = 'LinearRegression()'):\n",
    "\n",
    "    c_point0 = (str(user_answer) == user_model)\n",
    "\n",
    "    if c_point0:\n",
    "        return True\n",
    "    else:\n",
    "        return False\n",
    "check()"
   ]
  },
  {
   "attachments": {},
   "cell_type": "markdown",
   "id": "06cc57ee-a0c6-4ab6-bca0-7bada1c9143b",
   "metadata": {
    "id": "06cc57ee-a0c6-4ab6-bca0-7bada1c9143b"
   },
   "source": [
    "### Inst.\n"
   ]
  },
  {
   "attachments": {},
   "cell_type": "markdown",
   "id": "39d6973d-c07f-481b-bb77-04ebe72ed13f",
   "metadata": {
    "id": "39d6973d-c07f-481b-bb77-04ebe72ed13f"
   },
   "source": [
    "### Hint.\n",
    "model 객체의 `fit()` 메소드와,  \n",
    "입력 데이터 X와 타겟 변수 y를 활용하여 모델을 학습시켜봅시다.\n"
   ]
  },
  {
   "attachments": {},
   "cell_type": "markdown",
   "id": "1511aa9f-bc5d-46d7-b608-c4c017d08d50",
   "metadata": {
    "id": "1511aa9f-bc5d-46d7-b608-c4c017d08d50"
   },
   "source": [
    "### Solution.\n",
    "```python\n",
    "model.fit(X, y)\n",
    "```\n"
   ]
  },
  {
   "attachments": {},
   "cell_type": "markdown",
   "id": "06c901e6-0369-464a-82bc-fef5a01e0dbf",
   "metadata": {
    "id": "06c901e6-0369-464a-82bc-fef5a01e0dbf"
   },
   "source": [
    "# 20. LinearRegression 모델 예측\n",
    "[문제 9]  \n",
    "model 객체를 사용하여 test 데이터셋을 예측해 보세요.  \n",
    "아래 빈칸을 채워주세요."
   ]
  },
  {
   "cell_type": "code",
   "execution_count": null,
   "id": "465d9443-635d-4e58-91e0-cf32b5a327f7",
   "metadata": {
    "id": "465d9443-635d-4e58-91e0-cf32b5a327f7",
    "outputId": "cc6a4c3d-c99c-4a62-c57f-b73a71942459"
   },
   "outputs": [
    {
     "name": "stdout",
     "output_type": "stream",
     "text": [
      "----------------------예측된 데이터의 상위 10개의 값 확인--------------------\n",
      "\n",
      "[ 95753.39158274  93038.72467583  72440.29398847  73765.53858463\n",
      " 104582.08036839 104619.85357679 106392.87120534 103351.66569974\n",
      " 107326.44898936 104731.57159772]\n"
     ]
    }
   ],
   "source": [
    "predict = model.___(___)      \n",
    "print(predict[:10])"
   ]
  },
  {
   "cell_type": "code",
   "execution_count": null,
   "id": "102377ba-724e-4926-a3e9-92938b38c843",
   "metadata": {
    "id": "102377ba-724e-4926-a3e9-92938b38c843",
    "outputId": "7bc28032-a503-4e7d-c6d7-b51c6e3f276d"
   },
   "outputs": [
    {
     "data": {
      "text/plain": [
       "True"
      ]
     },
     "execution_count": 63,
     "metadata": {},
     "output_type": "execute_result"
    }
   ],
   "source": [
    "#checkcode\n",
    "ensure_vals(globals(), 'test', 'predict')\n",
    "@check_safety\n",
    "def check(\n",
    "    user_answer_test = test, \n",
    "    user_answer_predict = predict\n",
    "):\n",
    "    c_point1 = len(user_answer_test) == len(user_answer_predict)\n",
    "    \n",
    "    if c_point1:\n",
    "        return True\n",
    "    else:\n",
    "        return False\n",
    "    \n",
    "check()"
   ]
  },
  {
   "attachments": {},
   "cell_type": "markdown",
   "id": "5245f978-495a-41bf-9db5-fd219caa0dd7",
   "metadata": {
    "id": "5245f978-495a-41bf-9db5-fd219caa0dd7"
   },
   "source": [
    "### Inst.\n",
    "   "
   ]
  },
  {
   "attachments": {},
   "cell_type": "markdown",
   "id": "224959d5-5094-4ef6-907e-7a7651361108",
   "metadata": {
    "id": "224959d5-5094-4ef6-907e-7a7651361108"
   },
   "source": [
    "### Hint.\n",
    "model 객체의 `predict()` 메소드를 사용하여 test 데이터셋을 예측해 봅시다.\n"
   ]
  },
  {
   "attachments": {},
   "cell_type": "markdown",
   "id": "23ebeaf5-ec18-4f88-a913-70cae79ab230",
   "metadata": {
    "id": "23ebeaf5-ec18-4f88-a913-70cae79ab230"
   },
   "source": [
    "### Solution.\n",
    "\n",
    "```python\n",
    "predict = model.predict(test)      \n",
    "print(predict[:10])\n",
    "```"
   ]
  },
  {
   "attachments": {},
   "cell_type": "markdown",
   "id": "0033b68f-866f-47ef-9c84-aafd86ea48da",
   "metadata": {
    "id": "0033b68f-866f-47ef-9c84-aafd86ea48da"
   },
   "source": [
    "# 21. 예측된 따릉이 대여량을 submission 파일에 추가하기\n",
    "\n",
    "[문제 10]  \n",
    "빈칸을 채우고 submission 데이터프레임(DataFrame)의 number_of_rentals 열에 모델이 예측한 값을 할당해주세요.  "
   ]
  },
  {
   "cell_type": "code",
   "execution_count": null,
   "id": "9b9b08ee-234f-44c4-8f49-765b7c6f1e62",
   "metadata": {
    "id": "9b9b08ee-234f-44c4-8f49-765b7c6f1e62",
    "outputId": "8b0b8b11-563f-4237-ea99-b109a838d843"
   },
   "outputs": [
    {
     "data": {
      "text/html": [
       "<div>\n",
       "<style scoped>\n",
       "    .dataframe tbody tr th:only-of-type {\n",
       "        vertical-align: middle;\n",
       "    }\n",
       "\n",
       "    .dataframe tbody tr th {\n",
       "        vertical-align: top;\n",
       "    }\n",
       "\n",
       "    .dataframe thead th {\n",
       "        text-align: right;\n",
       "    }\n",
       "</style>\n",
       "<table border=\"1\" class=\"dataframe\">\n",
       "  <thead>\n",
       "    <tr style=\"text-align: right;\">\n",
       "      <th></th>\n",
       "      <th>date_time</th>\n",
       "      <th>number_of_rentals</th>\n",
       "    </tr>\n",
       "  </thead>\n",
       "  <tbody>\n",
       "    <tr>\n",
       "      <th>0</th>\n",
       "      <td>2021-04-01</td>\n",
       "      <td>95753.391583</td>\n",
       "    </tr>\n",
       "    <tr>\n",
       "      <th>1</th>\n",
       "      <td>2021-04-02</td>\n",
       "      <td>93038.724676</td>\n",
       "    </tr>\n",
       "    <tr>\n",
       "      <th>2</th>\n",
       "      <td>2021-04-03</td>\n",
       "      <td>72440.293988</td>\n",
       "    </tr>\n",
       "    <tr>\n",
       "      <th>3</th>\n",
       "      <td>2021-04-04</td>\n",
       "      <td>73765.538585</td>\n",
       "    </tr>\n",
       "    <tr>\n",
       "      <th>4</th>\n",
       "      <td>2021-04-05</td>\n",
       "      <td>104582.080368</td>\n",
       "    </tr>\n",
       "  </tbody>\n",
       "</table>\n",
       "</div>"
      ],
      "text/plain": [
       "    date_time  number_of_rentals\n",
       "0  2021-04-01       95753.391583\n",
       "1  2021-04-02       93038.724676\n",
       "2  2021-04-03       72440.293988\n",
       "3  2021-04-04       73765.538585\n",
       "4  2021-04-05      104582.080368"
      ]
     },
     "execution_count": 32,
     "metadata": {},
     "output_type": "execute_result"
    }
   ],
   "source": [
    "___['___'] = ___\n",
    "submission.head()"
   ]
  },
  {
   "cell_type": "code",
   "execution_count": null,
   "id": "c142c0ed-4f95-433d-90f0-06d8a8ae5bc8",
   "metadata": {
    "id": "c142c0ed-4f95-433d-90f0-06d8a8ae5bc8",
    "outputId": "df8cead9-ba67-483c-9945-e627ac991134"
   },
   "outputs": [
    {
     "data": {
      "text/plain": [
       "True"
      ]
     },
     "execution_count": 54,
     "metadata": {},
     "output_type": "execute_result"
    }
   ],
   "source": [
    "#checkcode\n",
    "ensure_vals(globals(), 'submission', 'predict')\n",
    "@check_safety\n",
    "def check(\n",
    "    user_answer_submission = submission, \n",
    "    user_answer_prediction = predict\n",
    "):\n",
    "    c_point1 = (user_answer_submission['number_of_rentals'] == user_answer_prediction).all()\n",
    "    \n",
    "    if c_point1:\n",
    "        return True\n",
    "    else:\n",
    "        return False\n",
    "    \n",
    "check()"
   ]
  },
  {
   "attachments": {},
   "cell_type": "markdown",
   "id": "bbe08a85-6755-4cd9-8beb-7cb5a3ac6161",
   "metadata": {
    "id": "bbe08a85-6755-4cd9-8beb-7cb5a3ac6161"
   },
   "source": [
    "### Inst."
   ]
  },
  {
   "attachments": {},
   "cell_type": "markdown",
   "id": "48ee9083-3dd5-4c82-9652-2187d4e19f1d",
   "metadata": {
    "id": "48ee9083-3dd5-4c82-9652-2187d4e19f1d"
   },
   "source": [
    "### Hint.\n",
    "예측값 predict을 submission 데이터프레임(DataFrame)의 number_of_rentals 열(column)에 할당해 주세요.  \n"
   ]
  },
  {
   "attachments": {},
   "cell_type": "markdown",
   "id": "655e2e65-9f42-40d2-9293-6b84da89aeb6",
   "metadata": {
    "id": "655e2e65-9f42-40d2-9293-6b84da89aeb6",
    "tags": []
   },
   "source": [
    "### Solution.\n",
    "```py\n",
    "submission['number_of_rentals'] = predict    \n",
    "submission.head()\n"
   ]
  },
  {
   "attachments": {},
   "cell_type": "markdown",
   "id": "a675b8cf",
   "metadata": {},
   "source": [
    "# 22. 데이터프레임(DataFrame)을 CSV 파일로 저장하기"
   ]
  },
  {
   "cell_type": "code",
   "execution_count": null,
   "id": "35fe8b29",
   "metadata": {},
   "outputs": [],
   "source": [
    "submission.to_csv('submission.csv', index=False)"
   ]
  },
  {
   "cell_type": "code",
   "execution_count": null,
   "id": "26dc64ee",
   "metadata": {},
   "outputs": [],
   "source": [
    "#checkcode\n",
    "#empty"
   ]
  },
  {
   "attachments": {},
   "cell_type": "markdown",
   "id": "7d75b92e",
   "metadata": {},
   "source": [
    "### Inst.\n",
    "> 예시: submission.to_csv('저장할 csv 파일명', index=False)"
   ]
  },
  {
   "attachments": {},
   "cell_type": "markdown",
   "id": "79e5eeda",
   "metadata": {},
   "source": [
    "### Hint.\n",
    "empty"
   ]
  },
  {
   "attachments": {},
   "cell_type": "markdown",
   "id": "93a2cbb1",
   "metadata": {},
   "source": [
    "### Solution.\n",
    "empty"
   ]
  }
 ],
 "metadata": {
  "colab": {
   "collapsed_sections": [
    "1fc10338-d911-43f1-82b8-4b5556ff572d",
    "7afd3d50-652c-4133-a855-ae26420d1d64",
    "74fb2b7c-393c-4117-b678-5c128393bc37",
    "a785bd68-f077-4125-9255-ffdc371a3b9c",
    "9d07ff8f-c974-4a42-be1d-0ab40a1f5d81",
    "28e47dfe-b0b6-428f-838d-04a94915f450",
    "2d0f050d-e7e9-49d4-9785-f9ab52b1bdfe",
    "cf9b33d0-93e3-4fad-b42c-f84df25b6f94",
    "fa181620-77c3-4990-b628-63386ece04eb",
    "15d35a4e-d6c3-48f0-86c8-7af1d409cf55",
    "5fb4a120-d0bc-4d91-ad0d-787bac23f0fc",
    "5d10b98d-cb0b-48b2-8f96-c3f6b2cf87ef",
    "4062dde8-4233-4e53-9b36-b7d8a48fab03",
    "172bfb03-1e9c-4e67-a526-d9450cb5b1f9",
    "5d5a85e3-ec95-4a20-b6dd-16c135b85c35",
    "cf60d9fe-480d-45ef-bc8e-e51ab4871660",
    "1b6b85e1-d0e1-40c8-b186-b0610a0723b4",
    "0fd6f5cf-ab21-4dd9-821f-ce47e658dd82",
    "66a623f0-0911-49ed-8d79-6fc2f587a9ea",
    "329cf009-8710-4243-b43e-3e117256379b",
    "05a2ab8b-2100-4b2f-bccf-b6c1f3842a01",
    "2ba8b561-b24d-4d23-a5d6-b76fcd62cdcd",
    "7dec45ac-4803-4138-b001-54279a3bde88",
    "a2ae7537-36e5-4212-837c-ebab78470116",
    "0a0e2775-2aa4-49ba-bc79-dc93406296f6",
    "830843ab-31c1-4bc5-82fe-7d1ad0a33458",
    "7f2178bc-5502-4968-a261-2ae957c31690",
    "b92f48e6-14c8-4c01-8d82-bf26bb13bd06",
    "e87ffe7a-2303-412a-8833-853ce8a772de",
    "8bd9dc5c-85f6-4c92-90ef-4136094d33b2",
    "8e9a6bda-94bd-43b3-b034-26ba220628ba",
    "fbaa8916-bbc2-4570-8dfb-e071270dc482",
    "5e8f0fce-b0f9-48e9-86a0-29acb80ae8f5",
    "28884f8f-1e3e-44cf-9246-6c374432701d",
    "368d8748-0674-4135-ac2b-af4b2b2b97cb",
    "8fabc17b-a4d5-42ab-9126-9a8caea69d17",
    "b1ad0a12-ace9-4a45-83e1-d6dee76352b4",
    "6c506230-20f0-4d77-bfa8-e0e44a82b29a",
    "68475dc4-1b9b-45f0-9caa-523d9833b311",
    "597a1f77-830a-4fe8-9922-299208979a7a",
    "048baec8-a9fe-43e4-896d-9afb5e009d35",
    "91c777bc-c65b-4013-bb51-cc34a05f1f16",
    "4c7fd161-19b2-47d9-a4ff-1bbe0ba7102c",
    "878b2435-2b64-4dd3-89e4-864388815265",
    "929a94dc-865f-42e2-8a5d-0bec1ef1ff78",
    "06cc57ee-a0c6-4ab6-bca0-7bada1c9143b",
    "39d6973d-c07f-481b-bb77-04ebe72ed13f",
    "1511aa9f-bc5d-46d7-b608-c4c017d08d50",
    "5245f978-495a-41bf-9db5-fd219caa0dd7",
    "224959d5-5094-4ef6-907e-7a7651361108",
    "23ebeaf5-ec18-4f88-a913-70cae79ab230",
    "bbe08a85-6755-4cd9-8beb-7cb5a3ac6161",
    "48ee9083-3dd5-4c82-9652-2187d4e19f1d",
    "b24ae51f-4fec-45d0-b3dd-b2742b45f273",
    "ccc32116-7f25-446c-908e-81b2f6795d80"
   ],
   "provenance": []
  },
  "kernelspec": {
   "display_name": "taerang",
   "language": "python",
   "name": "taerang"
  },
  "language_info": {
   "codemirror_mode": {
    "name": "ipython",
    "version": 3
   },
   "file_extension": ".py",
   "mimetype": "text/x-python",
   "name": "python",
   "nbconvert_exporter": "python",
   "pygments_lexer": "ipython3",
   "version": "3.9.7"
  }
 },
 "nbformat": 4,
 "nbformat_minor": 5
}
