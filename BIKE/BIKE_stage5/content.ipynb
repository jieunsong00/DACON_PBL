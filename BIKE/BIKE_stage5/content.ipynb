{
 "cells": [
  {
   "cell_type": "code",
   "execution_count": null,
   "id": "51e39363",
   "metadata": {},
   "outputs": [],
   "source": [
    "#hiddencell\n",
    "%pip install seaborn\n",
    "\n",
    "import pandas as pd \n",
    "from pbl_tools import *\n",
    "import matplotlib.pyplot as plt\n",
    "import matplotlib.font_manager as fm\n",
    "\n",
    "import warnings\n",
    "warnings.simplefilter(action='ignore', category=FutureWarning)\n",
    "\n",
    "fe = fm.FontEntry(fname = 'NotoSansKR-Regular.otf', name = 'NotoSansKR')\n",
    "fm.fontManager.ttflist.insert(0, fe)\n",
    "plt.rc('font', family='NotoSansKR')\n"
   ]
  },
  {
   "attachments": {},
   "cell_type": "markdown",
   "id": "29b3ab85",
   "metadata": {
    "id": "29b3ab85"
   },
   "source": [
    "# 스테이지 5"
   ]
  },
  {
   "attachments": {},
   "cell_type": "markdown",
   "id": "7da178e1",
   "metadata": {},
   "source": [
    "# 1. pandas를 이용해 csv 파일 읽어오기\n",
    "[문제 1]    \n",
    "Pandas 라이브러리(library)를 가져와보세요.   \n",
    "그리고 train.csv, test.csv, sample_submission.csv 파일을 각각 train, test, submission 변수로 읽어오세요.     \n",
    "아래 빈칸을 채워주세요."
   ]
  },
  {
   "cell_type": "code",
   "execution_count": 45,
   "id": "8faf637f-e40c-4f02-98b9-6bca2f217c89",
   "metadata": {
    "id": "8faf637f-e40c-4f02-98b9-6bca2f217c89"
   },
   "outputs": [],
   "source": [
    "import ___ as ___\n",
    "\n",
    "train = pd.___('train.csv')\n",
    "test = pd.___('test.csv')\n",
    "submission = pd.___('sample_submission.csv')"
   ]
  },
  {
   "cell_type": "code",
   "execution_count": 46,
   "id": "72189157-7c8f-4b56-8507-4aeb6b32ce82",
   "metadata": {
    "id": "72189157-7c8f-4b56-8507-4aeb6b32ce82",
    "outputId": "12b95ccb-b046-41f5-bbdd-c31b6040d30f"
   },
   "outputs": [
    {
     "data": {
      "text/plain": [
       "True"
      ]
     },
     "execution_count": 46,
     "metadata": {},
     "output_type": "execute_result"
    }
   ],
   "source": [
    "#checkcode\n",
    "ensure_vals(globals(), 'train', 'test', 'submission')\n",
    "@check_safety\n",
    "def check(\n",
    "    user_answer_train = train, \n",
    "    user_answer_test = test, \n",
    "    user_answer_submission = submission\n",
    "):\n",
    "    c_point1 = hasattr(user_answer_train, 'head')\n",
    "    c_point2 = hasattr(user_answer_test, 'head')\n",
    "    c_point3 = hasattr(user_answer_submission, 'head')\n",
    "    \n",
    "    if (c_point1 and \n",
    "        c_point2 and \n",
    "        c_point3\n",
    "    ):\n",
    "        return True\n",
    "    else:\n",
    "        return False\n",
    "    \n",
    "check()"
   ]
  },
  {
   "attachments": {},
   "cell_type": "markdown",
   "id": "e2482ac6",
   "metadata": {},
   "source": [
    "### Inst.  "
   ]
  },
  {
   "attachments": {},
   "cell_type": "markdown",
   "id": "a198810b",
   "metadata": {},
   "source": [
    "### Hint.\n",
    "`pd.read_csv('파일경로/파일명')` 를 활용해 보세요."
   ]
  },
  {
   "attachments": {},
   "cell_type": "markdown",
   "id": "6559adc4-bb0c-4183-96c3-5226aa982982",
   "metadata": {
    "id": "6559adc4-bb0c-4183-96c3-5226aa982982"
   },
   "source": [
    "### Solution.\n",
    "```python\n",
    "import pandas as pd\n",
    "\n",
    "train = pd.read_csv('train.csv')\n",
    "test = pd.read_csv('test.csv')\n",
    "submission = pd.read_csv('sample_submission.csv')\n",
    "```"
   ]
  },
  {
   "attachments": {},
   "cell_type": "markdown",
   "id": "f80c5b69",
   "metadata": {},
   "source": [
    "# 2. 데이터프레임 정보 확인하기\n",
    "\n",
    "이번 스테이지에서는 **지난 학습에서 탐색적 자료 분석(EDA)을 통해 얻은 인사이트를 바탕으로** 전처리한 변수,     \n",
    "`연`, `월`, `일` 이 담겨 있는 데이터 셋을 불러왔습니다."
   ]
  },
  {
   "cell_type": "code",
   "execution_count": null,
   "id": "03a7dd44",
   "metadata": {},
   "outputs": [],
   "source": [
    "train.info()"
   ]
  },
  {
   "cell_type": "code",
   "execution_count": null,
   "id": "e8c208fd",
   "metadata": {},
   "outputs": [],
   "source": [
    "#checkcode\n",
    "#empty"
   ]
  },
  {
   "attachments": {},
   "cell_type": "markdown",
   "id": "24d6bd07",
   "metadata": {},
   "source": [
    "### Inst.\n",
    "\n",
    "---\n",
    "\n",
    "#### 결과 해석\n",
    "\n",
    "`info()` 함수를 이용해 데이터 결측치 및 변수들의 타입을 확인해 본 결과,  \n",
    "train 데이터는 총 13개의 열과 273개의 행으로 이루어져 있습니다.\n",
    "\n",
    "우선 13개의 열을 하나씩 살펴보겠습니다.\n",
    "\n",
    "1. date_time: 일별 날짜를 의미합니다.\n",
    "2. wind_direction: 풍향(degree)을 의미합니다.\n",
    "3. sky_condition: 하늘 상태를 의미합니다.\n",
    "4. precipitation_form: 강수 형태를 의미합니다.\n",
    "5. wind_speed: 풍속(m/s)을 의미합니다.\n",
    "6. humidity: 습도(%)를 의미합니다.\n",
    "7. low_temp: 최저 기온(`C)을 의미합니다.\n",
    "8. high_temp: 최고 기온(`C)을 의미합니다.\n",
    "9. Precipitation_Probability: 강수 확률(%)을 의미합니다.\n",
    "10. number_of_rentals: 따릉이 대여량을 의미하며, 우리가 구하고자 하는 값입니다.\n",
    "11. year: 연도를 의미합니다.\n",
    "12. month: 월을 의미합니다.\n",
    "13. day: 일을 의미합니다.\n",
    "\n",
    "지난 스테이지의 10개 변수에 파생변수 `연`, `월`, `일` 이 포함되어 총 13개로 늘어난 것을 알 수 있습니다.  \n",
    "\n",
    "그리고 Non-Null Count를 살펴보면 모든 변수에서 결측치(누락된 데이터)는 존재하지 않는 것을 알 수 있습니다.    \n",
    "만약 결측치가 존재한다면, 보다 정확한 모델을 설계하기 위해 적절하게 처리해 주어야 합니다.   \n",
    "\n",
    "또한 이 변수들은 다음과 같은 3개의 카테고리로 나눠서 생각할 수 있습니다.\n",
    "\n",
    ">- 날짜: 연, 월, 일\n",
    ">- 기상 정보: 풍향, 하늘 상태, 강수 형태, 풍속, 습도, 최저 기온, 최고 기온, 강수 확률\n",
    ">- 예측하고자 하는 대상: 따릉이 대여량"
   ]
  },
  {
   "attachments": {},
   "cell_type": "markdown",
   "id": "18e8f3d2",
   "metadata": {},
   "source": [
    "### Hint.\n",
    "empty"
   ]
  },
  {
   "attachments": {},
   "cell_type": "markdown",
   "id": "0efc05ec",
   "metadata": {},
   "source": [
    "### Solution.\n",
    "empty"
   ]
  },
  {
   "attachments": {},
   "cell_type": "markdown",
   "id": "a09ed5cc-7ce7-45a0-999d-476320ac3ec8",
   "metadata": {
    "id": "a09ed5cc-7ce7-45a0-999d-476320ac3ec8"
   },
   "source": [
    "# 3. 요일 정보 추가\n",
    "[문제 2]   \n",
    "이번 스테이지에서는 연, 월, 일 뿐만 아니라 요일 변수까지 추가해 보도록 하겠습니다.\n",
    "\n",
    "pandas의 `to_datetime()` 메소드를 이용하여 요일을 나타내는 열(column)을 만들어 봅시다."
   ]
  },
  {
   "cell_type": "code",
   "execution_count": null,
   "id": "0970fe13-621d-4fa6-a704-bbdc80491a50",
   "metadata": {
    "id": "0970fe13-621d-4fa6-a704-bbdc80491a50"
   },
   "outputs": [],
   "source": [
    "week_day = pd.___(train['date_time']).dt.day_name()   \n",
    "train['week_day'] = week_day"
   ]
  },
  {
   "cell_type": "code",
   "execution_count": 43,
   "id": "421a0667-31fb-48fc-b661-61abfba3d538",
   "metadata": {
    "id": "421a0667-31fb-48fc-b661-61abfba3d538",
    "outputId": "22d4a906-7716-4211-e2b4-d59297a7634f"
   },
   "outputs": [
    {
     "data": {
      "text/plain": [
       "False"
      ]
     },
     "execution_count": 43,
     "metadata": {},
     "output_type": "execute_result"
    }
   ],
   "source": [
    "#checkcode\n",
    "ensure_vals(globals(), 'train')\n",
    "@check_safety\n",
    "def check(user_answer_train = train):\n",
    "    check_week_day = pd.to_datetime(user_answer_train['date_time']).dt.day_name()\n",
    "    \n",
    "    c_point1 = (user_answer_train['week_day'] == check_week_day).all()\n",
    "    \n",
    "    if c_point1:\n",
    "        return True\n",
    "    else:\n",
    "        return False\n",
    "    \n",
    "check()"
   ]
  },
  {
   "attachments": {},
   "cell_type": "markdown",
   "id": "227b5fe4-6058-4361-9a45-1c8676b2eb88",
   "metadata": {
    "id": "227b5fe4-6058-4361-9a45-1c8676b2eb88"
   },
   "source": [
    "### Inst.\n",
    "\n",
    "`pd.to_datetime()` 함수에 변환하고자 하는 날짜 데이터를 전달하여 날짜 형식으로 변환합니다.   \n",
    "그 후, `.dt.day_name()` 속성을 사용하여 날짜의 요일을 추출합니다.     \n",
    "추출한 요일 정보를 새로운 열로 추가하기 위해 해당 열 이름을 지정하고 할당합니다.  \n",
    "\n",
    "이를 통해 각 날짜의 요일을 문자열 형태로 얻을 수 있습니다.     \n",
    "이 코드에서는 변환된 요일 정보를 week_day라는 새로운 열로 추가하였습니다.\n",
    "\n",
    "<img src=\"https://drive.google.com/uc?id=1WTlJvCXUrQ6kqLRUQtOJJaNv4YmyHu8M\">"
   ]
  },
  {
   "attachments": {},
   "cell_type": "markdown",
   "id": "a80bb7df-e1cf-4f95-8204-42121b1652e2",
   "metadata": {
    "id": "a80bb7df-e1cf-4f95-8204-42121b1652e2"
   },
   "source": [
    "### Hint.\n",
    "empty"
   ]
  },
  {
   "attachments": {},
   "cell_type": "markdown",
   "id": "60d44e21-8b45-48dd-aac0-edda5a734d64",
   "metadata": {
    "id": "60d44e21-8b45-48dd-aac0-edda5a734d64"
   },
   "source": [
    "### Solution.\n",
    "```python\n",
    "week_day = pd.to_datetime(train['date_time']).dt.day_name()   \n",
    "train['week_day'] = week_day\n",
    "```"
   ]
  },
  {
   "attachments": {},
   "cell_type": "markdown",
   "id": "83d49ea0-a8b1-476b-9aa0-9e46bc973116",
   "metadata": {
    "id": "83d49ea0-a8b1-476b-9aa0-9e46bc973116"
   },
   "source": [
    "# 4. 요일별 따릉이 대여량 비교\n",
    "\n",
    "bar(막대 그래프)를 이용해 요일별 따릉이 대여량을 살펴보겠습니다.\n",
    "\n",
    "seaborn의 막대 그래프는 `barplot` 함수를 이용해 그릴 수 있습니다."
   ]
  },
  {
   "cell_type": "code",
   "execution_count": 12,
   "id": "35e216ec-9b1f-4123-b5df-233a4519c58a",
   "metadata": {
    "id": "35e216ec-9b1f-4123-b5df-233a4519c58a",
    "outputId": "fa5d01be-7915-48ff-f66f-0c45dbaf0c65",
    "tags": []
   },
   "outputs": [
    {
     "data": {
      "image/png": "[encoded data removed]",
      "text/plain": [
       "<Figure size 1500x800 with 1 Axes>"
      ]
     },
     "metadata": {},
     "output_type": "display_data"
    }
   ],
   "source": [
    "import matplotlib.pyplot as plt\n",
    "import seaborn as sns\n",
    "\n",
    "plt.figure(figsize=(15,8))\n",
    "\n",
    "sns.barplot(x=train['week_day'], y=train['number_of_rentals'])\n",
    "plt.title('요일별 대여량 비교', fontsize=40)\n",
    "plt.show()"
   ]
  },
  {
   "cell_type": "code",
   "execution_count": null,
   "id": "7169d23a-880d-4155-9c25-4e2906cc9100",
   "metadata": {
    "id": "7169d23a-880d-4155-9c25-4e2906cc9100"
   },
   "outputs": [],
   "source": [
    "#checkcode\n",
    "#empty"
   ]
  },
  {
   "attachments": {},
   "cell_type": "markdown",
   "id": "abee0db9-9cfd-4455-b204-9c9971178bf0",
   "metadata": {
    "id": "abee0db9-9cfd-4455-b204-9c9971178bf0"
   },
   "source": [
    "### Inst.\n",
    "해당 코드는 요일별로 따릉이 대여량을 비교하기 위한 시각화하는 코드입니다. 막대 그래프를 통해 각 요일의 대여량을 파악할 수 있습니다.\n",
    "\n",
    "1. `import matplotlib.pyplot as plt`: matplotlib의 pyplot 모듈을 임포트합니다. 이를 통해 그래프를 그리고 시각화할 수 있습니다.\n",
    "2. `import seaborn as sns` : seaborn 라이브러리를 임포트합니다. seaborn은 matplotlib을 기반으로 한 데이터 시각화 라이브러리로, 보다 간편하고 깔끔한 시각화를 제공합니다.\n",
    "3. `plt.figure(figsize=(15,8))` : 그래프의 크기를 지정합니다. figsize 매개변수를 통해 가로와 세로 크기를 인치 단위로 설정합니다.\n",
    "4. `sns.barplot(x=train['week_day'], y=train['number_of_rentals'])` : seaborn의 barplot 함수를 사용하여 요일별 대여량을 막대 그래프로 나타냅니다.   \n",
    "x축에는 요일 정보(train['week_day']), y축에는 대여량 정보(train['number_of_rentals'])를 지정합니다.\n",
    "5. `plt.title('요일별 대여량 비교', fontsize=40)` : 그래프의 제목을 설정합니다. 제목은 \"요일별 대여량 비교\"로 지정되며, 폰트 크기는 40으로 설정됩니다.\n",
    "6. `plt.show()` : 그래프를 화면에 표시합니다.\n",
    "\n",
    "---\n",
    "\n",
    "#### 결과 해석\n",
    "\n",
    "요일별로 따릉이 사용량은 큰 차이가 없는 것으로 보이네요.    \n",
    "연도별 차이량을 무시하고 통째로 봤기 때문일까요?   \n",
    "\n"
   ]
  },
  {
   "attachments": {},
   "cell_type": "markdown",
   "id": "faa96c0b-d6e5-4bcc-aea5-953b30008492",
   "metadata": {
    "id": "faa96c0b-d6e5-4bcc-aea5-953b30008492"
   },
   "source": [
    "### Hint.\n",
    "empty"
   ]
  },
  {
   "attachments": {},
   "cell_type": "markdown",
   "id": "b8cbf360-2e23-4066-923c-69405905fc82",
   "metadata": {
    "id": "b8cbf360-2e23-4066-923c-69405905fc82"
   },
   "source": [
    "### Solution.\n",
    "empty"
   ]
  },
  {
   "attachments": {},
   "cell_type": "markdown",
   "id": "e8ec1152-8249-45e8-91f0-00b2d805f9bc",
   "metadata": {
    "id": "e8ec1152-8249-45e8-91f0-00b2d805f9bc"
   },
   "source": [
    "# 5. 요일별 + 연도별 따릉이 대여량 비교\n",
    "\n",
    "이번엔 요일별, 연도별 대여량을 시각화해 비교해 보겠습니다."
   ]
  },
  {
   "cell_type": "code",
   "execution_count": 13,
   "id": "73ca5ff3-d524-4290-835b-fa79b674225d",
   "metadata": {
    "id": "73ca5ff3-d524-4290-835b-fa79b674225d",
    "outputId": "09260fa4-bce6-4b00-e53e-39496869e136"
   },
   "outputs": [
    {
     "data": {
      "image/png": "[encoded data removed]",
      "text/plain": [
       "<Figure size 1500x800 with 1 Axes>"
      ]
     },
     "metadata": {},
     "output_type": "display_data"
    }
   ],
   "source": [
    "train['year'] = train['date_time'].apply(lambda x :int( x.split('-')[0]))\n",
    "\n",
    "plt.figure(figsize=(15,8))\n",
    "\n",
    "sns.barplot(x=train['week_day'], y=train['number_of_rentals'], hue=train['year'])\n",
    "plt.title('요일별+연도별 대여량 비교', fontsize=40)\n",
    "plt.show()"
   ]
  },
  {
   "cell_type": "code",
   "execution_count": null,
   "id": "0557a950-7f93-4eee-919c-c51dd25f2242",
   "metadata": {
    "id": "0557a950-7f93-4eee-919c-c51dd25f2242"
   },
   "outputs": [],
   "source": [
    "#checkcode\n",
    "#empty"
   ]
  },
  {
   "attachments": {},
   "cell_type": "markdown",
   "id": "6dab555d-aced-4d57-a990-69387c65065d",
   "metadata": {
    "id": "6dab555d-aced-4d57-a990-69387c65065d"
   },
   "source": [
    "### Inst.\n",
    "\n",
    "해당 코드는 seaborn의 barplot 함수를 사용하여 요일별로 연도별 대여량을 비교하는 막대 그래프를 시각화하는 코드입니다.  \n",
    "각 막대의 높이는 대여량을 나타내며, 막대의 색상은 연도를 구분합니다.\n",
    "\n",
    "x축에는 요일(week_day)을, y축에는 대여량(number_of_rentals)을 설정합니다.   \n",
    "hue 매개변수를 이용하여 연도(year)별로 그래프의 색상을 구분합니다.\n",
    "\n",
    "<img src=\"https://drive.google.com/uc?id=1Em8eefWbP2iT8_nm2jFjpFn2y309hQK7\">\n",
    "\n",
    "\n",
    "---\n",
    "\n",
    "#### 결과 해석\n",
    "출력된 결과를 보고 어떤 특징을 발견했나요?\n",
    "\n",
    "주중, 주말에 따른 따릉이 대여량은 큰 변화가 없었으며, 연도별로 구분했을 때도 큰 차이를 관찰하지 못했습니다."
   ]
  },
  {
   "attachments": {},
   "cell_type": "markdown",
   "id": "70b66b22-b9db-4345-b6b5-609c8056a8a7",
   "metadata": {
    "id": "70b66b22-b9db-4345-b6b5-609c8056a8a7"
   },
   "source": [
    "### Hint.\n",
    "empty"
   ]
  },
  {
   "attachments": {},
   "cell_type": "markdown",
   "id": "5b76f610-f5f9-4051-bf90-7688051a3770",
   "metadata": {
    "id": "5b76f610-f5f9-4051-bf90-7688051a3770"
   },
   "source": [
    "### Solution.\n",
    "empty"
   ]
  },
  {
   "attachments": {},
   "cell_type": "markdown",
   "id": "349d4b3e-ebab-4280-a049-171f8690592b",
   "metadata": {
    "id": "349d4b3e-ebab-4280-a049-171f8690592b"
   },
   "source": [
    "# 6. 더위 점수(hot_score)\n",
    "\n",
    "그렇다면, 날씨가 덥고 습한 날에 사람들은 외출을 많이 할까요?     \n",
    "이런 날씨가 따릉이 대여량에 영향을 미칠까요?\n",
    "\n",
    "이를 알아보기 위하여 '더위 점수'라는 파생변수를 한번 만들어 봅시다."
   ]
  },
  {
   "cell_type": "code",
   "execution_count": 14,
   "id": "36d5ed9d-6e1f-4462-bd19-8afdff650a5d",
   "metadata": {
    "id": "36d5ed9d-6e1f-4462-bd19-8afdff650a5d",
    "outputId": "0fb5d1ee-5e8e-4290-8f7c-aeab5ecc86d5"
   },
   "outputs": [
    {
     "data": {
      "image/png": "[encoded data removed]",
      "text/plain": [
       "<Figure size 1500x800 with 1 Axes>"
      ]
     },
     "metadata": {},
     "output_type": "display_data"
    }
   ],
   "source": [
    "hot_score = train['high_temp'] * train['humidity']\n",
    "\n",
    "plt.figure(figsize=(15,8))\n",
    "sns.scatterplot(x=hot_score, y=train['number_of_rentals'], hue=train['year'], s=150)\n",
    "plt.xticks(fontsize=15)\n",
    "plt.title('더위 점수와 대여량', fontsize=30)\n",
    "plt.show()"
   ]
  },
  {
   "cell_type": "code",
   "execution_count": null,
   "id": "98e59103-fce2-4dc0-b88d-fe9d422f2b34",
   "metadata": {
    "id": "98e59103-fce2-4dc0-b88d-fe9d422f2b34"
   },
   "outputs": [],
   "source": [
    "#checkcode\n",
    "#empty"
   ]
  },
  {
   "attachments": {},
   "cell_type": "markdown",
   "id": "0c52486a-6e19-4606-8d59-8b0bb7ff4039",
   "metadata": {
    "id": "0c52486a-6e19-4606-8d59-8b0bb7ff4039"
   },
   "source": [
    "### Inst.\n",
    "해당 코드는 '더위 점수'와 대여량 간의 관계를 산점도로 시각화하는 코드입니다.  \n",
    "먼저, '더위 점수'를 계산하기 위해 최고 기온(high_temp)과 습도(humidity)를 곱하여 hot_score 변수에 저장합니다.  \n",
    "(더위 점수는 최고 기온이 높고, 습도가 높을수록 높은 점수를 갖으므로, 변수를 생성할 때는 곱하기를 이용합니다.)  \n",
    "\n",
    "그 후, `sns.scatterplot()` 함수를 사용하여 x축에는 '더위 점수'를, y축에는 대여량(number_of_rentals)을 나타내는 산점도를 그립니다.     \n",
    "산점도의 점의 색상은 연도(year)에 따라 구분되며, 점의 크기는 s 파라미터를 통해 설정됩니다.   \n",
    "\n",
    "마지막으로, x축과 y축의 레이블을 설정하고, 그래프의 제목을 지정하여 전체적인 시각화 결과를 나타냅니다.  \n",
    "\n",
    "---\n",
    "\n",
    "### 결과 해석\n",
    "더위 점수(날씨가 덥고 습하다)가 따릉이 대여량에 영향을 주는 것으로 판단되며,   \n",
    "따릉이 대여량과 더위점수(=날씨가 덥고 습하다)는 양의 상관관계임을 알 수 있습니다."
   ]
  },
  {
   "attachments": {},
   "cell_type": "markdown",
   "id": "99528d41-3fab-4f9f-b425-e9421b919e5e",
   "metadata": {
    "id": "99528d41-3fab-4f9f-b425-e9421b919e5e"
   },
   "source": [
    "### Hint.\n",
    "empty"
   ]
  },
  {
   "attachments": {},
   "cell_type": "markdown",
   "id": "c9ba17fa-b976-40c0-b2c5-9a0aee10ab27",
   "metadata": {
    "id": "c9ba17fa-b976-40c0-b2c5-9a0aee10ab27"
   },
   "source": [
    "### Solution.\n",
    "empty"
   ]
  },
  {
   "attachments": {},
   "cell_type": "markdown",
   "id": "47574a78-866f-48a9-903b-a4aaef937c76",
   "metadata": {
    "id": "47574a78-866f-48a9-903b-a4aaef937c76"
   },
   "source": [
    "# 7. 추위 점수(cold_score)\n",
    "\n",
    "\n",
    "그럼 반대로, 날씨가 춥고 풍속이 강한 날은 어떨까요?   \n",
    "이런 날씨가 따릉이 대여량에 영향을 미칠까요?\n",
    "\n",
    "이를 알아보기 위하여 추위 점수라는 파생변수를 한번 만들어 봅시다."
   ]
  },
  {
   "cell_type": "code",
   "execution_count": null,
   "id": "06f9eaa1-fd35-42bf-b68d-4a79bc7bee40",
   "metadata": {
    "id": "06f9eaa1-fd35-42bf-b68d-4a79bc7bee40",
    "outputId": "32d0df58-1141-4d11-b0d0-e0a0d49efd33"
   },
   "outputs": [
    {
     "data": {
      "image/png": "[encoded data removed]",
      "text/plain": [
       "<Figure size 1080x576 with 1 Axes>"
      ]
     },
     "metadata": {
      "needs_background": "light"
     },
     "output_type": "display_data"
    }
   ],
   "source": [
    "cold_score = train['wind_speed'] / train['low_temp']\n",
    "\n",
    "plt.figure(figsize=(15,8))\n",
    "sns.scatterplot(x = cold_score, y=train['number_of_rentals'], hue=train['year'], s = 150 )\n",
    "plt.xticks(fontsize=15)\n",
    "plt.title('추위 점수와 대여량', fontsize = 30)\n",
    "plt.show()"
   ]
  },
  {
   "cell_type": "code",
   "execution_count": 16,
   "id": "f598b0fd-e27b-45f9-982a-e65c27b8e1ec",
   "metadata": {
    "id": "f598b0fd-e27b-45f9-982a-e65c27b8e1ec",
    "outputId": "2d93921e-b5ac-4cf7-9358-714eb51bda02"
   },
   "outputs": [
    {
     "data": {
      "text/plain": [
       "True"
      ]
     },
     "execution_count": 16,
     "metadata": {},
     "output_type": "execute_result"
    }
   ],
   "source": [
    "#checkcode\n",
    "#empty"
   ]
  },
  {
   "attachments": {},
   "cell_type": "markdown",
   "id": "385b172a-de63-4a6b-b015-67009597ac47",
   "metadata": {
    "id": "385b172a-de63-4a6b-b015-67009597ac47"
   },
   "source": [
    "### Inst.\n",
    "\n",
    "해당 코드는 \"추위 점수\"를 계산하고, 이를 이용하여 따릉이 대여량과의 상관관계를 시각화합니다.\n",
    "\n",
    "먼저, cold_score 변수는 wind_speed 풍속을 low_temp 최저 기온으로 나눈 값으로 추위 점수를 계산합니다.   \n",
    "(추위 점수는 최저 기온이 낮을수록 높은 점수를 얻어야 하므로, 변수를 생성할 때는 나누기를 이용합니다.)  \n",
    "이후, sns.scatterplot 함수를 사용하여 cold_score를 x축으로, train['number_of_rentals']을 y축으로 설정하여 산점도를 그립니다.   \n",
    "hue=train['year']를 통해 연도별로 색상을 구분하며, s=150는 점의 크기를 설정하는 매개변수입니다.\n",
    "\n",
    "마지막으로, plt.xticks(fontsize=15)를 통해 x축 눈금의 폰트 크기를 설정하고,   \n",
    "plt.title 함수를 사용하여 그래프의 제목을 설정합니다.   \n",
    "그래프를 보여주기 위해 plt.show()를 호출합니다.   \n",
    "이를 통해 추위 점수와 따릉이 대여량의 상관관계를 시각적으로 확인할 수 있습니다.\n",
    "\n",
    "---\n",
    "\n",
    "#### 결과 해석\n",
    "\n",
    "- 추위 점수와 따릉이 대여량 사이엔 음의 상관 관계가 있다.\n",
    "- 추위 점수(=날씨가 춥고 풍속이 강하다)가 따릉이 대여량에 영향을 주는 것으로 판단되므로 추위 점수 변수를 생성해 보자!"
   ]
  },
  {
   "attachments": {},
   "cell_type": "markdown",
   "id": "6b57015a-f874-41b4-a63b-8f7875d56ad7",
   "metadata": {
    "id": "6b57015a-f874-41b4-a63b-8f7875d56ad7"
   },
   "source": [
    "### Hint.\n",
    "empty"
   ]
  },
  {
   "attachments": {},
   "cell_type": "markdown",
   "id": "4d298564-abee-42b7-9391-aec0eba33a04",
   "metadata": {
    "id": "4d298564-abee-42b7-9391-aec0eba33a04"
   },
   "source": [
    "### Solution.\n",
    "empty"
   ]
  },
  {
   "attachments": {},
   "cell_type": "markdown",
   "id": "4f59ee59-a6b3-4987-aa9f-deda5d4c4821",
   "metadata": {
    "id": "4f59ee59-a6b3-4987-aa9f-deda5d4c4821"
   },
   "source": [
    "# 8. 연도별 대여량\n",
    "\n",
    "지난 스테이지에서는 단순하게 연도별 따릉이 대여량의 평균을 시각화해 보았는데요, \n",
    "\n",
    "이번에는 scatter plot(산점도)를 이용하여 조금 더 구체적으로 시각화해 보도록 하겠습니다!\n"
   ]
  },
  {
   "cell_type": "code",
   "execution_count": 17,
   "id": "d5ba717d-f503-40a1-8f32-2361cd08f542",
   "metadata": {
    "id": "d5ba717d-f503-40a1-8f32-2361cd08f542",
    "outputId": "c912dd55-99bf-4cd0-ab11-af1954afb620"
   },
   "outputs": [
    {
     "data": {
      "image/png": "[encoded data removed]",
      "text/plain": [
       "<Figure size 1500x800 with 1 Axes>"
      ]
     },
     "metadata": {},
     "output_type": "display_data"
    }
   ],
   "source": [
    "month_day = train['month'].astype(str) + '_' + train['day'].astype(str)\n",
    "\n",
    "plt.figure(figsize=(15,8))\n",
    "\n",
    "sns.scatterplot(x=month_day, y=train['number_of_rentals'], hue=train['year'], s=150)\n",
    "plt.xticks(rotation=45)\n",
    "plt.title('연도별 따릉이 대여량 비교', fontsize=40)\n",
    "plt.show()"
   ]
  },
  {
   "cell_type": "code",
   "execution_count": null,
   "id": "d5a0545f-bff9-4970-92f8-8b5d5b303e76",
   "metadata": {
    "id": "d5a0545f-bff9-4970-92f8-8b5d5b303e76"
   },
   "outputs": [],
   "source": [
    "#checkcode\n",
    "#empty"
   ]
  },
  {
   "attachments": {},
   "cell_type": "markdown",
   "id": "44533b90-629e-46c9-857e-6b73e40e5c50",
   "metadata": {
    "id": "44533b90-629e-46c9-857e-6b73e40e5c50",
    "jp-MarkdownHeadingCollapsed": true,
    "tags": []
   },
   "source": [
    "### Inst.\n",
    "\n",
    "해당 코드는 월과 일을 조합하여 month_day라는 새로운 변수를 생성하고, 이를 이용하여 연도별 따릉이 대여량의 비교를 시각화합니다.\n",
    "\n",
    "먼저, month와 day를 문자열로 변환하여 결합한 month_day 변수를 생성합니다.   \n",
    "train['month'].astype(str)은 month 컬럼의 값을 문자열로 변환하여 반환합니다.   \n",
    "이후 + 연산자를 사용하여 문자열 결합을 수행하고, 결합된 값을 train['day'].astype(str)을 통해 day 컬럼의 값도 문자열로 변환하여 결합합니다.   \n",
    "결과적으로 month_day 변수는 month와 day 값을 _ 기호로 구분한 문자열로 이루어진 Series(열)가 됩니다.\n",
    "\n",
    "이후, sns.scatterplot 함수를 사용하여 month_day를 x축으로, train['number_of_rentals']을 y축으로 설정하여 산점도를 그립니다.   \n",
    "hue=train['year']를 통해 연도별로 색상을 구분하며, s=150는 점의 크기를 설정하는 매개변수입니다.\n",
    "\n",
    "그리고 plt.xticks(rotation=45)를 통해 x축 눈금의 레이블을 45도로 회전시킵니다.   \n",
    "이를 통해 월과 일의 레이블이 겹치지 않도록 조정할 수 있습니다.   \n",
    "\n",
    "마지막으로, plt.title 함수를 사용하여 그래프의 제목을 설정하고, plt.show()를 호출하여 그래프를 출력합니다.   \n",
    "이를 통해 연도별 따릉이 대여량의 비교를 시각적으로 확인할 수 있습니다.\n",
    "\n",
    "---\n",
    "\n",
    "#### 결과 해석\n",
    "연도별로 따릉이 대여량이 꾸준히 증가하는 것을 확인할 수 있습니다.\n",
    " \n",
    "따릉이는 서비스를 이용할 수 없는, \"휴무일\"이 없는 무인 공공 대여 서비스이기 때문에   \n",
    "중간중간에 있는 아주 낮은 점들은 비가 많이 오는 등 날씨가 궂은 날이었다고 판단할 수 있겠습니다."
   ]
  },
  {
   "attachments": {},
   "cell_type": "markdown",
   "id": "d3137d6f-9745-499f-9aec-0aae9d36a260",
   "metadata": {
    "id": "d3137d6f-9745-499f-9aec-0aae9d36a260"
   },
   "source": [
    "### Hint.\n",
    "empty"
   ]
  },
  {
   "attachments": {},
   "cell_type": "markdown",
   "id": "b0b257aa-ab4b-4ea3-8330-c8db0404d94a",
   "metadata": {
    "id": "b0b257aa-ab4b-4ea3-8330-c8db0404d94a"
   },
   "source": [
    "### Solution.\n",
    "empty"
   ]
  },
  {
   "attachments": {},
   "cell_type": "markdown",
   "id": "31907bf7",
   "metadata": {},
   "source": [
    "# 9. feature와 target의 상관관계\n",
    "\n",
    "이제 마지막 EDA로 feature와 target의 상관관계를 알아봅시다.  \n",
    "corr 메소드는 각 열 간의 상관 계수를 반환하는 메소드입니다.  \n",
    "기본 상관 계수 값으로 피어슨 상관 계수를 이용합니다.  \n",
    "seaborn의 `heatmap()` 메소드를 이용하여 시각화를 해봅시다."
   ]
  },
  {
   "cell_type": "code",
   "execution_count": null,
   "id": "bb34a20d",
   "metadata": {},
   "outputs": [],
   "source": [
    "plt.figure(figsize=(12,10))\n",
    "sns.heatmap(data = train.corr(method='pearson'), annot=True, fmt = '.2f', linewidths=.5, cmap='Blues')\n",
    "plt.show()"
   ]
  },
  {
   "cell_type": "code",
   "execution_count": null,
   "id": "53d727e3",
   "metadata": {},
   "outputs": [],
   "source": [
    "#checkcode\n",
    "#empty"
   ]
  },
  {
   "attachments": {},
   "cell_type": "markdown",
   "id": "cbf200c9",
   "metadata": {},
   "source": [
    "### Inst.\n",
    "해당 코드는 데이터의 변수들 간의 상관 관계를 시각화하여 파악할 수 있게 도와줍니다.   \n",
    "히트맵은 색상을 사용하여 상관 관계의 강도를 나타내며, 주어진 데이터셋의 변수들 간의 상관 관계를 파악하는 데 유용합니다.   \n",
    "상관 관계는 -1부터 1까지의 값으로 나타나며, 양수 값은 양의 상관 관계를, 음수 값은 음의 상관 관계를 나타냅니다.   \n",
    "높은 절댓값은 강한 상관 관계를 나타내며, 0에 가까운 값은 상관 관계가 약하거나 없음을 의미합니다.   \n",
    "히트맵을 통해 변수들 간의 상관 관계를 시각적으로 파악하여 데이터 분석 및 모델링에 활용할 수 있습니다.\n",
    "\n",
    "- sns.heatmap(): Seaborn 라이브러리의 히트맵 함수를 호출합니다.\n",
    "    - data=train.corr(method='pearson'): 상관 행렬을 계산하여 데이터를 전달합니다. \n",
    "    - method='pearson'은 피어슨 상관 계수를 사용하여 상관 행렬을 계산한다는 의미입니다.\n",
    "    - annot=True: 히트맵 안에 각 셀에 값을 표시합니다.\n",
    "    -  fmt='.2f': 표시되는 값들의 포맷을 소수점 2자리까지로 설정합니다.\n",
    "    - linewidths=.5: 각 셀의 경계선의 너비를 설정합니다.\n",
    "    - cmap='Blues': 히트맵의 색상 맵을 설정합니다.\n",
    "\n",
    "--- \n",
    "\n",
    "#### 결과 해석\n",
    "\n",
    "따릉이 대여량과 다른 변수들을 비교해본 결과, 온도와 따릉이 대여량은 양의 상관관계를 가지고 있습니다.  \n",
    "반면에 강수량과 미세먼지는 따릉이 대여량과 음의 상관관계를 가지고 있습니다.  \n",
    "이를 종합해보면, 따릉이 대여량은 온도가 높을수록 증가하며, 강수량과 미세먼지가 낮을수록 증가하는 경향을 보입니다.  "
   ]
  },
  {
   "attachments": {},
   "cell_type": "markdown",
   "id": "414e9a5b",
   "metadata": {},
   "source": [
    "### Hint.\n",
    "empty"
   ]
  },
  {
   "attachments": {},
   "cell_type": "markdown",
   "id": "d4a0c8ee",
   "metadata": {},
   "source": [
    "### Solution.\n",
    "empty"
   ]
  },
  {
   "attachments": {},
   "cell_type": "markdown",
   "id": "31728a27-a74c-4f43-aa8c-9b6ae3365088",
   "metadata": {
    "id": "31728a27-a74c-4f43-aa8c-9b6ae3365088",
    "tags": []
   },
   "source": [
    "# 10. 더위 점수 파생변수 생성\n",
    "[문제 3]  \n",
    "따릉이 대여량(Target)과 상관 관계가 있는 파생변수인 더위 점수를 새로운 변수로 생성해 주도록 합시다.    \n",
    "더위 점수(hot_score)를 계산하기 위해 최고 기온(high_temp)과 습도(humidity)를 곱하여 hot_score 변수에 할당해 주세요.  \n",
    "아래 빈칸을 채워주세요."
   ]
  },
  {
   "cell_type": "code",
   "execution_count": 19,
   "id": "3591e85f-452d-4442-ab9c-843df8aaff13",
   "metadata": {
    "id": "3591e85f-452d-4442-ab9c-843df8aaff13",
    "outputId": "67107d25-42b6-4fc9-d537-b52e78e7af55"
   },
   "outputs": [
    {
     "data": {
      "text/html": [
       "<div>\n",
       "<style scoped>\n",
       "    .dataframe tbody tr th:only-of-type {\n",
       "        vertical-align: middle;\n",
       "    }\n",
       "\n",
       "    .dataframe tbody tr th {\n",
       "        vertical-align: top;\n",
       "    }\n",
       "\n",
       "    .dataframe thead th {\n",
       "        text-align: right;\n",
       "    }\n",
       "</style>\n",
       "<table border=\"1\" class=\"dataframe\">\n",
       "  <thead>\n",
       "    <tr style=\"text-align: right;\">\n",
       "      <th></th>\n",
       "      <th>date_time</th>\n",
       "      <th>wind_direction</th>\n",
       "      <th>sky_condition</th>\n",
       "      <th>precipitation_form</th>\n",
       "      <th>wind_speed</th>\n",
       "      <th>humidity</th>\n",
       "      <th>low_temp</th>\n",
       "      <th>high_temp</th>\n",
       "      <th>Precipitation_Probability</th>\n",
       "      <th>year</th>\n",
       "      <th>month</th>\n",
       "      <th>day</th>\n",
       "      <th>number_of_rentals</th>\n",
       "      <th>week_day</th>\n",
       "      <th>hot_score</th>\n",
       "    </tr>\n",
       "  </thead>\n",
       "  <tbody>\n",
       "    <tr>\n",
       "      <th>0</th>\n",
       "      <td>2018-04-01</td>\n",
       "      <td>207.500</td>\n",
       "      <td>4.000</td>\n",
       "      <td>0.000</td>\n",
       "      <td>3.050</td>\n",
       "      <td>75.000</td>\n",
       "      <td>12.600</td>\n",
       "      <td>21.000</td>\n",
       "      <td>30.000</td>\n",
       "      <td>2018</td>\n",
       "      <td>4</td>\n",
       "      <td>1</td>\n",
       "      <td>22994</td>\n",
       "      <td>Sunday</td>\n",
       "      <td>1575.000000</td>\n",
       "    </tr>\n",
       "    <tr>\n",
       "      <th>1</th>\n",
       "      <td>2018-04-02</td>\n",
       "      <td>208.317</td>\n",
       "      <td>2.950</td>\n",
       "      <td>0.000</td>\n",
       "      <td>3.278</td>\n",
       "      <td>69.833</td>\n",
       "      <td>12.812</td>\n",
       "      <td>19.000</td>\n",
       "      <td>19.500</td>\n",
       "      <td>2018</td>\n",
       "      <td>4</td>\n",
       "      <td>2</td>\n",
       "      <td>28139</td>\n",
       "      <td>Monday</td>\n",
       "      <td>1326.827000</td>\n",
       "    </tr>\n",
       "    <tr>\n",
       "      <th>2</th>\n",
       "      <td>2018-04-03</td>\n",
       "      <td>213.516</td>\n",
       "      <td>2.911</td>\n",
       "      <td>0.000</td>\n",
       "      <td>2.690</td>\n",
       "      <td>74.879</td>\n",
       "      <td>10.312</td>\n",
       "      <td>15.316</td>\n",
       "      <td>19.113</td>\n",
       "      <td>2018</td>\n",
       "      <td>4</td>\n",
       "      <td>3</td>\n",
       "      <td>26817</td>\n",
       "      <td>Tuesday</td>\n",
       "      <td>1146.846764</td>\n",
       "    </tr>\n",
       "    <tr>\n",
       "      <th>3</th>\n",
       "      <td>2018-04-04</td>\n",
       "      <td>143.836</td>\n",
       "      <td>3.692</td>\n",
       "      <td>0.425</td>\n",
       "      <td>3.138</td>\n",
       "      <td>71.849</td>\n",
       "      <td>8.312</td>\n",
       "      <td>12.368</td>\n",
       "      <td>43.493</td>\n",
       "      <td>2018</td>\n",
       "      <td>4</td>\n",
       "      <td>4</td>\n",
       "      <td>26034</td>\n",
       "      <td>Wednesday</td>\n",
       "      <td>888.628432</td>\n",
       "    </tr>\n",
       "    <tr>\n",
       "      <th>4</th>\n",
       "      <td>2018-04-05</td>\n",
       "      <td>95.905</td>\n",
       "      <td>4.000</td>\n",
       "      <td>0.723</td>\n",
       "      <td>3.186</td>\n",
       "      <td>73.784</td>\n",
       "      <td>5.875</td>\n",
       "      <td>10.421</td>\n",
       "      <td>63.378</td>\n",
       "      <td>2018</td>\n",
       "      <td>4</td>\n",
       "      <td>5</td>\n",
       "      <td>2833</td>\n",
       "      <td>Thursday</td>\n",
       "      <td>768.903064</td>\n",
       "    </tr>\n",
       "  </tbody>\n",
       "</table>\n",
       "</div>"
      ],
      "text/plain": [
       "    date_time  wind_direction  sky_condition  precipitation_form  wind_speed  \\\n",
       "0  2018-04-01         207.500          4.000               0.000       3.050   \n",
       "1  2018-04-02         208.317          2.950               0.000       3.278   \n",
       "2  2018-04-03         213.516          2.911               0.000       2.690   \n",
       "3  2018-04-04         143.836          3.692               0.425       3.138   \n",
       "4  2018-04-05          95.905          4.000               0.723       3.186   \n",
       "\n",
       "   humidity  low_temp  high_temp  Precipitation_Probability  year  month  day  \\\n",
       "0    75.000    12.600     21.000                     30.000  2018      4    1   \n",
       "1    69.833    12.812     19.000                     19.500  2018      4    2   \n",
       "2    74.879    10.312     15.316                     19.113  2018      4    3   \n",
       "3    71.849     8.312     12.368                     43.493  2018      4    4   \n",
       "4    73.784     5.875     10.421                     63.378  2018      4    5   \n",
       "\n",
       "   number_of_rentals   week_day    hot_score  \n",
       "0              22994     Sunday  1575.000000  \n",
       "1              28139     Monday  1326.827000  \n",
       "2              26817    Tuesday  1146.846764  \n",
       "3              26034  Wednesday   888.628432  \n",
       "4               2833   Thursday   768.903064  "
      ]
     },
     "execution_count": 19,
     "metadata": {},
     "output_type": "execute_result"
    }
   ],
   "source": [
    "train['___']  = train['___'] * train['___']\n",
    "train.head()"
   ]
  },
  {
   "cell_type": "code",
   "execution_count": null,
   "id": "45043b3b-00db-406e-948e-64dd6b93dc07",
   "metadata": {
    "id": "45043b3b-00db-406e-948e-64dd6b93dc07"
   },
   "outputs": [],
   "source": [
    "#checkcode\n",
    "ensure_vals(globals(),'train')\n",
    "@check_safety\n",
    "def check():\n",
    "    train_check = pd.read_csv('train.csv')\n",
    "    train_check['hot_score'] = train['high_temp'] * train['humidity']\n",
    "\n",
    "    if (train['hot_score'] == train_check['hot_score']).all():\n",
    "        return True\n",
    "    else:\n",
    "        return False\n",
    "    \n",
    "check()"
   ]
  },
  {
   "attachments": {},
   "cell_type": "markdown",
   "id": "78aebd51-1cde-4b46-b5ff-8351ba474abc",
   "metadata": {
    "id": "78aebd51-1cde-4b46-b5ff-8351ba474abc"
   },
   "source": [
    "### Inst.\n"
   ]
  },
  {
   "attachments": {},
   "cell_type": "markdown",
   "id": "1775334b-5d7c-43cc-8188-02709176f71a",
   "metadata": {
    "id": "1775334b-5d7c-43cc-8188-02709176f71a"
   },
   "source": [
    "### Hint.\n",
    "1. 곱하기(*) 연산자를 이용해 보세요.\n",
    "2. 데이터셋['칼럼명']의 형태로 특정 변수를 불러올 수 있습니다."
   ]
  },
  {
   "attachments": {},
   "cell_type": "markdown",
   "id": "caae2b3f-3cba-470d-aac2-70f602161824",
   "metadata": {
    "id": "caae2b3f-3cba-470d-aac2-70f602161824"
   },
   "source": [
    "### Solution.\n",
    "```python\n",
    "train['hot_score']  = train['high_temp'] * train['humidity']\n",
    "train.head()\n",
    "```"
   ]
  },
  {
   "attachments": {},
   "cell_type": "markdown",
   "id": "de9818a1-ec6f-4965-8a38-10366f7eba44",
   "metadata": {
    "id": "de9818a1-ec6f-4965-8a38-10366f7eba44"
   },
   "source": [
    "# 11. 추위 점수 파생변수 생성\n",
    "\n",
    "[문제 4]  \n",
    "\n",
    "'cold_score' 변수는 train 데이터셋의 'wind_speed'와 'low_temp' 컬럼을 활용하여 계산됩니다.   \n",
    "이 변수는 풍속을 최저 기온으로 나눈 값으로, 추위 점수를 나타냅니다.  \n",
    "아래 빈칸을 채워주세요."
   ]
  },
  {
   "cell_type": "code",
   "execution_count": 20,
   "id": "1efcc4aa-2027-4f88-9ecc-264f129dc884",
   "metadata": {
    "id": "1efcc4aa-2027-4f88-9ecc-264f129dc884",
    "outputId": "5d636d35-6c40-455d-ea42-912259d702da"
   },
   "outputs": [
    {
     "data": {
      "text/html": [
       "<div>\n",
       "<style scoped>\n",
       "    .dataframe tbody tr th:only-of-type {\n",
       "        vertical-align: middle;\n",
       "    }\n",
       "\n",
       "    .dataframe tbody tr th {\n",
       "        vertical-align: top;\n",
       "    }\n",
       "\n",
       "    .dataframe thead th {\n",
       "        text-align: right;\n",
       "    }\n",
       "</style>\n",
       "<table border=\"1\" class=\"dataframe\">\n",
       "  <thead>\n",
       "    <tr style=\"text-align: right;\">\n",
       "      <th></th>\n",
       "      <th>date_time</th>\n",
       "      <th>wind_direction</th>\n",
       "      <th>sky_condition</th>\n",
       "      <th>precipitation_form</th>\n",
       "      <th>wind_speed</th>\n",
       "      <th>humidity</th>\n",
       "      <th>low_temp</th>\n",
       "      <th>high_temp</th>\n",
       "      <th>Precipitation_Probability</th>\n",
       "      <th>year</th>\n",
       "      <th>month</th>\n",
       "      <th>day</th>\n",
       "      <th>number_of_rentals</th>\n",
       "      <th>week_day</th>\n",
       "      <th>hot_score</th>\n",
       "      <th>cold_score</th>\n",
       "    </tr>\n",
       "  </thead>\n",
       "  <tbody>\n",
       "    <tr>\n",
       "      <th>0</th>\n",
       "      <td>2018-04-01</td>\n",
       "      <td>207.500</td>\n",
       "      <td>4.000</td>\n",
       "      <td>0.000</td>\n",
       "      <td>3.050</td>\n",
       "      <td>75.000</td>\n",
       "      <td>12.600</td>\n",
       "      <td>21.000</td>\n",
       "      <td>30.000</td>\n",
       "      <td>2018</td>\n",
       "      <td>4</td>\n",
       "      <td>1</td>\n",
       "      <td>22994</td>\n",
       "      <td>Sunday</td>\n",
       "      <td>1575.000000</td>\n",
       "      <td>0.242063</td>\n",
       "    </tr>\n",
       "    <tr>\n",
       "      <th>1</th>\n",
       "      <td>2018-04-02</td>\n",
       "      <td>208.317</td>\n",
       "      <td>2.950</td>\n",
       "      <td>0.000</td>\n",
       "      <td>3.278</td>\n",
       "      <td>69.833</td>\n",
       "      <td>12.812</td>\n",
       "      <td>19.000</td>\n",
       "      <td>19.500</td>\n",
       "      <td>2018</td>\n",
       "      <td>4</td>\n",
       "      <td>2</td>\n",
       "      <td>28139</td>\n",
       "      <td>Monday</td>\n",
       "      <td>1326.827000</td>\n",
       "      <td>0.255854</td>\n",
       "    </tr>\n",
       "    <tr>\n",
       "      <th>2</th>\n",
       "      <td>2018-04-03</td>\n",
       "      <td>213.516</td>\n",
       "      <td>2.911</td>\n",
       "      <td>0.000</td>\n",
       "      <td>2.690</td>\n",
       "      <td>74.879</td>\n",
       "      <td>10.312</td>\n",
       "      <td>15.316</td>\n",
       "      <td>19.113</td>\n",
       "      <td>2018</td>\n",
       "      <td>4</td>\n",
       "      <td>3</td>\n",
       "      <td>26817</td>\n",
       "      <td>Tuesday</td>\n",
       "      <td>1146.846764</td>\n",
       "      <td>0.260861</td>\n",
       "    </tr>\n",
       "    <tr>\n",
       "      <th>3</th>\n",
       "      <td>2018-04-04</td>\n",
       "      <td>143.836</td>\n",
       "      <td>3.692</td>\n",
       "      <td>0.425</td>\n",
       "      <td>3.138</td>\n",
       "      <td>71.849</td>\n",
       "      <td>8.312</td>\n",
       "      <td>12.368</td>\n",
       "      <td>43.493</td>\n",
       "      <td>2018</td>\n",
       "      <td>4</td>\n",
       "      <td>4</td>\n",
       "      <td>26034</td>\n",
       "      <td>Wednesday</td>\n",
       "      <td>888.628432</td>\n",
       "      <td>0.377526</td>\n",
       "    </tr>\n",
       "    <tr>\n",
       "      <th>4</th>\n",
       "      <td>2018-04-05</td>\n",
       "      <td>95.905</td>\n",
       "      <td>4.000</td>\n",
       "      <td>0.723</td>\n",
       "      <td>3.186</td>\n",
       "      <td>73.784</td>\n",
       "      <td>5.875</td>\n",
       "      <td>10.421</td>\n",
       "      <td>63.378</td>\n",
       "      <td>2018</td>\n",
       "      <td>4</td>\n",
       "      <td>5</td>\n",
       "      <td>2833</td>\n",
       "      <td>Thursday</td>\n",
       "      <td>768.903064</td>\n",
       "      <td>0.542298</td>\n",
       "    </tr>\n",
       "  </tbody>\n",
       "</table>\n",
       "</div>"
      ],
      "text/plain": [
       "    date_time  wind_direction  sky_condition  precipitation_form  wind_speed  \\\n",
       "0  2018-04-01         207.500          4.000               0.000       3.050   \n",
       "1  2018-04-02         208.317          2.950               0.000       3.278   \n",
       "2  2018-04-03         213.516          2.911               0.000       2.690   \n",
       "3  2018-04-04         143.836          3.692               0.425       3.138   \n",
       "4  2018-04-05          95.905          4.000               0.723       3.186   \n",
       "\n",
       "   humidity  low_temp  high_temp  Precipitation_Probability  year  month  day  \\\n",
       "0    75.000    12.600     21.000                     30.000  2018      4    1   \n",
       "1    69.833    12.812     19.000                     19.500  2018      4    2   \n",
       "2    74.879    10.312     15.316                     19.113  2018      4    3   \n",
       "3    71.849     8.312     12.368                     43.493  2018      4    4   \n",
       "4    73.784     5.875     10.421                     63.378  2018      4    5   \n",
       "\n",
       "   number_of_rentals   week_day    hot_score  cold_score  \n",
       "0              22994     Sunday  1575.000000    0.242063  \n",
       "1              28139     Monday  1326.827000    0.255854  \n",
       "2              26817    Tuesday  1146.846764    0.260861  \n",
       "3              26034  Wednesday   888.628432    0.377526  \n",
       "4               2833   Thursday   768.903064    0.542298  "
      ]
     },
     "execution_count": 20,
     "metadata": {},
     "output_type": "execute_result"
    }
   ],
   "source": [
    "train['___'] = train['___'] ___ train['___']\n",
    "train.head()"
   ]
  },
  {
   "cell_type": "code",
   "execution_count": null,
   "id": "81bac342-ea6e-4a8e-8086-2366329a1e30",
   "metadata": {
    "id": "81bac342-ea6e-4a8e-8086-2366329a1e30"
   },
   "outputs": [],
   "source": [
    "#checkcode\n",
    "ensure_vals(globals(),'train')\n",
    "@check_safety\n",
    "def check():\n",
    "    train_check = pd.read_csv('train.csv')\n",
    "    train_check['cold_score'] = train_check['wind_speed'] / train_check['low_temp']\n",
    "\n",
    "    if (train['cold_score'] == train_check['cold_score']).all():\n",
    "        return True\n",
    "    else:\n",
    "        return False\n",
    "    \n",
    "check()"
   ]
  },
  {
   "attachments": {},
   "cell_type": "markdown",
   "id": "332e1def-b401-4dc7-a849-5a332cc0b9db",
   "metadata": {
    "id": "332e1def-b401-4dc7-a849-5a332cc0b9db"
   },
   "source": [
    "### Inst."
   ]
  },
  {
   "attachments": {},
   "cell_type": "markdown",
   "id": "daafd240-fbeb-425c-ae33-95cef1543ada",
   "metadata": {
    "id": "daafd240-fbeb-425c-ae33-95cef1543ada"
   },
   "source": [
    "### Hint.\n",
    "1. 나누기(/) 연산자를 이용해 보세요.\n",
    "2. 데이터셋['칼럼명']의 형태로 특정 변수를 불러올 수 있습니다."
   ]
  },
  {
   "attachments": {},
   "cell_type": "markdown",
   "id": "4dd7e920-1c73-4308-8bf2-b4f0958768e7",
   "metadata": {
    "id": "4dd7e920-1c73-4308-8bf2-b4f0958768e7"
   },
   "source": [
    "### Solution.\n",
    "```python\n",
    "train['cold_score'] = train['wind_speed'] / train['low_temp']\n",
    "train.head()\n",
    "```"
   ]
  },
  {
   "attachments": {},
   "cell_type": "markdown",
   "id": "7078eb96",
   "metadata": {},
   "source": [
    "# 12. 연도 별 인플레이션 반영(2020년도 기준)\n",
    "\n",
    "이번엔 2018, 2019, 2020년도 데이터 값만 활용하는 게 아니라,   \n",
    "연도별 따릉이 대여량 증가율 즉, `Year 인플레이션`을 반영해 주는 변수를 생성해 보는 것은 어떨까요?    \n",
    "\n",
    "그 이유는, 앞서 EDA를 한 결과에서 따릉이 대여량이 매년 증가했기 때문입니다.  \n",
    "그렇다면 단순히 있는 데이터를 변수로 설정하는 게 아니라, 연도별 증감 비율을 반영해 주는 게 더욱 좋겠죠.  \n",
    "\n",
    "#### **[EDA 인사이트 정리]**\n",
    "\n",
    "4 : `요일별` 따릉이 대여량 차이 X    \n",
    "6 : `더위 점수` 유의미하므로 변수 생성    \n",
    "7 : `추위 점수` 유의미하므로 변수 생성    \n",
    "8 : 연도별로 따릉이 대여량이 증가하므로, `Year 인플레이션`을 반영하기 위한 변수 생성"
   ]
  },
  {
   "cell_type": "code",
   "execution_count": 21,
   "id": "17ff54c6-e99f-4921-bfd5-741b83ec0b6e",
   "metadata": {
    "id": "17ff54c6-e99f-4921-bfd5-741b83ec0b6e",
    "outputId": "cc6c8db1-d940-492e-c8af-943fee541a79"
   },
   "outputs": [
    {
     "name": "stdout",
     "output_type": "stream",
     "text": [
      "2.5898531680403214\n",
      "1.2358394161314505\n"
     ]
    },
    {
     "data": {
      "text/html": [
       "<div>\n",
       "<style scoped>\n",
       "    .dataframe tbody tr th:only-of-type {\n",
       "        vertical-align: middle;\n",
       "    }\n",
       "\n",
       "    .dataframe tbody tr th {\n",
       "        vertical-align: top;\n",
       "    }\n",
       "\n",
       "    .dataframe thead th {\n",
       "        text-align: right;\n",
       "    }\n",
       "</style>\n",
       "<table border=\"1\" class=\"dataframe\">\n",
       "  <thead>\n",
       "    <tr style=\"text-align: right;\">\n",
       "      <th></th>\n",
       "      <th>year</th>\n",
       "      <th>number_of_rentals</th>\n",
       "      <th>inflation_rentals</th>\n",
       "    </tr>\n",
       "  </thead>\n",
       "  <tbody>\n",
       "    <tr>\n",
       "      <th>0</th>\n",
       "      <td>2018</td>\n",
       "      <td>22994</td>\n",
       "      <td>59554.46</td>\n",
       "    </tr>\n",
       "    <tr>\n",
       "      <th>1</th>\n",
       "      <td>2018</td>\n",
       "      <td>28139</td>\n",
       "      <td>72880.01</td>\n",
       "    </tr>\n",
       "    <tr>\n",
       "      <th>2</th>\n",
       "      <td>2018</td>\n",
       "      <td>26817</td>\n",
       "      <td>69456.03</td>\n",
       "    </tr>\n",
       "    <tr>\n",
       "      <th>3</th>\n",
       "      <td>2018</td>\n",
       "      <td>26034</td>\n",
       "      <td>67428.06</td>\n",
       "    </tr>\n",
       "    <tr>\n",
       "      <th>4</th>\n",
       "      <td>2018</td>\n",
       "      <td>2833</td>\n",
       "      <td>7337.47</td>\n",
       "    </tr>\n",
       "  </tbody>\n",
       "</table>\n",
       "</div>"
      ],
      "text/plain": [
       "   year  number_of_rentals  inflation_rentals\n",
       "0  2018              22994           59554.46\n",
       "1  2018              28139           72880.01\n",
       "2  2018              26817           69456.03\n",
       "3  2018              26034           67428.06\n",
       "4  2018               2833            7337.47"
      ]
     },
     "execution_count": 21,
     "metadata": {},
     "output_type": "execute_result"
    }
   ],
   "source": [
    "x1 = sum(train[train['year']==2018]['number_of_rentals'])\n",
    "x2 = sum(train[train['year']==2019]['number_of_rentals'])\n",
    "x3 = sum(train[train['year']==2020]['number_of_rentals'])\n",
    "\n",
    "print(x3/x1) \n",
    "print(x3/x2)"
   ]
  },
  {
   "cell_type": "code",
   "execution_count": null,
   "id": "5ad6050c-b3f6-4978-b82d-ad65feba1a6b",
   "metadata": {
    "id": "5ad6050c-b3f6-4978-b82d-ad65feba1a6b"
   },
   "outputs": [],
   "source": [
    "#checkcode\n",
    "#empty"
   ]
  },
  {
   "attachments": {},
   "cell_type": "markdown",
   "id": "300beae4-8422-47c3-bac7-8fd11c3bd172",
   "metadata": {
    "id": "300beae4-8422-47c3-bac7-8fd11c3bd172"
   },
   "source": [
    "### Inst.\n",
    "\n",
    "인플레이션이란 통화의 가치가 하락하여 물가가 상승하는 경제적 현상을 의미합니다.   \n",
    "따라서 인플레이션을 반영하는 코드를 사용하여 보다 정확한 대여량 비교를 수행할 수 있습니다.     \n",
    "\n",
    "해당 코드는 연도별 대여량을 비교하여 연도에 따른 대여량 증가율을 반영하는 변수를 생성하는 코드입니다.  \n",
    "\n",
    "먼저, 2018년의 대여량을 x1에 저장하고, 2019년의 대여량을 x2에 저장하며, 2020년의 대여량을 x3에 저장합니다.  \n",
    "그런 다음, x3를 x1로 나눈 비율과 x3를 x2로 나눈 비율을 출력합니다.  \n",
    "\n",
    "<img src='https://drive.google.com/uc?id=16ZYcwIzNug2BPmfSJOWm3bWsBii9gpkM'>"
   ]
  },
  {
   "attachments": {},
   "cell_type": "markdown",
   "id": "d14cd52a-f7e9-49b0-97b6-dcc452e72a1c",
   "metadata": {
    "id": "d14cd52a-f7e9-49b0-97b6-dcc452e72a1c"
   },
   "source": [
    "### Hint.\n",
    "empty"
   ]
  },
  {
   "attachments": {},
   "cell_type": "markdown",
   "id": "c8f29471-d8d5-4619-86dc-dea0745b61cd",
   "metadata": {
    "id": "c8f29471-d8d5-4619-86dc-dea0745b61cd"
   },
   "source": [
    "### Solution.\n",
    "empty"
   ]
  },
  {
   "attachments": {},
   "cell_type": "markdown",
   "id": "20b7431a",
   "metadata": {},
   "source": [
    "# 13.연도별 인플레이션을 반영한 따릉이 대여량 조정 계산(2020년도 기준)  \n",
    "\n",
    "연도별 대여율 증가율을 반영하여 조정한 값으로 새로운 feature를 생성해 보겠습니다. "
   ]
  },
  {
   "cell_type": "code",
   "execution_count": null,
   "id": "d70e7b4b",
   "metadata": {},
   "outputs": [],
   "source": [
    "y1 = train[train['year'] == 2018]['number_of_rentals'] * round(x3/x1, 2)\n",
    "y2 = train[train['year'] == 2019]['number_of_rentals'] * round(x3/x2, 2)\n",
    "y3 = train[train['year'] == 2020]['number_of_rentals']\n",
    "\n",
    "temp = train[['year', 'number_of_rentals']]\n",
    "temp = temp.copy()\n",
    "temp['inflation_rentals'] = pd.concat([y1, y2, y3], axis=0).to_frame()\n",
    "temp[:5]"
   ]
  },
  {
   "cell_type": "code",
   "execution_count": null,
   "id": "40779e7e",
   "metadata": {},
   "outputs": [],
   "source": [
    "#checkcode\n",
    "#empty"
   ]
  },
  {
   "attachments": {},
   "cell_type": "markdown",
   "id": "ac15a829",
   "metadata": {},
   "source": [
    "### Inst.\n",
    "\n",
    "각 연도별로 대여량에 대해 연도별 대여량 증가율을 반영하여 조정한 값을 계산합니다.     \n",
    "\n",
    "y1은 2018년의 대여량에 x3를 x1로 나눈 비율을 곱한 값,   \n",
    "y2는 2019년의 대여량에 x3를 x2로 나눈 비율을 곱한 값,   \n",
    "y3는 2020년의 대여량입니다.  \n",
    "\n",
    "마지막으로, 'year'와 'number_of_rentals' 컬럼을 포함하는 데이터프레임인 temp를 생성한 후,   \n",
    "'inflation_rentals'이라는 열에 y1, y2, y3를 세로로 합쳐서(concat) 저장합니다.\n",
    "   \n",
    "이렇게 생성된 temp는 연도별 대여량 증가율을 반영하는 변수를 포함한 데이터프레임입니다.\n",
    "\n",
    "<img src=\"https://drive.google.com/uc?id=1XKj6nReuxgWuRPxkRix9rZSiePwKe9UO\">\n",
    "  \n"
   ]
  },
  {
   "attachments": {},
   "cell_type": "markdown",
   "id": "da2ad050",
   "metadata": {},
   "source": [
    "### Hint.\n",
    "empty"
   ]
  },
  {
   "attachments": {},
   "cell_type": "markdown",
   "id": "e28b4538",
   "metadata": {},
   "source": [
    "### Solution.\n",
    "empty"
   ]
  },
  {
   "attachments": {},
   "cell_type": "markdown",
   "id": "48da8917-289e-48c0-88f8-184fe30fa3e4",
   "metadata": {
    "id": "48da8917-289e-48c0-88f8-184fe30fa3e4"
   },
   "source": [
    "# 14. feature 제거\n",
    "[문제 5]\n",
    "\n",
    "데이터셋에는 예측에 도움이 되지 않는 피처들이 존재할 수 있습니다.   \n",
    "이러한 불필요한 피처들을 제거하지 않고 모델이 학습을 수행하면 성능이 저하될 수 있습니다.   \n",
    "모델의 일반화 능력을 향상시키기 위해 피처를 제거합니다.  \n",
    "\n",
    "\n",
    "1. week_day(요일)과 day(일)은 Target과 상관 관계가 없으므로 삭제해 주세요.\n",
    "2. date_time은 범주형 변수이므로, 삭제해 주세요."
   ]
  },
  {
   "cell_type": "code",
   "execution_count": 22,
   "id": "b0587413-e9f9-48d5-bf8c-673f6ad4f4c1",
   "metadata": {
    "id": "b0587413-e9f9-48d5-bf8c-673f6ad4f4c1",
    "outputId": "ed3eec86-8d20-4928-8751-f2135274052a"
   },
   "outputs": [
    {
     "data": {
      "text/html": [
       "<div>\n",
       "<style scoped>\n",
       "    .dataframe tbody tr th:only-of-type {\n",
       "        vertical-align: middle;\n",
       "    }\n",
       "\n",
       "    .dataframe tbody tr th {\n",
       "        vertical-align: top;\n",
       "    }\n",
       "\n",
       "    .dataframe thead th {\n",
       "        text-align: right;\n",
       "    }\n",
       "</style>\n",
       "<table border=\"1\" class=\"dataframe\">\n",
       "  <thead>\n",
       "    <tr style=\"text-align: right;\">\n",
       "      <th></th>\n",
       "      <th>wind_direction</th>\n",
       "      <th>sky_condition</th>\n",
       "      <th>precipitation_form</th>\n",
       "      <th>wind_speed</th>\n",
       "      <th>humidity</th>\n",
       "      <th>low_temp</th>\n",
       "      <th>high_temp</th>\n",
       "      <th>Precipitation_Probability</th>\n",
       "      <th>year</th>\n",
       "      <th>month</th>\n",
       "      <th>number_of_rentals</th>\n",
       "      <th>hot_score</th>\n",
       "      <th>cold_score</th>\n",
       "    </tr>\n",
       "  </thead>\n",
       "  <tbody>\n",
       "    <tr>\n",
       "      <th>0</th>\n",
       "      <td>207.500</td>\n",
       "      <td>4.000</td>\n",
       "      <td>0.000</td>\n",
       "      <td>3.050</td>\n",
       "      <td>75.000</td>\n",
       "      <td>12.600</td>\n",
       "      <td>21.000</td>\n",
       "      <td>30.000</td>\n",
       "      <td>2018</td>\n",
       "      <td>4</td>\n",
       "      <td>22994</td>\n",
       "      <td>1575.000000</td>\n",
       "      <td>0.242063</td>\n",
       "    </tr>\n",
       "    <tr>\n",
       "      <th>1</th>\n",
       "      <td>208.317</td>\n",
       "      <td>2.950</td>\n",
       "      <td>0.000</td>\n",
       "      <td>3.278</td>\n",
       "      <td>69.833</td>\n",
       "      <td>12.812</td>\n",
       "      <td>19.000</td>\n",
       "      <td>19.500</td>\n",
       "      <td>2018</td>\n",
       "      <td>4</td>\n",
       "      <td>28139</td>\n",
       "      <td>1326.827000</td>\n",
       "      <td>0.255854</td>\n",
       "    </tr>\n",
       "    <tr>\n",
       "      <th>2</th>\n",
       "      <td>213.516</td>\n",
       "      <td>2.911</td>\n",
       "      <td>0.000</td>\n",
       "      <td>2.690</td>\n",
       "      <td>74.879</td>\n",
       "      <td>10.312</td>\n",
       "      <td>15.316</td>\n",
       "      <td>19.113</td>\n",
       "      <td>2018</td>\n",
       "      <td>4</td>\n",
       "      <td>26817</td>\n",
       "      <td>1146.846764</td>\n",
       "      <td>0.260861</td>\n",
       "    </tr>\n",
       "    <tr>\n",
       "      <th>3</th>\n",
       "      <td>143.836</td>\n",
       "      <td>3.692</td>\n",
       "      <td>0.425</td>\n",
       "      <td>3.138</td>\n",
       "      <td>71.849</td>\n",
       "      <td>8.312</td>\n",
       "      <td>12.368</td>\n",
       "      <td>43.493</td>\n",
       "      <td>2018</td>\n",
       "      <td>4</td>\n",
       "      <td>26034</td>\n",
       "      <td>888.628432</td>\n",
       "      <td>0.377526</td>\n",
       "    </tr>\n",
       "    <tr>\n",
       "      <th>4</th>\n",
       "      <td>95.905</td>\n",
       "      <td>4.000</td>\n",
       "      <td>0.723</td>\n",
       "      <td>3.186</td>\n",
       "      <td>73.784</td>\n",
       "      <td>5.875</td>\n",
       "      <td>10.421</td>\n",
       "      <td>63.378</td>\n",
       "      <td>2018</td>\n",
       "      <td>4</td>\n",
       "      <td>2833</td>\n",
       "      <td>768.903064</td>\n",
       "      <td>0.542298</td>\n",
       "    </tr>\n",
       "  </tbody>\n",
       "</table>\n",
       "</div>"
      ],
      "text/plain": [
       "   wind_direction  sky_condition  precipitation_form  wind_speed  humidity  \\\n",
       "0         207.500          4.000               0.000       3.050    75.000   \n",
       "1         208.317          2.950               0.000       3.278    69.833   \n",
       "2         213.516          2.911               0.000       2.690    74.879   \n",
       "3         143.836          3.692               0.425       3.138    71.849   \n",
       "4          95.905          4.000               0.723       3.186    73.784   \n",
       "\n",
       "   low_temp  high_temp  Precipitation_Probability  year  month  \\\n",
       "0    12.600     21.000                     30.000  2018      4   \n",
       "1    12.812     19.000                     19.500  2018      4   \n",
       "2    10.312     15.316                     19.113  2018      4   \n",
       "3     8.312     12.368                     43.493  2018      4   \n",
       "4     5.875     10.421                     63.378  2018      4   \n",
       "\n",
       "   number_of_rentals    hot_score  cold_score  \n",
       "0              22994  1575.000000    0.242063  \n",
       "1              28139  1326.827000    0.255854  \n",
       "2              26817  1146.846764    0.260861  \n",
       "3              26034   888.628432    0.377526  \n",
       "4               2833   768.903064    0.542298  "
      ]
     },
     "execution_count": 22,
     "metadata": {},
     "output_type": "execute_result"
    }
   ],
   "source": [
    "train = train.___(['___'],axis = ___)\n",
    "train = train.___(['___'],axis = ___)\n",
    "train = train.drop(['___'],axis = 1)\n",
    "\n",
    "train.head()"
   ]
  },
  {
   "cell_type": "code",
   "execution_count": null,
   "id": "88be81a0-3346-4a44-9f58-15cf719dbfa8",
   "metadata": {
    "id": "88be81a0-3346-4a44-9f58-15cf719dbfa8"
   },
   "outputs": [],
   "source": [
    "#checkcode\n",
    "ensure_vals(globals(), 'train')\n",
    "@check_safety\n",
    "def check(user_train = train):\n",
    "    c_point0 = 'date_time' not in user_train.columns\n",
    "    c_point1 = 'week_day' not in user_train.columns\n",
    "    if c_point0 and c_point1:\n",
    "        return True\n",
    "    else:\n",
    "        return False\n",
    "check()"
   ]
  },
  {
   "attachments": {},
   "cell_type": "markdown",
   "id": "b8a735a7-f65b-45d4-881f-746a544f5ecb",
   "metadata": {
    "id": "b8a735a7-f65b-45d4-881f-746a544f5ecb"
   },
   "source": [
    "### Inst."
   ]
  },
  {
   "attachments": {},
   "cell_type": "markdown",
   "id": "32a9a94b-ccd3-4e77-ba70-dd1e2c2f54c1",
   "metadata": {
    "id": "32a9a94b-ccd3-4e77-ba70-dd1e2c2f54c1"
   },
   "source": [
    "### Hint.\n",
    "`drop()`함수를 사용하여 피처를 제거합니다.    \n",
    "`axis=1`을 지정하여 열을 제거합니다.  "
   ]
  },
  {
   "attachments": {},
   "cell_type": "markdown",
   "id": "3b464bb2-2ca7-4808-96d7-6e56ba121cd0",
   "metadata": {
    "id": "3b464bb2-2ca7-4808-96d7-6e56ba121cd0"
   },
   "source": [
    "### Solution.\n",
    "```python\n",
    "train = train.drop(['week_day'],axis = 1)\n",
    "train = train.drop(['day'],axis = 1)\n",
    "train = train.drop(['date_time'],axis = 1)\n",
    "\n",
    "train.head()\n",
    "```"
   ]
  },
  {
   "attachments": {},
   "cell_type": "markdown",
   "id": "8bf0e342-c6c6-4e90-ba6f-5de1ba60ac48",
   "metadata": {
    "id": "8bf0e342-c6c6-4e90-ba6f-5de1ba60ac48"
   },
   "source": [
    "# 15. test 데이터 전처리\n",
    "\n",
    "test 데이터도 똑같이 전처리해 줍시다."
   ]
  },
  {
   "cell_type": "code",
   "execution_count": 23,
   "id": "799eebe3-0375-4cf3-bada-721b3ba320ec",
   "metadata": {
    "id": "799eebe3-0375-4cf3-bada-721b3ba320ec",
    "outputId": "27d9f86f-7d32-4954-ce61-36d66dd50eb2"
   },
   "outputs": [
    {
     "data": {
      "text/html": [
       "<div>\n",
       "<style scoped>\n",
       "    .dataframe tbody tr th:only-of-type {\n",
       "        vertical-align: middle;\n",
       "    }\n",
       "\n",
       "    .dataframe tbody tr th {\n",
       "        vertical-align: top;\n",
       "    }\n",
       "\n",
       "    .dataframe thead th {\n",
       "        text-align: right;\n",
       "    }\n",
       "</style>\n",
       "<table border=\"1\" class=\"dataframe\">\n",
       "  <thead>\n",
       "    <tr style=\"text-align: right;\">\n",
       "      <th></th>\n",
       "      <th>wind_direction</th>\n",
       "      <th>sky_condition</th>\n",
       "      <th>precipitation_form</th>\n",
       "      <th>wind_speed</th>\n",
       "      <th>humidity</th>\n",
       "      <th>low_temp</th>\n",
       "      <th>high_temp</th>\n",
       "      <th>Precipitation_Probability</th>\n",
       "      <th>year</th>\n",
       "      <th>month</th>\n",
       "      <th>hot_score</th>\n",
       "      <th>cold_score</th>\n",
       "    </tr>\n",
       "  </thead>\n",
       "  <tbody>\n",
       "    <tr>\n",
       "      <th>0</th>\n",
       "      <td>108.833</td>\n",
       "      <td>3.000</td>\n",
       "      <td>0.000</td>\n",
       "      <td>2.900</td>\n",
       "      <td>28.333</td>\n",
       "      <td>11.800</td>\n",
       "      <td>20.667</td>\n",
       "      <td>18.333</td>\n",
       "      <td>2021</td>\n",
       "      <td>4</td>\n",
       "      <td>585.558111</td>\n",
       "      <td>0.245763</td>\n",
       "    </tr>\n",
       "    <tr>\n",
       "      <th>1</th>\n",
       "      <td>116.717</td>\n",
       "      <td>3.850</td>\n",
       "      <td>0.000</td>\n",
       "      <td>2.662</td>\n",
       "      <td>46.417</td>\n",
       "      <td>12.000</td>\n",
       "      <td>19.000</td>\n",
       "      <td>28.500</td>\n",
       "      <td>2021</td>\n",
       "      <td>4</td>\n",
       "      <td>881.923000</td>\n",
       "      <td>0.221833</td>\n",
       "    </tr>\n",
       "    <tr>\n",
       "      <th>2</th>\n",
       "      <td>82.669</td>\n",
       "      <td>4.000</td>\n",
       "      <td>0.565</td>\n",
       "      <td>2.165</td>\n",
       "      <td>77.258</td>\n",
       "      <td>8.875</td>\n",
       "      <td>16.368</td>\n",
       "      <td>52.847</td>\n",
       "      <td>2021</td>\n",
       "      <td>4</td>\n",
       "      <td>1264.558944</td>\n",
       "      <td>0.243944</td>\n",
       "    </tr>\n",
       "    <tr>\n",
       "      <th>3</th>\n",
       "      <td>44.123</td>\n",
       "      <td>3.466</td>\n",
       "      <td>0.466</td>\n",
       "      <td>3.747</td>\n",
       "      <td>63.288</td>\n",
       "      <td>6.250</td>\n",
       "      <td>17.368</td>\n",
       "      <td>37.671</td>\n",
       "      <td>2021</td>\n",
       "      <td>4</td>\n",
       "      <td>1099.185984</td>\n",
       "      <td>0.599520</td>\n",
       "    </tr>\n",
       "    <tr>\n",
       "      <th>4</th>\n",
       "      <td>147.791</td>\n",
       "      <td>1.500</td>\n",
       "      <td>0.000</td>\n",
       "      <td>1.560</td>\n",
       "      <td>48.176</td>\n",
       "      <td>7.188</td>\n",
       "      <td>18.684</td>\n",
       "      <td>4.459</td>\n",
       "      <td>2021</td>\n",
       "      <td>4</td>\n",
       "      <td>900.120384</td>\n",
       "      <td>0.217028</td>\n",
       "    </tr>\n",
       "  </tbody>\n",
       "</table>\n",
       "</div>"
      ],
      "text/plain": [
       "   wind_direction  sky_condition  precipitation_form  wind_speed  humidity  \\\n",
       "0         108.833          3.000               0.000       2.900    28.333   \n",
       "1         116.717          3.850               0.000       2.662    46.417   \n",
       "2          82.669          4.000               0.565       2.165    77.258   \n",
       "3          44.123          3.466               0.466       3.747    63.288   \n",
       "4         147.791          1.500               0.000       1.560    48.176   \n",
       "\n",
       "   low_temp  high_temp  Precipitation_Probability  year  month    hot_score  \\\n",
       "0    11.800     20.667                     18.333  2021      4   585.558111   \n",
       "1    12.000     19.000                     28.500  2021      4   881.923000   \n",
       "2     8.875     16.368                     52.847  2021      4  1264.558944   \n",
       "3     6.250     17.368                     37.671  2021      4  1099.185984   \n",
       "4     7.188     18.684                      4.459  2021      4   900.120384   \n",
       "\n",
       "   cold_score  \n",
       "0    0.245763  \n",
       "1    0.221833  \n",
       "2    0.243944  \n",
       "3    0.599520  \n",
       "4    0.217028  "
      ]
     },
     "execution_count": 23,
     "metadata": {},
     "output_type": "execute_result"
    }
   ],
   "source": [
    "test['hot_score'] = test['high_temp'] * test['humidity']\n",
    "\n",
    "test['cold_score'] = test['wind_speed'] / test['low_temp']\n",
    "\n",
    "test = test.drop(['day'],axis = 1)\n",
    "test = test.drop(['date_time'],axis = 1)\n",
    "\n",
    "test.head()"
   ]
  },
  {
   "cell_type": "code",
   "execution_count": null,
   "id": "fdd804f4-5456-41f5-bcf3-ed344ab109dd",
   "metadata": {
    "id": "fdd804f4-5456-41f5-bcf3-ed344ab109dd"
   },
   "outputs": [],
   "source": [
    "#checkcode\n",
    "#empty"
   ]
  },
  {
   "attachments": {},
   "cell_type": "markdown",
   "id": "503d4774-4f3e-4217-a699-cf1a82ca2793",
   "metadata": {
    "id": "503d4774-4f3e-4217-a699-cf1a82ca2793"
   },
   "source": [
    "### Inst.\n",
    "\n",
    "test 셋에서도 train 셋과 같이 `더위 점수`, `추위 점수`를 생성하고, week_day, day, date_time 열을 삭제해 보겠습니다.   \n",
    "테스트 데이터도 모델 평가에 사용되므로, 모델이 테스트 데이터에서도 잘 작동하기 위해서는 테스트 데이터도 전처리 과정이 필요합니다.   \n",
    "\n",
    "또한, 실제 새로운 데이터가 모델에 입력될 때도 이 데이터가 모델 학습에 사용된 데이터와 같은 전처리 과정을 거쳐야 합니다.   \n",
    "따라서, 테스트 데이터도 학습 데이터와 동일한 방법으로 전처리해주는 것이 좋습니다.   "
   ]
  },
  {
   "attachments": {},
   "cell_type": "markdown",
   "id": "a255d1f1-0689-46c5-9a0f-a92760a6fcac",
   "metadata": {
    "id": "a255d1f1-0689-46c5-9a0f-a92760a6fcac"
   },
   "source": [
    "### Hint.\n",
    "empty"
   ]
  },
  {
   "attachments": {},
   "cell_type": "markdown",
   "id": "63986162-2007-4f41-bd54-39b90825eb47",
   "metadata": {
    "id": "63986162-2007-4f41-bd54-39b90825eb47"
   },
   "source": [
    "### Solution.\n",
    "empty"
   ]
  },
  {
   "attachments": {},
   "cell_type": "markdown",
   "id": "fb9671c5-369c-44eb-8f16-571fbf9153db",
   "metadata": {
    "id": "fb9671c5-369c-44eb-8f16-571fbf9153db"
   },
   "source": [
    "# 16. 종속변수 설정\n",
    "\n",
    "[문제 6]  \n",
    "예측할 종속 변수를 y 변수에 할당해 보세요."
   ]
  },
  {
   "cell_type": "code",
   "execution_count": 24,
   "id": "2c51df59-b3ec-43cc-a00d-6f296a84c98b",
   "metadata": {
    "id": "2c51df59-b3ec-43cc-a00d-6f296a84c98b",
    "outputId": "0c84bd2f-39ca-4d14-9a80-fce9dceda13f"
   },
   "outputs": [
    {
     "data": {
      "text/plain": [
       "0    22994\n",
       "1    28139\n",
       "2    26817\n",
       "3    26034\n",
       "4     2833\n",
       "Name: number_of_rentals, dtype: int64"
      ]
     },
     "execution_count": 24,
     "metadata": {},
     "output_type": "execute_result"
    }
   ],
   "source": [
    "y = ___['___']\n",
    "\n",
    "y.head()"
   ]
  },
  {
   "cell_type": "code",
   "execution_count": null,
   "id": "f4bdc3af-df06-48c7-a7ef-625a89d8550e",
   "metadata": {
    "id": "f4bdc3af-df06-48c7-a7ef-625a89d8550e"
   },
   "outputs": [],
   "source": [
    "#checkcode\n",
    "ensure_vals(globals(), 'y')\n",
    "@check_safety\n",
    "def check(user_answer = y):\n",
    "    c_point0 = user_answer.name == 'number_of_rentals'\n",
    "    if c_point0:\n",
    "        return True\n",
    "    else:\n",
    "        return False\n",
    "check()"
   ]
  },
  {
   "attachments": {},
   "cell_type": "markdown",
   "id": "68966717-198f-4e03-9df2-800f9c1e437a",
   "metadata": {
    "id": "68966717-198f-4e03-9df2-800f9c1e437a"
   },
   "source": [
    "### Inst.\n"
   ]
  },
  {
   "attachments": {},
   "cell_type": "markdown",
   "id": "814f9ce7",
   "metadata": {},
   "source": [
    "### Hint.\n",
    "해당 프로젝트의 종속변수는 `number_of_rentals` 입니다."
   ]
  },
  {
   "attachments": {},
   "cell_type": "markdown",
   "id": "69d7d027-6688-4cb6-87b1-edf342d2c2af",
   "metadata": {
    "id": "69d7d027-6688-4cb6-87b1-edf342d2c2af"
   },
   "source": [
    "### Solution.\n",
    "\n",
    "```python\n",
    "y = train['number_of_rentals']\n",
    "\n",
    "y.head()\n",
    "```"
   ]
  },
  {
   "attachments": {},
   "cell_type": "markdown",
   "id": "f08cadc7-70e5-498a-bff1-78f397c3936c",
   "metadata": {
    "id": "f08cadc7-70e5-498a-bff1-78f397c3936c"
   },
   "source": [
    "# 17. 독립변수 설정\n",
    "\n",
    "[문제 7]  \n",
    "train에서 features에 지정된 열들을 선택하여 변수 X에 저장해 보세요.  \n",
    "마찬가지로, test 데이터프레임에서도 features에 지정된 열들을 선택하여 변수 test에 저장합니다. "
   ]
  },
  {
   "cell_type": "code",
   "execution_count": null,
   "id": "3f8102da-e039-46eb-8eda-18b4b974e11f",
   "metadata": {
    "id": "3f8102da-e039-46eb-8eda-18b4b974e11f"
   },
   "outputs": [],
   "source": [
    "features = ['wind_direction', 'sky_condition', 'precipitation_form', 'wind_speed','humidity', 'low_temp', 'high_temp', 'Precipitation_Probability','year', 'month', 'hot_score', 'cold_score']\n",
    "\n",
    "X = train[___]\n",
    "\n",
    "test = test[___]"
   ]
  },
  {
   "cell_type": "code",
   "execution_count": 41,
   "id": "e29b6ed4-cb31-40b9-b79f-bcbc95147500",
   "metadata": {
    "id": "e29b6ed4-cb31-40b9-b79f-bcbc95147500",
    "outputId": "94b34864-51e0-483b-e063-817ec37dd21d"
   },
   "outputs": [
    {
     "data": {
      "text/plain": [
       "True"
      ]
     },
     "execution_count": 41,
     "metadata": {},
     "output_type": "execute_result"
    }
   ],
   "source": [
    "#checkcode\n",
    "ensure_vals(globals(), 'test', 'X')\n",
    "@check_safety\n",
    "def check(user_answer_test = test):\n",
    "    c_point1 = (user_answer_test.columns == X.columns).all()\n",
    "           \n",
    "    if c_point1:\n",
    "        return True\n",
    "    else:\n",
    "        return False\n",
    "    \n",
    "check()"
   ]
  },
  {
   "attachments": {},
   "cell_type": "markdown",
   "id": "8cf50ab6-554c-4f49-9c73-42b465aba33a",
   "metadata": {
    "id": "8cf50ab6-554c-4f49-9c73-42b465aba33a"
   },
   "source": [
    "### Inst.\n"
   ]
  },
  {
   "attachments": {},
   "cell_type": "markdown",
   "id": "dc64e191-8129-4b2f-b79d-4676bded0281",
   "metadata": {
    "id": "dc64e191-8129-4b2f-b79d-4676bded0281"
   },
   "source": [
    "### Hint.\n",
    "데이터셋['칼럼명']의 형태로 특정 변수를 불러올 수 있습니다."
   ]
  },
  {
   "attachments": {},
   "cell_type": "markdown",
   "id": "fa147c34-11ce-4c83-802c-69b7879a8cc4",
   "metadata": {
    "id": "fa147c34-11ce-4c83-802c-69b7879a8cc4"
   },
   "source": [
    "### Solution.\n",
    "```python\n",
    "features = ['wind_direction', 'sky_condition', 'precipitation_form', 'wind_speed','humidity', 'low_temp', 'high_temp', 'Precipitation_Probability','year', 'month', 'hot_score', 'cold_score']\n",
    "\n",
    "X = train[features]\n",
    "\n",
    "test = test[features]\n",
    "```"
   ]
  },
  {
   "attachments": {},
   "cell_type": "markdown",
   "id": "3beea4ee-821d-47b4-9b1e-c12aede8285d",
   "metadata": {
    "id": "3beea4ee-821d-47b4-9b1e-c12aede8285d"
   },
   "source": [
    "# 18. LinearRegression 모델 정의/학습/예측\n",
    "[문제 8]\n",
    "1. scikit-learn 라이브러리에서 선형 회귀 모델을 불러오세요.\n",
    "2. 선형회귀 모델을 정의하고, 그 결과를 model 변수에 할당해 주세요. \n",
    "3. model 객체를 사용하여 입력 데이터와 타겟 변수를 학습시켜보세요.  \n",
    "4. model 객체를 사용하여 test 데이터셋을 예측해 보세요."
   ]
  },
  {
   "cell_type": "code",
   "execution_count": null,
   "id": "93210ee0-ee65-44dd-b4b6-6a573ee9e461",
   "metadata": {
    "id": "93210ee0-ee65-44dd-b4b6-6a573ee9e461"
   },
   "outputs": [],
   "source": [
    "from ___.linear_model import ___\n",
    "\n",
    "model = ___()\n",
    "model.___(___,___)\n",
    "predict = model.___(___)  \n",
    "    \n",
    "print(predict[:10])"
   ]
  },
  {
   "cell_type": "code",
   "execution_count": null,
   "id": "51000825-b338-4955-8442-f3f0c2602af9",
   "metadata": {
    "id": "51000825-b338-4955-8442-f3f0c2602af9"
   },
   "outputs": [],
   "source": [
    "#checkcode\n",
    "ensure_vals(globals(),'X','y','model','test')\n",
    "@check_safety\n",
    "def check(\n",
    "    user_model = 'LinearRegression()',\n",
    "    user_answer_test = test,\n",
    "    user_answer_predict = predict\n",
    "):\n",
    "\n",
    "    c_point0 = (str(model)== user_model)\n",
    "    c_point1 = (len(user_answer_test) == len(user_answer_predict))\n",
    "\n",
    "    if c_point0 and c_point1:\n",
    "        return True\n",
    "    else:\n",
    "        return False\n",
    "check()"
   ]
  },
  {
   "attachments": {},
   "cell_type": "markdown",
   "id": "cc1fb6c4-6a9d-4b6e-8bce-2d385c294da6",
   "metadata": {
    "id": "cc1fb6c4-6a9d-4b6e-8bce-2d385c294da6"
   },
   "source": [
    "### Inst.\n"
   ]
  },
  {
   "attachments": {},
   "cell_type": "markdown",
   "id": "7472f9c4-32c1-4bc5-9368-b9b70bb8b442",
   "metadata": {
    "id": "7472f9c4-32c1-4bc5-9368-b9b70bb8b442"
   },
   "source": [
    "### Hint.\n",
    "1. scikit-learn 라이브러리에서 선형 회귀 모델인 LinearRegression을 import 해오세요.\n",
    "2. LinearRegression 모델을 정의하고, 그 결과를 model 변수에 할당해 주세요. \n",
    "3. model 객체를 사용하여 입력 데이터와 타겟 변수를 fit 시켜보세요.  \n",
    "4. model 객체를 사용하여 test 데이터셋을 predict 해 보세요."
   ]
  },
  {
   "attachments": {},
   "cell_type": "markdown",
   "id": "53cbf56e-e37a-461f-bf89-c30dfa4720e1",
   "metadata": {
    "id": "53cbf56e-e37a-461f-bf89-c30dfa4720e1"
   },
   "source": [
    "### Solution.\n",
    "```python\n",
    "from sklearn.linear_model import LinearRegression\n",
    "\n",
    "model = LinearRegression()\n",
    "model.fit(X, y)\n",
    "predict = model.predict(test)     \n",
    " \n",
    "print(predict[:10])\n",
    "\n",
    "```"
   ]
  },
  {
   "attachments": {},
   "cell_type": "markdown",
   "id": "62be96e1-4bde-44ef-ad05-3d364facbc02",
   "metadata": {
    "id": "62be96e1-4bde-44ef-ad05-3d364facbc02"
   },
   "source": [
    "# 19. submission 파일에 예측값 할당\n"
   ]
  },
  {
   "cell_type": "code",
   "execution_count": null,
   "id": "ada4f9aa-3e5f-4459-b82c-acd0a3653cfe",
   "metadata": {
    "id": "ada4f9aa-3e5f-4459-b82c-acd0a3653cfe",
    "outputId": "f53f4199-a66a-4fab-a29a-84b296e01cba"
   },
   "outputs": [
    {
     "data": {
      "text/html": [
       "<div>\n",
       "<style scoped>\n",
       "    .dataframe tbody tr th:only-of-type {\n",
       "        vertical-align: middle;\n",
       "    }\n",
       "\n",
       "    .dataframe tbody tr th {\n",
       "        vertical-align: top;\n",
       "    }\n",
       "\n",
       "    .dataframe thead th {\n",
       "        text-align: right;\n",
       "    }\n",
       "</style>\n",
       "<table border=\"1\" class=\"dataframe\">\n",
       "  <thead>\n",
       "    <tr style=\"text-align: right;\">\n",
       "      <th></th>\n",
       "      <th>date_time</th>\n",
       "      <th>number_of_rentals</th>\n",
       "    </tr>\n",
       "  </thead>\n",
       "  <tbody>\n",
       "    <tr>\n",
       "      <th>0</th>\n",
       "      <td>2021-04-01</td>\n",
       "      <td>96175.644221</td>\n",
       "    </tr>\n",
       "    <tr>\n",
       "      <th>1</th>\n",
       "      <td>2021-04-02</td>\n",
       "      <td>93845.209833</td>\n",
       "    </tr>\n",
       "    <tr>\n",
       "      <th>2</th>\n",
       "      <td>2021-04-03</td>\n",
       "      <td>77136.792757</td>\n",
       "    </tr>\n",
       "    <tr>\n",
       "      <th>3</th>\n",
       "      <td>2021-04-04</td>\n",
       "      <td>76208.340113</td>\n",
       "    </tr>\n",
       "    <tr>\n",
       "      <th>4</th>\n",
       "      <td>2021-04-05</td>\n",
       "      <td>104855.476063</td>\n",
       "    </tr>\n",
       "  </tbody>\n",
       "</table>\n",
       "</div>"
      ],
      "text/plain": [
       "    date_time  number_of_rentals\n",
       "0  2021-04-01       96175.644221\n",
       "1  2021-04-02       93845.209833\n",
       "2  2021-04-03       77136.792757\n",
       "3  2021-04-04       76208.340113\n",
       "4  2021-04-05      104855.476063"
      ]
     },
     "execution_count": 41,
     "metadata": {},
     "output_type": "execute_result"
    }
   ],
   "source": [
    "submission['number_of_rentals'] = predict\n",
    "submission.head()"
   ]
  },
  {
   "cell_type": "code",
   "execution_count": null,
   "id": "8c370e82-cd93-43c3-97ed-423c331bab07",
   "metadata": {
    "id": "8c370e82-cd93-43c3-97ed-423c331bab07"
   },
   "outputs": [],
   "source": [
    "#checkcode\n",
    "#empty"
   ]
  },
  {
   "attachments": {},
   "cell_type": "markdown",
   "id": "d163bdfa-bc2f-426f-8402-bbee26f02d7c",
   "metadata": {
    "id": "d163bdfa-bc2f-426f-8402-bbee26f02d7c"
   },
   "source": [
    "### Inst.\n",
    "예측값 predict을 submission 데이터프레임(DataFrame)의 number_of_rentals 열(column)에 할당해 주도록 하겠습니다."
   ]
  },
  {
   "attachments": {},
   "cell_type": "markdown",
   "id": "223cfb5c-8726-4d82-8f4c-fec66d3ac422",
   "metadata": {
    "id": "223cfb5c-8726-4d82-8f4c-fec66d3ac422"
   },
   "source": [
    "### Hint.\n",
    "empty"
   ]
  },
  {
   "attachments": {},
   "cell_type": "markdown",
   "id": "cd9882cf-2d7b-4a4c-a5d9-88b7df65cb2b",
   "metadata": {
    "id": "cd9882cf-2d7b-4a4c-a5d9-88b7df65cb2b"
   },
   "source": [
    "### Solution.\n",
    "empty"
   ]
  },
  {
   "attachments": {},
   "cell_type": "markdown",
   "id": "2097a536-3077-4a96-b052-092bf84f7b23",
   "metadata": {
    "id": "2097a536-3077-4a96-b052-092bf84f7b23"
   },
   "source": [
    "# 20. 연도 별 인플레이션을 반영한 따릉이 대여량 조정 계산(2021년도 기준)\n",
    "\n",
    "\n",
    "앞서 EDA를 통해 얻은 인사이트를 바탕으로, 2021년도를 기준으로 하는 Year inflation 변수를 생성해 보겠습니다."
   ]
  },
  {
   "cell_type": "code",
   "execution_count": 33,
   "id": "35a5673b-cd5e-4cc9-a088-647b2396458f",
   "metadata": {
    "colab": {
     "base_uri": "https://localhost:8080/",
     "height": 132
    },
    "executionInfo": {
     "elapsed": 10,
     "status": "error",
     "timestamp": 1670891098789,
     "user": {
      "displayName": "송지은",
      "userId": "04554582486449103299"
     },
     "user_tz": -540
    },
    "id": "35a5673b-cd5e-4cc9-a088-647b2396458f",
    "outputId": "389515ae-3760-47f2-a4b0-71754168b359"
   },
   "outputs": [],
   "source": [
    "x1 = sum(train[train['year']==2018]['number_of_rentals'])\n",
    "x2 = sum(train[train['year']==2019]['number_of_rentals'])\n",
    "x3 = sum(train[train['year']==2020]['number_of_rentals'])\n",
    "x4 = sum(submission['number_of_rentals'])\n",
    "\n",
    "def rental_rate_change(df):    \n",
    "\n",
    "    y1 = df[df['year'] == 2018]['number_of_rentals'] * round(x4/x1, 2)       \n",
    "    y2 = df[df['year'] == 2019]['number_of_rentals'] * round(x4/x2, 2)       \n",
    "    y3 = df[df['year'] == 2020]['number_of_rentals'] * round(x4/x3, 2)      \n",
    "    new = pd.concat([y1, y2, y3], axis=0).to_frame()          \n",
    "    df['inflation_rentals'] = new['number_of_rentals']      \n",
    "\n",
    "rental_rate_change(train)"
   ]
  },
  {
   "cell_type": "code",
   "execution_count": null,
   "id": "2d883022-d86c-41b4-ad2d-6fd78c925b69",
   "metadata": {
    "id": "2d883022-d86c-41b4-ad2d-6fd78c925b69",
    "outputId": "52dd5a9d-b17e-441c-bbfe-a5cd92cc41ef"
   },
   "outputs": [
    {
     "data": {
      "text/plain": [
       "True"
      ]
     },
     "execution_count": 44,
     "metadata": {},
     "output_type": "execute_result"
    }
   ],
   "source": [
    "#checkcode\n",
    "#empty"
   ]
  },
  {
   "attachments": {},
   "cell_type": "markdown",
   "id": "839c520b-b51f-4048-8a85-559301228b4f",
   "metadata": {
    "id": "839c520b-b51f-4048-8a85-559301228b4f"
   },
   "source": [
    "### Inst.\n",
    "이번 스테이지에서 해가 지날수록 따릉이 대여량이 꾸준히 증가하는 것을 확인할 수 있었습니다.  \n",
    "이러한 특성을 반영하기 위해 inflation_rentals라는 변수명으로 2021년도 기준의 Year inflation 을 생성해 봅시다.  \n",
    "\n",
    "해당 코드는 'rental_rate_change'라는 함수를 정의하고,   \n",
    "이 함수를 이용하여 데이터프레임(df)의 'number_of_rentals' 열 값을 인플레이션에 따라 조정하여 'inflation_rentals' 열을 생성하는 과정을 나타냅니다.\n",
    "\n",
    "먼저, 인플레이션 비율을 적용하기 위해 x1, x2, x3, x4 변수에 각 연도별 대여량 합계를 저장합니다.  \n",
    "주어진 데이터프레임(df)에서 연도가 '2018', '2019', '2020'인 행들의 'number_of_rentals' 값을 각각 y1, y2, y3 변수에 할당합니다.    \n",
    "\n",
    "그 다음, y1, y2, y3 값을 인플레이션 비율을 적용하여 새로운 데이터프레임(new)에 수직 방향으로 결합합니다.   \n",
    "이때, to_frame() 함수를 사용하여 데이터프레임 형태로 변환합니다.\n",
    "\n",
    "마지막으로, new 데이터프레임의 'number_of_rentals' 열 값을 원래의 데이터프레임(df)의 'inflation_rentals' 열에 할당하여 새로운 열을 생성합니다.\n"
   ]
  },
  {
   "attachments": {},
   "cell_type": "markdown",
   "id": "36d2615f-ae1e-4ee0-a8c3-821d901c140f",
   "metadata": {
    "id": "36d2615f-ae1e-4ee0-a8c3-821d901c140f"
   },
   "source": [
    "### Hint.\n",
    "empty"
   ]
  },
  {
   "attachments": {},
   "cell_type": "markdown",
   "id": "f8de4960-42ed-4317-a5cd-a47a7da5d8b8",
   "metadata": {
    "id": "f8de4960-42ed-4317-a5cd-a47a7da5d8b8"
   },
   "source": [
    "### Solution.\n",
    "empty\n"
   ]
  },
  {
   "attachments": {},
   "cell_type": "markdown",
   "id": "ec34823c-001d-41b3-943a-c25e87224d74",
   "metadata": {
    "id": "ec34823c-001d-41b3-943a-c25e87224d74"
   },
   "source": [
    "# 21. 파생변수 생성 후 모델 학습\n",
    "`inflation_rentals` 값을 이제 모델에 적용하여 다시 한번 예측해 봅시다."
   ]
  },
  {
   "cell_type": "code",
   "execution_count": null,
   "id": "1314276b-19d6-43af-bf28-0b68b60d5013",
   "metadata": {
    "id": "1314276b-19d6-43af-bf28-0b68b60d5013"
   },
   "outputs": [],
   "source": [
    "X = train.drop(['number_of_rentals', 'inflation_rentals'], axis = 1)\n",
    "y = train['inflation_rentals']\n",
    "\n",
    "model = LinearRegression()\n",
    "model.fit(X,y)\n",
    "predict = model.predict(test)"
   ]
  },
  {
   "cell_type": "code",
   "execution_count": null,
   "id": "3a38354b-b076-43ba-be93-f47fb4ad3030",
   "metadata": {
    "id": "3a38354b-b076-43ba-be93-f47fb4ad3030"
   },
   "outputs": [],
   "source": [
    "#checkcode\n",
    "#empty"
   ]
  },
  {
   "attachments": {},
   "cell_type": "markdown",
   "id": "4de8d27a-dfa3-494b-8866-1753846bad89",
   "metadata": {
    "id": "4de8d27a-dfa3-494b-8866-1753846bad89"
   },
   "source": [
    "### Inst.\n",
    "\n",
    "2021년의 Year inflation(인플레이션)을 적용한 `inflation_rentals` 값을 모델에 적용하여 predict 변수를 만들어 봅시다.  \n",
    "\n",
    "이전 스텝에서 number_of_rentals 열을 종속변수로 설정했지만, 이번 스텝에서는 inflation_rentals 열을 종속변수로 선택하였습니다.  \n",
    "inflation_rentals 열이 number_of_rentals 열에 인플레이션을 반영한 데이터이기 때문에,  \n",
    "inflation_rentals 열을 사용하는 것으로 number_of_rentals 열에 가중치를 부여한 것과 동일한 결과를 얻을 수 있습니다.  "
   ]
  },
  {
   "attachments": {},
   "cell_type": "markdown",
   "id": "36b97358-f947-40e1-93b3-330c0e8a6fd2",
   "metadata": {
    "id": "36b97358-f947-40e1-93b3-330c0e8a6fd2"
   },
   "source": [
    "### Hint.\n",
    "empty"
   ]
  },
  {
   "attachments": {},
   "cell_type": "markdown",
   "id": "fcff0859-f0c6-4829-a36a-5b856c1404d9",
   "metadata": {
    "id": "fcff0859-f0c6-4829-a36a-5b856c1404d9"
   },
   "source": [
    "### Solution.\n",
    "empty"
   ]
  },
  {
   "attachments": {},
   "cell_type": "markdown",
   "id": "cd1cbb49",
   "metadata": {},
   "source": [
    "# 22. submission 파일에 target 값 채우기\n",
    "\n",
    "[문제 9]  \n",
    "submission 데이터프레임의 `number_of_rentals` 칼럼에 모델링을 통해 예측한 predict 값을 할당합니다."
   ]
  },
  {
   "cell_type": "code",
   "execution_count": null,
   "id": "349dab9a",
   "metadata": {},
   "outputs": [
    {
     "data": {
      "text/html": [
       "<div>\n",
       "<style scoped>\n",
       "    .dataframe tbody tr th:only-of-type {\n",
       "        vertical-align: middle;\n",
       "    }\n",
       "\n",
       "    .dataframe tbody tr th {\n",
       "        vertical-align: top;\n",
       "    }\n",
       "\n",
       "    .dataframe thead th {\n",
       "        text-align: right;\n",
       "    }\n",
       "</style>\n",
       "<table border=\"1\" class=\"dataframe\">\n",
       "  <thead>\n",
       "    <tr style=\"text-align: right;\">\n",
       "      <th></th>\n",
       "      <th>date_time</th>\n",
       "      <th>number_of_rentals</th>\n",
       "    </tr>\n",
       "  </thead>\n",
       "  <tbody>\n",
       "    <tr>\n",
       "      <th>0</th>\n",
       "      <td>2021-04-01</td>\n",
       "      <td>95753.391583</td>\n",
       "    </tr>\n",
       "    <tr>\n",
       "      <th>1</th>\n",
       "      <td>2021-04-02</td>\n",
       "      <td>93038.724676</td>\n",
       "    </tr>\n",
       "    <tr>\n",
       "      <th>2</th>\n",
       "      <td>2021-04-03</td>\n",
       "      <td>72440.293988</td>\n",
       "    </tr>\n",
       "    <tr>\n",
       "      <th>3</th>\n",
       "      <td>2021-04-04</td>\n",
       "      <td>73765.538585</td>\n",
       "    </tr>\n",
       "    <tr>\n",
       "      <th>4</th>\n",
       "      <td>2021-04-05</td>\n",
       "      <td>104582.080368</td>\n",
       "    </tr>\n",
       "  </tbody>\n",
       "</table>\n",
       "</div>"
      ],
      "text/plain": [
       "    date_time  number_of_rentals\n",
       "0  2021-04-01       95753.391583\n",
       "1  2021-04-02       93038.724676\n",
       "2  2021-04-03       72440.293988\n",
       "3  2021-04-04       73765.538585\n",
       "4  2021-04-05      104582.080368"
      ]
     },
     "metadata": {},
     "output_type": "display_data"
    }
   ],
   "source": [
    "___['___'] = ___\n",
    "submission.head()"
   ]
  },
  {
   "cell_type": "code",
   "execution_count": null,
   "id": "6d47b05c",
   "metadata": {},
   "outputs": [
    {
     "data": {
      "text/plain": [
       "True"
      ]
     },
     "metadata": {},
     "output_type": "display_data"
    }
   ],
   "source": [
    "#checkcode\n",
    "ensure_vals(globals(), 'submission', 'predict')\n",
    "@check_safety\n",
    "def check(\n",
    "    user_answer_submission = submission, \n",
    "    user_answer_prediction = predict\n",
    "):\n",
    "    c_point1 = (user_answer_submission['number_of_rentals'] == user_answer_prediction).all()\n",
    "    \n",
    "    if c_point1:\n",
    "        return True\n",
    "    else:\n",
    "        return False\n",
    "    \n",
    "check()"
   ]
  },
  {
   "attachments": {},
   "cell_type": "markdown",
   "id": "ae71456a",
   "metadata": {},
   "source": [
    "### Inst."
   ]
  },
  {
   "attachments": {},
   "cell_type": "markdown",
   "id": "4ccdda3e",
   "metadata": {},
   "source": [
    "### Hint.\n",
    "empty"
   ]
  },
  {
   "attachments": {},
   "cell_type": "markdown",
   "id": "aa6f8349",
   "metadata": {},
   "source": [
    "### Solution.\n",
    "```python\n",
    "submission['number_of_rentals'] = predict    \n",
    "submission.head()\n",
    "```"
   ]
  },
  {
   "attachments": {},
   "cell_type": "markdown",
   "id": "3e316467",
   "metadata": {},
   "source": [
    "# 23. 데이터프레임(DataFrame)을 CSV 파일로 저장하기\n"
   ]
  },
  {
   "cell_type": "code",
   "execution_count": null,
   "id": "44fce89a",
   "metadata": {},
   "outputs": [],
   "source": [
    "submission.to_csv('submission.csv', index=False)"
   ]
  },
  {
   "cell_type": "code",
   "execution_count": null,
   "id": "54e74f62",
   "metadata": {},
   "outputs": [],
   "source": [
    "#checkcode\n",
    "#empty"
   ]
  },
  {
   "attachments": {},
   "cell_type": "markdown",
   "id": "d9019805",
   "metadata": {},
   "source": [
    "### Inst.\n",
    "> 예시: submission.to_csv('저장할 csv 파일명', index=False)"
   ]
  },
  {
   "attachments": {},
   "cell_type": "markdown",
   "id": "356f7690",
   "metadata": {},
   "source": [
    "### Hint.\n",
    "empty"
   ]
  },
  {
   "attachments": {},
   "cell_type": "markdown",
   "id": "1624e96f",
   "metadata": {},
   "source": [
    "### Solution.\n",
    "empty"
   ]
  }
 ],
 "metadata": {
  "colab": {
   "collapsed_sections": [
    "9efe0b1a-fdfc-4eca-b260-da9fa6f1f33f",
    "a6fc09ee-6000-4cd8-a2bd-5045bb61d683",
    "83595990-4fb6-4414-8c88-3aae96a8a6c3",
    "227b5fe4-6058-4361-9a45-1c8676b2eb88",
    "a80bb7df-e1cf-4f95-8204-42121b1652e2",
    "60d44e21-8b45-48dd-aac0-edda5a734d64",
    "abee0db9-9cfd-4455-b204-9c9971178bf0",
    "faa96c0b-d6e5-4bcc-aea5-953b30008492",
    "6dab555d-aced-4d57-a990-69387c65065d",
    "70b66b22-b9db-4345-b6b5-609c8056a8a7",
    "5b76f610-f5f9-4051-bf90-7688051a3770",
    "0c52486a-6e19-4606-8d59-8b0bb7ff4039",
    "99528d41-3fab-4f9f-b425-e9421b919e5e",
    "c9ba17fa-b976-40c0-b2c5-9a0aee10ab27",
    "385b172a-de63-4a6b-b015-67009597ac47",
    "6b57015a-f874-41b4-a63b-8f7875d56ad7",
    "4d298564-abee-42b7-9391-aec0eba33a04",
    "44533b90-629e-46c9-857e-6b73e40e5c50",
    "d3137d6f-9745-499f-9aec-0aae9d36a260",
    "5ed02246-0538-4e39-9dd2-d0302459ef76",
    "235484f2-f9a4-4561-a5a7-d9e63631d7a1",
    "5d739cf0-befb-4ebe-9c97-782ed02a09f6",
    "78aebd51-1cde-4b46-b5ff-8351ba474abc",
    "1775334b-5d7c-43cc-8188-02709176f71a",
    "caae2b3f-3cba-470d-aac2-70f602161824",
    "332e1def-b401-4dc7-a849-5a332cc0b9db",
    "daafd240-fbeb-425c-ae33-95cef1543ada",
    "4dd7e920-1c73-4308-8bf2-b4f0958768e7",
    "300beae4-8422-47c3-bac7-8fd11c3bd172",
    "d14cd52a-f7e9-49b0-97b6-dcc452e72a1c",
    "c8f29471-d8d5-4619-86dc-dea0745b61cd",
    "b8a735a7-f65b-45d4-881f-746a544f5ecb",
    "32a9a94b-ccd3-4e77-ba70-dd1e2c2f54c1",
    "3b464bb2-2ca7-4808-96d7-6e56ba121cd0",
    "503d4774-4f3e-4217-a699-cf1a82ca2793",
    "a255d1f1-0689-46c5-9a0f-a92760a6fcac",
    "63986162-2007-4f41-bd54-39b90825eb47",
    "68966717-198f-4e03-9df2-800f9c1e437a",
    "430bdea2-b3c8-41dd-8303-0bc489d1263c",
    "8cf50ab6-554c-4f49-9c73-42b465aba33a",
    "fa147c34-11ce-4c83-802c-69b7879a8cc4",
    "cc1fb6c4-6a9d-4b6e-8bce-2d385c294da6",
    "7472f9c4-32c1-4bc5-9368-b9b70bb8b442",
    "53cbf56e-e37a-461f-bf89-c30dfa4720e1",
    "aad1e3e2-bcc5-4c4a-b280-6e358f46de44",
    "27754227-3ac4-4038-8c7b-3df9dea1fffa",
    "54236ac3-9513-4054-b4cb-4c4bdc20fa2e",
    "7e8682ce-47b4-442f-83ec-1808add40b4b",
    "d163bdfa-bc2f-426f-8402-bbee26f02d7c",
    "223cfb5c-8726-4d82-8f4c-fec66d3ac422",
    "cd9882cf-2d7b-4a4c-a5d9-88b7df65cb2b",
    "839c520b-b51f-4048-8a85-559301228b4f",
    "36d2615f-ae1e-4ee0-a8c3-821d901c140f",
    "4de8d27a-dfa3-494b-8866-1753846bad89",
    "36b97358-f947-40e1-93b3-330c0e8a6fd2",
    "fcff0859-f0c6-4829-a36a-5b856c1404d9",
    "4c332367-1492-4b59-b886-cb1637be59e3",
    "87fcdf00-2f27-4a8c-a371-8cdc607e7da7",
    "02282882-c01d-4ff7-8afd-777eb9d7900d",
    "0361a43e-8513-4c17-a108-92ef7abfacf6"
   ],
   "provenance": []
  },
  "kernelspec": {
   "display_name": "taerang",
   "language": "python",
   "name": "taerang"
  },
  "language_info": {
   "codemirror_mode": {
    "name": "ipython",
    "version": 3
   },
   "file_extension": ".py",
   "mimetype": "text/x-python",
   "name": "python",
   "nbconvert_exporter": "python",
   "pygments_lexer": "ipython3",
   "version": "3.9.7"
  }
 },
 "nbformat": 4,
 "nbformat_minor": 5
}
