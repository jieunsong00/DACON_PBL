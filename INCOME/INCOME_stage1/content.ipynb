{
  "cells": [
    {
      "cell_type": "code",
      "execution_count": 1,
      "id": "gl-lzxlgnvJY",
      "metadata": {
        "id": "gl-lzxlgnvJY",
        "trusted": true
      },
      "outputs": [],
      "source": [
        "#hiddencell\n",
        "from pbl_tools import *"
      ]
    },
    {
      "cell_type": "markdown",
      "id": "7be9b79e-74eb-4594-b98a-3490a41713fa",
      "metadata": {
        "id": "7be9b79e-74eb-4594-b98a-3490a41713fa"
      },
      "source": [
        "# 인구 소득 예측 (초급)\n",
        "![inner-인구데이터기반소득예측 (1)](https://github.com/jieun-ai/pytorch_study/assets/75363345/a86484ff-59d9-41cd-9285-acc1afe6f8f8)\n",
        "\n",
        "\n",
        "## 소개\n",
        "안녕하세요, 데이커 여러분!🙌\n",
        "\n",
        "인구 소득 예측 프로젝트에 참여하신 여러분을 환영합니다.\n",
        "이 프로젝트는 인구 통계학적 정보와 일반적인 생활 습관 등 다양한 특성들을 활용하여 개인의 소득 수준💵을 예측하는 문제에 대해 다룹니다.   \n",
        "데이터 분석과 머신러닝 기법을 활용하여 소득과 관련된 핵심 요소들을 파악하고, 최적의 모델을 구축하는 방법을 배우게 됩니다.\n",
        "\n",
        "이 프로젝트를 통해 여러분은 실제 데이터와 타겟 변수 간의 관계를 깊이 있게 분석하고, 데이터 전처리 및 피처 엔지니어링 기법을 적용하여 모델 성능을 향상시킬 수 있습니다.   \n",
        "또한, 모델링 기법과 평가 방법론에 대해 학습하여 실전에서 좋은 성과를 얻는 데 도움이 될 것입니다.\n",
        "\n",
        "함께 인구 소득 예측 문제를 해결하며 데이터 분석의 깊이 있는 경험과 창의력을 함양해보세요.   \n",
        "준비되셨나요? 함께 시작해봅시다!\n",
        "\n",
        "\n",
        "## 목적\n",
        "\n",
        "이 프로젝트는 실제 데이터 사이언티스트들이 머신러닝 문제에 직면했을 때 적용하는 방법론들을 예시하고, 창의적인 데이터 분석 역량과 인내력을 향상시키는 것을 목표로 합니다.   \n",
        "데이터 분석, 전처리, 피처 엔지니어링, 모델링 절차들은 실전에서 많은 도전과 시도를 필요로 하며, 고정된 답이 있는 것이 아닙니다.\n",
        "\n",
        "본 교재는 여러분의 데이터 분석 역량을 향상시키기 위한 발판으로 제공됩니다.   \n",
        "하지만 여러분은 이 교재의 내용을 넘어서 자신만의 독특하고 효과적인 방법론을 개발해나갈 수 있습니다.   \n",
        "여러분의 창의력과 노력으로 상위 랭커로 도약하기 위한 발판을 만들어 나가는 것이 이 프로젝트의 목적입니다.\n",
        "\n",
        "실제 데이터 사이언스 업무에서 요구되는 문제 해결 능력과 창의성을 기르며, 데이터 분석 및 모델링에 대한 전문성을 강화하는 것에 초점을 맞추고 있습니다.   \n",
        "이 프로젝트를 통해 여러분은 현업에서 활용 가능한 실전 경험과 독창적인 방법론 개발에 한 걸음 다가갈 수 있습니다.\n",
        "\n",
        "자신만의 독특한 접근 방식과 지속적인 학습으로 인구 소득 예측 프로젝트를 넘어서 상위 랭커로 도약할 수 있는 발판을 만들어봅시다!\n",
        "\n",
        "\n",
        "### 데이터에는 다음과 같은 피처가 존재합니다. \n",
        "- id : 샘플 아이디\n",
        "- age : 나이\n",
        "- workclass : 고용 형태 (일하는 조직 또는 회사의 종류)\n",
        "- fnlwgt : CPS(Current Population Survey) 가중치\n",
        "- education : 교육수준\n",
        "- education.num : 교육수준 번호\n",
        "- marital.status : 결혼 상태\n",
        "- occupation : 직업\n",
        "- relationship : 가족관계\n",
        "- race : 인종\n",
        "- sex : 성별\n",
        "- capital.gain : 자본 이익\n",
        "- capital.loss : 자본 손실\n",
        "- hours.per.week : 주당 근무시간\n",
        "- native.country : 본 국적\n",
        "- target : 소득\n",
        "    - 0 = <=50K (5만 달러 이하)\n",
        "    - 1 >50K (5만 달러 초과)\n",
        "\n",
        "\n",
        "# 스테이지 1. 데이터 로딩 및 초기 탐색\n",
        "## 도입\n",
        "\n",
        "안녕하세요, 데이터 사이언티스트 여러분!\n",
        "\n",
        "우리는 이번 스테이지에서 '데이터 로딩 및 초기 탐색'에 초점을 맞추게 됩니다.  이 프로젝트의 목표는 인구 소득 예측 문제를 다루며, 데이터를 탐색하여 문제를 명확하게 이해하고 필요한 피처에 대한 통찰력을 얻는 것입니다.\n",
        "\n",
        "첫 번째 스텝에서는 pandas 라이브러리를 활용하여 데이터를 로드합니다. train.csv, test.csv, sample_submission.csv 파일을 데이터프레임으로 불러와서 데이터셋의 구조와 변수를 확인합니다. 또한, test 데이터의 상위 3개 행도 살펴보겠습니다.\n",
        "\n",
        "데이터프레임을 CSV 파일로 저장하는 과정도 함께 진행할 것입니다.\n",
        "\n",
        "이번 단계를 통해 주어진 인구 소득 예측 문제에 대한 초기 탐색을 시작하고, 데이터셋의 특성과 변수에 대한 이해를 높일 것입니다.\n",
        "\n",
        "준비가 되셨나요? 그럼 함께 시작해봅시다!\n",
        "\n",
        "## 목표\n",
        "\n",
        "- 주어진 인구 소득 예측 문제에 대한 정의와 필요한 피처들에 대하여 명확하게 이해하기\n",
        "- pandas 라이브러리를 사용하여 train.csv, test.csv, sample_submission.csv 파일을 데이터프레임으로 읽어오기\n",
        "- 상위 5개 행(row)과 상위 3개 행(row)의 데이터 출력하여 구조와 변수 확인하기\n",
        "- 필요한 경우 전처리 작업 및 CSV 파일로 저장하기"
      ]
    },
    {
      "cell_type": "markdown",
      "id": "e0a53abf",
      "metadata": {
        "id": "e0a53abf"
      },
      "source": [
        "# 1.데이터 분석을 위한 pandas 라이브러리(Library) import\n",
        "[문제 1]  \n",
        "pandas 라이브러리(Library)를 `import` 하기 위해서 아래 빈칸을 채워 주세요.  \n",
        "`pandas`는 자주 사용하는 라이브러리(Library)이므로 축약어인 `pd`로 불러와 주세요."
      ]
    },
    {
      "cell_type": "code",
      "execution_count": 31,
      "id": "c0893bea-8d9f-49ff-80c2-3a376f2e3a34",
      "metadata": {
        "id": "c0893bea-8d9f-49ff-80c2-3a376f2e3a34",
        "tags": []
      },
      "outputs": [],
      "source": [
        "import pandas as ___"
      ]
    },
    {
      "cell_type": "code",
      "execution_count": 4,
      "id": "0a3079f3-87c2-42ec-b40f-70397ebd6ec6",
      "metadata": {
        "id": "0a3079f3-87c2-42ec-b40f-70397ebd6ec6",
        "trusted": true
      },
      "outputs": [
        {
          "data": {
            "text/plain": [
              "True"
            ]
          },
          "execution_count": 4,
          "metadata": {},
          "output_type": "execute_result"
        }
      ],
      "source": [
        "#checkcode\n",
        "ensure_vals(globals(), 'pd')\n",
        "@check_safety\n",
        "def check(\n",
        "    user_answer_pandas: str\n",
        "):\n",
        "    if hasattr(user_answer_pandas, 'read_csv'):\n",
        "        return True\n",
        "    else:\n",
        "        return False\n",
        "check(pd)"
      ]
    },
    {
      "cell_type": "markdown",
      "id": "bcc0af42-e5d6-493a-a958-07e93a45ebbb",
      "metadata": {
        "id": "bcc0af42-e5d6-493a-a958-07e93a45ebbb"
      },
      "source": [
        "### Inst.\n",
        "`import pandas as pd`는 Python에서 **판다스(pandas) 라이브러리(library)를 import** 하는 코드입니다.  \n",
        "판다스는 데이터 분석과 관련된 다양한 기능을 제공하며,  \n",
        "표 형식의 데이터를 다루는 데 특화되어 있습니다.  \n",
        "\n",
        "코드를 사용하기 위해서는 먼저 Python 환경에서 판다스 라이브러리를 설치해야 합니다.  \n",
        "설치가 완료되면, Python 스크립트나 Jupyter Notebook 등에서 `import pandas as pd` 코드를 작성하면 됩니다.  \n",
        "이렇게 작성하면 판다스 라이브러리에서 제공하는 다양한 **함수와 클래스**를 사용할 수 있습니다.  \n",
        "\n",
        "이 코드는 \"모듈 불러오기\"라는 기법 중 하나입니다.  \n",
        "Python에서 모듈은 함수, 클래스, 변수 등을 정의하고 있는 파일을 의미합니다.  \n",
        "`import pandas`는 판다스 모듈을 불러오는 것이며,  \n",
        "`as pd`는 판다스 모듈을 pd라는 이름으로 사용하겠다는 의미입니다.  \n",
        "이렇게 하면 코드 작성 시 판다스 함수나 클래스를 `pd.` 접두사를 붙여서 사용할 수 있습니다.   "
      ]
    },
    {
      "cell_type": "markdown",
      "id": "bfad26fa-93ec-4edf-aecb-6385ed0c67b4",
      "metadata": {
        "id": "bfad26fa-93ec-4edf-aecb-6385ed0c67b4"
      },
      "source": [
        "### Hint.\n",
        "empty"
      ]
    },
    {
      "cell_type": "markdown",
      "id": "832b1ffd-047a-4347-8cd9-334e5ab0149d",
      "metadata": {
        "id": "832b1ffd-047a-4347-8cd9-334e5ab0149d"
      },
      "source": [
        "### Solution.\n",
        "```python\n",
        "import pandas as pd\n",
        "```"
      ]
    },
    {
      "cell_type": "markdown",
      "id": "89621309",
      "metadata": {},
      "source": [
        "# 2.train.csv 파일을 pandas를 이용해 데이터프레임으로 읽어오기\n",
        "[문제 2]  \n",
        "`train.csv` 파일을 데이터프레임(DataFrame)으로 읽어오기 위해 `read_csv()` 함수를 사용해 보세요.  "
      ]
    },
    {
      "cell_type": "code",
      "execution_count": 33,
      "id": "3fbf3d78",
      "metadata": {},
      "outputs": [
        {
          "data": {
            "text/html": [
              "<div>\n",
              "<style scoped>\n",
              "    .dataframe tbody tr th:only-of-type {\n",
              "        vertical-align: middle;\n",
              "    }\n",
              "\n",
              "    .dataframe tbody tr th {\n",
              "        vertical-align: top;\n",
              "    }\n",
              "\n",
              "    .dataframe thead th {\n",
              "        text-align: right;\n",
              "    }\n",
              "</style>\n",
              "<table border=\"1\" class=\"dataframe\">\n",
              "  <thead>\n",
              "    <tr style=\"text-align: right;\">\n",
              "      <th></th>\n",
              "      <th>ID</th>\n",
              "      <th>age</th>\n",
              "      <th>workclass</th>\n",
              "      <th>fnlwgt</th>\n",
              "      <th>education</th>\n",
              "      <th>education.num</th>\n",
              "      <th>marital.status</th>\n",
              "      <th>occupation</th>\n",
              "      <th>relationship</th>\n",
              "      <th>race</th>\n",
              "      <th>sex</th>\n",
              "      <th>capital.gain</th>\n",
              "      <th>capital.loss</th>\n",
              "      <th>hours.per.week</th>\n",
              "      <th>native.country</th>\n",
              "      <th>target</th>\n",
              "    </tr>\n",
              "  </thead>\n",
              "  <tbody>\n",
              "    <tr>\n",
              "      <th>0</th>\n",
              "      <td>TRAIN_0000</td>\n",
              "      <td>75</td>\n",
              "      <td>Self-emp-not-inc</td>\n",
              "      <td>218521</td>\n",
              "      <td>Some-college</td>\n",
              "      <td>10</td>\n",
              "      <td>Married-spouse-absent</td>\n",
              "      <td>Craft-repair</td>\n",
              "      <td>Not-in-family</td>\n",
              "      <td>White</td>\n",
              "      <td>Male</td>\n",
              "      <td>0</td>\n",
              "      <td>0</td>\n",
              "      <td>30</td>\n",
              "      <td>United-States</td>\n",
              "      <td>0</td>\n",
              "    </tr>\n",
              "    <tr>\n",
              "      <th>1</th>\n",
              "      <td>TRAIN_0001</td>\n",
              "      <td>23</td>\n",
              "      <td>Private</td>\n",
              "      <td>194102</td>\n",
              "      <td>Bachelors</td>\n",
              "      <td>13</td>\n",
              "      <td>Never-married</td>\n",
              "      <td>Exec-managerial</td>\n",
              "      <td>Unmarried</td>\n",
              "      <td>White</td>\n",
              "      <td>Male</td>\n",
              "      <td>0</td>\n",
              "      <td>0</td>\n",
              "      <td>40</td>\n",
              "      <td>United-States</td>\n",
              "      <td>0</td>\n",
              "    </tr>\n",
              "    <tr>\n",
              "      <th>2</th>\n",
              "      <td>TRAIN_0002</td>\n",
              "      <td>34</td>\n",
              "      <td>Private</td>\n",
              "      <td>238305</td>\n",
              "      <td>Some-college</td>\n",
              "      <td>10</td>\n",
              "      <td>Married-civ-spouse</td>\n",
              "      <td>Other-service</td>\n",
              "      <td>Wife</td>\n",
              "      <td>White</td>\n",
              "      <td>Female</td>\n",
              "      <td>0</td>\n",
              "      <td>1628</td>\n",
              "      <td>12</td>\n",
              "      <td>NaN</td>\n",
              "      <td>0</td>\n",
              "    </tr>\n",
              "    <tr>\n",
              "      <th>3</th>\n",
              "      <td>TRAIN_0003</td>\n",
              "      <td>34</td>\n",
              "      <td>Private</td>\n",
              "      <td>188096</td>\n",
              "      <td>HS-grad</td>\n",
              "      <td>9</td>\n",
              "      <td>Never-married</td>\n",
              "      <td>Adm-clerical</td>\n",
              "      <td>Not-in-family</td>\n",
              "      <td>White</td>\n",
              "      <td>Female</td>\n",
              "      <td>0</td>\n",
              "      <td>0</td>\n",
              "      <td>36</td>\n",
              "      <td>United-States</td>\n",
              "      <td>0</td>\n",
              "    </tr>\n",
              "    <tr>\n",
              "      <th>4</th>\n",
              "      <td>TRAIN_0004</td>\n",
              "      <td>51</td>\n",
              "      <td>Self-emp-not-inc</td>\n",
              "      <td>25932</td>\n",
              "      <td>HS-grad</td>\n",
              "      <td>9</td>\n",
              "      <td>Married-civ-spouse</td>\n",
              "      <td>Farming-fishing</td>\n",
              "      <td>Husband</td>\n",
              "      <td>White</td>\n",
              "      <td>Male</td>\n",
              "      <td>0</td>\n",
              "      <td>0</td>\n",
              "      <td>60</td>\n",
              "      <td>United-States</td>\n",
              "      <td>0</td>\n",
              "    </tr>\n",
              "    <tr>\n",
              "      <th>...</th>\n",
              "      <td>...</td>\n",
              "      <td>...</td>\n",
              "      <td>...</td>\n",
              "      <td>...</td>\n",
              "      <td>...</td>\n",
              "      <td>...</td>\n",
              "      <td>...</td>\n",
              "      <td>...</td>\n",
              "      <td>...</td>\n",
              "      <td>...</td>\n",
              "      <td>...</td>\n",
              "      <td>...</td>\n",
              "      <td>...</td>\n",
              "      <td>...</td>\n",
              "      <td>...</td>\n",
              "      <td>...</td>\n",
              "    </tr>\n",
              "    <tr>\n",
              "      <th>4435</th>\n",
              "      <td>TRAIN_4435</td>\n",
              "      <td>21</td>\n",
              "      <td>Private</td>\n",
              "      <td>152246</td>\n",
              "      <td>Some-college</td>\n",
              "      <td>10</td>\n",
              "      <td>Never-married</td>\n",
              "      <td>Handlers-cleaners</td>\n",
              "      <td>Own-child</td>\n",
              "      <td>Asian-Pac-Islander</td>\n",
              "      <td>Male</td>\n",
              "      <td>0</td>\n",
              "      <td>0</td>\n",
              "      <td>40</td>\n",
              "      <td>Philippines</td>\n",
              "      <td>0</td>\n",
              "    </tr>\n",
              "    <tr>\n",
              "      <th>4436</th>\n",
              "      <td>TRAIN_4436</td>\n",
              "      <td>32</td>\n",
              "      <td>Private</td>\n",
              "      <td>188246</td>\n",
              "      <td>HS-grad</td>\n",
              "      <td>9</td>\n",
              "      <td>Divorced</td>\n",
              "      <td>Craft-repair</td>\n",
              "      <td>Own-child</td>\n",
              "      <td>White</td>\n",
              "      <td>Male</td>\n",
              "      <td>0</td>\n",
              "      <td>0</td>\n",
              "      <td>40</td>\n",
              "      <td>United-States</td>\n",
              "      <td>0</td>\n",
              "    </tr>\n",
              "    <tr>\n",
              "      <th>4437</th>\n",
              "      <td>TRAIN_4437</td>\n",
              "      <td>28</td>\n",
              "      <td>Federal-gov</td>\n",
              "      <td>526528</td>\n",
              "      <td>Some-college</td>\n",
              "      <td>10</td>\n",
              "      <td>Never-married</td>\n",
              "      <td>Adm-clerical</td>\n",
              "      <td>Unmarried</td>\n",
              "      <td>Black</td>\n",
              "      <td>Female</td>\n",
              "      <td>3887</td>\n",
              "      <td>0</td>\n",
              "      <td>40</td>\n",
              "      <td>United-States</td>\n",
              "      <td>0</td>\n",
              "    </tr>\n",
              "    <tr>\n",
              "      <th>4438</th>\n",
              "      <td>TRAIN_4438</td>\n",
              "      <td>58</td>\n",
              "      <td>Private</td>\n",
              "      <td>142924</td>\n",
              "      <td>Masters</td>\n",
              "      <td>14</td>\n",
              "      <td>Never-married</td>\n",
              "      <td>Adm-clerical</td>\n",
              "      <td>Not-in-family</td>\n",
              "      <td>White</td>\n",
              "      <td>Female</td>\n",
              "      <td>0</td>\n",
              "      <td>0</td>\n",
              "      <td>24</td>\n",
              "      <td>United-States</td>\n",
              "      <td>1</td>\n",
              "    </tr>\n",
              "    <tr>\n",
              "      <th>4439</th>\n",
              "      <td>TRAIN_4439</td>\n",
              "      <td>36</td>\n",
              "      <td>Private</td>\n",
              "      <td>214604</td>\n",
              "      <td>Bachelors</td>\n",
              "      <td>13</td>\n",
              "      <td>Married-civ-spouse</td>\n",
              "      <td>Sales</td>\n",
              "      <td>Husband</td>\n",
              "      <td>White</td>\n",
              "      <td>Male</td>\n",
              "      <td>0</td>\n",
              "      <td>0</td>\n",
              "      <td>42</td>\n",
              "      <td>United-States</td>\n",
              "      <td>1</td>\n",
              "    </tr>\n",
              "  </tbody>\n",
              "</table>\n",
              "<p>4440 rows × 16 columns</p>\n",
              "</div>"
            ],
            "text/plain": [
              "              ID  age         workclass  fnlwgt     education  education.num  \\\n",
              "0     TRAIN_0000   75  Self-emp-not-inc  218521  Some-college             10   \n",
              "1     TRAIN_0001   23           Private  194102     Bachelors             13   \n",
              "2     TRAIN_0002   34           Private  238305  Some-college             10   \n",
              "3     TRAIN_0003   34           Private  188096       HS-grad              9   \n",
              "4     TRAIN_0004   51  Self-emp-not-inc   25932       HS-grad              9   \n",
              "...          ...  ...               ...     ...           ...            ...   \n",
              "4435  TRAIN_4435   21           Private  152246  Some-college             10   \n",
              "4436  TRAIN_4436   32           Private  188246       HS-grad              9   \n",
              "4437  TRAIN_4437   28       Federal-gov  526528  Some-college             10   \n",
              "4438  TRAIN_4438   58           Private  142924       Masters             14   \n",
              "4439  TRAIN_4439   36           Private  214604     Bachelors             13   \n",
              "\n",
              "             marital.status         occupation   relationship  \\\n",
              "0     Married-spouse-absent       Craft-repair  Not-in-family   \n",
              "1             Never-married    Exec-managerial      Unmarried   \n",
              "2        Married-civ-spouse      Other-service           Wife   \n",
              "3             Never-married       Adm-clerical  Not-in-family   \n",
              "4        Married-civ-spouse    Farming-fishing        Husband   \n",
              "...                     ...                ...            ...   \n",
              "4435          Never-married  Handlers-cleaners      Own-child   \n",
              "4436               Divorced       Craft-repair      Own-child   \n",
              "4437          Never-married       Adm-clerical      Unmarried   \n",
              "4438          Never-married       Adm-clerical  Not-in-family   \n",
              "4439     Married-civ-spouse              Sales        Husband   \n",
              "\n",
              "                    race     sex  capital.gain  capital.loss  hours.per.week  \\\n",
              "0                  White    Male             0             0              30   \n",
              "1                  White    Male             0             0              40   \n",
              "2                  White  Female             0          1628              12   \n",
              "3                  White  Female             0             0              36   \n",
              "4                  White    Male             0             0              60   \n",
              "...                  ...     ...           ...           ...             ...   \n",
              "4435  Asian-Pac-Islander    Male             0             0              40   \n",
              "4436               White    Male             0             0              40   \n",
              "4437               Black  Female          3887             0              40   \n",
              "4438               White  Female             0             0              24   \n",
              "4439               White    Male             0             0              42   \n",
              "\n",
              "     native.country  target  \n",
              "0     United-States       0  \n",
              "1     United-States       0  \n",
              "2               NaN       0  \n",
              "3     United-States       0  \n",
              "4     United-States       0  \n",
              "...             ...     ...  \n",
              "4435    Philippines       0  \n",
              "4436  United-States       0  \n",
              "4437  United-States       0  \n",
              "4438  United-States       1  \n",
              "4439  United-States       1  \n",
              "\n",
              "[4440 rows x 16 columns]"
            ]
          },
          "execution_count": 33,
          "metadata": {},
          "output_type": "execute_result"
        }
      ],
      "source": [
        "train = pd.___('train.csv')\n",
        "train"
      ]
    },
    {
      "cell_type": "code",
      "execution_count": 6,
      "id": "4d7af51c",
      "metadata": {
        "trusted": true
      },
      "outputs": [
        {
          "data": {
            "text/plain": [
              "True"
            ]
          },
          "execution_count": 6,
          "metadata": {},
          "output_type": "execute_result"
        }
      ],
      "source": [
        "#checkcode\n",
        "ensure_vals(globals(), 'train')\n",
        "@check_safety\n",
        "def check(\n",
        "    user_answer:pd.DataFrame\n",
        "):\n",
        "    c_point0 = hasattr(user_answer, 'head')\n",
        "\n",
        "    if c_point0:\n",
        "        return True\n",
        "    else:\n",
        "        return False\n",
        "\n",
        "check(train)"
      ]
    },
    {
      "cell_type": "markdown",
      "id": "8b79d765",
      "metadata": {},
      "source": [
        "### Inst.\n",
        "\n",
        "이번 프로젝트에서는 총 3가지 데이터가 존재하며, 모두 .csv 파일 형식으로 제공됩니다.\n",
        "\n",
        "- train.csv: 모델을 학습(train)하기 위해 사용하는 데이터\n",
        "- test.csv: 모델을 통해 정답을 예측하기 위해 사용하는 데이터\n",
        "- sample_submission.csv: 예측한 정답 값을 기록하여 제출하기 위한 샘플 정답 파일\n",
        "\n",
        "위에서 호출한 pandas 라이브러리를 사용하여 train.csv 파일을 읽어오겠습니다.  \n",
        "pandas 라이브러리의 `read_csv('파일경로/파일명.csv')` 함수는  \n",
        "train.csv 파일을 읽어와 데`이터프레임(DataFrame) 형태로 train 변수에 저장`하는 코드입니다.  \n",
        "\n",
        "이때, 데이터프레임은 pandas 라이브러리(Library)에서 제공하는 표 형태의 데이터 구조입니다.  \n",
        "데이터프레임은 행(row)과 열(column)로 이루어져 있으며,  \n",
        "각 열(column)은 서로 다른 데이터 타입을 가질 수 있습니다.\n",
        "\n",
        "코드를 사용하기 위해서는 train.csv 파일이 먼저 준비되어 있어야 하며,  \n",
        "train.csv 파일이 저장된 경로를 정확하게 입력해야 합니다.  \n",
        "read_csv() 함수를 사용하여 파일을 데이터프레임으로 읽어온 후,  \n",
        "이를 통해 데이터의 구조와 내용을 분석하고 모델링을 수행할 수 있습니다.  \n",
        "\n",
        "  "
      ]
    },
    {
      "cell_type": "markdown",
      "id": "bb94d2aa",
      "metadata": {},
      "source": [
        "### Hint.\n",
        "empty"
      ]
    },
    {
      "cell_type": "markdown",
      "id": "fea8c955",
      "metadata": {},
      "source": [
        "### Solution.\n",
        "```python\n",
        "train = pd.read_csv('train.csv')\n",
        "train\n",
        "```"
      ]
    },
    {
      "cell_type": "markdown",
      "id": "51aa041f-690e-4678-82a3-bb909ffdf9ac",
      "metadata": {
        "id": "51aa041f-690e-4678-82a3-bb909ffdf9ac"
      },
      "source": [
        "# 3.test.csv, sample_submission.csv 파일을 pandas를 이용해 데이터프레임으로 읽어오기\n",
        "[문제 3]  \n",
        "train 데이터를 읽어왔으므로, 이제 `pd`를 사용하여 `test.csv`와 `sample_submission.csv` 파일을  \n",
        "각각 test와 submission이라는 이름의 `데이터프레임(DataFrame)`으로 불러와 봅시다.  \n",
        "아래 빈칸을 채워주세요."
      ]
    },
    {
      "cell_type": "code",
      "execution_count": 35,
      "id": "77fac6b3-ddcd-43e3-9244-da39250ee6fd",
      "metadata": {
        "id": "77fac6b3-ddcd-43e3-9244-da39250ee6fd"
      },
      "outputs": [],
      "source": [
        "test = ___.___('test.csv')\n",
        "submission = ___.___('sample_submission.csv')"
      ]
    },
    {
      "cell_type": "code",
      "execution_count": 8,
      "id": "596451ef",
      "metadata": {
        "id": "596451ef",
        "trusted": true
      },
      "outputs": [
        {
          "data": {
            "text/plain": [
              "True"
            ]
          },
          "execution_count": 8,
          "metadata": {},
          "output_type": "execute_result"
        }
      ],
      "source": [
        "#checkcode\n",
        "ensure_vals(globals(), 'test', 'submission')\n",
        "@check_safety\n",
        "def check(\n",
        "    user_test: pd.DataFrame,\n",
        "    user_submission: pd.DataFrame\n",
        "):\n",
        "    c_point1 = hasattr(user_test, 'tail')\n",
        "    c_point2 = hasattr(user_submission, 'tail')\n",
        "\n",
        "    if c_point1 and c_point2:\n",
        "        return True\n",
        "    else:\n",
        "        return False\n",
        "\n",
        "check(test, submission)"
      ]
    },
    {
      "cell_type": "markdown",
      "id": "840054ed-2273-45d7-8cba-5460a0689896",
      "metadata": {
        "id": "840054ed-2273-45d7-8cba-5460a0689896"
      },
      "source": [
        "### Inst."
      ]
    },
    {
      "cell_type": "markdown",
      "id": "fa53f93b-cdd7-4725-beb6-a050c9e4b80d",
      "metadata": {
        "id": "fa53f93b-cdd7-4725-beb6-a050c9e4b80d"
      },
      "source": [
        "### Hint.\n",
        "`read_csv('파일경로/파일명.csv')` 함수는  \n",
        "csv 파일을 읽어와 데이터프레임(DataFrame) 형태로 변수에 저장하는 코드입니다. "
      ]
    },
    {
      "cell_type": "markdown",
      "id": "5f12add8-e7d6-4d5c-9de3-e2b76a7483cd",
      "metadata": {
        "id": "5f12add8-e7d6-4d5c-9de3-e2b76a7483cd"
      },
      "source": [
        "### Solution.\n",
        "```python\n",
        "test = pd.read_csv('test.csv')\n",
        "submission = pd.read_csv('sample_submission.csv')\n",
        "```"
      ]
    },
    {
      "cell_type": "markdown",
      "id": "d80c6d8e-c041-46ea-bc76-b1ec5c676ec8",
      "metadata": {
        "id": "d80c6d8e-c041-46ea-bc76-b1ec5c676ec8"
      },
      "source": [
        "# 4.데이터프레임의 상위 5개 행(row) 데이터 출력하기\n",
        "\n",
        "[문제 4]  \n",
        "pandas의 `head()` 메소드를 이용하여 상위 5개의 행(row) 데이터를 출력해 보세요."
      ]
    },
    {
      "cell_type": "code",
      "execution_count": 54,
      "id": "a49056df-eb04-44af-8d48-968a4bda2827",
      "metadata": {
        "id": "a49056df-eb04-44af-8d48-968a4bda2827",
        "outputId": "b264e3ba-3b87-4a36-d0f2-16f25f065ca0"
      },
      "outputs": [
        {
          "data": {
            "text/html": [
              "<div>\n",
              "<style scoped>\n",
              "    .dataframe tbody tr th:only-of-type {\n",
              "        vertical-align: middle;\n",
              "    }\n",
              "\n",
              "    .dataframe tbody tr th {\n",
              "        vertical-align: top;\n",
              "    }\n",
              "\n",
              "    .dataframe thead th {\n",
              "        text-align: right;\n",
              "    }\n",
              "</style>\n",
              "<table border=\"1\" class=\"dataframe\">\n",
              "  <thead>\n",
              "    <tr style=\"text-align: right;\">\n",
              "      <th></th>\n",
              "      <th>ID</th>\n",
              "      <th>age</th>\n",
              "      <th>workclass</th>\n",
              "      <th>fnlwgt</th>\n",
              "      <th>education</th>\n",
              "      <th>education.num</th>\n",
              "      <th>marital.status</th>\n",
              "      <th>occupation</th>\n",
              "      <th>relationship</th>\n",
              "      <th>race</th>\n",
              "      <th>sex</th>\n",
              "      <th>capital.gain</th>\n",
              "      <th>capital.loss</th>\n",
              "      <th>hours.per.week</th>\n",
              "      <th>native.country</th>\n",
              "      <th>target</th>\n",
              "    </tr>\n",
              "  </thead>\n",
              "  <tbody>\n",
              "    <tr>\n",
              "      <th>0</th>\n",
              "      <td>TRAIN_0000</td>\n",
              "      <td>75</td>\n",
              "      <td>Self-emp-not-inc</td>\n",
              "      <td>218521</td>\n",
              "      <td>Some-college</td>\n",
              "      <td>10</td>\n",
              "      <td>Married-spouse-absent</td>\n",
              "      <td>Craft-repair</td>\n",
              "      <td>Not-in-family</td>\n",
              "      <td>White</td>\n",
              "      <td>Male</td>\n",
              "      <td>0</td>\n",
              "      <td>0</td>\n",
              "      <td>30</td>\n",
              "      <td>United-States</td>\n",
              "      <td>0</td>\n",
              "    </tr>\n",
              "    <tr>\n",
              "      <th>1</th>\n",
              "      <td>TRAIN_0001</td>\n",
              "      <td>23</td>\n",
              "      <td>Private</td>\n",
              "      <td>194102</td>\n",
              "      <td>Bachelors</td>\n",
              "      <td>13</td>\n",
              "      <td>Never-married</td>\n",
              "      <td>Exec-managerial</td>\n",
              "      <td>Unmarried</td>\n",
              "      <td>White</td>\n",
              "      <td>Male</td>\n",
              "      <td>0</td>\n",
              "      <td>0</td>\n",
              "      <td>40</td>\n",
              "      <td>United-States</td>\n",
              "      <td>0</td>\n",
              "    </tr>\n",
              "    <tr>\n",
              "      <th>2</th>\n",
              "      <td>TRAIN_0002</td>\n",
              "      <td>34</td>\n",
              "      <td>Private</td>\n",
              "      <td>238305</td>\n",
              "      <td>Some-college</td>\n",
              "      <td>10</td>\n",
              "      <td>Married-civ-spouse</td>\n",
              "      <td>Other-service</td>\n",
              "      <td>Wife</td>\n",
              "      <td>White</td>\n",
              "      <td>Female</td>\n",
              "      <td>0</td>\n",
              "      <td>1628</td>\n",
              "      <td>12</td>\n",
              "      <td>NaN</td>\n",
              "      <td>0</td>\n",
              "    </tr>\n",
              "    <tr>\n",
              "      <th>3</th>\n",
              "      <td>TRAIN_0003</td>\n",
              "      <td>34</td>\n",
              "      <td>Private</td>\n",
              "      <td>188096</td>\n",
              "      <td>HS-grad</td>\n",
              "      <td>9</td>\n",
              "      <td>Never-married</td>\n",
              "      <td>Adm-clerical</td>\n",
              "      <td>Not-in-family</td>\n",
              "      <td>White</td>\n",
              "      <td>Female</td>\n",
              "      <td>0</td>\n",
              "      <td>0</td>\n",
              "      <td>36</td>\n",
              "      <td>United-States</td>\n",
              "      <td>0</td>\n",
              "    </tr>\n",
              "    <tr>\n",
              "      <th>4</th>\n",
              "      <td>TRAIN_0004</td>\n",
              "      <td>51</td>\n",
              "      <td>Self-emp-not-inc</td>\n",
              "      <td>25932</td>\n",
              "      <td>HS-grad</td>\n",
              "      <td>9</td>\n",
              "      <td>Married-civ-spouse</td>\n",
              "      <td>Farming-fishing</td>\n",
              "      <td>Husband</td>\n",
              "      <td>White</td>\n",
              "      <td>Male</td>\n",
              "      <td>0</td>\n",
              "      <td>0</td>\n",
              "      <td>60</td>\n",
              "      <td>United-States</td>\n",
              "      <td>0</td>\n",
              "    </tr>\n",
              "  </tbody>\n",
              "</table>\n",
              "</div>"
            ],
            "text/plain": [
              "           ID  age         workclass  fnlwgt     education  education.num  \\\n",
              "0  TRAIN_0000   75  Self-emp-not-inc  218521  Some-college             10   \n",
              "1  TRAIN_0001   23           Private  194102     Bachelors             13   \n",
              "2  TRAIN_0002   34           Private  238305  Some-college             10   \n",
              "3  TRAIN_0003   34           Private  188096       HS-grad              9   \n",
              "4  TRAIN_0004   51  Self-emp-not-inc   25932       HS-grad              9   \n",
              "\n",
              "          marital.status       occupation   relationship   race     sex  \\\n",
              "0  Married-spouse-absent     Craft-repair  Not-in-family  White    Male   \n",
              "1          Never-married  Exec-managerial      Unmarried  White    Male   \n",
              "2     Married-civ-spouse    Other-service           Wife  White  Female   \n",
              "3          Never-married     Adm-clerical  Not-in-family  White  Female   \n",
              "4     Married-civ-spouse  Farming-fishing        Husband  White    Male   \n",
              "\n",
              "   capital.gain  capital.loss  hours.per.week native.country  target  \n",
              "0             0             0              30  United-States       0  \n",
              "1             0             0              40  United-States       0  \n",
              "2             0          1628              12            NaN       0  \n",
              "3             0             0              36  United-States       0  \n",
              "4             0             0              60  United-States       0  "
            ]
          },
          "execution_count": 54,
          "metadata": {},
          "output_type": "execute_result"
        }
      ],
      "source": [
        "train.___()"
      ]
    },
    {
      "cell_type": "code",
      "execution_count": 10,
      "id": "20cb9720-5c56-4f2a-b09e-3bf040f1dd76",
      "metadata": {
        "id": "20cb9720-5c56-4f2a-b09e-3bf040f1dd76",
        "trusted": true
      },
      "outputs": [
        {
          "data": {
            "text/plain": [
              "True"
            ]
          },
          "execution_count": 10,
          "metadata": {},
          "output_type": "execute_result"
        }
      ],
      "source": [
        "#checkcode\n",
        "ensure_vals(globals(), 'train')\n",
        "@check_safety\n",
        "def check(\n",
        "    user_answer:pd.DataFrame,\n",
        "    train_shape:tuple\n",
        "):\n",
        "    c_point1 = user_answer.shape == train_shape\n",
        "    \n",
        "    if c_point1:\n",
        "        return True\n",
        "    else:\n",
        "        return False\n",
        "    \n",
        "check(_, (5, 16))"
      ]
    },
    {
      "cell_type": "markdown",
      "id": "a43125d4",
      "metadata": {
        "id": "a43125d4"
      },
      "source": [
        "### Inst.\n",
        "\n",
        "pandas 라이브러리(Library)를 사용하여 생성된 데이터프레임(DataFrame)에서 **상위 5개의 행(row)** 을 출력하는 코드입니다.  \n",
        "train 변수에 저장된 데이터프레임에서 상위 5개의 행을 출력하는 코드로, 데이터를 확인하고 분석할 때 사용됩니다.  \n",
        "\n",
        "이 코드 기법은 pandas 라이브러리에서 제공하는 데이터프레임의 메소드 중 하나입니다.  \n",
        "`head(n)` 메소드는 기본적으로 상위 5개의 행(row)을 출력하며, 인자로 전달된 n에 따라 **상위 n개의 행(row)** 을 출력할 수 있습니다.  \n",
        "**데이터프레임의 구조와 값을 빠르게 확인** 할 수 있는 간편한 기능입니다.  \n",
        "확인하고 싶은 행의 개수를 2개로 변경하고 싶다면 `head(2)`로 입력해 보세요."
      ]
    },
    {
      "cell_type": "markdown",
      "id": "ad0ff856-d5a6-454c-8bca-580cfd4dc12c",
      "metadata": {
        "id": "ad0ff856-d5a6-454c-8bca-580cfd4dc12c"
      },
      "source": [
        "### Hint.\n",
        "empty"
      ]
    },
    {
      "cell_type": "markdown",
      "id": "ac7dc021-c1cb-46ff-9ae1-d33ec0bb2aab",
      "metadata": {
        "id": "ac7dc021-c1cb-46ff-9ae1-d33ec0bb2aab"
      },
      "source": [
        "### Solution.\n",
        "```python\n",
        "train.head()\n",
        "```"
      ]
    },
    {
      "cell_type": "markdown",
      "id": "nhEo0yOVJ3gw",
      "metadata": {
        "id": "nhEo0yOVJ3gw"
      },
      "source": [
        "# 5. test 데이터의 상위 3개의 행(row) 데이터 출력하기  \n",
        "[문제 5]  \n",
        "아래 빈칸을 채워 `상위 3개`의 행(row) 데이터를 출력해 보세요."
      ]
    },
    {
      "cell_type": "code",
      "execution_count": 59,
      "id": "559cd42f-a3ba-4382-9556-1b8c6523bbd2",
      "metadata": {
        "id": "559cd42f-a3ba-4382-9556-1b8c6523bbd2"
      },
      "outputs": [
        {
          "data": {
            "text/html": [
              "<div>\n",
              "<style scoped>\n",
              "    .dataframe tbody tr th:only-of-type {\n",
              "        vertical-align: middle;\n",
              "    }\n",
              "\n",
              "    .dataframe tbody tr th {\n",
              "        vertical-align: top;\n",
              "    }\n",
              "\n",
              "    .dataframe thead th {\n",
              "        text-align: right;\n",
              "    }\n",
              "</style>\n",
              "<table border=\"1\" class=\"dataframe\">\n",
              "  <thead>\n",
              "    <tr style=\"text-align: right;\">\n",
              "      <th></th>\n",
              "      <th>ID</th>\n",
              "      <th>age</th>\n",
              "      <th>workclass</th>\n",
              "      <th>fnlwgt</th>\n",
              "      <th>education</th>\n",
              "      <th>education.num</th>\n",
              "      <th>marital.status</th>\n",
              "      <th>occupation</th>\n",
              "      <th>relationship</th>\n",
              "      <th>race</th>\n",
              "      <th>sex</th>\n",
              "      <th>capital.gain</th>\n",
              "      <th>capital.loss</th>\n",
              "      <th>hours.per.week</th>\n",
              "      <th>native.country</th>\n",
              "    </tr>\n",
              "  </thead>\n",
              "  <tbody>\n",
              "    <tr>\n",
              "      <th>0</th>\n",
              "      <td>TEST_0000</td>\n",
              "      <td>23</td>\n",
              "      <td>Private</td>\n",
              "      <td>234460</td>\n",
              "      <td>7th-8th</td>\n",
              "      <td>4</td>\n",
              "      <td>Never-married</td>\n",
              "      <td>Machine-op-inspct</td>\n",
              "      <td>Own-child</td>\n",
              "      <td>Black</td>\n",
              "      <td>Female</td>\n",
              "      <td>0</td>\n",
              "      <td>0</td>\n",
              "      <td>40</td>\n",
              "      <td>Dominican-Republic</td>\n",
              "    </tr>\n",
              "    <tr>\n",
              "      <th>1</th>\n",
              "      <td>TEST_0001</td>\n",
              "      <td>41</td>\n",
              "      <td>Self-emp-not-inc</td>\n",
              "      <td>209344</td>\n",
              "      <td>HS-grad</td>\n",
              "      <td>9</td>\n",
              "      <td>Married-civ-spouse</td>\n",
              "      <td>Sales</td>\n",
              "      <td>Other-relative</td>\n",
              "      <td>White</td>\n",
              "      <td>Female</td>\n",
              "      <td>0</td>\n",
              "      <td>0</td>\n",
              "      <td>40</td>\n",
              "      <td>Cuba</td>\n",
              "    </tr>\n",
              "    <tr>\n",
              "      <th>2</th>\n",
              "      <td>TEST_0002</td>\n",
              "      <td>47</td>\n",
              "      <td>Self-emp-inc</td>\n",
              "      <td>205100</td>\n",
              "      <td>HS-grad</td>\n",
              "      <td>9</td>\n",
              "      <td>Married-civ-spouse</td>\n",
              "      <td>Prof-specialty</td>\n",
              "      <td>Husband</td>\n",
              "      <td>White</td>\n",
              "      <td>Male</td>\n",
              "      <td>0</td>\n",
              "      <td>0</td>\n",
              "      <td>38</td>\n",
              "      <td>Germany</td>\n",
              "    </tr>\n",
              "  </tbody>\n",
              "</table>\n",
              "</div>"
            ],
            "text/plain": [
              "          ID  age         workclass  fnlwgt education  education.num  \\\n",
              "0  TEST_0000   23           Private  234460   7th-8th              4   \n",
              "1  TEST_0001   41  Self-emp-not-inc  209344   HS-grad              9   \n",
              "2  TEST_0002   47      Self-emp-inc  205100   HS-grad              9   \n",
              "\n",
              "       marital.status         occupation    relationship   race     sex  \\\n",
              "0       Never-married  Machine-op-inspct       Own-child  Black  Female   \n",
              "1  Married-civ-spouse              Sales  Other-relative  White  Female   \n",
              "2  Married-civ-spouse     Prof-specialty         Husband  White    Male   \n",
              "\n",
              "   capital.gain  capital.loss  hours.per.week      native.country  \n",
              "0             0             0              40  Dominican-Republic  \n",
              "1             0             0              40                Cuba  \n",
              "2             0             0              38             Germany  "
            ]
          },
          "execution_count": 59,
          "metadata": {},
          "output_type": "execute_result"
        }
      ],
      "source": [
        "test.___(___)"
      ]
    },
    {
      "cell_type": "code",
      "execution_count": 12,
      "id": "3ac66a06",
      "metadata": {
        "id": "3ac66a06",
        "trusted": true
      },
      "outputs": [
        {
          "data": {
            "text/plain": [
              "True"
            ]
          },
          "execution_count": 12,
          "metadata": {},
          "output_type": "execute_result"
        }
      ],
      "source": [
        "#checkcode\n",
        "ensure_vals(globals(), 'test')\n",
        "@check_safety\n",
        "def check(\n",
        "    user_answer:pd.DataFrame,\n",
        "    test_shape:tuple\n",
        "):\n",
        "    c_point1 = user_answer.shape == test_shape\n",
        "    \n",
        "    if c_point1:\n",
        "        return True\n",
        "    else:\n",
        "        return False\n",
        "    \n",
        "check(_, (3, 15))"
      ]
    },
    {
      "cell_type": "markdown",
      "id": "1e5f8a41-ddb4-475f-a760-62f28e40c752",
      "metadata": {
        "id": "1e5f8a41-ddb4-475f-a760-62f28e40c752"
      },
      "source": [
        "### Inst.\n",
        "---\n",
        "#### 결과 해석\n",
        "test 데이터에는 train 데이터와는 달리 **target 피처(feature)가 존재하지 않습니다.**  \n",
        "이를 통해 이번 분석이 target, 즉 **인구 소득을 예측하는 문제** 임을 파악할 수 있습니다.\n"
      ]
    },
    {
      "cell_type": "markdown",
      "id": "b955ccfb-1785-4549-8165-1b57764d3f39",
      "metadata": {
        "id": "b955ccfb-1785-4549-8165-1b57764d3f39"
      },
      "source": [
        "### Hint.\n",
        "head() 함수는 기본적으로 상위 5개 행(row) 데이터를 출력합니다.  \n",
        "출력하고 싶은 개수를 4개로 변경하고 싶다면 head(4)로 입력해 보세요."
      ]
    },
    {
      "cell_type": "markdown",
      "id": "14cb698c-107e-4fb0-a662-2114f5033fd5",
      "metadata": {
        "id": "14cb698c-107e-4fb0-a662-2114f5033fd5"
      },
      "source": [
        "### Solution.\n",
        "```python\n",
        "test.head(3)\n",
        "```"
      ]
    },
    {
      "cell_type": "markdown",
      "id": "50ce474f",
      "metadata": {
        "id": "50ce474f"
      },
      "source": [
        "# 6.데이터프레임(DataFrame)을 CSV 파일로 저장하기\n",
        "\n",
        "[문제 6]  \n",
        "submission 객체의 `to_csv()` 메소드를 활용하여 파일을 저장해보세요."
      ]
    },
    {
      "cell_type": "code",
      "execution_count": 61,
      "id": "6e2d6e47-566b-4a47-9993-e03bcef214b2",
      "metadata": {
        "id": "6e2d6e47-566b-4a47-9993-e03bcef214b2"
      },
      "outputs": [],
      "source": [
        "submission.___('submission.csv', index=False)"
      ]
    },
    {
      "cell_type": "code",
      "execution_count": 14,
      "id": "85693048-9b1a-40ce-8bd2-d4038a0e2068",
      "metadata": {
        "id": "85693048-9b1a-40ce-8bd2-d4038a0e2068",
        "trusted": true
      },
      "outputs": [
        {
          "data": {
            "text/plain": [
              "True"
            ]
          },
          "execution_count": 14,
          "metadata": {},
          "output_type": "execute_result"
        }
      ],
      "source": [
        "#checkcode\n",
        "ensure_vals(globals(), 'submission')\n",
        "@check_safety\n",
        "def check(\n",
        "    user_answer\n",
        "):\n",
        "    answer = pd.read_csv('submission.csv')\n",
        "\n",
        "    sub_medv = user_answer['target'].apply(lambda x: int(x * 100))\n",
        "    ans_medv = answer['target'].apply(lambda x: int(x * 100))\n",
        "\n",
        "    c_point0 = (sub_medv == ans_medv).all()\n",
        "    if c_point0:\n",
        "        return True\n",
        "    else:\n",
        "        return False\n",
        "\n",
        "check(submission)"
      ]
    },
    {
      "cell_type": "markdown",
      "id": "2f08992b-a558-4c48-88f2-e7e6fa41f61f",
      "metadata": {
        "id": "2f08992b-a558-4c48-88f2-e7e6fa41f61f"
      },
      "source": [
        "### Inst.\n",
        "pandas 라이브러리(Library)를 사용하여 **`데이터프레임(DataFrame)`을 `csv 파일`로 저장하는 코드**입니다.  \n",
        "submission 데이터프레임을 생성하고, 저장할 csv 파일의 이름과 경로를 지정한 후, `to_csv()` 메소드를 사용하여 저장합니다.  \n",
        "submission 데이터프레임을 `submission.csv` 파일로 저장하며,  \n",
        "`index=False` 옵션을 주어 **인덱스 정보를 제외** 하고 저장합니다.  \n",
        "\n",
        "> 예시: submission.to_csv('저장할 csv 파일명', index=False)\n",
        "\n",
        "`to_csv()` 메소드는 데이터프레임을 csv 파일로 저장하는 기능을 수행합니다.  \n",
        "인자로 전달된 파일 이름과 경로에 따라 csv 파일을 저장할 수 있으며,  \n",
        "인덱스(index) 정보를 포함할지 여부를 결정할 수 있습니다.  \n",
        "이는 데이터프레임의 구조를 유지하면서 csv 파일로 데이터를 저장할 수 있는 효과적인 방법 중 하나입니다.  "
      ]
    },
    {
      "cell_type": "markdown",
      "id": "fa997dab-b3a1-4ef0-9bc1-dd36fcf410c2",
      "metadata": {
        "id": "fa997dab-b3a1-4ef0-9bc1-dd36fcf410c2"
      },
      "source": [
        "### Hint.\n",
        "empty"
      ]
    },
    {
      "cell_type": "markdown",
      "id": "1817273d-1590-4829-a91f-d4a85c1a5f9a",
      "metadata": {
        "id": "1817273d-1590-4829-a91f-d4a85c1a5f9a"
      },
      "source": [
        "### Solution.\n",
        "\n",
        "```python\n",
        "submission.to_csv('submission.csv', index=False)\n",
        "```"
      ]
    }
  ],
  "metadata": {
    "colab": {
      "provenance": []
    },
    "kernelspec": {
      "display_name": "Python (Pyodide)",
      "language": "python",
      "name": "python"
    },
    "language_info": {
      "codemirror_mode": {
        "name": "python",
        "version": 3
      },
      "file_extension": ".py",
      "mimetype": "text/x-python",
      "name": "python",
      "nbconvert_exporter": "python",
      "pygments_lexer": "ipython3",
      "version": "3.8"
    },
    "vscode": {
      "interpreter": {
        "hash": "438727c8858bc46e257ba69863512eb04c8e9f5db9a1c7102296af502b4092eb"
      }
    }
  },
  "nbformat": 4,
  "nbformat_minor": 5
}
