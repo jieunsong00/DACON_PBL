{
  "cells": [
    {
      "cell_type": "code",
      "execution_count": 1,
      "metadata": {
        "id": "8MPt8arQy1Yd",
        "trusted": true
      },
      "outputs": [],
      "source": [
        "#hiddencell\n",
        "import pandas as pd \n",
        "from pbl_tools import *"
      ]
    },
    {
      "cell_type": "markdown",
      "metadata": {
        "id": "iqzaEQXRy1Yn"
      },
      "source": [
        "# 스테이지 2. 데이터 분석 및 기초 통계량 확인\n",
        "## 도입\n",
        "스테이지 2에서는 데이터 분석의 핵심 단계인 기초 통계량 확인에 대해 배웁니다. 이러한 단계는 데이터를 깊이 있게 이해하고 문제 해결에 도움을 주는 중요한 과정입니다.\n",
        "\n",
        "데이터 분석의 목표는 데이터의 패턴과 특성을 파악하는 것이며, 이를 통해 더 나은 인사이트를 얻고 예측 작업을 진행합니다.\n",
        "\n",
        "## 학습 목표\n",
        "- 데이터프레임의 칼럼 이름을 확인하고, 각 변수의 역할을 이해합니다.\n",
        "- 데이터의 수치형 변수에 대한 기술 통계량을 계산하고 분석합니다. 이를 통해 데이터의 분포와 중요한 통계적 특성을 이해합니다.\n",
        "- 범주형 변수의 빈도와 다양성을 확인하여 범주형 데이터의 특성을 파악합니다.\n",
        "- 전처리가 완료된 데이터프레임을 csv 파일로 저장하는 방법에 대해 배웁니다."
      ]
    },
    {
      "cell_type": "markdown",
      "metadata": {
        "id": "uuDTmrdny1Yx"
      },
      "source": [
        "# 1. pandas를 이용해 csv 파일 읽어오기\n",
        "[문제 1]  \n",
        "`Pandas` 라이브러리(library)를 가져와보세요.  \n",
        "그리고 `train.csv`, `test.csv`, `sample_submission.csv` 파일을 각각 train, test, submission 변수로 읽어오세요.  \n",
        "아래 빈칸을 채워주세요.  "
      ]
    },
    {
      "cell_type": "code",
      "execution_count": 79,
      "metadata": {
        "id": "Klj6pw69y1Y8"
      },
      "outputs": [],
      "source": [
        "import pandas as pd\n",
        "\n",
        "train = pd.___('train.csv')\n",
        "test = pd.___('test.csv')\n",
        "submission = ___.___(___)"
      ]
    },
    {
      "cell_type": "code",
      "execution_count": 4,
      "metadata": {
        "id": "MP36fJHpy1Y_",
        "outputId": "3bf791fc-0a3a-476d-debf-e3c942e9a149",
        "pycharm": {
          "is_executing": true
        },
        "trusted": true
      },
      "outputs": [
        {
          "data": {
            "text/plain": [
              "True"
            ]
          },
          "execution_count": 4,
          "metadata": {},
          "output_type": "execute_result"
        }
      ],
      "source": [
        "#checkcode\n",
        "ensure_vals(globals(), 'train', 'test', 'submission')\n",
        "@check_safety\n",
        "def check(\n",
        "    user_train: pd.DataFrame,\n",
        "    user_test: pd.DataFrame,\n",
        "    user_submission: pd.DataFrame\n",
        "):\n",
        "    c_point1 = hasattr(user_train, 'tail')\n",
        "    c_point2 = hasattr(user_test, 'tail')\n",
        "    c_point3 = hasattr(user_submission, 'tail')\n",
        "\n",
        "    if c_point1 and c_point2 and c_point3:\n",
        "        return True\n",
        "    else:\n",
        "        return False\n",
        "\n",
        "check(train, test, submission)"
      ]
    },
    {
      "cell_type": "markdown",
      "metadata": {
        "id": "psIy_jSWy1ZC"
      },
      "source": [
        "### Inst.  \n"
      ]
    },
    {
      "cell_type": "markdown",
      "metadata": {
        "id": "jlge0Ow0y1ZD"
      },
      "source": [
        "### Hint.\n",
        "`pd.read_csv('파일경로/파일명')` 를 활용해 보세요."
      ]
    },
    {
      "cell_type": "markdown",
      "metadata": {
        "id": "-jQ9hJZJy1ZD"
      },
      "source": [
        "### Solution.\n",
        "```python\n",
        "import pandas as pd  \n",
        "\n",
        "train = pd.read_csv('train.csv')  \n",
        "test = pd.read_csv('test.csv')  \n",
        "submission = pd.read_csv('sample_submission.csv')\n",
        "```"
      ]
    },
    {
      "cell_type": "markdown",
      "metadata": {
        "id": "1aeqXhoqy1ZE"
      },
      "source": [
        "# 2. 데이터프레임(DataFrame)정보 출력하기\n",
        "`info()`함수를 이용해 데이터프레임의 요약 정보를 확인해 봅시다."
      ]
    },
    {
      "cell_type": "code",
      "execution_count": 5,
      "metadata": {
        "id": "aIF4T3yUy1ZF",
        "outputId": "7a1b986a-fd4a-41f8-a812-6510bd7bf6b5",
        "pycharm": {
          "is_executing": true
        },
        "trusted": true
      },
      "outputs": [
        {
          "name": "stdout",
          "output_type": "stream",
          "text": [
            "<class 'pandas.core.frame.DataFrame'>\n",
            "RangeIndex: 4440 entries, 0 to 4439\n",
            "Data columns (total 16 columns):\n",
            " #   Column          Non-Null Count  Dtype \n",
            "---  ------          --------------  ----- \n",
            " 0   ID              4440 non-null   object\n",
            " 1   age             4440 non-null   int64 \n",
            " 2   workclass       3977 non-null   object\n",
            " 3   fnlwgt          4440 non-null   int64 \n",
            " 4   education       4440 non-null   object\n",
            " 5   education.num   4440 non-null   int64 \n",
            " 6   marital.status  4440 non-null   object\n",
            " 7   occupation      3972 non-null   object\n",
            " 8   relationship    4440 non-null   object\n",
            " 9   race            4440 non-null   object\n",
            " 10  sex             4440 non-null   object\n",
            " 11  capital.gain    4440 non-null   int64 \n",
            " 12  capital.loss    4440 non-null   int64 \n",
            " 13  hours.per.week  4440 non-null   int64 \n",
            " 14  native.country  4293 non-null   object\n",
            " 15  target          4440 non-null   int64 \n",
            "dtypes: int64(7), object(9)\n",
            "memory usage: 399.0+ KB\n"
          ]
        }
      ],
      "source": [
        "train.info()"
      ]
    },
    {
      "cell_type": "code",
      "execution_count": 82,
      "metadata": {
        "id": "-Pmk5H9xy1ZI"
      },
      "outputs": [],
      "source": [
        "#checkcode\n",
        "#empty"
      ]
    },
    {
      "cell_type": "markdown",
      "metadata": {
        "id": "ILRv3nOLy1ZK"
      },
      "source": [
        "### Inst.\n",
        "`info()` 메소드는 pandas 라이브러리(Library)에서 제공하는 함수 중 하나로, **데이터프레임(DataFrame)의 정보를 제공**합니다.  \n",
        "데이터프레임의 행(row) 수, 칼럼(column) 수, 각 칼럼의 이름, 데이터 타입, 메모리 사용량 등을 보여주며,   \n",
        "결측치(null)의 개수도 확인할 수 있습니다.    \n",
        "\n",
        "이 코드 기법은 데이터 분석 및 전처리 과정에서 매우 유용하게 사용됩니다.   \n",
        "데이터프레임의 크기와 구성을 파악하여 결측치 처리, 데이터 타입 변경, 이상치 처리 등의 작업을 수행할 수 있습니다.   \n",
        "또한, 메모리 사용량을 파악하여 데이터프레임의 크기를 최적화하는데도 활용됩니다.  \n",
        "\n",
        "`info()` 메소드의 출력 결과 중에서, 각 칼럼에 대한 정보는 다음과 같은 의미를 가집니다.  \n",
        "\n",
        "- **column**: 데이터프레임의 **컬럼(열) 이름**을 보여줍니다.\n",
        "- **Non-null count**: 각 컬럼에 있는 **비어있지 않은 값의 개수**를 보여줍니다.\n",
        "- **dtype**: 각 컬럼의 **데이터 타입**을 보여줍니다.   \n",
        "예를 들어, object는 문자열, int는 정수, float는 소수점이 있는 숫자 등을 의미합니다.\n",
        "\n",
        "---\n",
        "\n",
        "#### 결과 해석\n",
        "\n",
        "타겟 변수를 포함하여 총 16개의 피처(feature)와 4440개의 행으로 이루어져 있습니다.   \n",
        "또한 데이터프레임의 Non-Null Count를 살펴보면 `workclass` 변수에 결측치(누락된 데이터)가 463개,   \n",
        "`occupation` 변수에는 결측치가 468, `native.country` 변수에 147개가 존재하는 것을 알 수 있습니다.  \n",
        "이러한 정보를 바탕으로 데이터프레임의 구성과 각 열의 정보를 파악할 수 있으며, 이는 데이터 전처리나 모델링에 필요한 정보를 제공할 수 있습니다."
      ]
    },
    {
      "cell_type": "markdown",
      "metadata": {
        "id": "Dmqkn_vFy1ZQ"
      },
      "source": [
        "### Hint.\n",
        "\n",
        "empty  "
      ]
    },
    {
      "cell_type": "markdown",
      "metadata": {
        "id": "L9O3M6VFy1ZQ"
      },
      "source": [
        "### Solution.\n",
        "\n",
        "empty"
      ]
    },
    {
      "cell_type": "markdown",
      "metadata": {
        "id": "7MOqdxIfy1ZR"
      },
      "source": [
        "# 3. 데이터프레임(DataFrame)의 칼럼(column) 이름 확인하기\n",
        "[문제 2]  \n",
        "`columns` 함수를 이용하여 train 데이터셋의 `열(Columns)의 목록`을 확인해 보세요."
      ]
    },
    {
      "cell_type": "code",
      "execution_count": 102,
      "metadata": {
        "id": "zLPh4k5sy1ZT",
        "outputId": "fb3dba9d-665b-4fb6-d214-5b658f96361a",
        "pycharm": {
          "is_executing": true
        }
      },
      "outputs": [
        {
          "data": {
            "text/plain": [
              "Index(['ID', 'age', 'workclass', 'fnlwgt', 'education', 'education.num',\n",
              "       'marital.status', 'occupation', 'relationship', 'race', 'sex',\n",
              "       'capital.gain', 'capital.loss', 'hours.per.week', 'native.country',\n",
              "       'target'],\n",
              "      dtype='object')"
            ]
          },
          "execution_count": 102,
          "metadata": {},
          "output_type": "execute_result"
        }
      ],
      "source": [
        "train.___"
      ]
    },
    {
      "cell_type": "code",
      "execution_count": 7,
      "metadata": {
        "id": "_7O4K-USy1ZU",
        "trusted": true
      },
      "outputs": [
        {
          "data": {
            "text/plain": [
              "True"
            ]
          },
          "execution_count": 7,
          "metadata": {},
          "output_type": "execute_result"
        }
      ],
      "source": [
        "#checkcode\n",
        "ensure_vals(globals())\n",
        "@check_safety\n",
        "def check(\n",
        "    user_answer:list,\n",
        "    number:int\n",
        "):\n",
        "    c_point0 = (len(user_answer) == number)\n",
        "    if c_point0:\n",
        "        return True\n",
        "    else:\n",
        "        return False\n",
        "check(_,16)"
      ]
    },
    {
      "cell_type": "markdown",
      "metadata": {
        "id": "LmXbF1nGy1ZU"
      },
      "source": [
        "### Inst.\n",
        "\n",
        "pandas 라이브러리를 사용하여 불러온 데이터셋(train)의 **열(column) 이름들을 반환** 하는 속성(attribute)입니다.   \n",
        "이를 통해, 데이터셋의 **열 이름들을 파악하고, 원하는 열에 쉽게 접근**할 수 있습니다.\n",
        "\n",
        "pandas DataFrame 객체에서 제공하는 속성으로, 데이터셋의 열 이름들이 포함된 1차원 배열(Series 객체)을 반환합니다.   \n",
        "이 배열에서는 각 열의 이름이 문자열로 포함되어 있으며, 각 열의 순서는 데이터프레임의 열 순서와 일치합니다.\n",
        "\n",
        "예를 들어, train 데이터프레임이 'age', 'gender', 'income', 'education' 등의 열(column)을 가지고 있다면,   \n",
        "train.columns를 호출하면 Index(['age', 'gender', 'income', 'education'], dtype='object')와 같은 결과를 반환합니다.   "
      ]
    },
    {
      "cell_type": "markdown",
      "metadata": {
        "id": "tt-OlAroy1ZW"
      },
      "source": [
        "### Hint.\n",
        "\n",
        "empty  "
      ]
    },
    {
      "cell_type": "markdown",
      "metadata": {
        "id": "KnKennGQy1ZX"
      },
      "source": [
        "### Solution.\n",
        "\n",
        "```python\n",
        "train.columns\n",
        "```"
      ]
    },
    {
      "cell_type": "markdown",
      "metadata": {
        "id": "nsBX-gJqy1ZY"
      },
      "source": [
        "# 4. 데이터프레임(DataFrame)의 수치형 변수들에 대한 기술 통계량(descriptive statistics) 출력하기\n",
        "[문제 3]  \n",
        "`describe()`함수를 사용해 `수치형` 데이터의 통계값을 확인해 봅시다."
      ]
    },
    {
      "cell_type": "code",
      "execution_count": 122,
      "metadata": {
        "id": "a6f9Ajtfy1ZZ",
        "outputId": "6ee2ccfc-1dd1-481e-beb5-48fc0ab8678d",
        "pycharm": {
          "is_executing": true
        }
      },
      "outputs": [
        {
          "data": {
            "text/html": [
              "<div>\n",
              "<style scoped>\n",
              "    .dataframe tbody tr th:only-of-type {\n",
              "        vertical-align: middle;\n",
              "    }\n",
              "\n",
              "    .dataframe tbody tr th {\n",
              "        vertical-align: top;\n",
              "    }\n",
              "\n",
              "    .dataframe thead th {\n",
              "        text-align: right;\n",
              "    }\n",
              "</style>\n",
              "<table border=\"1\" class=\"dataframe\">\n",
              "  <thead>\n",
              "    <tr style=\"text-align: right;\">\n",
              "      <th></th>\n",
              "      <th>age</th>\n",
              "      <th>fnlwgt</th>\n",
              "      <th>education.num</th>\n",
              "      <th>capital.gain</th>\n",
              "      <th>capital.loss</th>\n",
              "      <th>hours.per.week</th>\n",
              "      <th>target</th>\n",
              "    </tr>\n",
              "  </thead>\n",
              "  <tbody>\n",
              "    <tr>\n",
              "      <th>count</th>\n",
              "      <td>4440.000000</td>\n",
              "      <td>4.440000e+03</td>\n",
              "      <td>4440.000000</td>\n",
              "      <td>4440.000000</td>\n",
              "      <td>4440.000000</td>\n",
              "      <td>4440.000000</td>\n",
              "      <td>4440.000000</td>\n",
              "    </tr>\n",
              "    <tr>\n",
              "      <th>mean</th>\n",
              "      <td>38.779279</td>\n",
              "      <td>1.923122e+05</td>\n",
              "      <td>9.985360</td>\n",
              "      <td>1223.965090</td>\n",
              "      <td>69.511261</td>\n",
              "      <td>39.837387</td>\n",
              "      <td>0.240315</td>\n",
              "    </tr>\n",
              "    <tr>\n",
              "      <th>std</th>\n",
              "      <td>14.011257</td>\n",
              "      <td>1.088622e+05</td>\n",
              "      <td>2.580624</td>\n",
              "      <td>8257.227782</td>\n",
              "      <td>357.876753</td>\n",
              "      <td>12.760011</td>\n",
              "      <td>0.427323</td>\n",
              "    </tr>\n",
              "    <tr>\n",
              "      <th>min</th>\n",
              "      <td>17.000000</td>\n",
              "      <td>1.882700e+04</td>\n",
              "      <td>1.000000</td>\n",
              "      <td>0.000000</td>\n",
              "      <td>0.000000</td>\n",
              "      <td>1.000000</td>\n",
              "      <td>0.000000</td>\n",
              "    </tr>\n",
              "    <tr>\n",
              "      <th>25%</th>\n",
              "      <td>28.000000</td>\n",
              "      <td>1.198022e+05</td>\n",
              "      <td>9.000000</td>\n",
              "      <td>0.000000</td>\n",
              "      <td>0.000000</td>\n",
              "      <td>38.000000</td>\n",
              "      <td>0.000000</td>\n",
              "    </tr>\n",
              "    <tr>\n",
              "      <th>50%</th>\n",
              "      <td>37.000000</td>\n",
              "      <td>1.798670e+05</td>\n",
              "      <td>10.000000</td>\n",
              "      <td>0.000000</td>\n",
              "      <td>0.000000</td>\n",
              "      <td>40.000000</td>\n",
              "      <td>0.000000</td>\n",
              "    </tr>\n",
              "    <tr>\n",
              "      <th>75%</th>\n",
              "      <td>48.000000</td>\n",
              "      <td>2.402272e+05</td>\n",
              "      <td>12.000000</td>\n",
              "      <td>0.000000</td>\n",
              "      <td>0.000000</td>\n",
              "      <td>45.000000</td>\n",
              "      <td>0.000000</td>\n",
              "    </tr>\n",
              "    <tr>\n",
              "      <th>max</th>\n",
              "      <td>90.000000</td>\n",
              "      <td>1.455435e+06</td>\n",
              "      <td>16.000000</td>\n",
              "      <td>99999.000000</td>\n",
              "      <td>2603.000000</td>\n",
              "      <td>99.000000</td>\n",
              "      <td>1.000000</td>\n",
              "    </tr>\n",
              "  </tbody>\n",
              "</table>\n",
              "</div>"
            ],
            "text/plain": [
              "               age        fnlwgt  education.num  capital.gain  capital.loss  \\\n",
              "count  4440.000000  4.440000e+03    4440.000000   4440.000000   4440.000000   \n",
              "mean     38.779279  1.923122e+05       9.985360   1223.965090     69.511261   \n",
              "std      14.011257  1.088622e+05       2.580624   8257.227782    357.876753   \n",
              "min      17.000000  1.882700e+04       1.000000      0.000000      0.000000   \n",
              "25%      28.000000  1.198022e+05       9.000000      0.000000      0.000000   \n",
              "50%      37.000000  1.798670e+05      10.000000      0.000000      0.000000   \n",
              "75%      48.000000  2.402272e+05      12.000000      0.000000      0.000000   \n",
              "max      90.000000  1.455435e+06      16.000000  99999.000000   2603.000000   \n",
              "\n",
              "       hours.per.week       target  \n",
              "count     4440.000000  4440.000000  \n",
              "mean        39.837387     0.240315  \n",
              "std         12.760011     0.427323  \n",
              "min          1.000000     0.000000  \n",
              "25%         38.000000     0.000000  \n",
              "50%         40.000000     0.000000  \n",
              "75%         45.000000     0.000000  \n",
              "max         99.000000     1.000000  "
            ]
          },
          "execution_count": 122,
          "metadata": {},
          "output_type": "execute_result"
        }
      ],
      "source": [
        "train.___()"
      ]
    },
    {
      "cell_type": "code",
      "execution_count": 9,
      "metadata": {
        "id": "gdnwpjR1y1ZZ",
        "trusted": true
      },
      "outputs": [
        {
          "data": {
            "text/plain": [
              "True"
            ]
          },
          "execution_count": 9,
          "metadata": {},
          "output_type": "execute_result"
        }
      ],
      "source": [
        "#checkcode\n",
        "ensure_vals(globals(), 'train')\n",
        "@check_safety\n",
        "def check(\n",
        "    user_answer:pd.DataFrame,\n",
        "    train_shape:tuple\n",
        "):\n",
        "    c_point1 = user_answer.shape == train_shape\n",
        "    \n",
        "    if c_point1:\n",
        "        return True\n",
        "    else:\n",
        "        return False\n",
        "    \n",
        "check(_, (8,7))"
      ]
    },
    {
      "cell_type": "markdown",
      "metadata": {
        "id": "TsWNKnzWy1Za"
      },
      "source": [
        "### Inst.\n",
        "\n",
        "`describe()` 함수는 pandas 데이터프레임(DataFrame)에서 **열(column)의 기술 통계량(descriptive statistics)** 을 반환합니다.   \n",
        "이를 통해 train이라는 데이터프레임에서 **수치형 데이터로 이루어진 열들의 분포와 중심 경향성, 흩어진 정도** 등을 대략적으로 파악할 수 있습니다.   \n",
        "이 함수는 **결측값(NaN)을 제외** 하고 통계량을 계산하므로, 데이터프레임에 포함된 열들의 실제 분포를 대략적으로 이해하는 데에 도움을 줍니다.\n",
        "\n",
        "`train.describe()` 함수의 출력 결과를 분석하여, 데이터프레임의 **열들의 분포나 이상치 여부 등을 파악** 할 수 있습니다.  \n",
        "\n",
        "---\n",
        "\n",
        "#### 결과 해석\n",
        "`describe` 함수를 사용하면 각 피처(feature)의 기본적인 **통계 값들을 확인**할 수 있습니다.\n",
        "\n",
        "- `count`: 해당 피처(feature)의 데이터 **개수**\n",
        "- `mean`: 해당 피처(feature)의 데이터 **평균값**\n",
        "- `std`: 해당 피처(feature)의 데이터 **표준편차**\n",
        "- `min`: 해당 피처(feature)의 데이터 **최솟값**\n",
        "- `25%, 50%, 75%`: 해당 피처(feature)의 값들을 크기순으로 정렬했을 때, 각각 25%, 50%, 75% 지점의 백분위수\n",
        "    - 백분위수(percentile)란, 크기가 있는 값들을 순서대로 나열했을 때 그 값의 **상대적인 위치** 를 말합니다.   \n",
        "    일반적으로 크기가 작은 순으로 오름차순 정렬을 했을 때 0을 최솟값, 100을 최댓값으로 합니다.   \n",
        "    즉, 100개의 값을 가지는 데이터가 존재할 때 25 백분위수는 그 자료의 값들 중 25번째로 작은 값을 의미합니다.\n",
        "- `max`: 해당 피처(feature)의 데이터 **최댓값**\n",
        "\n",
        "각 피처의 count 값이 모두 4440으로 동일하므로 결측치는 없는 것으로 보입니다.   \n",
        "`fnlwgt` 피처는 상대적으로 큰 표준 편차를 가지고 있으며, 이는 해당 피처의 값들이 평균에서 상당히 퍼져 있음을 나타냅니다.   \n",
        "또한 `fnlwgt`와 `capital.gain` 피처는 최댓값이 큰 편이므로, 이상치가 존재할 가능성이 있습니다.   \n",
        "`hours.per.week` 피처의 최솟값이 1로 나타나는데, 이는 이상치의 존재 가능성을 시사합니다.  \n",
        "마지막으로 `target` 피처는 대부분의 값이 0으로 나타나고, 1의 비율은 24%입니다.  "
      ]
    },
    {
      "cell_type": "markdown",
      "metadata": {
        "id": "Ii4tpqRHy1Za"
      },
      "source": [
        "### Hint.\n",
        "\n",
        "empty  "
      ]
    },
    {
      "cell_type": "markdown",
      "metadata": {
        "id": "Kx75yQV9y1Zb"
      },
      "source": [
        "### Solution.\n",
        "\n",
        "```python\n",
        "train.describe()\n",
        "```"
      ]
    },
    {
      "cell_type": "markdown",
      "metadata": {},
      "source": [
        "# 5. 데이터프레임(DataFrame)의 범주형 변수들에 대한 기술 통계량(descriptive statistics) 출력하기\n",
        "[문제 4]  \n",
        "- 예측에는 필요하지 않은 `ID` 피처(feature)를 제거해보세요. `drop` 함수는 데이터프레임에서 특정 열을 삭제할 때 사용됩니다.   \n",
        "여기서 `axis=1` 매개변수는 `열`을 삭제하도록 지정합니다.   \n",
        "따라서 'ID' 열은 삭제된 데이터프레임(train_drop)에 포함되지 않게 됩니다.\n",
        "- `describe()` 함수를 활용하여 `범주형 데이터`의 통계적 정보를 확인해보세요.   \n",
        "`include` 매개변수에 `object`를 할당하면 범주형 데이터의 통계를 살펴볼 수 있습니다."
      ]
    },
    {
      "cell_type": "code",
      "execution_count": 105,
      "metadata": {},
      "outputs": [
        {
          "data": {
            "text/html": [
              "<div>\n",
              "<style scoped>\n",
              "    .dataframe tbody tr th:only-of-type {\n",
              "        vertical-align: middle;\n",
              "    }\n",
              "\n",
              "    .dataframe tbody tr th {\n",
              "        vertical-align: top;\n",
              "    }\n",
              "\n",
              "    .dataframe thead th {\n",
              "        text-align: right;\n",
              "    }\n",
              "</style>\n",
              "<table border=\"1\" class=\"dataframe\">\n",
              "  <thead>\n",
              "    <tr style=\"text-align: right;\">\n",
              "      <th></th>\n",
              "      <th>workclass</th>\n",
              "      <th>education</th>\n",
              "      <th>marital.status</th>\n",
              "      <th>occupation</th>\n",
              "      <th>relationship</th>\n",
              "      <th>race</th>\n",
              "      <th>sex</th>\n",
              "      <th>native.country</th>\n",
              "    </tr>\n",
              "  </thead>\n",
              "  <tbody>\n",
              "    <tr>\n",
              "      <th>count</th>\n",
              "      <td>3977</td>\n",
              "      <td>4440</td>\n",
              "      <td>4440</td>\n",
              "      <td>3972</td>\n",
              "      <td>4440</td>\n",
              "      <td>4440</td>\n",
              "      <td>4440</td>\n",
              "      <td>4293</td>\n",
              "    </tr>\n",
              "    <tr>\n",
              "      <th>unique</th>\n",
              "      <td>8</td>\n",
              "      <td>16</td>\n",
              "      <td>7</td>\n",
              "      <td>13</td>\n",
              "      <td>6</td>\n",
              "      <td>5</td>\n",
              "      <td>2</td>\n",
              "      <td>40</td>\n",
              "    </tr>\n",
              "    <tr>\n",
              "      <th>top</th>\n",
              "      <td>Private</td>\n",
              "      <td>HS-grad</td>\n",
              "      <td>Married-civ-spouse</td>\n",
              "      <td>Craft-repair</td>\n",
              "      <td>Husband</td>\n",
              "      <td>White</td>\n",
              "      <td>Male</td>\n",
              "      <td>United-States</td>\n",
              "    </tr>\n",
              "    <tr>\n",
              "      <th>freq</th>\n",
              "      <td>2962</td>\n",
              "      <td>1452</td>\n",
              "      <td>2063</td>\n",
              "      <td>543</td>\n",
              "      <td>1790</td>\n",
              "      <td>3761</td>\n",
              "      <td>2975</td>\n",
              "      <td>3928</td>\n",
              "    </tr>\n",
              "  </tbody>\n",
              "</table>\n",
              "</div>"
            ],
            "text/plain": [
              "       workclass education      marital.status    occupation relationship  \\\n",
              "count       3977      4440                4440          3972         4440   \n",
              "unique         8        16                   7            13            6   \n",
              "top      Private   HS-grad  Married-civ-spouse  Craft-repair      Husband   \n",
              "freq        2962      1452                2063           543         1790   \n",
              "\n",
              "         race   sex native.country  \n",
              "count    4440  4440           4293  \n",
              "unique      5     2             40  \n",
              "top     White  Male  United-States  \n",
              "freq     3761  2975           3928  "
            ]
          },
          "execution_count": 105,
          "metadata": {},
          "output_type": "execute_result"
        }
      ],
      "source": [
        "train_drop = train.drop(['___'],axis = ___) \n",
        "train_drop.___(include=['___'])"
      ]
    },
    {
      "cell_type": "code",
      "execution_count": 11,
      "metadata": {
        "trusted": true
      },
      "outputs": [
        {
          "data": {
            "text/plain": [
              "True"
            ]
          },
          "execution_count": 11,
          "metadata": {},
          "output_type": "execute_result"
        }
      ],
      "source": [
        "#checkcode\n",
        "ensure_vals(globals(), 'train_drop')\n",
        "@check_safety\n",
        "def check(\n",
        "    user_answer:pd.DataFrame,\n",
        "    train_shape:tuple\n",
        "):\n",
        "    c_point1 = user_answer.shape == train_shape\n",
        "    \n",
        "    if c_point1:\n",
        "        return True\n",
        "    else:\n",
        "        return False\n",
        "    \n",
        "check(_, (4,8))"
      ]
    },
    {
      "cell_type": "markdown",
      "metadata": {},
      "source": [
        "### Inst.\n",
        "---\n",
        "\n",
        "#### 결과 해석\n",
        "\n",
        "결과로 나타난 부분은 범주형 열에 대한 통계 정보입니다.\n",
        "\n",
        "- `count`: 각 열의 비어 있지 않은(non-null) 데이터의 개수입니다. `workclass` 열에는 463개가 비어있네요.\n",
        "- `unique`: 각 열에서 고유한(unique) 값의 개수를 나타냅니다. `sex` 열에는 고유한(unique) 값이 2개 있습니다.   \n",
        "즉, mal과 female 두 가지 값으로 구성되어 있습니다.\n",
        "- `top`: 각 열에서 가장 자주 나타나는 값(가장 빈번한 값)를 나타냅니다. `native.country` 열에서는 United_States 값의 빈도가 가장 높네요.\n",
        "- `freq`: 각 열에서 가장 자주 나타나는 값의 빈도수를 나타냅니다. `United_States` 값이 총 3928번 등장했음을 나타냅니다."
      ]
    },
    {
      "cell_type": "markdown",
      "metadata": {},
      "source": [
        "### Hint.\n",
        "\n",
        "empty  "
      ]
    },
    {
      "cell_type": "markdown",
      "metadata": {},
      "source": [
        "### Solution.\n",
        "\n",
        "```python\n",
        "train_drop = train.drop(['ID'],axis = 1) \n",
        "train_drop.describe(include=['object'])\n",
        "```"
      ]
    },
    {
      "cell_type": "markdown",
      "metadata": {
        "id": "K8CWmOr-y1Zd"
      },
      "source": [
        "# 6. submission 데이터의 하위 10개의 행(row) 데이터 출력하기\n",
        "[문제 5]  \n",
        "하위 10개의 행(row) 데이터를 출력해 보세요.  "
      ]
    },
    {
      "cell_type": "code",
      "execution_count": 134,
      "metadata": {
        "id": "1B6KqLfQy1Zd",
        "outputId": "dbd0c8ed-080a-48f5-fdc2-399b6f28989b"
      },
      "outputs": [
        {
          "data": {
            "text/html": [
              "<div>\n",
              "<style scoped>\n",
              "    .dataframe tbody tr th:only-of-type {\n",
              "        vertical-align: middle;\n",
              "    }\n",
              "\n",
              "    .dataframe tbody tr th {\n",
              "        vertical-align: top;\n",
              "    }\n",
              "\n",
              "    .dataframe thead th {\n",
              "        text-align: right;\n",
              "    }\n",
              "</style>\n",
              "<table border=\"1\" class=\"dataframe\">\n",
              "  <thead>\n",
              "    <tr style=\"text-align: right;\">\n",
              "      <th></th>\n",
              "      <th>ID</th>\n",
              "      <th>target</th>\n",
              "    </tr>\n",
              "  </thead>\n",
              "  <tbody>\n",
              "    <tr>\n",
              "      <th>484</th>\n",
              "      <td>TEST_0484</td>\n",
              "      <td>False</td>\n",
              "    </tr>\n",
              "    <tr>\n",
              "      <th>485</th>\n",
              "      <td>TEST_0485</td>\n",
              "      <td>False</td>\n",
              "    </tr>\n",
              "    <tr>\n",
              "      <th>486</th>\n",
              "      <td>TEST_0486</td>\n",
              "      <td>False</td>\n",
              "    </tr>\n",
              "    <tr>\n",
              "      <th>487</th>\n",
              "      <td>TEST_0487</td>\n",
              "      <td>False</td>\n",
              "    </tr>\n",
              "    <tr>\n",
              "      <th>488</th>\n",
              "      <td>TEST_0488</td>\n",
              "      <td>False</td>\n",
              "    </tr>\n",
              "    <tr>\n",
              "      <th>489</th>\n",
              "      <td>TEST_0489</td>\n",
              "      <td>False</td>\n",
              "    </tr>\n",
              "    <tr>\n",
              "      <th>490</th>\n",
              "      <td>TEST_0490</td>\n",
              "      <td>False</td>\n",
              "    </tr>\n",
              "    <tr>\n",
              "      <th>491</th>\n",
              "      <td>TEST_0491</td>\n",
              "      <td>False</td>\n",
              "    </tr>\n",
              "    <tr>\n",
              "      <th>492</th>\n",
              "      <td>TEST_0492</td>\n",
              "      <td>False</td>\n",
              "    </tr>\n",
              "    <tr>\n",
              "      <th>493</th>\n",
              "      <td>TEST_0493</td>\n",
              "      <td>False</td>\n",
              "    </tr>\n",
              "  </tbody>\n",
              "</table>\n",
              "</div>"
            ],
            "text/plain": [
              "            ID  target\n",
              "484  TEST_0484   False\n",
              "485  TEST_0485   False\n",
              "486  TEST_0486   False\n",
              "487  TEST_0487   False\n",
              "488  TEST_0488   False\n",
              "489  TEST_0489   False\n",
              "490  TEST_0490   False\n",
              "491  TEST_0491   False\n",
              "492  TEST_0492   False\n",
              "493  TEST_0493   False"
            ]
          },
          "execution_count": 134,
          "metadata": {},
          "output_type": "execute_result"
        }
      ],
      "source": [
        "submission.___(___)"
      ]
    },
    {
      "cell_type": "code",
      "execution_count": 13,
      "metadata": {
        "id": "_nWyNEEOy1Zd",
        "outputId": "b24ff457-b0cf-4400-a5f1-076073e155c5",
        "trusted": true
      },
      "outputs": [
        {
          "data": {
            "text/plain": [
              "True"
            ]
          },
          "execution_count": 13,
          "metadata": {},
          "output_type": "execute_result"
        }
      ],
      "source": [
        "#checkcode\n",
        "ensure_vals(globals(), 'submission')\n",
        "@check_safety\n",
        "def check(\n",
        "    user_answer:pd.DataFrame,\n",
        "    submission_shape:tuple\n",
        "):\n",
        "    c_point1 = user_answer.shape == submission_shape\n",
        "    \n",
        "    if c_point1:\n",
        "        return True\n",
        "    else:\n",
        "        return False\n",
        "    \n",
        "check(_, (10,2))"
      ]
    },
    {
      "cell_type": "markdown",
      "metadata": {
        "id": "j1TyBQujy1Ze"
      },
      "source": [
        "### Inst.\n",
        "`tail()` 함수는 일반적으로 데이터의 **하위 5개 행(row)** 데이터를 출력합니다.   \n",
        "출력하는 행(row)의 개수를 늘리거나 줄이려면 `tail(n)` 함수의 인자로 원하는 개수를 입력하면 됩니다.\n",
        "\n",
        "---\n",
        "\n",
        "#### 결과 해석\n",
        "\n",
        "제출할 submission 데이터는 **ID와 target(소득)** 칼럼(column)으로 이루어져 있습니다.   \n",
        "그러나 모든 target 데이터가 0으로 이루어져 있기 때문에,     \n",
        "이번 프로젝트에서는 **각 ID에 따른 소득을 예측**하는 문제임을 알 수 있습니다.   \n",
        "**따라서, 예측한 소득으로 target 칼럼(column)의 값을 모두 채우면 됩니다.**  \n",
        "이를 위해 모델링을 통해 각 ID에 대한 소득을 예측하고,   \n",
        "이를 target 칼럼에 대입하여 최종적인 submission 데이터를 생성합니다.  \n",
        "\n",
        "##### **[sample_submission.csv]** \n",
        "- ID: 샘플별 고유 ID\n",
        "- target: 소득 (목표 예측값)\n",
        "    - 0 : <=50K (5만 달러 이하)  \n",
        "    - 1 : >50K (5만 달러 초과) "
      ]
    },
    {
      "cell_type": "markdown",
      "metadata": {
        "id": "9xLA6Hdsy1Ze"
      },
      "source": [
        "### Hint.\n",
        "empty"
      ]
    },
    {
      "cell_type": "markdown",
      "metadata": {
        "id": "2gz1QtDdy1Ze"
      },
      "source": [
        "### Solution.\n",
        "```python\n",
        "submission.tail(10)\n",
        "```"
      ]
    },
    {
      "cell_type": "markdown",
      "metadata": {
        "id": "9vCnIyKky1Zm"
      },
      "source": [
        "# 7. target의 최빈값(mode) 추출\n",
        "\n",
        "데이터프레임(train)에서 `target` 빈도수가 가장 높은 값을 출력해보겠습니다.\n",
        "\n",
        "[문제 6]  \n",
        "`mode()` 메서드를 이용하여 특정한 열(column)의 `최빈값`을 가져와서 출력해 보세요."
      ]
    },
    {
      "cell_type": "code",
      "execution_count": 151,
      "metadata": {
        "id": "5jSpWR5Uy1Zm",
        "outputId": "b9db209f-af31-4384-ab1b-98934a113865",
        "pycharm": {
          "is_executing": true
        }
      },
      "outputs": [
        {
          "data": {
            "text/plain": [
              "0"
            ]
          },
          "execution_count": 151,
          "metadata": {},
          "output_type": "execute_result"
        }
      ],
      "source": [
        "mode_target = train['target'].___()[0]\n",
        "mode_target"
      ]
    },
    {
      "cell_type": "code",
      "execution_count": 32,
      "metadata": {
        "id": "0b9kQy-Jy1Zq",
        "trusted": true
      },
      "outputs": [
        {
          "data": {
            "text/plain": [
              "True"
            ]
          },
          "execution_count": 32,
          "metadata": {},
          "output_type": "execute_result"
        }
      ],
      "source": [
        "#checkcode\n",
        "ensure_vals(globals(),'mode_target')\n",
        "@check_safety\n",
        "def check(\n",
        "    user_answer:int,\n",
        "    num:int\n",
        "):\n",
        "    c_point0 = user_answer == num\n",
        "    \n",
        "    if c_point0:\n",
        "        return True\n",
        "    else:\n",
        "        return False\n",
        "    \n",
        "check(mode_target,0)"
      ]
    },
    {
      "cell_type": "markdown",
      "metadata": {
        "id": "0R4cdP3Ky1Zq"
      },
      "source": [
        "### Inst.\n",
        "train 데이터의 target 피처(feature)에 대해 `mode()` 함수를 적용하여 `target 피처의 최빈값`을 mode_target 변수에 할당하였습니다.\n",
        "\n",
        "---\n",
        "#### 결과 해석\n",
        "step 4에서 `describe()` 함수의 결과로, target 열에서 값 1이 전체의 24%를 차지한다는 것을 확인했습니다.   \n",
        "따라서 값 0은 약 76%로 대부분을 차지하게 됩니다.   \n",
        "이로 인해 최빈값(mode)은 0으로 나타나게 됩니다.   \n",
        "즉, target 열에서 가장 빈번하게 나타나는 값은 0입니다.   \n",
        "이것은 데이터셋의 target 값이 주로 0으로 구성되어 있음을 나타냅니다."
      ]
    },
    {
      "cell_type": "markdown",
      "metadata": {
        "id": "iP0IdIO_y1Zr"
      },
      "source": [
        "### Hint.\n",
        "\n",
        "empty  "
      ]
    },
    {
      "cell_type": "markdown",
      "metadata": {
        "id": "I4RNgSk9y1Zr"
      },
      "source": [
        "### Solution.\n",
        "\n",
        "```python\n",
        "mode_target = train['target'].mode()[0]\n",
        "mode_target\n",
        "```"
      ]
    },
    {
      "cell_type": "markdown",
      "metadata": {
        "id": "hi253hiVy1Zr"
      },
      "source": [
        "# 8. target의 최빈값으로 submission 데이터 채우기\n",
        "\n",
        "target 열의 최빈값인 0을 사용하여 submission 파일을 작성한 후, 이를 제출해보겠습니다.\n",
        "\n",
        "[문제 7]  \n",
        "submission 데이터의 target 피처(feature)에 `mode_target` 값을 할당해 보세요."
      ]
    },
    {
      "cell_type": "code",
      "execution_count": 165,
      "metadata": {
        "id": "HcpWL538y1Zr",
        "outputId": "12a20c16-286c-4b54-d9d3-c9427e814012",
        "pycharm": {
          "is_executing": true
        }
      },
      "outputs": [
        {
          "data": {
            "text/html": [
              "<div>\n",
              "<style scoped>\n",
              "    .dataframe tbody tr th:only-of-type {\n",
              "        vertical-align: middle;\n",
              "    }\n",
              "\n",
              "    .dataframe tbody tr th {\n",
              "        vertical-align: top;\n",
              "    }\n",
              "\n",
              "    .dataframe thead th {\n",
              "        text-align: right;\n",
              "    }\n",
              "</style>\n",
              "<table border=\"1\" class=\"dataframe\">\n",
              "  <thead>\n",
              "    <tr style=\"text-align: right;\">\n",
              "      <th></th>\n",
              "      <th>ID</th>\n",
              "      <th>target</th>\n",
              "    </tr>\n",
              "  </thead>\n",
              "  <tbody>\n",
              "    <tr>\n",
              "      <th>0</th>\n",
              "      <td>TEST_0000</td>\n",
              "      <td>0</td>\n",
              "    </tr>\n",
              "    <tr>\n",
              "      <th>1</th>\n",
              "      <td>TEST_0001</td>\n",
              "      <td>0</td>\n",
              "    </tr>\n",
              "    <tr>\n",
              "      <th>2</th>\n",
              "      <td>TEST_0002</td>\n",
              "      <td>0</td>\n",
              "    </tr>\n",
              "    <tr>\n",
              "      <th>3</th>\n",
              "      <td>TEST_0003</td>\n",
              "      <td>0</td>\n",
              "    </tr>\n",
              "    <tr>\n",
              "      <th>4</th>\n",
              "      <td>TEST_0004</td>\n",
              "      <td>0</td>\n",
              "    </tr>\n",
              "  </tbody>\n",
              "</table>\n",
              "</div>"
            ],
            "text/plain": [
              "          ID  target\n",
              "0  TEST_0000       0\n",
              "1  TEST_0001       0\n",
              "2  TEST_0002       0\n",
              "3  TEST_0003       0\n",
              "4  TEST_0004       0"
            ]
          },
          "execution_count": 165,
          "metadata": {},
          "output_type": "execute_result"
        }
      ],
      "source": [
        "submission['___'] = ___\n",
        "submission.head()"
      ]
    },
    {
      "cell_type": "code",
      "execution_count": 34,
      "metadata": {
        "id": "TuyY_2c0y1Zs",
        "trusted": true
      },
      "outputs": [
        {
          "data": {
            "text/plain": [
              "True"
            ]
          },
          "execution_count": 34,
          "metadata": {},
          "output_type": "execute_result"
        }
      ],
      "source": [
        "#checkcode\n",
        "ensure_vals(globals(),'submission')\n",
        "@check_safety\n",
        "def check(\n",
        "    user_answer:int,\n",
        "    user_col:int,\n",
        "    num:int\n",
        "):\n",
        "    c_point0 = (user_answer[user_col]).sum() == num\n",
        "    if c_point0:\n",
        "        return True\n",
        "    else:\n",
        "        return False\n",
        "check(_,'target',0)"
      ]
    },
    {
      "cell_type": "markdown",
      "metadata": {
        "id": "W-EoakfCy1Zt"
      },
      "source": [
        "### Inst.\n",
        "이번 프로젝트는 소득을 예측한 값으로 submission 데이터를 채우는 것이 목표라고 했었는데요.  \n",
        "이번 스텝에서는 소득을 예측한 값으로 채우지 않고, **train 데이터셋에서 구한 target의 최빈값으로 채워보려고 합니다.**  \n",
        "\n",
        "train 데이터셋에서 구한 target의 최빈값으로 채우는 이유는,   \n",
        "이전 스텝에서 target 값이 모두 0으로 되어 있는 것을 확인했기 때문입니다.\n",
        "  \n",
        "target 열을 합리적으로 예측할 수 있는 값으로 채워서 제출해야 하는데요.  \n",
        "일반적으로, target 열의 최빈값(mode)을 구해서 이를 채우는 방법이 많이 사용됩니다.     \n",
        "이렇게 하면 최소한의 예측 성능은 보장됩니다.   \n",
        "다만, 이를 통해 높은 예측 성능을 얻기 위해서는 전처리나 모델 선택 등의 추가적인 작업이 필요합니다.   \n",
        " \n",
        "해당 작업들은 뒤에서 배울 예정입니다. \n",
        "차근차근 배워봅시다!  \n",
        "\n",
        "이를 위해서는 submission 데이터의 target 피처(feature)에 mode_target 값을 할당하면 됩니다.   \n",
        "이때, submission['target'] = mode_target와 같이 값을 할당할 수 있습니다.\n",
        ">- **submission['특성 이름'] = 대체할 값**"
      ]
    },
    {
      "cell_type": "markdown",
      "metadata": {
        "id": "zvDxsNzJy1Zu"
      },
      "source": [
        "### Hint.\n",
        "\n",
        "empty  "
      ]
    },
    {
      "cell_type": "markdown",
      "metadata": {
        "id": "xZ2Cht_Ry1Zu"
      },
      "source": [
        "### Solution.\n",
        "```python\n",
        "submission['target'] = mode_target\n",
        "submission.head()\n",
        "```"
      ]
    },
    {
      "cell_type": "markdown",
      "metadata": {
        "id": "ac1GX6Ioy1Zu"
      },
      "source": [
        "# 9.데이터프레임(DataFrame)을 CSV 파일로 저장하기\n",
        "[문제 8]  \n",
        "값이 할당된 submission 데이터를 submission.csv 파일로 저장해 보세요."
      ]
    },
    {
      "cell_type": "code",
      "execution_count": 37,
      "metadata": {
        "id": "pOiZuDXRy1Zv",
        "trusted": true
      },
      "outputs": [],
      "source": [
        "submission.___('submission.csv', index=False)"
      ]
    },
    {
      "cell_type": "code",
      "execution_count": 39,
      "metadata": {
        "id": "sQ7qWWdwy1Zv",
        "outputId": "7f0d40fb-4ce5-4528-89f8-1ce402f1cf55",
        "pycharm": {
          "is_executing": true
        },
        "trusted": true
      },
      "outputs": [
        {
          "data": {
            "text/plain": [
              "True"
            ]
          },
          "execution_count": 39,
          "metadata": {},
          "output_type": "execute_result"
        }
      ],
      "source": [
        "#checkcode\n",
        "ensure_vals(globals(), 'submission')\n",
        "@check_safety\n",
        "def check(\n",
        "    user_answer\n",
        "):\n",
        "    answer = pd.read_csv('submission.csv')\n",
        "\n",
        "    sub_medv = user_answer['target'].apply(lambda x: int(x * 100))\n",
        "    ans_medv = answer['target'].apply(lambda x: int(x * 100))\n",
        "\n",
        "    c_point0 = (sub_medv == ans_medv).all()\n",
        "    if c_point0:\n",
        "        return True\n",
        "    else:\n",
        "        return False\n",
        "\n",
        "check(submission)"
      ]
    },
    {
      "cell_type": "markdown",
      "metadata": {
        "id": "ldipzFfny1Zv"
      },
      "source": [
        "### Inst."
      ]
    },
    {
      "cell_type": "markdown",
      "metadata": {
        "id": "eGiE6E4Dy1Zx"
      },
      "source": [
        "### Hint.\n",
        "`to_csv()` 함수를 사용해서 csv 파일로 저장해 보세요.   \n",
        "index 인자는 반드시 False로 설정해 주세요."
      ]
    },
    {
      "cell_type": "markdown",
      "metadata": {
        "id": "mKhqCxUty1Zy"
      },
      "source": [
        "### Solution.\n",
        "```python\n",
        "submission.to_csv('submission.csv', index = False)\n",
        "```"
      ]
    }
  ],
  "metadata": {
    "colab": {
      "provenance": []
    },
    "kernelspec": {
      "display_name": "Python (Pyodide)",
      "language": "python",
      "name": "python"
    },
    "language_info": {
      "codemirror_mode": {
        "name": "python",
        "version": 3
      },
      "file_extension": ".py",
      "mimetype": "text/x-python",
      "name": "python",
      "nbconvert_exporter": "python",
      "pygments_lexer": "ipython3",
      "version": "3.8"
    }
  },
  "nbformat": 4,
  "nbformat_minor": 4
}
