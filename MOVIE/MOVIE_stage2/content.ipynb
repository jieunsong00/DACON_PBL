{
 "cells": [
  {
   "cell_type": "code",
   "execution_count": null,
   "metadata": {
    "id": "RJJ7qQN0qiio"
   },
   "outputs": [],
   "source": [
    "#hiddencell\n",
    "from pbl_tools import *"
   ]
  },
  {
   "cell_type": "markdown",
   "metadata": {
    "id": "j48OcIbGvMhg"
   },
   "source": [
    "# 스테이지 2"
   ]
  },
  {
   "attachments": {},
   "cell_type": "markdown",
   "metadata": {},
   "source": [
    "# 1. pandas를 이용해 csv 파일 읽어오기\n",
    "[문제 1]  \n",
    "Pandas 라이브러리(library)를 가져와보세요.   \n",
    "그리고 train.csv, test.csv, sample_submission.csv   파일을 각각 train, test, submission 변수로 읽어오세요.    \n",
    "아래 빈칸을 채워주세요."
   ]
  },
  {
   "cell_type": "code",
   "execution_count": null,
   "metadata": {
    "id": "C_mPQOzuqsik"
   },
   "outputs": [],
   "source": [
    "import ___ as pd\n",
    "\n",
    "train = pd.___('train.csv')\n",
    "test = pd.___('test.csv')\n",
    "submission = pd.___('sample_submission.csv')"
   ]
  },
  {
   "cell_type": "code",
   "execution_count": null,
   "metadata": {
    "collapsed": false,
    "pycharm": {
     "name": "#%%\n"
    }
   },
   "outputs": [],
   "source": [
    "#checkcode\n",
    "ensure_vals(globals(), 'train', 'test', 'submission')\n",
    "@check_safety\n",
    "def check(user_answer_train=train,\n",
    "          user_answer_test=test, \n",
    "          user_answer_submission=submission):\n",
    "    \n",
    "    c_point0 = hasattr(user_answer_train, 'tail')\n",
    "    c_point1 = hasattr(user_answer_test, 'tail')\n",
    "    c_point2 = hasattr(user_answer_submission, 'tail')\n",
    "\n",
    "    if c_point0 and c_point1 and c_point2 :\n",
    "        return True\n",
    "    else:\n",
    "        return False\n",
    "\n",
    "check()"
   ]
  },
  {
   "attachments": {},
   "cell_type": "markdown",
   "metadata": {},
   "source": [
    "### Inst.  \n"
   ]
  },
  {
   "cell_type": "markdown",
   "metadata": {},
   "source": [
    "### Hint.\n",
    "`pd.read_csv('파일경로/파일명')` 를 활용해 보세요!"
   ]
  },
  {
   "cell_type": "markdown",
   "metadata": {},
   "source": [
    "### Solution.\n",
    "```python\n",
    "import pandas as pd  \n",
    "\n",
    "train = pd.read_csv('train.csv')  \n",
    "test = pd.read_csv('test.csv')  \n",
    "submission = pd.read_csv('sample_submission.csv')\n",
    "```"
   ]
  },
  {
   "attachments": {},
   "cell_type": "markdown",
   "metadata": {
    "id": "C3SWlNLptBUk"
   },
   "source": [
    "# 2. train 데이터의 상위 5개 행(row) 데이터 출력하기\n",
    "\n",
    "[문제 2]  \n",
    "아래 빈칸을 채워 상위 5개의 행(row) 데이터를 확인해 보세요.   "
   ]
  },
  {
   "cell_type": "code",
   "execution_count": null,
   "metadata": {
    "collapsed": false,
    "pycharm": {
     "name": "#%%\n"
    }
   },
   "outputs": [],
   "source": [
    "train.___()"
   ]
  },
  {
   "cell_type": "code",
   "execution_count": null,
   "metadata": {
    "collapsed": false,
    "pycharm": {
     "name": "#%%\n"
    }
   },
   "outputs": [],
   "source": [
    "#checkcode\n",
    "ensure_vals(globals(),'train')\n",
    "@check_safety\n",
    "def check(user_answer = _, number = 5):\n",
    "    c_point0 = (len(user_answer) == number)\n",
    "    if c_point0:\n",
    "        return True\n",
    "    else:\n",
    "        return False\n",
    "check()"
   ]
  },
  {
   "attachments": {},
   "cell_type": "markdown",
   "metadata": {
    "id": "Vf2CMeSJtBDM"
   },
   "source": [
    "### Inst.\n",
    "\n",
    "---\n",
    "\n",
    "#### 결과 해석\n",
    "\n",
    "**[train.csv]** \n",
    "\n",
    "- title : 영화의 제목\n",
    "- distributor : 배급사\n",
    "- genre : 장르\n",
    "- release_time : 개봉일\n",
    "- time : 상영시간(분)\n",
    "- screening_rat : 상영등급\n",
    "- director : 감독이름\n",
    "- dir_prev_bfnum : 해당 감독이 이 영화를 만들기 전 제작에 참여한 영화에서의 평균 관객수(단 관객수가 알려지지 않은 영화 제외)\n",
    "- dir_prev_num : 해당 감독이 이 영화를 만들기 전 제작에 참여한 영화의 개수(단 관객수가 알려지지 않은 영화 제외)\n",
    "- num_staff : 스텝수\n",
    "- num_actor : 주연배우수\n",
    "- **box_off_num : 관객수**"
   ]
  },
  {
   "attachments": {},
   "cell_type": "markdown",
   "metadata": {
    "id": "dCOaFHn0tA8e"
   },
   "source": [
    "### Hint.\n",
    "`head()` 메소드는 기본적으로 상위 5개 행(row) 데이터를 출력합니다.   \n",
    "확인하고 싶은 행 개수를 4개로 변경하고 싶다면 head(n) 메소드 인자에 들어가는 숫자를 변경해 보세요.  "
   ]
  },
  {
   "cell_type": "markdown",
   "metadata": {
    "id": "nvSBCQn8tA5z"
   },
   "source": [
    "### Solution.\n",
    "```python\n",
    "train.head()\n",
    "```"
   ]
  },
  {
   "attachments": {},
   "cell_type": "markdown",
   "metadata": {
    "id": "YvTgI0J6vMNM"
   },
   "source": [
    "# 3. test 데이터의 하위 2개 행(row) 데이터 출력하기\n",
    "\n",
    "[문제 3]  \n",
    "아래 빈칸을 채워 하위 2개 행(row) 데이터를 출력해 보세요.     "
   ]
  },
  {
   "cell_type": "code",
   "execution_count": null,
   "metadata": {
    "collapsed": false,
    "pycharm": {
     "name": "#%%\n"
    }
   },
   "outputs": [],
   "source": [
    "test.___(___)"
   ]
  },
  {
   "cell_type": "code",
   "execution_count": null,
   "metadata": {
    "colab": {
     "base_uri": "https://localhost:8080/"
    },
    "executionInfo": {
     "elapsed": 6,
     "status": "ok",
     "timestamp": 1676514027900,
     "user": {
      "displayName": "송지은",
      "userId": "04554582486449103299"
     },
     "user_tz": -540
    },
    "id": "8JTg3UryvlPv",
    "outputId": "f1499117-95cd-4ef9-c76e-43a1d7de05e4",
    "pycharm": {
     "name": "#%%\n"
    }
   },
   "outputs": [],
   "source": [
    "#checkcode\n",
    "ensure_vals(globals(),'test')\n",
    "@check_safety\n",
    "def check(user_answer = _, number = 2):\n",
    "    c_point0 = (len(user_answer) == number)\n",
    "    if c_point0:\n",
    "        return True\n",
    "    else:\n",
    "        return False\n",
    "check()"
   ]
  },
  {
   "attachments": {},
   "cell_type": "markdown",
   "metadata": {
    "id": "M8wPDQoEvlqF"
   },
   "source": [
    "### Inst.\n",
    "`tail()` 함수는 일반적으로 데이터의 **하위 5개 행(row)** 데이터를 출력합니다.   \n",
    "출력하는 행의 개수를 늘리거나 줄이려면 `tail(n)` 함수의 인자로 원하는 개수를 입력하면 됩니다.\n",
    "\n",
    "---\n",
    "\n",
    "#### 결과 해석\n",
    "\n",
    "**test 데이터에는 train 데이터와는 달리 box_off_num 피처(feature)가 존재하지 않습니다.**   \n",
    "이를 통해 이번 분석은 box_off_num, 즉 영화 관객 수를 예측하는 문제임을 파악할 수 있습니다.  \n",
    "\n",
    "<img width = 900 src=\"https://drive.google.com/uc?id=1RnPyXz6ivhwh25QnpLxmy5J0EpXpvDLE\">\n",
    "\n",
    "**[test.csv]** \n",
    "\n",
    "- title : 영화의 제목\n",
    "- distributor : 배급사\n",
    "- genre : 장르\n",
    "- release_time : 개봉일\n",
    "- time : 상영시간(분)\n",
    "- screening_rat : 상영등급\n",
    "- director : 감독이름\n",
    "- dir_prev_bfnum : 해당 감독이 이 영화를 만들기 전 제작에 참여한 영화에서의 평균 관객수(단 관객수가 알려지지 않은 영화 제외)\n",
    "- dir_prev_num : 해당 감독이 이 영화를 만들기 전 제작에 참여한 영화의 개수(단 관객수가 알려지지 않은 영화 제외)\n",
    "- num_staff : 스텝수\n",
    "- num_actor : 주연배우수"
   ]
  },
  {
   "attachments": {},
   "cell_type": "markdown",
   "metadata": {
    "id": "cx5KrtmGvllc"
   },
   "source": [
    "### Hint.\n",
    "empty\n",
    "\n"
   ]
  },
  {
   "cell_type": "markdown",
   "metadata": {
    "id": "S0NgFO14vljT"
   },
   "source": [
    "### Solution.\n",
    "```python\n",
    "test.tail(2)\n",
    "```"
   ]
  },
  {
   "attachments": {},
   "cell_type": "markdown",
   "metadata": {
    "id": "WX1-4T-zzmVc"
   },
   "source": [
    "# 4. train 데이터의 길이(len) 확인하기\n",
    "[문제 4]    \n",
    "`len()` 메소드를 이용해서 train 데이터셋의 길이를 출력해 보세요.  "
   ]
  },
  {
   "cell_type": "code",
   "execution_count": null,
   "metadata": {
    "colab": {
     "base_uri": "https://localhost:8080/"
    },
    "executionInfo": {
     "elapsed": 335,
     "status": "ok",
     "timestamp": 1676359405136,
     "user": {
      "displayName": "송지은",
      "userId": "04554582486449103299"
     },
     "user_tz": -540
    },
    "id": "B1TxKRUrq3q_",
    "outputId": "948fcbb3-09e5-4013-d7e2-d3fa09aa9de7",
    "pycharm": {
     "name": "#%%\n"
    }
   },
   "outputs": [],
   "source": [
    "___(train)"
   ]
  },
  {
   "cell_type": "code",
   "execution_count": null,
   "metadata": {
    "id": "c5Wb-C--zoiJ"
   },
   "outputs": [],
   "source": [
    "#checkcode\n",
    "ensure_vals(globals(),'train')\n",
    "@check_safety\n",
    "def check(user_answer=_, user_train=train):\n",
    "\n",
    "    c_point0 = (user_answer == len(user_train))\n",
    "\n",
    "    if c_point0 :\n",
    "        return True\n",
    "    else:\n",
    "        return False\n",
    "check()"
   ]
  },
  {
   "attachments": {},
   "cell_type": "markdown",
   "metadata": {
    "id": "WHrY5dO30Czu"
   },
   "source": [
    "### Inst.\n",
    "\n",
    "`len()`은 파이썬에서 **리스트(list)나 문자열 등의 길이** 를 구하는 내장 함수입니다.   \n",
    "즉, 해당 코드는 train이라는 변수에 저장된 **데이터셋의 행 수(데이터 개수)** 를 구하는 코드입니다.     \n",
    "이 코드를 사용하여 데이터셋에 포함된 데이터의 개수를 확인할 수 있습니다.  \n",
    "\n",
    "이를 통해 데이터셋의 규모를 파악하고, 모델을 학습할 때 데이터를 분할하거나 데이터셋을 처리하는 방법을 결정할 수 있습니다.  "
   ]
  },
  {
   "cell_type": "markdown",
   "metadata": {
    "id": "udpOiBcf0E8c"
   },
   "source": [
    "### Hint.\n",
    "empty"
   ]
  },
  {
   "attachments": {},
   "cell_type": "markdown",
   "metadata": {
    "id": "jJA89ghy0N-W"
   },
   "source": [
    "### Solution.\n",
    "```python\n",
    "len(train)\n",
    "```"
   ]
  },
  {
   "attachments": {},
   "cell_type": "markdown",
   "metadata": {
    "id": "55OnYNnl4xBi"
   },
   "source": [
    "# 5. train 데이터의 차원(ndim) 확인하기\n",
    "[문제 5]    \n",
    "`ndim` 메소드를 이용해서 train 데이터셋의 차원 수를 출력해 보세요."
   ]
  },
  {
   "cell_type": "code",
   "execution_count": null,
   "metadata": {
    "colab": {
     "base_uri": "https://localhost:8080/"
    },
    "executionInfo": {
     "elapsed": 4,
     "status": "ok",
     "timestamp": 1676427850715,
     "user": {
      "displayName": "송지은",
      "userId": "04554582486449103299"
     },
     "user_tz": -540
    },
    "id": "zoEqvyX_4tk0",
    "outputId": "30ffbe30-22ec-44b4-a52d-353364ea95f5",
    "pycharm": {
     "name": "#%%\n"
    }
   },
   "outputs": [],
   "source": [
    "train.___"
   ]
  },
  {
   "cell_type": "code",
   "execution_count": null,
   "metadata": {
    "id": "Y6T4xhpD4uZ3"
   },
   "outputs": [],
   "source": [
    "#checkcode\n",
    "ensure_vals(globals(),'train')\n",
    "@check_safety\n",
    "def check(user_answer=_, user_train=train):\n",
    "\n",
    "    c_point0 = (user_answer == user_train.ndim)\n",
    "\n",
    "    if c_point0 :\n",
    "        return True\n",
    "    else:\n",
    "        return False\n",
    "check()"
   ]
  },
  {
   "attachments": {},
   "cell_type": "markdown",
   "metadata": {
    "id": "AQMj9AydESbj"
   },
   "source": [
    "### Inst.\n",
    "\n",
    "`ndim` 함수는 numpy 배열에서 **차원 수** 를 확인하는 함수입니다.   \n",
    "즉, 해당 코드는 train 이라는 변수에 저장된 **데이터셋의 차원 수** 를 구하는 코드입니다.\n",
    "\n",
    "이를 통해 데이터셋이 이미지, 텍스트, 시계열 등의 **어떤 형태의 데이터** 인지를 알 수 있습니다.   \n",
    "\n",
    "---\n",
    "\n",
    "#### 결과 해석\n",
    "\n",
    "train 데이터셋은 2차원으로 구성되어 있습니다."
   ]
  },
  {
   "cell_type": "markdown",
   "metadata": {
    "id": "60waMr_JESbu"
   },
   "source": [
    "### Hint.\n",
    "empty"
   ]
  },
  {
   "attachments": {},
   "cell_type": "markdown",
   "metadata": {
    "id": "luoofyaqESbv"
   },
   "source": [
    "### Solution.\n",
    "```python\n",
    "train.ndim\n",
    "```"
   ]
  },
  {
   "attachments": {},
   "cell_type": "markdown",
   "metadata": {
    "id": "lZBjZHaq0QPH"
   },
   "source": [
    "# 6. train 데이터셋 구조(shape) 확인하기\n",
    "\n",
    "[문제 6]  \n",
    "`shape` 함수를 이용하여 train 데이터의 행(row)과 열(column)의 크기를 확인해 보세요.  "
   ]
  },
  {
   "cell_type": "code",
   "execution_count": null,
   "metadata": {
    "colab": {
     "base_uri": "https://localhost:8080/"
    },
    "executionInfo": {
     "elapsed": 8,
     "status": "ok",
     "timestamp": 1676427096715,
     "user": {
      "displayName": "송지은",
      "userId": "04554582486449103299"
     },
     "user_tz": -540
    },
    "id": "9Xalz90v0Dqw",
    "outputId": "b88fbd57-ef09-4486-80e4-42566eb1763c",
    "pycharm": {
     "name": "#%%\n"
    }
   },
   "outputs": [],
   "source": [
    "train.___"
   ]
  },
  {
   "cell_type": "code",
   "execution_count": null,
   "metadata": {
    "id": "MY64ePWU0SYy"
   },
   "outputs": [],
   "source": [
    "#checkcode\n",
    "ensure_vals(globals(),'train')\n",
    "@check_safety\n",
    "def check(user_answer=_, user_train=train):\n",
    "\n",
    "    c_point0 = (user_answer == user_train.shape)\n",
    "\n",
    "    if c_point0 :\n",
    "        return True\n",
    "    else:\n",
    "        return False\n",
    "check()"
   ]
  },
  {
   "attachments": {},
   "cell_type": "markdown",
   "metadata": {
    "id": "5DwoHJfP0UdZ"
   },
   "source": [
    "### Inst.\n",
    "\n",
    "\n",
    "`shape`은 numpy 배열에서 **배열의 구조(크기, 형태)** 를 확인하는 함수입니다.   \n",
    "따라서 해당 코드는 train 데이터의 numpy 배열의 구조를 확인하는 코드입니다.   \n",
    "   \n",
    "`train.shape` 코드를 사용하여 데이터셋의 구조를 확인하고, 데이터셋이 어떤 형태로 구성되어 있는지 파악할 수 있습니다.   \n",
    "예를 들어, 데이터셋이 (1000, 10)의 형태를 갖는다면, 이는 데이터셋이 1000개의 샘플(sample)과 10개의 특성(feature)으로 구성되어 있다는 것을 의미합니다.   \n",
    "\n",
    "---\n",
    "\n",
    "#### 결과 해석\n",
    "\n",
    "train 데이터셋은 **600개의 샘플** 과 **12개의 특성** 으로 구성되어 있습니다.\n",
    "\n",
    "<img width = 1000 src=\"https://drive.google.com/uc?id=17Jxy6KUFrb9s_ACEaN8t_AxESTUIoCuf\">"
   ]
  },
  {
   "cell_type": "markdown",
   "metadata": {
    "id": "KN5RTs0W0Vss"
   },
   "source": [
    "### Hint.\n",
    "empty"
   ]
  },
  {
   "attachments": {},
   "cell_type": "markdown",
   "metadata": {
    "id": "tL8rZLfv0XFT"
   },
   "source": [
    "### Solution.\n",
    "```python\n",
    "train.shape\n",
    "```"
   ]
  },
  {
   "attachments": {},
   "cell_type": "markdown",
   "metadata": {
    "id": "57UZVH0k0Yuk"
   },
   "source": [
    "# 7. train 데이터셋 구조 확인하기 실습\n",
    "\n",
    "[문제 7]    \n",
    "train 데이터의 행(row)과 열(column)의 크기를 확인해 보세요.  \n",
    "아래 빈칸을 채워주세요.  "
   ]
  },
  {
   "cell_type": "code",
   "execution_count": null,
   "metadata": {
    "colab": {
     "base_uri": "https://localhost:8080/"
    },
    "executionInfo": {
     "elapsed": 2,
     "status": "ok",
     "timestamp": 1676513530507,
     "user": {
      "displayName": "송지은",
      "userId": "04554582486449103299"
     },
     "user_tz": -540
    },
    "id": "vd_AJxE20U1n",
    "outputId": "54b8c85b-5e66-4f0c-b7de-b300dc05abe0",
    "pycharm": {
     "name": "#%%\n"
    }
   },
   "outputs": [],
   "source": [
    "train.___"
   ]
  },
  {
   "cell_type": "code",
   "execution_count": null,
   "metadata": {
    "colab": {
     "base_uri": "https://localhost:8080/"
    },
    "executionInfo": {
     "elapsed": 3,
     "status": "ok",
     "timestamp": 1676513531192,
     "user": {
      "displayName": "송지은",
      "userId": "04554582486449103299"
     },
     "user_tz": -540
    },
    "id": "A-NTF-De0b9d",
    "outputId": "d439de87-c7aa-443a-b9cd-03a9314cb10e",
    "pycharm": {
     "name": "#%%\n"
    }
   },
   "outputs": [],
   "source": [
    "#checkcode\n",
    "ensure_vals(globals(),'train')\n",
    "@check_safety\n",
    "def check(user_answer=_, user_train=train):\n",
    "\n",
    "    c_point0 = (user_answer == user_train.shape)\n",
    "\n",
    "    if c_point0 :\n",
    "        return True\n",
    "    else:\n",
    "        return False\n",
    "check()"
   ]
  },
  {
   "attachments": {},
   "cell_type": "markdown",
   "metadata": {
    "id": "X2u6OqPV0dG1"
   },
   "source": [
    "### Inst."
   ]
  },
  {
   "attachments": {},
   "cell_type": "markdown",
   "metadata": {
    "id": "vYq56DY_0dXd"
   },
   "source": [
    "### Hint.\n",
    "`shape` 함수를 사용해서 데이터프레임(dataframe)의 행(row)과 열(column)의 크기를 확인해 보세요."
   ]
  },
  {
   "cell_type": "markdown",
   "metadata": {
    "id": "lfR8xaoZ0hMY"
   },
   "source": [
    "### Solution.\n",
    "```python\n",
    "train.shape\n",
    "```"
   ]
  },
  {
   "attachments": {},
   "cell_type": "markdown",
   "metadata": {
    "id": "5-b0hu4NFL7P"
   },
   "source": [
    "# 8. train 데이터 크기(size) 확인하기\n",
    "\n",
    "[문제 8]  \n",
    "train 데이터의 요소 수를 확인해 보세요.  \n",
    "아래 빈칸을 채워주세요.  "
   ]
  },
  {
   "cell_type": "code",
   "execution_count": null,
   "metadata": {
    "colab": {
     "base_uri": "https://localhost:8080/"
    },
    "executionInfo": {
     "elapsed": 432,
     "status": "ok",
     "timestamp": 1676431128789,
     "user": {
      "displayName": "송지은",
      "userId": "04554582486449103299"
     },
     "user_tz": -540
    },
    "id": "fSYtqu9HCiez",
    "outputId": "accb9fe2-4577-4424-d9b8-0ebdfba79b8c",
    "pycharm": {
     "name": "#%%\n"
    }
   },
   "outputs": [],
   "source": [
    "train.___"
   ]
  },
  {
   "cell_type": "code",
   "execution_count": null,
   "metadata": {
    "id": "pZBatdpfFRrV"
   },
   "outputs": [],
   "source": [
    "#checkcode\n",
    "ensure_vals(globals(),'train')\n",
    "@check_safety\n",
    "def check(user_answer=_, user_train=train):\n",
    "\n",
    "    c_point0 = (user_answer == user_train.size)\n",
    "\n",
    "    if c_point0 :\n",
    "        return True\n",
    "    else:\n",
    "        return False\n",
    "check()"
   ]
  },
  {
   "attachments": {},
   "cell_type": "markdown",
   "metadata": {
    "id": "R0sLQk7uFUT7"
   },
   "source": [
    "### Inst.\n",
    "\n",
    "`size`는 numpy 배열에서 **요소(element) 수** 를 확인하는 함수입니다.   \n",
    "따라서 해당 코드는 train 데이터의 numpy 배열의 **요소 수(데이터 개수)** 를 반환하는 코드입니다.   \n",
    "이를 통해 데이터셋에 포함된 **전체 데이터의 개수** 를 파악할 수 있습니다.   \n",
    "\n",
    "---\n",
    "\n",
    "#### 결과 해석\n",
    "\n",
    "행(row)의 개수와 열(column)의 개수를 곱한 결과인 600 * 12 = 7200 개의 요소가 포함되어 있습니다.\n",
    "\n",
    "<img width = 1000 src=\"https://drive.google.com/uc?id=1lHw6-ki5iammxYc2xEqy0EsM4BB5ZI62\">\n"
   ]
  },
  {
   "cell_type": "markdown",
   "metadata": {
    "id": "Q5B7SfRgFUT8"
   },
   "source": [
    "### Hint.\n",
    "empty"
   ]
  },
  {
   "attachments": {},
   "cell_type": "markdown",
   "metadata": {
    "id": "bRFraf-VFUT8"
   },
   "source": [
    "### Solution.\n",
    "```python\n",
    "train.size\n",
    "```"
   ]
  }
 ],
 "metadata": {
  "colab": {
   "provenance": []
  },
  "kernelspec": {
   "display_name": "Python 3",
   "language": "python",
   "name": "python3"
  },
  "language_info": {
   "codemirror_mode": {
    "name": "ipython",
    "version": 3
   },
   "file_extension": ".py",
   "mimetype": "text/x-python",
   "name": "python",
   "nbconvert_exporter": "python",
   "pygments_lexer": "ipython3",
   "version": "3.8.3"
  }
 },
 "nbformat": 4,
 "nbformat_minor": 4
}
