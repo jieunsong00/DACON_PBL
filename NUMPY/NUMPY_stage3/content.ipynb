{
  "cells": [
    {
      "cell_type": "code",
      "execution_count": null,
      "metadata": {
        "id": "DnAKFGYX3U_B"
      },
      "outputs": [],
      "source": [
        "#hiddencell\n",
        "from pbl_tools import *"
      ]
    },
    {
      "attachments": {},
      "cell_type": "markdown",
      "metadata": {
        "id": "bzW0Akb73bT6"
      },
      "source": [
        "# 스테이지 3"
      ]
    },
    {
      "attachments": {},
      "cell_type": "markdown",
      "metadata": {
        "id": "TkFrDVbc3iiC"
      },
      "source": [
        "# 1.NumPy 라이브러리(Library) 불러오기\n",
        "[문제 1]    \n",
        "numpy 라이브러리를 불러오기 위해서 아래 빈칸을 채워 주세요.    \n",
        "numpy는 자주 사용하는 라이브러리이므로 축약어인 np로 불러와 주세요.  "
      ]
    },
    {
      "cell_type": "code",
      "execution_count": null,
      "metadata": {
        "id": "dIftesDU3WPo"
      },
      "outputs": [],
      "source": [
        "import ___ as np"
      ]
    },
    {
      "cell_type": "code",
      "execution_count": null,
      "metadata": {
        "id": "xRLb7DlX3kw5"
      },
      "outputs": [],
      "source": [
        "#checkcode\n",
        "ensure_vals(globals(), 'np')\n",
        "@check_safety\n",
        "def check(user_answer_pandas=np):\n",
        "    if hasattr(user_answer_pandas, 'array'):\n",
        "        return True\n",
        "    else:\n",
        "        return False\n",
        "check()"
      ]
    },
    {
      "attachments": {},
      "cell_type": "markdown",
      "metadata": {},
      "source": [
        "### Inst.\n",
        "\n",
        "이 코드는 NumPy 라이브러리(Library)를 축약어인 np로 불러오는 기법입니다."
      ]
    },
    {
      "attachments": {},
      "cell_type": "markdown",
      "metadata": {},
      "source": [
        "### Hint.\n",
        "np는 numpy의 약칭입니다.   \n",
        "import 와 as를 이용해서 numpy 라이브러리(Library)를 불러와주세요."
      ]
    },
    {
      "attachments": {},
      "cell_type": "markdown",
      "metadata": {},
      "source": [
        "### Solution.\n",
        "```python\n",
        "import numpy as np\n",
        "```"
      ]
    },
    {
      "attachments": {},
      "cell_type": "markdown",
      "metadata": {
        "id": "Fe-oARTS3mGM"
      },
      "source": [
        "# 2.2차원 배열(array) 생성하기"
      ]
    },
    {
      "cell_type": "code",
      "execution_count": null,
      "metadata": {
        "id": "hTC6hfKzc0pO"
      },
      "outputs": [],
      "source": [
        "two_array = np.array([[1,2,3],\n",
        "                      [4,5,6]])\n",
        "two_array"
      ]
    },
    {
      "cell_type": "code",
      "execution_count": null,
      "metadata": {
        "id": "vJaQ6aC0pU7K"
      },
      "outputs": [],
      "source": [
        "#checkcode\n",
        "#empty"
      ]
    },
    {
      "attachments": {},
      "cell_type": "markdown",
      "metadata": {
        "id": "qH9bs01w4GXp"
      },
      "source": [
        "### Inst.\n",
        "\n",
        "<img width=\"282\" src=\"https://user-images.githubusercontent.com/75363345/221075468-6aac70f7-7aaf-4b58-a663-ad01fc64e43a.png\">\n",
        "\n",
        "**2차원 배열** 은 **2개의 축(axis)** 을 갖는 배열입니다.  \n",
        "따라서 **행(row)과 열(column)의 개념이 존재** 합니다.\n",
        "\n",
        "배열의 축(axis)은 각각 0과 1로 지정될 수 있으며, **axis=0은 수직 방향, axis=1은 수평 방향** 으로 연산이 적용됩니다.   \n",
        "해당 코드에서 출력된 결과는 **2개의 행과 3개의 열** 을 갖는 **행렬(matrix) 형태** 로 나열된 배열임을 확인할 수 있습니다.   \n",
        "\n",
        "---\n",
        "\n",
        "#### 결과 해석\n",
        "크기가 2x3인 **2차원 배열** 이 two_array 변수에 할당된 후 출력되었습니다."
      ]
    },
    {
      "attachments": {},
      "cell_type": "markdown",
      "metadata": {
        "id": "Rl6lqnsWpkx2"
      },
      "source": [
        "### Hint.\n",
        "empty"
      ]
    },
    {
      "attachments": {},
      "cell_type": "markdown",
      "metadata": {
        "id": "yxuChdCip0ET"
      },
      "source": [
        "### Solution.\n",
        "empty"
      ]
    },
    {
      "attachments": {},
      "cell_type": "markdown",
      "metadata": {
        "id": "iAPEO8HYp73U"
      },
      "source": [
        "# 3.NumPy 배열의 차원(Dimension) 확인하기"
      ]
    },
    {
      "cell_type": "code",
      "execution_count": null,
      "metadata": {
        "id": "hx6bN_HFb4-C"
      },
      "outputs": [],
      "source": [
        "two_array.ndim"
      ]
    },
    {
      "cell_type": "code",
      "execution_count": null,
      "metadata": {
        "id": "dVCz15uzpYhW"
      },
      "outputs": [],
      "source": [
        "#checkcode\n",
        "#empty"
      ]
    },
    {
      "attachments": {},
      "cell_type": "markdown",
      "metadata": {
        "id": "Fcjex5bMgKkq"
      },
      "source": [
        "### Inst. \n",
        "\n",
        "해당 코드는 NumPy의 `ndim` 함수를 사용하여 배열의 **차원(축 수)** 을 반환하는 파이썬 코드입니다.  \n",
        "\n",
        "`two_array.ndim`은 two_array 배열의 **차원 수** 를 반환합니다.  \n",
        "two_array는 **2차원 배열** 이므로 `ndim` 함수의 결과는 **2** 가 됩니다.  \n",
        "\n",
        "이러한 `ndim` 함수는 NumPy 배열의 **차원을 확인** 할 때 유용하게 사용됩니다.  \n",
        "만약 다차원 배열을 다룰 때 이 함수를 사용하면 해당 배열의 **차원 정보** 를 쉽게 파악할 수 있습니다.\n",
        "\n",
        "---\n",
        "\n",
        "#### 결과 해석\n",
        "two_array 배열의 차원 수 2가 출력되었습니다.  "
      ]
    },
    {
      "attachments": {},
      "cell_type": "markdown",
      "metadata": {
        "id": "JOVHxj2TpnWK"
      },
      "source": [
        "### Hint.\n",
        "empty"
      ]
    },
    {
      "attachments": {},
      "cell_type": "markdown",
      "metadata": {
        "id": "Rjis-7pSp3jc"
      },
      "source": [
        "### Solution.\n",
        "empty"
      ]
    },
    {
      "attachments": {},
      "cell_type": "markdown",
      "metadata": {
        "id": "QkFtp49VqAc6"
      },
      "source": [
        "# 4.NumPy 배열의 크기(shape) 확인하기"
      ]
    },
    {
      "cell_type": "code",
      "execution_count": null,
      "metadata": {
        "id": "nrcYPYaxiCTn"
      },
      "outputs": [],
      "source": [
        "two_array.shape"
      ]
    },
    {
      "cell_type": "code",
      "execution_count": null,
      "metadata": {
        "id": "74xEJZSKpZVU"
      },
      "outputs": [],
      "source": [
        "#checkcode\n",
        "#empty"
      ]
    },
    {
      "attachments": {},
      "cell_type": "markdown",
      "metadata": {
        "id": "yPAGsQK8iGg9"
      },
      "source": [
        "### Inst.\n",
        "\n",
        "해당 코드는 NumPy의 `shape` 속성을 사용하여 배열(array)의 **구조(크기, 차원)** 를 반환하는 파이썬 코드입니다.\n",
        "\n",
        "`two_array.shape`은 two_array **배열의 구조** 를 반환합니다.   \n",
        "여기서 two_array는 **2행 3열**의 **2차원 배열** 이므로 `shape` 속성의 결과는 **(2, 3)** 이 됩니다.\n",
        "\n",
        "이러한 `shape` 속성은 NumPy **배열의 구조를 확인** 할 때 유용하게 사용됩니다.   \n",
        "만약 다차원 배열을 다룰 때 이 속성을 사용하면 해당 배열의 **크기 및 차원 정보** 를 쉽게 파악할 수 있습니다.   \n",
        "이 정보를 토대로 배열에 대한 적절한 연산을 수행할 수 있습니다.  \n",
        "\n",
        "---\n",
        "\n",
        "#### 결과 해석\n",
        "two_array 배열의 구조 (2,3)이 출력되었습니다."
      ]
    },
    {
      "attachments": {},
      "cell_type": "markdown",
      "metadata": {
        "id": "6Uf7QbvEpoWK"
      },
      "source": [
        "### Hint.\n",
        "empty"
      ]
    },
    {
      "attachments": {},
      "cell_type": "markdown",
      "metadata": {
        "id": "x_Vr0iX1p4h_"
      },
      "source": [
        "### Solution.\n",
        "empty"
      ]
    },
    {
      "attachments": {},
      "cell_type": "markdown",
      "metadata": {
        "id": "LFXET1-OqCCM"
      },
      "source": [
        "# 5.NumPy 배열의 원소 개수(size) 확인하기"
      ]
    },
    {
      "cell_type": "code",
      "execution_count": null,
      "metadata": {
        "id": "H05SRVY2jOw5"
      },
      "outputs": [],
      "source": [
        "two_array.size"
      ]
    },
    {
      "cell_type": "code",
      "execution_count": null,
      "metadata": {
        "id": "NJfqcA4QpafT"
      },
      "outputs": [],
      "source": [
        "#checkcode\n",
        "#empty"
      ]
    },
    {
      "attachments": {},
      "cell_type": "markdown",
      "metadata": {
        "id": "4s2tV_loj58y"
      },
      "source": [
        "### Inst.\n",
        "\n",
        "해당 코드는 NumPy의 `size` 함수를 사용하여 배열(array)의 **전체 원소 개수** 를 반환하는 파이썬 코드입니다.\n",
        "\n",
        "`two_array.size`는 two_array 배열의 **전체 원소 개수** 를 반환합니다.    \n",
        "two_array 배열은 **2행 3열** 로 이루어진 **2차원 배열** 이므로, `size` 함수의 결과는 **6** 이 됩니다.\n",
        "\n",
        "이러한 `size` 함수는 NumPy **배열의 원소 개수** 를 확인할 때 유용하게 사용됩니다.   \n",
        "만약 다차원 배열을 다룰 때 이 함수를 사용하면 해당 배열의 **전체 원소 개수** 를 쉽게 파악할 수 있습니다.   \n",
        "이를 통해 배열의 크기나 형태를 파악할 수 있습니다.\n",
        "\n",
        "---\n",
        "\n",
        "#### 결과 해석\n",
        "two_array 배열의 원소 개수 6이 출력되었습니다.  "
      ]
    },
    {
      "attachments": {},
      "cell_type": "markdown",
      "metadata": {
        "id": "_St2RpoZpyem"
      },
      "source": [
        "### Hint.\n",
        "empty"
      ]
    },
    {
      "attachments": {},
      "cell_type": "markdown",
      "metadata": {
        "id": "xq2kIPyzp5KX"
      },
      "source": [
        "### Solution.\n",
        "empty"
      ]
    },
    {
      "attachments": {},
      "cell_type": "markdown",
      "metadata": {
        "id": "Ssv8zMeGqDcI"
      },
      "source": [
        "# 6.NumPy 배열의 데이터 타입(dtype) 확인하기"
      ]
    },
    {
      "cell_type": "code",
      "execution_count": null,
      "metadata": {
        "id": "Eqw1cwhskJ5C"
      },
      "outputs": [],
      "source": [
        "two_array.dtype"
      ]
    },
    {
      "cell_type": "code",
      "execution_count": null,
      "metadata": {
        "id": "oMqICKbBpZ_j"
      },
      "outputs": [],
      "source": [
        "#checkcode\n",
        "#empty"
      ]
    },
    {
      "attachments": {},
      "cell_type": "markdown",
      "metadata": {
        "id": "OLyMtOhtkeEd"
      },
      "source": [
        "### Inst.\n",
        "\n",
        "해당 코드는 NumPy 배열(array)의 **데이터 타입(dtype)** 을 나타냅니다.    \n",
        "여기서 데이터 타입이란 배열의 **원소(element)의 자료형**을 의미합니다.    \n",
        "two_array의 데이터 타입(dtype)은 **int32** 입니다.   \n",
        "int64는 64비트 정수를 나타내는 데이터 타입입니다.  \n",
        "\n",
        "NumPy 배열은 **int, float, bool, object** 등의 다양한 데이터 타입을 지원합니다.  \n",
        "따라서 배열의 데이터 타입은 배열의 원소의 자료형에 따라 결정되며, **메모리 사용량과 연산 속도** 에 영향을 미칩니다.  \n",
        "따라서 NumPy 배열을 다룰 때는 배열의 데이터 타입을 주의하여 다루어야 합니다.  \n",
        "\n",
        "---\n",
        "\n",
        "#### 결과 해석\n",
        "two_array 배열의 데이터 타입 'int32' 가 출력되었습니다."
      ]
    },
    {
      "attachments": {},
      "cell_type": "markdown",
      "metadata": {
        "id": "TSKXXbf0pvAK"
      },
      "source": [
        "### Hint.\n",
        "empty"
      ]
    },
    {
      "attachments": {},
      "cell_type": "markdown",
      "metadata": {
        "id": "HDiyNqn2p5wI"
      },
      "source": [
        "### Solution.\n",
        "empty"
      ]
    },
    {
      "attachments": {},
      "cell_type": "markdown",
      "metadata": {
        "id": "30zakbmMqXm1"
      },
      "source": [
        "# 7.3차원 배열(array) 생성하기"
      ]
    },
    {
      "cell_type": "code",
      "execution_count": null,
      "metadata": {
        "id": "0PNy3fEhqZCU"
      },
      "outputs": [],
      "source": [
        "three_array = np.array([[[1.0,2.0],\n",
        "                         [3.0,4.0],\n",
        "                         [5.0,6.0]],\n",
        "                        [[7.0,8.0],\n",
        "                         [9.0,10.0],\n",
        "                         [11.0,12.0]]])\n",
        "three_array"
      ]
    },
    {
      "cell_type": "code",
      "execution_count": null,
      "metadata": {
        "id": "BaJWm7M64XV5"
      },
      "outputs": [],
      "source": [
        "#checkcode\n",
        "#empty"
      ]
    },
    {
      "attachments": {},
      "cell_type": "markdown",
      "metadata": {
        "id": "04fuH0j7tYQz"
      },
      "source": [
        "### Inst.\n",
        "\n",
        "<img width=\"282\" src=\"https://drive.google.com/uc?id=1V0_81RVdG3r4pkF4ZDPwSnwe5GfYlAUK\">\n",
        "\n",
        "**3차원 배열** 은 **3개의 축(axis)** 을 갖는 배열입니다.  \n",
        "따라서 **깊이(depth), 행(row), 열(column)** 의 개념이 존재합니다. \n",
        "\n",
        "배열의 축(axis)은 0, 1, 2와 같이 각 차원마다 지정할 수 있으며,     \n",
        "**axis=0은 깊이(depth) 방향, axis=1은 수직(row) 방향, axis=2는 수평(column) 방향** 으로 연산이 적용됩니다.    \n",
        "\n",
        "---\n",
        "\n",
        "#### 결과 해석\n",
        "\n",
        "해당 코드에서 출력된 결과는 **2개의 깊이(depth)** 를 가지고 있으며,    \n",
        "각 깊이마다 **3개의 행(row)과 2개의 열(column)** 로 이루어져 있습니다.    \n",
        "배열의 각 원소는 소수점이 있는 숫자로 이루어져 있습니다.    "
      ]
    },
    {
      "attachments": {},
      "cell_type": "markdown",
      "metadata": {
        "id": "Mt_XPjVTqtok"
      },
      "source": [
        "### Hint.\n",
        "empty"
      ]
    },
    {
      "attachments": {},
      "cell_type": "markdown",
      "metadata": {
        "id": "K1LkXIlIuGYw"
      },
      "source": [
        "### Solution.\n",
        "empty"
      ]
    },
    {
      "attachments": {},
      "cell_type": "markdown",
      "metadata": {
        "id": "wRv_4vMPuIAG"
      },
      "source": [
        "# 8.NumPy 배열의 차원(Dimension) 확인하기\n",
        "\n",
        "[문제 2]  \n",
        "위에서 생성한 three_array가 **몇 차원 배열(array)** 인지 확인하는 코드를 작성해 보세요.  \n",
        "아래 빈칸을 채워주세요.  "
      ]
    },
    {
      "cell_type": "code",
      "execution_count": null,
      "metadata": {
        "id": "wLOjkNymt_fd"
      },
      "outputs": [],
      "source": [
        "three_array.___"
      ]
    },
    {
      "cell_type": "code",
      "execution_count": null,
      "metadata": {
        "id": "OOE-rSBywYtV"
      },
      "outputs": [],
      "source": [
        "#checkcode\n",
        "ensure_vals(globals(),'three_array')\n",
        "@check_safety\n",
        "def check(user_answer=_):\n",
        "    if user_answer == three_array.ndim:\n",
        "        return True\n",
        "    else:\n",
        "        return False\n",
        "check()"
      ]
    },
    {
      "attachments": {},
      "cell_type": "markdown",
      "metadata": {
        "id": "F7xFY90AujvX"
      },
      "source": [
        "### Inst.\n",
        "\n",
        "`ndim` 함수는 NumPy 배열의 **차원(축 수)을 확인** 할 때 유용하게 사용됩니다.  \n",
        "만약 다차원 배열을 다룰 때 이 함수를 사용하면 해당 배열의 **차원 정보** 를 쉽게 파악할 수 있습니다.\n",
        "\n",
        "---\n",
        "\n",
        "#### 결과 해석\n",
        "\n",
        "three_array는 3차원 배열이므로 3이 출력됩니다."
      ]
    },
    {
      "attachments": {},
      "cell_type": "markdown",
      "metadata": {
        "id": "kRjdpmrMu7cN"
      },
      "source": [
        "### Hint.\n",
        "\n",
        "`ndim` 함수를 사용하면 배열의 차원 수, 즉 배열이 몇 차원인지 알 수 있습니다."
      ]
    },
    {
      "attachments": {},
      "cell_type": "markdown",
      "metadata": {
        "id": "dWRWtabDu_AH"
      },
      "source": [
        "### Solution.\n",
        "```python\n",
        "three_array.ndim\n",
        "```"
      ]
    },
    {
      "attachments": {},
      "cell_type": "markdown",
      "metadata": {
        "id": "i3UZxp0zvQjo"
      },
      "source": [
        "# 9.NumPy 배열의 크기(shape) 확인하기\n",
        "\n",
        "[문제 3]  \n",
        "위에서 생성한 three_array의 **구조(크기, 차원)** 가 몇인지 확인하는 코드를 작성해 보세요.  \n",
        "아래 빈칸을 채워주세요.  "
      ]
    },
    {
      "cell_type": "code",
      "execution_count": null,
      "metadata": {
        "id": "iHu2vCqBvYuM"
      },
      "outputs": [],
      "source": [
        "three_array.___"
      ]
    },
    {
      "cell_type": "code",
      "execution_count": null,
      "metadata": {
        "id": "aZL2lx5TwjsC"
      },
      "outputs": [],
      "source": [
        "#checkcode\n",
        "ensure_vals(globals(),'three_array')\n",
        "@check_safety\n",
        "def check(user_answer=_):\n",
        "    if user_answer == three_array.shape:\n",
        "        return True\n",
        "    else:\n",
        "        return False\n",
        "check()"
      ]
    },
    {
      "attachments": {},
      "cell_type": "markdown",
      "metadata": {
        "id": "EBgrYrE2vW-L"
      },
      "source": [
        "### Inst.\n",
        "`shape` 속성은 NumPy 배열의 **구조(크기, 차원)** 를 확인하는 데 유용합니다.   \n",
        "다차원 배열을 다룰 때 `shape` 속성을 사용하면 해당 배열의 **크기 및 차원 정보** 를 쉽게 파악할 수 있습니다.     \n",
        "\n",
        "---\n",
        "\n",
        "#### 결과 해석\n",
        "\n",
        "three_array는 **2개의 깊이(depth)** 를 가지고 있으며,    \n",
        "각 깊이마다 **3개의 행(row)과 2개의 열(column)** 로 이루어져 있으므로 **(2,3,2)** 가 출력됩니다."
      ]
    },
    {
      "attachments": {},
      "cell_type": "markdown",
      "metadata": {
        "id": "crhtMMV7vhXt"
      },
      "source": [
        "### Hint.\n",
        "`shape` 속성을 이용하면 배열의 **구조(크기, 차원)** 가 튜플 형태로 출력됩니다."
      ]
    },
    {
      "attachments": {},
      "cell_type": "markdown",
      "metadata": {
        "id": "rxVCyho-wMmV"
      },
      "source": [
        "### Solution.\n",
        "```python\n",
        "three_array.shape\n",
        "```"
      ]
    },
    {
      "attachments": {},
      "cell_type": "markdown",
      "metadata": {
        "id": "Y4-9IvUpwuXn"
      },
      "source": [
        "# 10.NumPy 배열의 원소 개수(size) 확인하기\n",
        "[문제 4]  \n",
        "three_array에서 전체 원소의 갯수를 출력해 보세요.  \n",
        "아래 빈칸을 채워주세요.  "
      ]
    },
    {
      "cell_type": "code",
      "execution_count": null,
      "metadata": {
        "id": "VtVzgtF-vQaH"
      },
      "outputs": [],
      "source": [
        "three_array.___"
      ]
    },
    {
      "cell_type": "code",
      "execution_count": null,
      "metadata": {
        "id": "3FMvbsgjwtdY"
      },
      "outputs": [],
      "source": [
        "#checkcode\n",
        "ensure_vals(globals(),'three_array')\n",
        "@check_safety\n",
        "def check(user_answer=_):\n",
        "    if user_answer == three_array.size:\n",
        "        return True\n",
        "    else:\n",
        "        return False\n",
        "check()"
      ]
    },
    {
      "attachments": {},
      "cell_type": "markdown",
      "metadata": {
        "id": "PNKcuNFfxU-1"
      },
      "source": [
        "### Inst.\n",
        "`size` 속성은 NumPy **배열(array)의 원소 개수** 를 확인할 때 유용하게 사용됩니다.  \n",
        "다차원 배열을 다룰 때 이 함수를 사용하면 해당 배열의 **전체 원소 개수** 를 쉽게 파악할 수 있습니다.   \n",
        "\n",
        "three_array는 **2개의 깊이(depth)** 를 가지고 있으며,   \n",
        "각 깊이마다 **3개의 행(row)과 2개의 열(column)** 로 이루어져 있으므로,  \n",
        "three_array의 원소는 총 **12개의 원소** 가 존재합니다.  \n",
        "\n",
        "---\n",
        "\n",
        "#### 결과 해석\n",
        "three_array 배열의 원소 개수 12가 출력되었습니다."
      ]
    },
    {
      "attachments": {},
      "cell_type": "markdown",
      "metadata": {
        "id": "-ur2EOLgxq6W"
      },
      "source": [
        "### Hint.\n",
        "`size` 함수를 이용하면 **전체 원소의 갯수** 를 출력합니다."
      ]
    },
    {
      "attachments": {},
      "cell_type": "markdown",
      "metadata": {
        "id": "EfSROqyDxsqL"
      },
      "source": [
        "### Solution.\n",
        "```python\n",
        "three_array.size\n",
        "```"
      ]
    },
    {
      "attachments": {},
      "cell_type": "markdown",
      "metadata": {
        "id": "1tcMJUCIykJC"
      },
      "source": [
        "# 11.NumPy 배열의 데이터 타입(dtype) 확인하기\n",
        "\n",
        "[문제 5]  \n",
        "three_array의 데이터 타입을 출력해 보세요."
      ]
    },
    {
      "cell_type": "code",
      "execution_count": null,
      "metadata": {
        "id": "HhJAKdMzyyys"
      },
      "outputs": [],
      "source": []
    },
    {
      "cell_type": "code",
      "execution_count": null,
      "metadata": {
        "id": "Hf3-H-2y2wKN"
      },
      "outputs": [],
      "source": [
        "#checkcode\n",
        "ensure_vals(globals(),'three_array')\n",
        "@check_safety\n",
        "def check(user_answer=_):\n",
        "    if user_answer == three_array.dtype:\n",
        "        return True\n",
        "    else:\n",
        "        return False\n",
        "check()"
      ]
    },
    {
      "attachments": {},
      "cell_type": "markdown",
      "metadata": {
        "id": "GexPdsUGymTZ"
      },
      "source": [
        "### Inst.\n",
        "`dtype` 함수는 NumPy 배열(array) **원소(element)의 타입** 을 확인할 때 유용하게 사용됩니다.  \n",
        "three_array의 원소는 **소수** 로 이루어져 있으므로 **float 타입**입니다. \n",
        "\n",
        "---\n",
        "\n",
        "#### 결과 해석\n",
        "\n",
        "three_array 배열의 원소 타입 **float** 이 출력됩니다."
      ]
    },
    {
      "attachments": {},
      "cell_type": "markdown",
      "metadata": {
        "id": "Ja3AM0uKyqd7"
      },
      "source": [
        "### Hint.\n",
        "`dtype` 함수를 이용하면 데이터 유형을 알 수 있습니다."
      ]
    },
    {
      "attachments": {},
      "cell_type": "markdown",
      "metadata": {
        "id": "p2mrdw2yysA4"
      },
      "source": [
        "### Solution.\n",
        "```python\n",
        "three_array.dtype\n",
        "```"
      ]
    }
  ],
  "metadata": {
    "colab": {
      "provenance": [],
      "toc_visible": true
    },
    "kernelspec": {
      "display_name": "Python 3",
      "language": "python",
      "name": "python3"
    },
    "language_info": {
      "codemirror_mode": {
        "name": "ipython",
        "version": 3
      },
      "file_extension": ".py",
      "mimetype": "text/x-python",
      "name": "python",
      "nbconvert_exporter": "python",
      "pygments_lexer": "ipython3",
      "version": "3.10.6"
    },
    "vscode": {
      "interpreter": {
        "hash": "aee8b7b246df8f9039afb4144a1f6fd8d2ca17a180786b69acc140d282b71a49"
      }
    }
  },
  "nbformat": 4,
  "nbformat_minor": 0
}
