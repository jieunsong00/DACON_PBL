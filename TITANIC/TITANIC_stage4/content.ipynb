{
 "cells": [
  {
   "cell_type": "code",
   "execution_count": null,
   "metadata": {
    "id": "K4udx2gVlh-y",
    "vscode": {
     "languageId": "python"
    }
   },
   "outputs": [],
   "source": [
    "#hiddencell\n",
    "%pip install seaborn \n",
    "\n",
    "from pbl_tools import *"
   ]
  },
  {
   "attachments": {},
   "cell_type": "markdown",
   "metadata": {
    "id": "mOJFCsgGlh-1"
   },
   "source": [
    "# 스테이지 4. EDA & 모델링\n",
    "- EDA를 통한 예측 모델 개선"
   ]
  },
  {
   "attachments": {},
   "cell_type": "markdown",
   "metadata": {
    "id": "MQb2yDAX3jLN"
   },
   "source": [
    "# 1. csv 파일 불러오기\n",
    "[문제 1]  \n",
    "Pandas 라이브러리(library)를 가져와보세요.  \n",
    "그리고 train.csv, test.csv, sample_submission.csv를 각각    \n",
    "raw_data_train, raw_data_test, raw_data_submission 변수로 할당하여 데이터를 읽어와 보세요."
   ]
  },
  {
   "cell_type": "code",
   "execution_count": null,
   "metadata": {
    "id": "Q-1W_Gxp3jLN",
    "vscode": {
     "languageId": "python"
    }
   },
   "outputs": [],
   "source": [
    "___ pandas ___ pd\n",
    "\n",
    "raw_data_train = pd.___('train.csv')\n",
    "raw_data_test = pd.___('test.csv')\n",
    "raw_data_submission = pd.___('sample_submission.csv')"
   ]
  },
  {
   "cell_type": "code",
   "execution_count": null,
   "metadata": {
    "id": "0X_HK7t_3jLO",
    "vscode": {
     "languageId": "python"
    }
   },
   "outputs": [],
   "source": [
    "#checkcode\n",
    "ensure_vals(globals(), 'raw_data_train', 'raw_data_test', 'raw_data_submission')\n",
    "@check_safety\n",
    "def check(\n",
    "        user_answer_train=raw_data_train,\n",
    "        user_answer_test=raw_data_test,\n",
    "        user_answer_submission=raw_data_submission,\n",
    "):\n",
    "    c_point1 = hasattr(user_answer_train, 'head')\n",
    "    c_point2 = hasattr(user_answer_test, 'head')\n",
    "    c_point3 = hasattr(user_answer_submission, 'head')\n",
    "\n",
    "    if (\n",
    "        c_point1 and\n",
    "        c_point2 and\n",
    "        c_point3\n",
    "):\n",
    "        return True\n",
    "    else:\n",
    "        return False\n",
    "    \n",
    "check()"
   ]
  },
  {
   "attachments": {},
   "cell_type": "markdown",
   "metadata": {
    "id": "-3u7kFI-3jLO"
   },
   "source": [
    "### Inst."
   ]
  },
  {
   "attachments": {},
   "cell_type": "markdown",
   "metadata": {
    "id": "LSOSTh8p3jLO"
   },
   "source": [
    "### Hint.\n",
    "`pd.read_csv('파일경로/파일명')` 를 활용해 보세요."
   ]
  },
  {
   "attachments": {},
   "cell_type": "markdown",
   "metadata": {
    "id": "x4bcxD6n3jLO",
    "tags": []
   },
   "source": [
    "### Solution.\n",
    "```python\n",
    "import pandas as pd  \n",
    "\n",
    "raw_data_train = pd.read_csv('train.csv')  \n",
    "raw_data_test = pd.read_csv('test.csv')  \n",
    "raw_data_submission = pd.read_csv('sample_submission.csv')\n",
    "```"
   ]
  },
  {
   "attachments": {},
   "cell_type": "markdown",
   "metadata": {
    "id": "T2bQHV_6pvZI"
   },
   "source": [
    "# 2. 종속변수 데이터 시각화\n",
    "\n",
    "종속변수가 어떠한 분포로 구성되어 있는지 확인해 봅시다"
   ]
  },
  {
   "cell_type": "code",
   "execution_count": null,
   "metadata": {
    "id": "Og-_OiJBpvZN",
    "vscode": {
     "languageId": "python"
    }
   },
   "outputs": [],
   "source": [
    "import seaborn as sns\n",
    "import matplotlib.pyplot as plt\n",
    "\n",
    "fig, ax = plt.subplots(figsize=(5,5))\n",
    "sns.countplot(x=raw_data_train['Survived'])\n",
    "plt.show()"
   ]
  },
  {
   "cell_type": "code",
   "execution_count": null,
   "metadata": {
    "id": "mwZPhpnApvZO",
    "vscode": {
     "languageId": "python"
    }
   },
   "outputs": [],
   "source": [
    "#checkcode\n",
    "#empty"
   ]
  },
  {
   "attachments": {},
   "cell_type": "markdown",
   "metadata": {
    "id": "W4QLuY7UpvZO"
   },
   "source": [
    "### Inst.\n",
    "\n",
    "머신러닝 분류 문제에서 종속 변수에 대하여 `seaborn.countplot()` 을 통해 시각화를 하는 이유는 다음과 같습니다. \n",
    "\n",
    "1. 데이터 분포 확인: 종속 변수의 분포를 시각적으로 확인하면 데이터셋 내 라벨이 어떻게 분포되어 있는지 알 수 있습니다.   \n",
    "이를 통해 클래스 간 불균형이 있는지 파악할 수 있습니다.\n",
    "\n",
    "\n",
    "2. 클래스 불균형 문제: 클래스 불균형은 한 클래스의 샘플 수가 다른 클래스보다 훨씬 많은 경우 발생합니다.   \n",
    "이 경우, 분류 알고리즘이 소수 클래스를 제대로 예측하지 못할 수 있어 문제가 있습니다.   \n",
    "시각화를 통해 클래스 불균형 문제를 발견하면, 리샘플링(오버샘플링 또는 언더샘플링) 등의 기법을 적용하여 문제를 해결할 수 있습니다."
   ]
  },
  {
   "attachments": {},
   "cell_type": "markdown",
   "metadata": {
    "id": "-u48UdCfpvZO"
   },
   "source": [
    "### Hint.\n",
    "empty"
   ]
  },
  {
   "attachments": {},
   "cell_type": "markdown",
   "metadata": {
    "id": "mN6N7spzpvZO",
    "tags": []
   },
   "source": [
    "### Solution.\n",
    "empty"
   ]
  },
  {
   "attachments": {},
   "cell_type": "markdown",
   "metadata": {
    "id": "D-ZPWItwqLbc"
   },
   "source": [
    "# 3. 독립변수 시각화 (범주형 변수)\n",
    "\n",
    "시각화해 볼 범주형 변수를 선택해 columns 리스트(list)에 넣어 줍니다.   \n",
    "그리고 for문을 이용해 범주형 변수들의 countplot과 barplot(막대 그래프)을 만들어 보겠습니다."
   ]
  },
  {
   "cell_type": "code",
   "execution_count": null,
   "metadata": {
    "id": "auv6dqhiqLbk",
    "vscode": {
     "languageId": "python"
    }
   },
   "outputs": [],
   "source": [
    "columns = ['Pclass', 'Sex', 'Embarked']\n",
    "for col_name in columns:\n",
    "    fig, ax = plt.subplots(ncols=2, figsize=(10,5))\n",
    "    sns.countplot(x=raw_data_train[col_name], palette='Set2', ax=ax[0]).set(title=col_name+' count plot')\n",
    "    sns.barplot(data=raw_data_train, x=col_name, y=\"Survived\", palette='Set2', ax=ax[1]).set(title=col_name+' bar chart')\n",
    "    plt.show()"
   ]
  },
  {
   "cell_type": "code",
   "execution_count": null,
   "metadata": {
    "id": "YSNf2uAoqLbk",
    "vscode": {
     "languageId": "python"
    }
   },
   "outputs": [],
   "source": [
    "#checkcode\n",
    "#empty"
   ]
  },
  {
   "attachments": {},
   "cell_type": "markdown",
   "metadata": {
    "id": "KtVnqOn-qLbk"
   },
   "source": [
    "### Inst.\n",
    "\n",
    "범주형 피쳐에 countplot과 barplot(막대 그래프)를 사용하여 피처(feature) 각 범주의 전체 빈도와 생존률을 동시에 시각화 합니다.    \n",
    "이러한 시각화를 하는 이유와 얻을 수 있는 인사이트(insight)는 다음과 같습니다.\n",
    "\n",
    "1. 특성(feature) 별 분포 확인: 각 범주형 변수의 값별 빈도를 확인하여 데이터 내부 구조를 이해하기 위한 정보를 제공합니다.   \n",
    "이는 전체적인 분포를 파악하거나 값별 차이를 확인하는 데 도움이 됩니다.\n",
    "\n",
    "2. 생존율 이해: 종속 변수와 각 독립 변수간에 생존률의 차이를 보여주는 막대 그래프를 사용하면 변수가 생존율에 어떤 영향을 미치는지 파악할 수 있습니다.   \n",
    "예를 들어, 성별이 생존율과 관련이 있는지 분석할 수 있습니다.\n",
    "\n",
    "3. 피처 엔지니어링(feature engineering): 시각화를 통해 파생 변수 생성이나 기존 변수 변환의 필요성을 인지하게 됩니다.   \n",
    "예를 들어, 'Embarked'의 서로 다른 도시에서 출발한 승객들의 생존률이 다를 경우 해당 변수를 추가로 사용하거나 변형하여 모델 성능을 개선할 수 있습니다.\n",
    "\n",
    "4. 임베딩(embedding) 및 인코딩(encoding): 범주형 변수에 대한 처리를 결정하는 데 도움이 됩니다.   \n",
    "시각화를 통해 다양한 값 간에 차이를 확인할 수 있고,   \n",
    "One-Hot Encoding이나 Ordinal Encoding 등을 사용하여 범주형 변수를 수치형으로 변환할 방법을 계획할 수 있습니다. "
   ]
  },
  {
   "attachments": {},
   "cell_type": "markdown",
   "metadata": {
    "id": "2tisJUyAqLbk"
   },
   "source": [
    "### Hint.\n",
    "empty"
   ]
  },
  {
   "attachments": {},
   "cell_type": "markdown",
   "metadata": {
    "id": "AJD6vqhdqLbk",
    "tags": []
   },
   "source": [
    "### Solution.\n",
    "empty"
   ]
  },
  {
   "attachments": {},
   "cell_type": "markdown",
   "metadata": {
    "id": "aQI9qswHqZVA"
   },
   "source": [
    "# 4. 독립변수 시각화 (수치형 변수)"
   ]
  },
  {
   "cell_type": "code",
   "execution_count": null,
   "metadata": {
    "id": "2hjiXZXPqZVH",
    "vscode": {
     "languageId": "python"
    }
   },
   "outputs": [],
   "source": [
    "raw_data_train['Survived_str'] = raw_data_train['Survived'].apply(lambda x: 'deth' if x == 0 else 'Survive')\n",
    "columns = ['Age', 'SibSp', 'Parch', 'Fare']\n",
    "for col_name in columns:\n",
    "    fig, ax = plt.subplots(ncols=2, figsize=(13,5))\n",
    "    sns.boxplot(x=raw_data_train[col_name], ax=ax[0], palette='Set2')\n",
    "    sns.boxplot(data=raw_data_train, x=col_name, y=\"Survived_str\", ax=ax[1], palette='Set2')\n",
    "    plt.show()"
   ]
  },
  {
   "cell_type": "code",
   "execution_count": null,
   "metadata": {
    "id": "5Agmuu9BqZVH",
    "vscode": {
     "languageId": "python"
    }
   },
   "outputs": [],
   "source": [
    "#checkcode\n",
    "#empty"
   ]
  },
  {
   "attachments": {},
   "cell_type": "markdown",
   "metadata": {
    "id": "9UK4RRz7qZVH"
   },
   "source": [
    "### Inst.\n",
    "\n",
    "시각화할 수치형 변수를 선택해 리스트에 넣어 줍니다.   \n",
    "그리고 for문을 이용해 수치형 변수들의 boxplot(상자 수염 그래프)을 만들어 보세요.   \n",
    "그리고 데이터를 확인해 봅시다.\n",
    "\n",
    "\n",
    "해당 코드는 '타이타닉 생존자 예측 문제'의 수치형 독립 변수('Age', 'SibSp', 'Parch', 'Fare')와 관련된 시각화를 생성합니다.   \n",
    "각 변수에 대해 별도의 도표를 생성하며, 세로막대 그래프를 사용하여 각 변수의 값 분포와 산포 범위를 보여줍니다\n",
    "\n",
    "수치형 독립 변수 시각화의 목적과 얻을 수 있는 인사이트(insight)는 다음과 같습니다. \n",
    "\n",
    "1. 분포 확인: 각 수치형 변수의 값 분포를 시각적으로 확인하여 이상치, 왜도, 중앙값 등 데이터의 중요한 특성에 대한 정보를 제공합니다.   \n",
    "이를 통해 데이터 전처리와 피처 엔지니어링을 계획할 수 있습니다.\n",
    "2. 이상치 탐지: 상자 그림을 사용하여 최솟값, 최댓값, 사분위수 범위를 확인하고, 이상치를 쉽게 확인할 수 있습니다.   \n",
    "이상치가 있을 경우 이를 처리하기 위한 차후 작업을 계획할 수 있습니다.\n",
    "3. 생존에 미치는 영향: 각 독립 변수에 대한 생존률과 비생존률의 차이를 나타내는 상자 그림을 사용하여 각 변수들이 생존율에 어떤 영향을 미치는지 확인할 수 있습니다.   \n",
    "이를 통해 모델 성능 개선에 도움이 되는 변수 생성이나 변환을 계획할 수 있습니다."
   ]
  },
  {
   "attachments": {},
   "cell_type": "markdown",
   "metadata": {
    "id": "Uqhs52kCqZVH"
   },
   "source": [
    "### Hint.\n",
    "empty"
   ]
  },
  {
   "attachments": {},
   "cell_type": "markdown",
   "metadata": {
    "id": "l3bqUuDGqZVH",
    "tags": []
   },
   "source": [
    "### Solution.\n",
    "empty"
   ]
  },
  {
   "attachments": {},
   "cell_type": "markdown",
   "metadata": {
    "id": "hyo6wH8IrKGn"
   },
   "source": [
    "# 5. 결측치 대체\n",
    "[문제 2]\n",
    "1. raw_data_train, raw_data_test, raw_data_submission 원본 데이터를 복사해 보세요.\n",
    "2. Age 열의 평균값을 mean_age 변수에 저장해 보세요, Fare 열의 평균값을 mean_fare 변수에 저장해 보세요.\n",
    "3. train, test 데이터프레임의 Age 열의 결측값을 mean_age 값으로 대체해 보세요."
   ]
  },
  {
   "cell_type": "code",
   "execution_count": null,
   "metadata": {
    "id": "xITRe1L2rKGq",
    "vscode": {
     "languageId": "python"
    }
   },
   "outputs": [],
   "source": [
    "train = raw_data_train.___()\n",
    "test = raw_data_test.___()\n",
    "submission = raw_data_submission.___()\n",
    "\n",
    "mean_age = train['Age'].___()\n",
    "mean_fare = train['Fare'].___()\n",
    "\n",
    "# ‘Age’ ‘Fare’ feature의 Null 값을 각 feature의 평균(mean)값으로 대체\n",
    "train['Age'] = train['Age'].___(___)\n",
    "test['Age'] = test['Age'].___(___)\n",
    "train['Fare'] = train['Fare'].fillna(mean_fare)\n",
    "test['Fare'] = test['Fare'].fillna(mean_fare)"
   ]
  },
  {
   "cell_type": "code",
   "execution_count": null,
   "metadata": {
    "id": "l3dQCB5IrKGq",
    "vscode": {
     "languageId": "python"
    }
   },
   "outputs": [],
   "source": [
    "#checkcode\n",
    "ensure_vals(globals(),'train')\n",
    "@check_safety\n",
    "def check(\n",
    "    user_answer_train=train,\n",
    "    number_train=689,\n",
    "    user_answer_test=test,\n",
    "    number_test=327\n",
    "          ):\n",
    "    \n",
    "    c_point1 = user_answer_train.isnull().sum().sum() == number_train\n",
    "    c_point2 = user_answer_test.isnull().sum().sum() == number_test\n",
    "\n",
    "    if c_point1 and c_point2:\n",
    "        return True\n",
    "    else:\n",
    "        return False\n",
    "    \n",
    "check()"
   ]
  },
  {
   "attachments": {},
   "cell_type": "markdown",
   "metadata": {
    "id": "RTJc84UGrKGq"
   },
   "source": [
    "### Inst."
   ]
  },
  {
   "attachments": {},
   "cell_type": "markdown",
   "metadata": {
    "id": "ZCeoP196rKGq"
   },
   "source": [
    "### Hint.\n",
    "1. `copy()` 메서드를 사용해 보세요.\n",
    "2. `mean()` 메서드를 사용해 보세요.\n",
    "3. `fillna()` 메서드를 사용해 보세요."
   ]
  },
  {
   "attachments": {},
   "cell_type": "markdown",
   "metadata": {
    "id": "cmmpjhcorKGr",
    "tags": []
   },
   "source": [
    "### Solution.\n",
    "```python\n",
    "train = raw_data_train.copy()\n",
    "test = raw_data_test.copy()\n",
    "submission = raw_data_submission.copy()\n",
    "\n",
    "# Null 처리\n",
    "mean_age = train['Age'].mean()\n",
    "mean_fare = train['Fare'].mean()\n",
    "\n",
    "train['Age'] = train['Age'].fillna(mean_age)\n",
    "test['Age'] = test['Age'].fillna(mean_age)\n",
    "train['Fare'] = train['Fare'].fillna(mean_fare)\n",
    "test['Fare'] = test['Fare'].fillna(mean_fare)\n",
    "```"
   ]
  },
  {
   "attachments": {},
   "cell_type": "markdown",
   "metadata": {
    "id": "KE8tBwybsDSD"
   },
   "source": [
    "# 6. 이상치 제거\n",
    "\n",
    "[문제 3]    \n",
    "Parch 열의 값이 5 이하인 행들만 선택하여 train 데이터프레임에 재할당 해보세요.  \n",
    "이를 통해 Parch 열의 값이 5를 초과하는 이상치를 제거합니다.\n",
    "\n",
    "Fare 열의 값이 300 이하인 행들만 선택하여 train 데이터프레임에 재할당 해보세요.   \n",
    "이를 통해 Fare 열의 값이 300을 초과하는 이상치를 제거합니다."
   ]
  },
  {
   "cell_type": "code",
   "execution_count": null,
   "metadata": {
    "id": "3LIUIJGZsDSJ",
    "vscode": {
     "languageId": "python"
    }
   },
   "outputs": [],
   "source": [
    "train = train[train['___'] <= 5]\n",
    "train = train[train['___'] <= 300]"
   ]
  },
  {
   "cell_type": "code",
   "execution_count": null,
   "metadata": {
    "id": "Sk6q6Lw_sDSJ",
    "vscode": {
     "languageId": "python"
    }
   },
   "outputs": [],
   "source": [
    "#checkcode\n",
    "ensure_vals(globals())\n",
    "@check_safety\n",
    "def check(user_answer_train = train ,number=(887, 13)):\n",
    "\n",
    "    c_point1 = user_answer_train.shape == number\n",
    "    \n",
    "    if c_point1:\n",
    "        return True\n",
    "    else:\n",
    "        return False\n",
    "check()"
   ]
  },
  {
   "attachments": {},
   "cell_type": "markdown",
   "metadata": {
    "id": "zp78D3hysDSJ"
   },
   "source": [
    "### Inst.\n",
    "부등호를 이용하여 앞서 그래프를 통해 확인했던 이상치를 제거할 수 있습니다."
   ]
  },
  {
   "attachments": {},
   "cell_type": "markdown",
   "metadata": {
    "id": "wmgA8j_7sDSJ"
   },
   "source": [
    "### Hint.\n",
    "empty"
   ]
  },
  {
   "attachments": {},
   "cell_type": "markdown",
   "metadata": {
    "id": "dvcMHrhasDSJ",
    "tags": []
   },
   "source": [
    "### Solution.\n",
    "```python\n",
    "train = train[train['Parch'] <= 5]\n",
    "train = train[train['Fare'] <= 300]\n",
    "```"
   ]
  },
  {
   "attachments": {},
   "cell_type": "markdown",
   "metadata": {
    "id": "mDQT4FuAsNW3"
   },
   "source": [
    "# 7. 로지스틱 회귀 모델 정의 및 학습하기\n",
    " \n",
    "[문제 4]  \n",
    "\n",
    "1. train 데이터셋을 훈련용 데이터와 검증용 데이터로 나눠보세요.\n",
    "2. 모델을 학습해 보세요.\n",
    "3. 훈련시킨 모델의 요약 정보를 출력해 보세요."
   ]
  },
  {
   "cell_type": "code",
   "execution_count": null,
   "metadata": {
    "id": "2Hl2thHGsNW_",
    "vscode": {
     "languageId": "python"
    }
   },
   "outputs": [],
   "source": [
    "train_x = train.drop(columns='Survived')\n",
    "train_y = train['Survived']\n",
    "\n",
    "from sklearn.model_selection import train_test_split\n",
    "train_x, val_x, train_y, val_y  = ___(train_x, train_y, test_size=0.2, random_state=0)\n",
    "\n",
    "import statsmodels.api as sm\n",
    "\n",
    "train_dataset = train_x.copy()\n",
    "train_dataset['Survived'] = train_y\n",
    "\n",
    "formula = \"\"\"\n",
    "Survived ~ C(Pclass)+ C(Sex) + scale(Age) + scale(SibSp) + scale(Parch) + scale(Fare) + C(Embarked)\n",
    "\"\"\"\n",
    "model = sm.Logit.from_formula(formula, data=train_dataset)  \n",
    "result = model.___()  \n",
    "\n",
    "print(result.___())"
   ]
  },
  {
   "cell_type": "code",
   "execution_count": null,
   "metadata": {
    "id": "eKQ7zqwisNW_",
    "vscode": {
     "languageId": "python"
    }
   },
   "outputs": [],
   "source": [
    "#checkcode\n",
    "ensure_vals(globals(), 'result')\n",
    "@check_safety\n",
    "def check(user_answer=result):\n",
    "    \n",
    "    c_point1 = hasattr(user_answer, 'summary')\n",
    "\n",
    "    if c_point1:\n",
    "        return True\n",
    "    else:\n",
    "        return False\n",
    "    \n",
    "check()"
   ]
  },
  {
   "attachments": {},
   "cell_type": "markdown",
   "metadata": {
    "id": "CJQ498pRsNW_"
   },
   "source": [
    "### Inst.\n",
    "\n",
    "`C()`는 해당 변수를 categorical 변수로 인식하도록 변환해주는 역할을 합니다.  \n",
    "따라서 C(Pclass)는 Pclass 변수를 카테고리 변수로 처리하겠다는 의미입니다.     \n",
    "마찬가지로 `C(Sex)`와 `C(Embarked)`도 해당 변수를 카테고리 변수로 처리하는 역할을 합니다.  \n",
    "\n",
    "`scale()`은 수치형 변수를 표준화하기 위해 사용되는 함수입니다.     \n",
    "`scale()`은 해당 변수의 평균을 0으로, 표준편차를 1로 만들어주는 표준화 작업을 수행합니다.     \n",
    "따라서 `scale(Age), scale(SibSp), scale(Parch), scale(Fare)`는 각각의 변수를 표준화하여 모델에 사용하겠다는 의미입니다.\n",
    "\n",
    "---\n",
    "\n",
    "#### 결과 해석\n",
    "\n",
    "'Parch' 'Fare' 피쳐에서 이상치로 판단한 데이터를 제거하고,    \n",
    "7개의 피쳐 ( Pclass, Sex, Age ,SibSp,  Parch,  Fare, Embarked )에 대한 학습한 모델 (모델 A)이   \n",
    "stage 3의 step6,7에서 ‘ Age’ , ‘ SibSp’,  ‘Parch’,  ‘Fare’ 4개의 피쳐에 대하여 학습한 모델(모델 B)보다   \n",
    "개선 되었음을 다음 대표적 항목을 통하여 해석 할 수 있습니다, :   \n",
    "\n",
    "\n",
    "<img src=\"https://drive.google.com/uc?id=1JziHTFBBLAE0_AtEs6r3GCcUbXpG4HqB\">\n",
    "\n"
   ]
  },
  {
   "attachments": {},
   "cell_type": "markdown",
   "metadata": {
    "id": "4MjlIrV7sNW_"
   },
   "source": [
    "### Hint.\n",
    "\n",
    "1. `train_test_split()` 메서드를 사용해보세요. \n",
    "2. `fit()` 함수를 사용해 보세요. \n",
    "3. from_formula 모델의 보고서를 확인할 때에는 `summary()` 함수를 사용합니다."
   ]
  },
  {
   "attachments": {},
   "cell_type": "markdown",
   "metadata": {
    "id": "SOWp2-tFsNW_",
    "tags": []
   },
   "source": [
    "### Solution\n",
    "```python\n",
    "train_x = train.drop(columns='Survived')  \n",
    "train_y = train['Survived']  \n",
    "\n",
    "from sklearn.model_selection import train_test_split  \n",
    "train_x, val_x, train_y, val_y  = train_test_split(train_x, train_y, test_size=0.2, random_state=0)\n",
    "\n",
    "import statsmodels.api as sm  \n",
    "\n",
    "train_dataset = train_x.copy()  \n",
    "train_dataset['Survived'] = train_y  \n",
    "\n",
    "formula = \"\"\"  \n",
    "Survived ~ C(Pclass)+ C(Sex) + scale(Age) + scale(SibSp) + scale(Parch) + scale(Fare) + C(Embarked)  \n",
    "\"\"\"  \n",
    "model = sm.Logit.from_formula(formula, data=train_dataset)  \n",
    "result = model.fit()  \n",
    "\n",
    "print(result.summary())\n",
    "```"
   ]
  },
  {
   "attachments": {},
   "cell_type": "markdown",
   "metadata": {},
   "source": [
    "## 8. 로지스틱 회귀 모델 & 검증 점수 확인\n",
    "\n",
    "훈련한 모델에 검증용 데이터를 이용해 성능을 평가해 봅시다.  \n",
    "\n",
    "[문제 5]    \n",
    "1. 모델의 예측 결과를 생성해 보세요.\n",
    "2. 예측 결과 시리즈의 각 원소를 순회하며 원소 x가 0.5 이상인 경우 1을 반환하고, 그렇지 않은 경우 0을 반환해 보세요.\n",
    "3. confusion_matrix, classification_report 함수에 실제값(val_y)과 예측값(y_pred)을 넣고 혼동행렬을 확인해 보세요.  "
   ]
  },
  {
   "cell_type": "code",
   "execution_count": null,
   "metadata": {
    "id": "tIb7Pd2Btkvx",
    "vscode": {
     "languageId": "python"
    }
   },
   "outputs": [],
   "source": [
    "y_pred = result.___(val_x)\n",
    "y_pred = y_pred.___(___ x: 1 if x >= 0.5 else 0)\n",
    "\n",
    "from sklearn.metrics import confusion_matrix\n",
    "print(confusion_matrix(___, ___))\n",
    "\n",
    "from sklearn.metrics import classification_report\n",
    "print(classification_report(___, ___))"
   ]
  },
  {
   "cell_type": "code",
   "execution_count": null,
   "metadata": {
    "id": "3nobmrEAtkvx",
    "vscode": {
     "languageId": "python"
    }
   },
   "outputs": [],
   "source": [
    "#checkcode\n",
    "ensure_vals(globals(), 'result','y_pred')\n",
    "@check_safety\n",
    "def check(user_answer=y_pred):\n",
    "\n",
    "    c_point1 = hasattr(user_answer, 'apply')\n",
    "\n",
    "    if c_point1:\n",
    "        return True\n",
    "    else:\n",
    "        return False\n",
    "    \n",
    "check()"
   ]
  },
  {
   "attachments": {},
   "cell_type": "markdown",
   "metadata": {
    "id": "WRl6lcyetkvy"
   },
   "source": [
    "### Inst."
   ]
  },
  {
   "attachments": {},
   "cell_type": "markdown",
   "metadata": {
    "id": "X0HlOve7tkvy"
   },
   "source": [
    "### Hint.\n",
    "1. predict 메서드를 이용하여 모델을 예측해 보세요.\n",
    "2. apply lambda 함수를 이용해보세요."
   ]
  },
  {
   "attachments": {},
   "cell_type": "markdown",
   "metadata": {
    "id": "gboHtJ7dtkvy",
    "tags": []
   },
   "source": [
    "### Solution.\n",
    "```python\n",
    "y_pred = result.predict(val_x)  \n",
    "y_pred = y_pred.apply(lambda x: 1 if x >= 0.5 else 0)\n",
    "\n",
    "from sklearn.metrics import confusion_matrix  \n",
    "print(confusion_matrix(val_y, y_pred))\n",
    "\n",
    "from sklearn.metrics import classification_report  \n",
    "print(classification_report(val_y, y_pred))\n",
    "```"
   ]
  },
  {
   "attachments": {},
   "cell_type": "markdown",
   "metadata": {
    "id": "zRvFMkMiupP-"
   },
   "source": [
    "# 9. 예측값을 submission 파일에 저장하기\n",
    "\n",
    "예측해야 할 데이터(test)를 모델에 넣고 그 결과를 submission에 저장해 봅시다.\n",
    "\n",
    "[문제 6]  \n",
    "\n",
    "1. 모델의 예측 결과를 생성해 보세요.\n",
    "2. 예측 결과 시리즈의 각 원소를 순회하며 원소 x가 0.5 이상인 경우 1을 반환하고, 그렇지 않은 경우 0을 반환해 보세요."
   ]
  },
  {
   "cell_type": "code",
   "execution_count": null,
   "metadata": {
    "id": "w6E8_I9-upQH",
    "vscode": {
     "languageId": "python"
    }
   },
   "outputs": [],
   "source": [
    "y_pred = result.___(test)\n",
    "y_pred = y_pred.apply(___)\n",
    "\n",
    "submission['Survived'] = y_pred\n",
    "submission.head(15)"
   ]
  },
  {
   "cell_type": "code",
   "execution_count": null,
   "metadata": {
    "id": "MQEYft5aupQH",
    "vscode": {
     "languageId": "python"
    }
   },
   "outputs": [],
   "source": [
    "#checkcode\n",
    "ensure_vals(globals(), 'submission')\n",
    "@check_safety\n",
    "def check(\n",
    "    user_answer_submission=_,\n",
    "    columns='Survived',\n",
    "    number_set={0, 1}\n",
    "):\n",
    "    c_point1 = set(user_answer_submission[columns]) == number_set    \n",
    "\n",
    "    if c_point1:\n",
    "        return True\n",
    "    else:\n",
    "        return False\n",
    "    \n",
    "check()"
   ]
  },
  {
   "attachments": {},
   "cell_type": "markdown",
   "metadata": {
    "id": "-bUAxdt-upQH"
   },
   "source": [
    "### Inst."
   ]
  },
  {
   "attachments": {},
   "cell_type": "markdown",
   "metadata": {
    "id": "CXO5JffSupQH"
   },
   "source": [
    "### Hint.\n",
    "1. predict 메서드를 이용하여 모델을 예측해 보세요.\n",
    "2. apply lambda 함수를 이용해보세요."
   ]
  },
  {
   "attachments": {},
   "cell_type": "markdown",
   "metadata": {
    "id": "HNByZrKEupQI",
    "tags": []
   },
   "source": [
    "### Solution.\n",
    "```python\n",
    "y_pred = result.predict(test)  \n",
    "y_pred = y_pred.apply(lambda x: 1 if x >= 0.5 else 0)  \n",
    "\n",
    "submission['Survived'] = y_pred  \n",
    "submission.head(15)\n",
    "```"
   ]
  },
  {
   "attachments": {},
   "cell_type": "markdown",
   "metadata": {
    "id": "rXHSkj9Vuzf2"
   },
   "source": [
    "# 10. submission 파일 저장하기\n",
    "[문제 7]  \n",
    "아래 빈칸을 채워 제출 파일을 저장해 봅시다."
   ]
  },
  {
   "cell_type": "code",
   "execution_count": null,
   "metadata": {
    "id": "72CamHPeuzf3",
    "vscode": {
     "languageId": "python"
    }
   },
   "outputs": [],
   "source": [
    "submission.___('submission.csv', index=False)"
   ]
  },
  {
   "cell_type": "code",
   "execution_count": null,
   "metadata": {
    "id": "Ds09pRmVuzf3",
    "vscode": {
     "languageId": "python"
    }
   },
   "outputs": [],
   "source": [
    "#checkcode\n",
    "ensure_vals(globals(), 'submission')\n",
    "@check_safety\n",
    "def check(\n",
    "    user_answer=submission\n",
    "):\n",
    "    answer = pd.read_csv('submission.csv')\n",
    "\n",
    "    sub_medv = user_answer['Survived'].apply(lambda x: int(x*100))\n",
    "    ans_medv = answer['Survived'].apply(lambda x: int(x*100))\n",
    "\n",
    "    c_point0 = (sub_medv == ans_medv).all()\n",
    "    if c_point0:\n",
    "        return True\n",
    "    else:\n",
    "        return False\n",
    "\n",
    "check()"
   ]
  },
  {
   "attachments": {},
   "cell_type": "markdown",
   "metadata": {
    "id": "r1Jw5hXTuzf3"
   },
   "source": [
    "### Inst."
   ]
  },
  {
   "attachments": {},
   "cell_type": "markdown",
   "metadata": {
    "id": "dsFmiSZsuzf3"
   },
   "source": [
    "### Hint.\n",
    "csv 파일로 저장하는 함수는 to_csv입니다."
   ]
  },
  {
   "attachments": {},
   "cell_type": "markdown",
   "metadata": {
    "id": "YbaknQLCuzf3",
    "pycharm": {
     "name": "#%% md\n"
    },
    "tags": []
   },
   "source": [
    "### Solution.\n",
    "```python\n",
    "submission.to_csv('submission.csv', index=False)\n",
    "```"
   ]
  }
 ],
 "metadata": {
  "colab": {
   "provenance": []
  },
  "kernelspec": {
   "display_name": "Python (Pyodide)",
   "language": "python",
   "name": "python"
  },
  "language_info": {
   "name": ""
  }
 },
 "nbformat": 4,
 "nbformat_minor": 0
}
